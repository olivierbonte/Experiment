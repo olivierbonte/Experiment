{
 "cells": [
  {
   "cell_type": "markdown",
   "metadata": {},
   "source": [
    "# Eigen aanleren van pandas, numpy en matplotlib"
   ]
  },
  {
   "cell_type": "markdown",
   "metadata": {},
   "source": [
    "## Numpy"
   ]
  },
  {
   "cell_type": "code",
   "execution_count": 1,
   "metadata": {},
   "outputs": [],
   "source": [
    "import numpy as np\n",
    "import math"
   ]
  },
  {
   "cell_type": "code",
   "execution_count": 2,
   "metadata": {},
   "outputs": [
    {
     "output_type": "execute_result",
     "data": {
      "text/plain": [
       "1"
      ]
     },
     "metadata": {},
     "execution_count": 2
    }
   ],
   "source": [
    "arrayvoorbeeld = np.arange(1,16,1)\n",
    "arrayvoorbeeld.ndim"
   ]
  },
  {
   "cell_type": "code",
   "execution_count": 3,
   "metadata": {},
   "outputs": [
    {
     "output_type": "execute_result",
     "data": {
      "text/plain": [
       "(15,)"
      ]
     },
     "metadata": {},
     "execution_count": 3
    }
   ],
   "source": [
    "arrayvoorbeeld.shape"
   ]
  },
  {
   "cell_type": "code",
   "execution_count": 4,
   "metadata": {},
   "outputs": [
    {
     "output_type": "execute_result",
     "data": {
      "text/plain": [
       "15"
      ]
     },
     "metadata": {},
     "execution_count": 4
    }
   ],
   "source": [
    "arrayvoorbeeld.size"
   ]
  },
  {
   "cell_type": "code",
   "execution_count": 5,
   "metadata": {},
   "outputs": [
    {
     "output_type": "execute_result",
     "data": {
      "text/plain": [
       "dtype('int32')"
      ]
     },
     "metadata": {},
     "execution_count": 5
    }
   ],
   "source": [
    "arrayvoorbeeld.dtype"
   ]
  },
  {
   "cell_type": "code",
   "execution_count": 6,
   "metadata": {},
   "outputs": [
    {
     "output_type": "execute_result",
     "data": {
      "text/plain": [
       "<memory at 0x0000021296910C40>"
      ]
     },
     "metadata": {},
     "execution_count": 6
    }
   ],
   "source": [
    "arrayvoorbeeld.data"
   ]
  },
  {
   "cell_type": "code",
   "execution_count": 7,
   "metadata": {},
   "outputs": [
    {
     "output_type": "execute_result",
     "data": {
      "text/plain": [
       "array([[ 1,  2,  3,  4,  5],\n",
       "       [ 6,  7,  8,  9, 10],\n",
       "       [11, 12, 13, 14, 15]])"
      ]
     },
     "metadata": {},
     "execution_count": 7
    }
   ],
   "source": [
    "driebijiets = arrayvoorbeeld.reshape(3,5)\n",
    "driebijiets"
   ]
  },
  {
   "cell_type": "code",
   "execution_count": 8,
   "metadata": {},
   "outputs": [
    {
     "output_type": "execute_result",
     "data": {
      "text/plain": [
       "(3, 5)"
      ]
     },
     "metadata": {},
     "execution_count": 8
    }
   ],
   "source": [
    "driebijiets.shape"
   ]
  },
  {
   "cell_type": "code",
   "execution_count": 9,
   "metadata": {},
   "outputs": [
    {
     "output_type": "execute_result",
     "data": {
      "text/plain": [
       "array([1, 2, 3, 4])"
      ]
     },
     "metadata": {},
     "execution_count": 9
    }
   ],
   "source": [
    "#eigen array\n",
    "array2 = np.array([1,2,3,4]) #belang van de vierkante haken!\n",
    "array2"
   ]
  },
  {
   "cell_type": "code",
   "execution_count": 11,
   "metadata": {},
   "outputs": [
    {
     "output_type": "execute_result",
     "data": {
      "text/plain": [
       "array([[1, 2, 3],\n",
       "       [4, 5, 6]])"
      ]
     },
     "metadata": {},
     "execution_count": 11
    }
   ],
   "source": [
    "#eigen 2D array\n",
    "b = np.array([(1,2,3),(4,5,6)])\n",
    "b"
   ]
  },
  {
   "cell_type": "code",
   "execution_count": 12,
   "metadata": {},
   "outputs": [
    {
     "output_type": "execute_result",
     "data": {
      "text/plain": [
       "(2, 3)"
      ]
     },
     "metadata": {},
     "execution_count": 12
    }
   ],
   "source": [
    "b.shape"
   ]
  },
  {
   "cell_type": "code",
   "execution_count": 13,
   "metadata": {},
   "outputs": [
    {
     "output_type": "execute_result",
     "data": {
      "text/plain": [
       "array([[1, 2],\n",
       "       [3, 4],\n",
       "       [5, 6]])"
      ]
     },
     "metadata": {},
     "execution_count": 13
    }
   ],
   "source": [
    "bbis = b.reshape(3,2)\n",
    "bbis"
   ]
  },
  {
   "cell_type": "code",
   "execution_count": 561,
   "metadata": {},
   "outputs": [
    {
     "data": {
      "text/plain": [
       "(3, 2)"
      ]
     },
     "execution_count": 561,
     "metadata": {},
     "output_type": "execute_result"
    }
   ],
   "source": [
    "bbis.shape"
   ]
  },
  {
   "cell_type": "code",
   "execution_count": 14,
   "metadata": {},
   "outputs": [
    {
     "output_type": "execute_result",
     "data": {
      "text/plain": [
       "array([[0., 0., 0., 0.],\n",
       "       [0., 0., 0., 0.],\n",
       "       [0., 0., 0., 0.]])"
      ]
     },
     "metadata": {},
     "execution_count": 14
    }
   ],
   "source": [
    "zeromatrix = np.zeros((3,4)) #analoog matlab! B\n",
    "#belang van dubbele ronde haken hier!\n",
    "zeromatrix"
   ]
  },
  {
   "cell_type": "code",
   "execution_count": 15,
   "metadata": {},
   "outputs": [
    {
     "output_type": "execute_result",
     "data": {
      "text/plain": [
       "array([[1., 1., 1., 1.],\n",
       "       [1., 1., 1., 1.],\n",
       "       [1., 1., 1., 1.]])"
      ]
     },
     "metadata": {},
     "execution_count": 15
    }
   ],
   "source": [
    "np.ones((3,4))"
   ]
  },
  {
   "cell_type": "code",
   "execution_count": 16,
   "metadata": {},
   "outputs": [
    {
     "output_type": "execute_result",
     "data": {
      "text/plain": [
       "array([[1., 0., 0., 0., 0.],\n",
       "       [0., 1., 0., 0., 0.],\n",
       "       [0., 0., 1., 0., 0.],\n",
       "       [0., 0., 0., 1., 0.],\n",
       "       [0., 0., 0., 0., 1.]])"
      ]
     },
     "metadata": {},
     "execution_count": 16
    }
   ],
   "source": [
    "np.eye((5))"
   ]
  },
  {
   "cell_type": "code",
   "execution_count": 17,
   "metadata": {},
   "outputs": [],
   "source": [
    "x = np.linspace(0,2 * np.pi,100) #bemerk: pi deel van numpy! \n",
    "f = np.sin(x)"
   ]
  },
  {
   "cell_type": "code",
   "execution_count": 18,
   "metadata": {},
   "outputs": [
    {
     "output_type": "execute_result",
     "data": {
      "text/plain": [
       "array([[0.77395605, 0.43887844, 0.85859792, 0.69736803],\n",
       "       [0.09417735, 0.97562235, 0.7611397 , 0.78606431],\n",
       "       [0.12811363, 0.45038594, 0.37079802, 0.92676499]])"
      ]
     },
     "metadata": {},
     "execution_count": 18
    }
   ],
   "source": [
    "from numpy.random import default_rng\n",
    "rng = default_rng(42) #met random seed = 42!\n",
    "rng.random((3,4))"
   ]
  },
  {
   "cell_type": "code",
   "execution_count": 19,
   "metadata": {},
   "outputs": [
    {
     "output_type": "execute_result",
     "data": {
      "text/plain": [
       "array([0, 1, 2, 3])"
      ]
     },
     "metadata": {},
     "execution_count": 19
    }
   ],
   "source": [
    "a = np.array([20, 30, 40, 50])\n",
    "b = np.arange(4) #geeft 0 t.e.m. 3!!\n",
    "b"
   ]
  },
  {
   "cell_type": "code",
   "execution_count": 20,
   "metadata": {},
   "outputs": [
    {
     "output_type": "execute_result",
     "data": {
      "text/plain": [
       "array([0, 1, 4, 9], dtype=int32)"
      ]
     },
     "metadata": {},
     "execution_count": 20
    }
   ],
   "source": [
    "b**2"
   ]
  },
  {
   "cell_type": "code",
   "execution_count": 21,
   "metadata": {},
   "outputs": [
    {
     "output_type": "execute_result",
     "data": {
      "text/plain": [
       "array([-3, -2, -1,  0])"
      ]
     },
     "metadata": {},
     "execution_count": 21
    }
   ],
   "source": [
    "single_number = 3\n",
    "b - single_number #automatische broadcasting!"
   ]
  },
  {
   "cell_type": "code",
   "execution_count": 570,
   "metadata": {},
   "outputs": [],
   "source": [
    "#matrix vermenigvuldiging\n",
    "A = np.array([[1, 1],\n",
    "              [0, 1]])\n",
    "B = np.array([[2, 0],\n",
    "              [3, 4]])"
   ]
  },
  {
   "cell_type": "code",
   "execution_count": 571,
   "metadata": {},
   "outputs": [
    {
     "data": {
      "text/plain": [
       "array([[2, 0],\n",
       "       [0, 4]])"
      ]
     },
     "execution_count": 571,
     "metadata": {},
     "output_type": "execute_result"
    }
   ],
   "source": [
    "#elementwise\n",
    "A*B"
   ]
  },
  {
   "cell_type": "code",
   "execution_count": 572,
   "metadata": {},
   "outputs": [
    {
     "data": {
      "text/plain": [
       "array([[5, 4],\n",
       "       [3, 4]])"
      ]
     },
     "execution_count": 572,
     "metadata": {},
     "output_type": "execute_result"
    }
   ],
   "source": [
    "#matrix multiplication\n",
    "A @ B"
   ]
  },
  {
   "cell_type": "code",
   "execution_count": 573,
   "metadata": {},
   "outputs": [
    {
     "data": {
      "text/plain": [
       "array([20, 31, 42, 53])"
      ]
     },
     "execution_count": 573,
     "metadata": {},
     "output_type": "execute_result"
    }
   ],
   "source": [
    "abis = a + b\n",
    "abis"
   ]
  },
  {
   "cell_type": "code",
   "execution_count": 574,
   "metadata": {},
   "outputs": [
    {
     "data": {
      "text/plain": [
       "array([20, 31, 42, 53])"
      ]
     },
     "execution_count": 574,
     "metadata": {},
     "output_type": "execute_result"
    }
   ],
   "source": [
    "a += b  #is dus identiek aan a = a + b! \n",
    "a"
   ]
  },
  {
   "cell_type": "code",
   "execution_count": 575,
   "metadata": {},
   "outputs": [
    {
     "data": {
      "text/plain": [
       "146"
      ]
     },
     "execution_count": 575,
     "metadata": {},
     "output_type": "execute_result"
    }
   ],
   "source": [
    "a.sum()"
   ]
  },
  {
   "cell_type": "code",
   "execution_count": 576,
   "metadata": {},
   "outputs": [
    {
     "data": {
      "text/plain": [
       "36.5"
      ]
     },
     "execution_count": 576,
     "metadata": {},
     "output_type": "execute_result"
    }
   ],
   "source": [
    "a.mean()"
   ]
  },
  {
   "cell_type": "code",
   "execution_count": 577,
   "metadata": {},
   "outputs": [
    {
     "data": {
      "text/plain": [
       "53"
      ]
     },
     "execution_count": 577,
     "metadata": {},
     "output_type": "execute_result"
    }
   ],
   "source": [
    "a.max()"
   ]
  },
  {
   "cell_type": "code",
   "execution_count": 578,
   "metadata": {},
   "outputs": [
    {
     "data": {
      "text/plain": [
       "20"
      ]
     },
     "execution_count": 578,
     "metadata": {},
     "output_type": "execute_result"
    }
   ],
   "source": [
    "a.min()"
   ]
  },
  {
   "cell_type": "code",
   "execution_count": 579,
   "metadata": {},
   "outputs": [
    {
     "data": {
      "text/plain": [
       "array([[ 0,  1,  2,  3],\n",
       "       [ 4,  5,  6,  7],\n",
       "       [ 8,  9, 10, 11]])"
      ]
     },
     "execution_count": 579,
     "metadata": {},
     "output_type": "execute_result"
    }
   ],
   "source": [
    "#acties volgens specifieke as!\n",
    "b = np.arange(0,12,1).reshape(3,4)\n",
    "b"
   ]
  },
  {
   "cell_type": "code",
   "execution_count": 580,
   "metadata": {},
   "outputs": [
    {
     "data": {
      "text/plain": [
       "array([12, 15, 18, 21])"
      ]
     },
     "execution_count": 580,
     "metadata": {},
     "output_type": "execute_result"
    }
   ],
   "source": [
    "b.sum(axis = 0) #sum van de rijen van elke kolom!\n",
    "#analoog aan 1 in matlab"
   ]
  },
  {
   "cell_type": "code",
   "execution_count": 581,
   "metadata": {},
   "outputs": [
    {
     "data": {
      "text/plain": [
       "array([ 6, 22, 38])"
      ]
     },
     "execution_count": 581,
     "metadata": {},
     "output_type": "execute_result"
    }
   ],
   "source": [
    "b.sum(axis = 1)"
   ]
  },
  {
   "cell_type": "code",
   "execution_count": 582,
   "metadata": {},
   "outputs": [
    {
     "data": {
      "text/plain": [
       "array([4.47213595, 5.56776436, 6.4807407 , 7.28010989])"
      ]
     },
     "execution_count": 582,
     "metadata": {},
     "output_type": "execute_result"
    }
   ],
   "source": [
    "np.sqrt(a)"
   ]
  },
  {
   "cell_type": "code",
   "execution_count": 583,
   "metadata": {},
   "outputs": [
    {
     "data": {
      "text/plain": [
       "array([  0,   1,   8,  27,  64, 125, 216, 343, 512, 729], dtype=int32)"
      ]
     },
     "execution_count": 583,
     "metadata": {},
     "output_type": "execute_result"
    }
   ],
   "source": [
    "a = np.arange(10)**3\n",
    "a"
   ]
  },
  {
   "cell_type": "code",
   "execution_count": 584,
   "metadata": {},
   "outputs": [
    {
     "data": {
      "text/plain": [
       "0"
      ]
     },
     "execution_count": 584,
     "metadata": {},
     "output_type": "execute_result"
    }
   ],
   "source": [
    "a[0] #1e element!"
   ]
  },
  {
   "cell_type": "code",
   "execution_count": 585,
   "metadata": {},
   "outputs": [
    {
     "data": {
      "text/plain": [
       "729"
      ]
     },
     "execution_count": 585,
     "metadata": {},
     "output_type": "execute_result"
    }
   ],
   "source": [
    "a[-1] #laatste element!"
   ]
  },
  {
   "cell_type": "code",
   "execution_count": 586,
   "metadata": {},
   "outputs": [
    {
     "data": {
      "text/plain": [
       "array([0, 1, 8], dtype=int32)"
      ]
     },
     "execution_count": 586,
     "metadata": {},
     "output_type": "execute_result"
    }
   ],
   "source": [
    "a[0:3] #1,2 en 3e element!"
   ]
  },
  {
   "cell_type": "code",
   "execution_count": 587,
   "metadata": {},
   "outputs": [
    {
     "data": {
      "text/plain": [
       "array([[ 0.,  1.,  2.,  3.],\n",
       "       [10., 11., 12., 13.],\n",
       "       [20., 21., 22., 23.],\n",
       "       [30., 31., 32., 33.],\n",
       "       [40., 41., 42., 43.]])"
      ]
     },
     "execution_count": 587,
     "metadata": {},
     "output_type": "execute_result"
    }
   ],
   "source": [
    "#functies en numpy\n",
    "def f(x,y):\n",
    "    return 10*x + y\n",
    "\n",
    "b = np.fromfunction(f,(5,4))\n",
    "b"
   ]
  },
  {
   "cell_type": "code",
   "execution_count": 588,
   "metadata": {},
   "outputs": [
    {
     "data": {
      "text/plain": [
       "23.0"
      ]
     },
     "execution_count": 588,
     "metadata": {},
     "output_type": "execute_result"
    }
   ],
   "source": [
    "b[2,3] #3e rij en 4e kolom! "
   ]
  },
  {
   "cell_type": "code",
   "execution_count": 589,
   "metadata": {},
   "outputs": [
    {
     "data": {
      "text/plain": [
       "array([ 3., 13., 23., 33., 43.])"
      ]
     },
     "execution_count": 589,
     "metadata": {},
     "output_type": "execute_result"
    }
   ],
   "source": [
    "b[:,3] #de volledige 4e kolom"
   ]
  },
  {
   "cell_type": "code",
   "execution_count": 590,
   "metadata": {},
   "outputs": [
    {
     "data": {
      "text/plain": [
       "100.0"
      ]
     },
     "execution_count": 590,
     "metadata": {},
     "output_type": "execute_result"
    }
   ],
   "source": [
    "#illustratie van het probleem met copy()\n",
    "#de foute methode\n",
    "bbis = b\n",
    "bbis[2,3] = 100\n",
    "b[2,3]\n",
    "#is ook naar 100! Dit is dus ongewenst"
   ]
  },
  {
   "cell_type": "code",
   "execution_count": 591,
   "metadata": {},
   "outputs": [
    {
     "data": {
      "text/plain": [
       "23.0"
      ]
     },
     "execution_count": 591,
     "metadata": {},
     "output_type": "execute_result"
    }
   ],
   "source": [
    "#de correcte methode!\n",
    "b = np.fromfunction(f,(5,4))\n",
    "bbis2 = b.copy()\n",
    "bbis2[2,3] = 100\n",
    "b[2,3]"
   ]
  },
  {
   "cell_type": "code",
   "execution_count": 592,
   "metadata": {},
   "outputs": [
    {
     "data": {
      "text/plain": [
       "100.0"
      ]
     },
     "execution_count": 592,
     "metadata": {},
     "output_type": "execute_result"
    }
   ],
   "source": [
    "bbis2[2,3]"
   ]
  },
  {
   "cell_type": "code",
   "execution_count": 593,
   "metadata": {},
   "outputs": [
    {
     "data": {
      "text/plain": [
       "array([[ 0.,  1.,  2.,  3., 10.],\n",
       "       [11., 12., 13., 20., 21.],\n",
       "       [22., 23., 30., 31., 32.],\n",
       "       [33., 40., 41., 42., 43.]])"
      ]
     },
     "execution_count": 593,
     "metadata": {},
     "output_type": "execute_result"
    }
   ],
   "source": [
    "bresh = b.reshape(4,-1)\n",
    "bresh"
   ]
  },
  {
   "cell_type": "code",
   "execution_count": 594,
   "metadata": {},
   "outputs": [],
   "source": [
    "#concateneren\n",
    "a = np.arange(0,4,1).reshape(2,2) #4 typen om tot 3!\n",
    "b = np.arange(4,8,1).reshape(2,2)"
   ]
  },
  {
   "cell_type": "code",
   "execution_count": 595,
   "metadata": {},
   "outputs": [
    {
     "data": {
      "text/plain": [
       "array([[0, 1],\n",
       "       [2, 3]])"
      ]
     },
     "execution_count": 595,
     "metadata": {},
     "output_type": "execute_result"
    }
   ],
   "source": [
    "a"
   ]
  },
  {
   "cell_type": "code",
   "execution_count": 596,
   "metadata": {},
   "outputs": [
    {
     "data": {
      "text/plain": [
       "array([[4, 5],\n",
       "       [6, 7]])"
      ]
     },
     "execution_count": 596,
     "metadata": {},
     "output_type": "execute_result"
    }
   ],
   "source": [
    "b"
   ]
  },
  {
   "cell_type": "code",
   "execution_count": 597,
   "metadata": {},
   "outputs": [
    {
     "data": {
      "text/plain": [
       "array([[0, 1],\n",
       "       [2, 3],\n",
       "       [4, 5],\n",
       "       [6, 7]])"
      ]
     },
     "execution_count": 597,
     "metadata": {},
     "output_type": "execute_result"
    }
   ],
   "source": [
    "np.vstack((a,b)) #belang dubbele haken!"
   ]
  },
  {
   "cell_type": "code",
   "execution_count": 598,
   "metadata": {},
   "outputs": [
    {
     "data": {
      "text/plain": [
       "array([[0, 1, 4, 5],\n",
       "       [2, 3, 6, 7]])"
      ]
     },
     "execution_count": 598,
     "metadata": {},
     "output_type": "execute_result"
    }
   ],
   "source": [
    "np.hstack((a,b))"
   ]
  },
  {
   "cell_type": "code",
   "execution_count": 599,
   "metadata": {},
   "outputs": [
    {
     "data": {
      "text/plain": [
       "[array([[0],\n",
       "        [2]]),\n",
       " array([[1],\n",
       "        [3]]),\n",
       " array([[4],\n",
       "        [6]]),\n",
       " array([[5],\n",
       "        [7]])]"
      ]
     },
     "execution_count": 599,
     "metadata": {},
     "output_type": "execute_result"
    }
   ],
   "source": [
    "c = np.hstack((a,b))\n",
    "np.hsplit(c,4)"
   ]
  },
  {
   "cell_type": "code",
   "execution_count": 600,
   "metadata": {},
   "outputs": [
    {
     "data": {
      "text/plain": [
       "[array([[0, 1, 4, 5]]), array([[2, 3, 6, 7]])]"
      ]
     },
     "execution_count": 600,
     "metadata": {},
     "output_type": "execute_result"
    }
   ],
   "source": [
    "np.vsplit(c,2)"
   ]
  },
  {
   "cell_type": "code",
   "execution_count": null,
   "metadata": {},
   "outputs": [],
   "source": [
    "\n"
   ]
  },
  {
   "cell_type": "code",
   "execution_count": 23,
   "metadata": {},
   "outputs": [
    {
     "output_type": "execute_result",
     "data": {
      "text/plain": [
       "(101, 101)"
      ]
     },
     "metadata": {},
     "execution_count": 23
    }
   ],
   "source": [
    "x = np.linspace(-5, 5, 101)\n",
    "y = np.linspace(-5, 5, 101)\n",
    "xx, yy = np.meshgrid(x, y)\n",
    "xx.shape"
   ]
  },
  {
   "cell_type": "code",
   "execution_count": 24,
   "metadata": {},
   "outputs": [
    {
     "output_type": "execute_result",
     "data": {
      "text/plain": [
       "(101, 101)"
      ]
     },
     "metadata": {},
     "execution_count": 24
    }
   ],
   "source": [
    "yy.shape"
   ]
  },
  {
   "cell_type": "code",
   "execution_count": 25,
   "metadata": {},
   "outputs": [
    {
     "output_type": "display_data",
     "data": {
      "text/plain": "<Figure size 432x288 with 2 Axes>",
      "image/svg+xml": "<?xml version=\"1.0\" encoding=\"utf-8\" standalone=\"no\"?>\r\n<!DOCTYPE svg PUBLIC \"-//W3C//DTD SVG 1.1//EN\"\r\n  \"http://www.w3.org/Graphics/SVG/1.1/DTD/svg11.dtd\">\r\n<!-- Created with matplotlib (https://matplotlib.org/) -->\r\n<svg height=\"252.317344pt\" version=\"1.1\" viewBox=\"0 0 294.556687 252.317344\" width=\"294.556687pt\" xmlns=\"http://www.w3.org/2000/svg\" xmlns:xlink=\"http://www.w3.org/1999/xlink\">\r\n <metadata>\r\n  <rdf:RDF xmlns:cc=\"http://creativecommons.org/ns#\" xmlns:dc=\"http://purl.org/dc/elements/1.1/\" xmlns:rdf=\"http://www.w3.org/1999/02/22-rdf-syntax-ns#\">\r\n   <cc:Work>\r\n    <dc:type rdf:resource=\"http://purl.org/dc/dcmitype/StillImage\"/>\r\n    <dc:date>2022-03-13T21:01:51.629498</dc:date>\r\n    <dc:format>image/svg+xml</dc:format>\r\n    <dc:creator>\r\n     <cc:Agent>\r\n      <dc:title>Matplotlib v3.3.2, https://matplotlib.org/</dc:title>\r\n     </cc:Agent>\r\n    </dc:creator>\r\n   </cc:Work>\r\n  </rdf:RDF>\r\n </metadata>\r\n <defs>\r\n  <style type=\"text/css\">*{stroke-linecap:butt;stroke-linejoin:round;}</style>\r\n </defs>\r\n <g id=\"figure_1\">\r\n  <g id=\"patch_1\">\r\n   <path d=\"M 0 252.317344 \r\nL 294.556687 252.317344 \r\nL 294.556687 0 \r\nL 0 0 \r\nz\r\n\" style=\"fill:none;\"/>\r\n  </g>\r\n  <g id=\"axes_1\">\r\n   <g id=\"patch_2\">\r\n    <path d=\"M 28.942188 228.439219 \r\nL 246.382187 228.439219 \r\nL 246.382187 10.999219 \r\nL 28.942188 10.999219 \r\nz\r\n\" style=\"fill:#ffffff;\"/>\r\n   </g>\r\n   <g id=\"PathCollection_1\">\r\n    <path clip-path=\"url(#p1723efebb4)\" d=\"M 137.662188 141.463219 \r\nL 139.836588 141.354168 \r\nL 142.010988 141.023139 \r\nL 144.185388 140.459098 \r\nL 146.359788 139.645469 \r\nL 147.095383 139.288819 \r\nL 148.534188 138.542786 \r\nL 150.708588 137.114419 \r\nL 150.708588 137.114419 \r\nL 152.882988 135.239119 \r\nL 153.182088 134.940019 \r\nL 155.057388 132.765619 \r\nL 155.057388 132.765619 \r\nL 156.485755 130.591219 \r\nL 157.231788 129.152414 \r\nL 157.588438 128.416819 \r\nL 158.402067 126.242419 \r\nL 158.966107 124.068019 \r\nL 159.297137 121.893619 \r\nL 159.406188 119.719219 \r\nL 159.297137 117.544819 \r\nL 158.966107 115.370419 \r\nL 158.402067 113.196019 \r\nL 157.588438 111.021619 \r\nL 157.231788 110.286024 \r\nL 156.485755 108.847219 \r\nL 155.057388 106.672819 \r\nL 155.057388 106.672819 \r\nL 153.182088 104.498419 \r\nL 152.882988 104.199318 \r\nL 150.708588 102.324019 \r\nL 150.708587 102.324019 \r\nL 148.534188 100.895651 \r\nL 147.095383 100.149619 \r\nL 146.359788 99.792968 \r\nL 144.185388 98.979339 \r\nL 142.010988 98.415299 \r\nL 139.836588 98.084269 \r\nL 137.662188 97.975219 \r\nL 135.487788 98.084269 \r\nL 133.313388 98.415299 \r\nL 131.138988 98.979339 \r\nL 128.964588 99.792968 \r\nL 128.228992 100.149619 \r\nL 126.790188 100.895651 \r\nL 124.615788 102.324019 \r\nL 124.615788 102.324019 \r\nL 122.441388 104.199318 \r\nL 122.142287 104.498419 \r\nL 120.266988 106.672819 \r\nL 120.266988 106.672819 \r\nL 118.83862 108.847219 \r\nL 118.092588 110.286024 \r\nL 117.735937 111.021619 \r\nL 116.922308 113.196019 \r\nL 116.358268 115.370419 \r\nL 116.027238 117.544819 \r\nL 115.918188 119.719219 \r\nL 116.027238 121.893619 \r\nL 116.358268 124.068019 \r\nL 116.922308 126.242419 \r\nL 117.735937 128.416819 \r\nL 118.092588 129.152414 \r\nL 118.83862 130.591219 \r\nL 120.266988 132.765619 \r\nL 120.266988 132.765619 \r\nL 122.142287 134.940019 \r\nL 122.441388 135.239119 \r\nL 124.615788 137.114419 \r\nL 124.615788 137.114419 \r\nL 126.790188 138.542786 \r\nL 128.228992 139.288819 \r\nL 128.964588 139.645469 \r\nL 131.138988 140.459098 \r\nL 133.313388 141.023139 \r\nL 135.487788 141.354168 \r\nL 137.662188 141.463219 \r\nz\r\n\" style=\"fill:#48186a;\"/>\r\n   </g>\r\n   <g id=\"PathCollection_2\">\r\n    <path clip-path=\"url(#p1723efebb4)\" d=\"M 137.662188 163.207219 \r\nL 139.836588 163.152821 \r\nL 142.010988 162.989181 \r\nL 144.185388 162.714973 \r\nL 146.359788 162.328043 \r\nL 148.534188 161.825491 \r\nL 150.708588 161.20377 \r\nL 151.213495 161.032819 \r\nL 152.882988 160.455171 \r\nL 155.057388 159.574564 \r\nL 156.597076 158.858419 \r\nL 157.231788 158.55371 \r\nL 159.406188 157.377573 \r\nL 160.552283 156.684019 \r\nL 161.580588 156.034662 \r\nL 163.754988 154.509619 \r\nL 163.754988 154.509619 \r\nL 165.929388 152.762571 \r\nL 166.418872 152.335219 \r\nL 168.103788 150.768465 \r\nL 168.711433 150.160819 \r\nL 170.278188 148.475903 \r\nL 170.70554 147.986419 \r\nL 172.452588 145.812019 \r\nL 173.977631 143.637619 \r\nL 174.626988 142.609314 \r\nL 175.320542 141.463219 \r\nL 176.496678 139.288819 \r\nL 176.801388 138.654107 \r\nL 177.517533 137.114419 \r\nL 178.39814 134.940019 \r\nL 178.975788 133.270526 \r\nL 179.146738 132.765619 \r\nL 179.76846 130.591219 \r\nL 180.271012 128.416819 \r\nL 180.657941 126.242419 \r\nL 180.93215 124.068019 \r\nL 181.09579 121.893619 \r\nL 181.150188 119.719219 \r\nL 181.09579 117.544819 \r\nL 180.93215 115.370419 \r\nL 180.657941 113.196019 \r\nL 180.271012 111.021619 \r\nL 179.76846 108.847219 \r\nL 179.146738 106.672819 \r\nL 178.975788 106.167911 \r\nL 178.39814 104.498419 \r\nL 177.517533 102.324019 \r\nL 176.801388 100.78433 \r\nL 176.496678 100.149619 \r\nL 175.320542 97.975219 \r\nL 174.626988 96.829123 \r\nL 173.977631 95.800819 \r\nL 172.452588 93.626419 \r\nL 172.452588 93.626419 \r\nL 170.70554 91.452019 \r\nL 170.278188 90.962534 \r\nL 168.711433 89.277619 \r\nL 168.103788 88.669973 \r\nL 166.418872 87.103219 \r\nL 165.929388 86.675867 \r\nL 163.754988 84.928819 \r\nL 163.754987 84.928819 \r\nL 161.580588 83.403775 \r\nL 160.552283 82.754419 \r\nL 159.406188 82.060864 \r\nL 157.231788 80.884728 \r\nL 156.597076 80.580019 \r\nL 155.057388 79.863873 \r\nL 152.882988 78.983266 \r\nL 151.213495 78.405619 \r\nL 150.708588 78.234668 \r\nL 148.534188 77.612947 \r\nL 146.359788 77.110395 \r\nL 144.185388 76.723465 \r\nL 142.010988 76.449256 \r\nL 139.836588 76.285616 \r\nL 137.662188 76.231219 \r\nL 135.487788 76.285616 \r\nL 133.313388 76.449256 \r\nL 131.138988 76.723465 \r\nL 128.964588 77.110395 \r\nL 126.790188 77.612947 \r\nL 124.615788 78.234668 \r\nL 124.11088 78.405619 \r\nL 122.441388 78.983266 \r\nL 120.266988 79.863873 \r\nL 118.727299 80.580019 \r\nL 118.092588 80.884728 \r\nL 115.918188 82.060864 \r\nL 114.772092 82.754419 \r\nL 113.743788 83.403775 \r\nL 111.569388 84.928819 \r\nL 109.394988 86.675867 \r\nL 108.905503 87.103219 \r\nL 107.220588 88.669973 \r\nL 106.612942 89.277619 \r\nL 105.046188 90.962534 \r\nL 104.618835 91.452019 \r\nL 102.871788 93.626419 \r\nL 102.871788 93.626419 \r\nL 101.346744 95.800819 \r\nL 100.697388 96.829123 \r\nL 100.003833 97.975219 \r\nL 98.827697 100.149619 \r\nL 98.522988 100.78433 \r\nL 97.806842 102.324019 \r\nL 96.926235 104.498419 \r\nL 96.348588 106.167911 \r\nL 96.177637 106.672819 \r\nL 95.555915 108.847219 \r\nL 95.053363 111.021619 \r\nL 94.666434 113.196019 \r\nL 94.392225 115.370419 \r\nL 94.228585 117.544819 \r\nL 94.174188 119.719219 \r\nL 94.228585 121.893619 \r\nL 94.392225 124.068019 \r\nL 94.666434 126.242419 \r\nL 95.053363 128.416819 \r\nL 95.555915 130.591219 \r\nL 96.177637 132.765619 \r\nL 96.348588 133.270526 \r\nL 96.926235 134.940019 \r\nL 97.806842 137.114419 \r\nL 98.522988 138.654107 \r\nL 98.827697 139.288819 \r\nL 100.003833 141.463219 \r\nL 100.697388 142.609314 \r\nL 101.346744 143.637619 \r\nL 102.871788 145.812019 \r\nL 102.871788 145.812019 \r\nL 104.618835 147.986419 \r\nL 105.046188 148.475903 \r\nL 106.612942 150.160819 \r\nL 107.220588 150.768465 \r\nL 108.905503 152.335219 \r\nL 109.394988 152.762571 \r\nL 111.569388 154.509619 \r\nL 111.569388 154.509619 \r\nL 113.743788 156.034662 \r\nL 114.772092 156.684019 \r\nL 115.918188 157.377573 \r\nL 118.092588 158.55371 \r\nL 118.727299 158.858419 \r\nL 120.266988 159.574564 \r\nL 122.441388 160.455171 \r\nL 124.11088 161.032819 \r\nL 124.615788 161.20377 \r\nL 126.790188 161.825491 \r\nL 128.964588 162.328043 \r\nL 131.138988 162.714973 \r\nL 133.313388 162.989181 \r\nL 135.487788 163.152821 \r\nL 137.662188 163.207219 \r\nz\r\nM 137.662188 141.463219 \r\nL 135.487788 141.354168 \r\nL 133.313388 141.023139 \r\nL 131.138988 140.459098 \r\nL 128.964588 139.645469 \r\nL 128.228992 139.288819 \r\nL 126.790188 138.542786 \r\nL 124.615788 137.114419 \r\nL 124.615788 137.114419 \r\nL 122.441388 135.239119 \r\nL 122.142287 134.940019 \r\nL 120.266988 132.765619 \r\nL 120.266988 132.765619 \r\nL 118.83862 130.591219 \r\nL 118.092588 129.152414 \r\nL 117.735937 128.416819 \r\nL 116.922308 126.242419 \r\nL 116.358268 124.068019 \r\nL 116.027238 121.893619 \r\nL 115.918188 119.719219 \r\nL 116.027238 117.544819 \r\nL 116.358268 115.370419 \r\nL 116.922308 113.196019 \r\nL 117.735937 111.021619 \r\nL 118.092588 110.286024 \r\nL 118.83862 108.847219 \r\nL 120.266988 106.672819 \r\nL 120.266988 106.672819 \r\nL 122.142287 104.498419 \r\nL 122.441388 104.199318 \r\nL 124.615788 102.324019 \r\nL 124.615788 102.324019 \r\nL 126.790188 100.895651 \r\nL 128.228992 100.149619 \r\nL 128.964588 99.792968 \r\nL 131.138988 98.979339 \r\nL 133.313388 98.415299 \r\nL 135.487788 98.084269 \r\nL 137.662188 97.975219 \r\nL 139.836588 98.084269 \r\nL 142.010988 98.415299 \r\nL 144.185388 98.979339 \r\nL 146.359788 99.792968 \r\nL 147.095383 100.149619 \r\nL 148.534188 100.895651 \r\nL 150.708587 102.324019 \r\nL 150.708588 102.324019 \r\nL 152.882988 104.199318 \r\nL 153.182088 104.498419 \r\nL 155.057388 106.672819 \r\nL 155.057388 106.672819 \r\nL 156.485755 108.847219 \r\nL 157.231788 110.286024 \r\nL 157.588438 111.021619 \r\nL 158.402067 113.196019 \r\nL 158.966107 115.370419 \r\nL 159.297137 117.544819 \r\nL 159.406188 119.719219 \r\nL 159.297137 121.893619 \r\nL 158.966107 124.068019 \r\nL 158.402067 126.242419 \r\nL 157.588438 128.416819 \r\nL 157.231788 129.152414 \r\nL 156.485755 130.591219 \r\nL 155.057388 132.765619 \r\nL 155.057388 132.765619 \r\nL 153.182088 134.940019 \r\nL 152.882988 135.239119 \r\nL 150.708588 137.114419 \r\nL 150.708588 137.114419 \r\nL 148.534188 138.542786 \r\nL 147.095383 139.288819 \r\nL 146.359788 139.645469 \r\nL 144.185388 140.459098 \r\nL 142.010988 141.023139 \r\nL 139.836588 141.354168 \r\nL 137.662188 141.463219 \r\nz\r\n\" style=\"fill:#424086;\"/>\r\n   </g>\r\n   <g id=\"PathCollection_3\">\r\n    <path clip-path=\"url(#p1723efebb4)\" d=\"M 137.662188 184.951219 \r\nL 139.836588 184.914968 \r\nL 142.010988 184.806087 \r\nL 144.185388 184.624192 \r\nL 146.359788 184.368649 \r\nL 148.534188 184.038588 \r\nL 150.708588 183.632914 \r\nL 152.882988 183.150325 \r\nL 154.334604 182.776819 \r\nL 155.057388 182.588874 \r\nL 157.231788 181.945767 \r\nL 159.406188 181.219681 \r\nL 161.065181 180.602419 \r\nL 161.580588 180.407527 \r\nL 163.754988 179.503753 \r\nL 165.929388 178.508236 \r\nL 166.091566 178.428019 \r\nL 168.103788 177.410344 \r\nL 170.203796 176.253619 \r\nL 170.278188 176.211584 \r\nL 172.452588 174.896465 \r\nL 173.70939 174.079219 \r\nL 174.626988 173.464038 \r\nL 176.801388 171.904819 \r\nL 176.801388 171.904819 \r\nL 178.975788 170.197777 \r\nL 179.537794 169.730419 \r\nL 181.150188 168.335345 \r\nL 182.004612 167.556019 \r\nL 183.324588 166.298142 \r\nL 184.241111 165.381619 \r\nL 185.498988 164.061644 \r\nL 186.278314 163.207219 \r\nL 187.673388 161.594825 \r\nL 188.140746 161.032819 \r\nL 189.847788 158.858419 \r\nL 191.407007 156.684019 \r\nL 192.022188 155.766422 \r\nL 192.839434 154.509619 \r\nL 194.154553 152.335219 \r\nL 194.196588 152.260827 \r\nL 195.353312 150.160819 \r\nL 196.370988 148.148597 \r\nL 196.451205 147.986419 \r\nL 197.446722 145.812019 \r\nL 198.350496 143.637619 \r\nL 198.545388 143.122213 \r\nL 199.16265 141.463219 \r\nL 199.888736 139.288819 \r\nL 200.531843 137.114419 \r\nL 200.719788 136.391635 \r\nL 201.093293 134.940019 \r\nL 201.575883 132.765619 \r\nL 201.981557 130.591219 \r\nL 202.311618 128.416819 \r\nL 202.56716 126.242419 \r\nL 202.749056 124.068019 \r\nL 202.857937 121.893619 \r\nL 202.894188 119.719219 \r\nL 202.857937 117.544819 \r\nL 202.749056 115.370419 \r\nL 202.56716 113.196019 \r\nL 202.311618 111.021619 \r\nL 201.981557 108.847219 \r\nL 201.575883 106.672819 \r\nL 201.093293 104.498419 \r\nL 200.719788 103.046803 \r\nL 200.531843 102.324019 \r\nL 199.888736 100.149619 \r\nL 199.16265 97.975219 \r\nL 198.545388 96.316225 \r\nL 198.350496 95.800819 \r\nL 197.446722 93.626419 \r\nL 196.451205 91.452019 \r\nL 196.370988 91.289841 \r\nL 195.353312 89.277619 \r\nL 194.196588 87.17761 \r\nL 194.154553 87.103219 \r\nL 192.839434 84.928819 \r\nL 192.022188 83.672016 \r\nL 191.407007 82.754419 \r\nL 189.847788 80.580019 \r\nL 189.847788 80.580019 \r\nL 188.140746 78.405619 \r\nL 187.673388 77.843612 \r\nL 186.278314 76.231219 \r\nL 185.498988 75.376794 \r\nL 184.241111 74.056819 \r\nL 183.324588 73.140295 \r\nL 182.004612 71.882419 \r\nL 181.150188 71.103093 \r\nL 179.537794 69.708019 \r\nL 178.975788 69.24066 \r\nL 176.801388 67.533619 \r\nL 176.801388 67.533619 \r\nL 174.626988 65.9744 \r\nL 173.70939 65.359219 \r\nL 172.452588 64.541972 \r\nL 170.278188 63.226854 \r\nL 170.203796 63.184819 \r\nL 168.103788 62.028094 \r\nL 166.091566 61.010419 \r\nL 165.929388 60.930202 \r\nL 163.754988 59.934685 \r\nL 161.580588 59.030911 \r\nL 161.065181 58.836019 \r\nL 159.406188 58.218756 \r\nL 157.231788 57.49267 \r\nL 155.057388 56.849563 \r\nL 154.334604 56.661619 \r\nL 152.882988 56.288113 \r\nL 150.708588 55.805524 \r\nL 148.534188 55.399849 \r\nL 146.359788 55.069789 \r\nL 144.185388 54.814246 \r\nL 142.010988 54.632351 \r\nL 139.836588 54.52347 \r\nL 137.662188 54.487219 \r\nL 135.487788 54.52347 \r\nL 133.313388 54.632351 \r\nL 131.138988 54.814246 \r\nL 128.964588 55.069789 \r\nL 126.790188 55.399849 \r\nL 124.615788 55.805524 \r\nL 122.441388 56.288113 \r\nL 120.989771 56.661619 \r\nL 120.266988 56.849563 \r\nL 118.092588 57.49267 \r\nL 115.918188 58.218756 \r\nL 114.259194 58.836019 \r\nL 113.743788 59.030911 \r\nL 111.569388 59.934685 \r\nL 109.394988 60.930202 \r\nL 109.232809 61.010419 \r\nL 107.220588 62.028094 \r\nL 105.120579 63.184819 \r\nL 105.046188 63.226854 \r\nL 102.871788 64.541972 \r\nL 101.614985 65.359219 \r\nL 100.697388 65.9744 \r\nL 98.522988 67.533619 \r\nL 96.348588 69.24066 \r\nL 95.786581 69.708019 \r\nL 94.174188 71.103093 \r\nL 93.319763 71.882419 \r\nL 91.999788 73.140295 \r\nL 91.083264 74.056819 \r\nL 89.825388 75.376794 \r\nL 89.046061 76.231219 \r\nL 87.650988 77.843612 \r\nL 87.183629 78.405619 \r\nL 85.476588 80.580019 \r\nL 85.476588 80.580019 \r\nL 83.917368 82.754419 \r\nL 83.302188 83.672016 \r\nL 82.484941 84.928819 \r\nL 81.169822 87.103219 \r\nL 81.127788 87.17761 \r\nL 79.971063 89.277619 \r\nL 78.953388 91.289841 \r\nL 78.87317 91.452019 \r\nL 77.877653 93.626419 \r\nL 76.973879 95.800819 \r\nL 76.778988 96.316225 \r\nL 76.161725 97.975219 \r\nL 75.435639 100.149619 \r\nL 74.792532 102.324019 \r\nL 74.604588 103.046803 \r\nL 74.231082 104.498419 \r\nL 73.748492 106.672819 \r\nL 73.342818 108.847219 \r\nL 73.012757 111.021619 \r\nL 72.757215 113.196019 \r\nL 72.575319 115.370419 \r\nL 72.466438 117.544819 \r\nL 72.430188 119.719219 \r\nL 72.466438 121.893619 \r\nL 72.575319 124.068019 \r\nL 72.757215 126.242419 \r\nL 73.012757 128.416819 \r\nL 73.342818 130.591219 \r\nL 73.748492 132.765619 \r\nL 74.231082 134.940019 \r\nL 74.604588 136.391635 \r\nL 74.792532 137.114419 \r\nL 75.435639 139.288819 \r\nL 76.161725 141.463219 \r\nL 76.778988 143.122213 \r\nL 76.973879 143.637619 \r\nL 77.877653 145.812019 \r\nL 78.87317 147.986419 \r\nL 78.953388 148.148597 \r\nL 79.971063 150.160819 \r\nL 81.127788 152.260827 \r\nL 81.169822 152.335219 \r\nL 82.484941 154.509619 \r\nL 83.302188 155.766422 \r\nL 83.917368 156.684019 \r\nL 85.476588 158.858419 \r\nL 87.183629 161.032819 \r\nL 87.650988 161.594825 \r\nL 89.046061 163.207219 \r\nL 89.825388 164.061644 \r\nL 91.083264 165.381619 \r\nL 91.999788 166.298142 \r\nL 93.319763 167.556019 \r\nL 94.174188 168.335345 \r\nL 95.786581 169.730419 \r\nL 96.348588 170.197777 \r\nL 98.522988 171.904819 \r\nL 100.697388 173.464038 \r\nL 101.614985 174.079219 \r\nL 102.871788 174.896465 \r\nL 105.046188 176.211584 \r\nL 105.120579 176.253619 \r\nL 107.220588 177.410344 \r\nL 109.232809 178.428019 \r\nL 109.394988 178.508236 \r\nL 111.569388 179.503753 \r\nL 113.743788 180.407527 \r\nL 114.259194 180.602419 \r\nL 115.918188 181.219681 \r\nL 118.092588 181.945767 \r\nL 120.266988 182.588874 \r\nL 120.989771 182.776819 \r\nL 122.441388 183.150325 \r\nL 124.615788 183.632914 \r\nL 126.790188 184.038588 \r\nL 128.964588 184.368649 \r\nL 131.138988 184.624192 \r\nL 133.313388 184.806087 \r\nL 135.487788 184.914968 \r\nL 137.662188 184.951219 \r\nz\r\nM 137.662188 163.207219 \r\nL 135.487788 163.152821 \r\nL 133.313388 162.989181 \r\nL 131.138988 162.714973 \r\nL 128.964588 162.328043 \r\nL 126.790188 161.825491 \r\nL 124.615788 161.20377 \r\nL 124.11088 161.032819 \r\nL 122.441388 160.455171 \r\nL 120.266988 159.574564 \r\nL 118.727299 158.858419 \r\nL 118.092588 158.55371 \r\nL 115.918188 157.377573 \r\nL 114.772092 156.684019 \r\nL 113.743788 156.034662 \r\nL 111.569388 154.509619 \r\nL 111.569388 154.509619 \r\nL 109.394988 152.762571 \r\nL 108.905503 152.335219 \r\nL 107.220588 150.768465 \r\nL 106.612942 150.160819 \r\nL 105.046188 148.475903 \r\nL 104.618835 147.986419 \r\nL 102.871788 145.812019 \r\nL 102.871788 145.812019 \r\nL 101.346744 143.637619 \r\nL 100.697388 142.609314 \r\nL 100.003833 141.463219 \r\nL 98.827697 139.288819 \r\nL 98.522988 138.654107 \r\nL 97.806842 137.114419 \r\nL 96.926235 134.940019 \r\nL 96.348588 133.270526 \r\nL 96.177637 132.765619 \r\nL 95.555915 130.591219 \r\nL 95.053363 128.416819 \r\nL 94.666434 126.242419 \r\nL 94.392225 124.068019 \r\nL 94.228585 121.893619 \r\nL 94.174188 119.719219 \r\nL 94.228585 117.544819 \r\nL 94.392225 115.370419 \r\nL 94.666434 113.196019 \r\nL 95.053363 111.021619 \r\nL 95.555915 108.847219 \r\nL 96.177637 106.672819 \r\nL 96.348588 106.167911 \r\nL 96.926235 104.498419 \r\nL 97.806842 102.324019 \r\nL 98.522988 100.78433 \r\nL 98.827697 100.149619 \r\nL 100.003833 97.975219 \r\nL 100.697388 96.829123 \r\nL 101.346744 95.800819 \r\nL 102.871788 93.626419 \r\nL 102.871788 93.626419 \r\nL 104.618835 91.452019 \r\nL 105.046188 90.962534 \r\nL 106.612942 89.277619 \r\nL 107.220588 88.669973 \r\nL 108.905503 87.103219 \r\nL 109.394988 86.675867 \r\nL 111.569388 84.928819 \r\nL 113.743788 83.403775 \r\nL 114.772092 82.754419 \r\nL 115.918188 82.060864 \r\nL 118.092588 80.884728 \r\nL 118.727299 80.580019 \r\nL 120.266988 79.863873 \r\nL 122.441388 78.983266 \r\nL 124.11088 78.405619 \r\nL 124.615788 78.234668 \r\nL 126.790188 77.612947 \r\nL 128.964588 77.110395 \r\nL 131.138988 76.723465 \r\nL 133.313388 76.449256 \r\nL 135.487788 76.285616 \r\nL 137.662188 76.231219 \r\nL 139.836588 76.285616 \r\nL 142.010988 76.449256 \r\nL 144.185388 76.723465 \r\nL 146.359788 77.110395 \r\nL 148.534188 77.612947 \r\nL 150.708588 78.234668 \r\nL 151.213495 78.405619 \r\nL 152.882988 78.983266 \r\nL 155.057388 79.863873 \r\nL 156.597076 80.580019 \r\nL 157.231788 80.884728 \r\nL 159.406188 82.060864 \r\nL 160.552283 82.754419 \r\nL 161.580588 83.403775 \r\nL 163.754987 84.928819 \r\nL 163.754988 84.928819 \r\nL 165.929388 86.675867 \r\nL 166.418872 87.103219 \r\nL 168.103788 88.669973 \r\nL 168.711433 89.277619 \r\nL 170.278188 90.962534 \r\nL 170.70554 91.452019 \r\nL 172.452588 93.626419 \r\nL 172.452588 93.626419 \r\nL 173.977631 95.800819 \r\nL 174.626988 96.829123 \r\nL 175.320542 97.975219 \r\nL 176.496678 100.149619 \r\nL 176.801388 100.78433 \r\nL 177.517533 102.324019 \r\nL 178.39814 104.498419 \r\nL 178.975788 106.167911 \r\nL 179.146738 106.672819 \r\nL 179.76846 108.847219 \r\nL 180.271012 111.021619 \r\nL 180.657941 113.196019 \r\nL 180.93215 115.370419 \r\nL 181.09579 117.544819 \r\nL 181.150188 119.719219 \r\nL 181.09579 121.893619 \r\nL 180.93215 124.068019 \r\nL 180.657941 126.242419 \r\nL 180.271012 128.416819 \r\nL 179.76846 130.591219 \r\nL 179.146738 132.765619 \r\nL 178.975788 133.270526 \r\nL 178.39814 134.940019 \r\nL 177.517533 137.114419 \r\nL 176.801388 138.654107 \r\nL 176.496678 139.288819 \r\nL 175.320542 141.463219 \r\nL 174.626988 142.609314 \r\nL 173.977631 143.637619 \r\nL 172.452588 145.812019 \r\nL 170.70554 147.986419 \r\nL 170.278188 148.475903 \r\nL 168.711433 150.160819 \r\nL 168.103788 150.768465 \r\nL 166.418872 152.335219 \r\nL 165.929388 152.762571 \r\nL 163.754988 154.509619 \r\nL 163.754988 154.509619 \r\nL 161.580588 156.034662 \r\nL 160.552283 156.684019 \r\nL 159.406188 157.377573 \r\nL 157.231788 158.55371 \r\nL 156.597076 158.858419 \r\nL 155.057388 159.574564 \r\nL 152.882988 160.455171 \r\nL 151.213495 161.032819 \r\nL 150.708588 161.20377 \r\nL 148.534188 161.825491 \r\nL 146.359788 162.328043 \r\nL 144.185388 162.714973 \r\nL 142.010988 162.989181 \r\nL 139.836588 163.152821 \r\nL 137.662188 163.207219 \r\nz\r\n\" style=\"fill:#33638d;\"/>\r\n   </g>\r\n   <g id=\"PathCollection_4\">\r\n    <path clip-path=\"url(#p1723efebb4)\" d=\"M 137.662188 206.695219 \r\nL 139.836588 206.668034 \r\nL 142.010988 206.586427 \r\nL 144.185388 206.450238 \r\nL 146.359788 206.259202 \r\nL 148.534188 206.01295 \r\nL 150.708588 205.711018 \r\nL 152.882988 205.352844 \r\nL 155.057388 204.937777 \r\nL 156.976577 204.520819 \r\nL 157.231788 204.46501 \r\nL 159.406188 203.933019 \r\nL 161.580588 203.341262 \r\nL 163.754988 202.6887 \r\nL 164.800819 202.346419 \r\nL 165.929388 201.973203 \r\nL 168.103788 201.193076 \r\nL 170.278188 200.347828 \r\nL 170.700678 200.172019 \r\nL 172.452588 199.432967 \r\nL 174.626988 198.448436 \r\nL 175.561783 197.997619 \r\nL 176.801388 197.390017 \r\nL 178.975788 196.255767 \r\nL 179.759385 195.823219 \r\nL 181.150188 195.040826 \r\nL 183.324588 193.744323 \r\nL 183.477233 193.648819 \r\nL 185.498988 192.356135 \r\nL 186.807302 191.474419 \r\nL 187.673388 190.87672 \r\nL 189.847788 189.300019 \r\nL 192.022188 187.612498 \r\nL 192.62252 187.125619 \r\nL 194.196588 185.811657 \r\nL 195.18568 184.951219 \r\nL 196.370988 183.887457 \r\nL 197.561661 182.776819 \r\nL 198.545388 181.827908 \r\nL 199.770877 180.602419 \r\nL 200.719788 179.618692 \r\nL 201.830426 178.428019 \r\nL 202.894188 177.242711 \r\nL 203.754625 176.253619 \r\nL 205.068588 174.679551 \r\nL 205.555467 174.079219 \r\nL 207.242988 171.904819 \r\nL 207.242988 171.904819 \r\nL 208.819688 169.730419 \r\nL 209.417388 168.864333 \r\nL 210.299104 167.556019 \r\nL 211.591788 165.534264 \r\nL 211.687292 165.381619 \r\nL 212.983794 163.207219 \r\nL 213.766188 161.816416 \r\nL 214.198736 161.032819 \r\nL 215.332986 158.858419 \r\nL 215.940587 157.618814 \r\nL 216.391405 156.684019 \r\nL 217.375936 154.509619 \r\nL 218.114988 152.757709 \r\nL 218.290797 152.335219 \r\nL 219.136045 150.160819 \r\nL 219.916171 147.986419 \r\nL 220.289388 146.85785 \r\nL 220.631669 145.812019 \r\nL 221.284231 143.637619 \r\nL 221.875987 141.463219 \r\nL 222.407979 139.288819 \r\nL 222.463788 139.033608 \r\nL 222.880746 137.114419 \r\nL 223.295813 134.940019 \r\nL 223.653987 132.765619 \r\nL 223.955919 130.591219 \r\nL 224.20217 128.416819 \r\nL 224.393207 126.242419 \r\nL 224.529396 124.068019 \r\nL 224.611003 121.893619 \r\nL 224.638188 119.719219 \r\nL 224.611003 117.544819 \r\nL 224.529396 115.370419 \r\nL 224.393207 113.196019 \r\nL 224.20217 111.021619 \r\nL 223.955919 108.847219 \r\nL 223.653987 106.672819 \r\nL 223.295813 104.498419 \r\nL 222.880746 102.324019 \r\nL 222.463788 100.40483 \r\nL 222.407979 100.149619 \r\nL 221.875987 97.975219 \r\nL 221.284231 95.800819 \r\nL 220.631669 93.626419 \r\nL 220.289388 92.580587 \r\nL 219.916171 91.452019 \r\nL 219.136045 89.277619 \r\nL 218.290797 87.103219 \r\nL 218.114988 86.680728 \r\nL 217.375936 84.928819 \r\nL 216.391405 82.754419 \r\nL 215.940587 81.819623 \r\nL 215.332986 80.580019 \r\nL 214.198736 78.405619 \r\nL 213.766188 77.622021 \r\nL 212.983794 76.231219 \r\nL 211.687292 74.056819 \r\nL 211.591788 73.904174 \r\nL 210.299104 71.882419 \r\nL 209.417388 70.574104 \r\nL 208.819688 69.708019 \r\nL 207.242988 67.533619 \r\nL 207.242988 67.533619 \r\nL 205.555467 65.359219 \r\nL 205.068588 64.758886 \r\nL 203.754625 63.184819 \r\nL 202.894188 62.195726 \r\nL 201.830426 61.010419 \r\nL 200.719788 59.819746 \r\nL 199.770877 58.836019 \r\nL 198.545388 57.610529 \r\nL 197.561661 56.661619 \r\nL 196.370988 55.550981 \r\nL 195.18568 54.487219 \r\nL 194.196588 53.626781 \r\nL 192.62252 52.312819 \r\nL 192.022188 51.825939 \r\nL 189.847788 50.138419 \r\nL 189.847787 50.138419 \r\nL 187.673388 48.561718 \r\nL 186.807302 47.964019 \r\nL 185.498988 47.082302 \r\nL 183.477233 45.789619 \r\nL 183.324588 45.694114 \r\nL 181.150188 44.397612 \r\nL 179.759385 43.615219 \r\nL 178.975788 43.18267 \r\nL 176.801388 42.048421 \r\nL 175.561783 41.440819 \r\nL 174.626988 40.990002 \r\nL 172.452588 40.005471 \r\nL 170.700678 39.266419 \r\nL 170.278188 39.090609 \r\nL 168.103788 38.245361 \r\nL 165.929388 37.465235 \r\nL 164.800819 37.092019 \r\nL 163.754988 36.749737 \r\nL 161.580588 36.097175 \r\nL 159.406188 35.505419 \r\nL 157.231788 34.973427 \r\nL 156.976577 34.917619 \r\nL 155.057388 34.50066 \r\nL 152.882988 34.085593 \r\nL 150.708588 33.727419 \r\nL 148.534188 33.425487 \r\nL 146.359788 33.179236 \r\nL 144.185388 32.988199 \r\nL 142.010988 32.85201 \r\nL 139.836588 32.770403 \r\nL 137.662188 32.743219 \r\nL 135.487788 32.770403 \r\nL 133.313388 32.85201 \r\nL 131.138988 32.988199 \r\nL 128.964588 33.179236 \r\nL 126.790188 33.425487 \r\nL 124.615788 33.727419 \r\nL 122.441388 34.085593 \r\nL 120.266988 34.50066 \r\nL 118.347798 34.917619 \r\nL 118.092588 34.973427 \r\nL 115.918188 35.505419 \r\nL 113.743788 36.097175 \r\nL 111.569388 36.749737 \r\nL 110.523556 37.092019 \r\nL 109.394988 37.465235 \r\nL 107.220588 38.245361 \r\nL 105.046188 39.090609 \r\nL 104.623697 39.266419 \r\nL 102.871788 40.005471 \r\nL 100.697388 40.990002 \r\nL 99.762592 41.440819 \r\nL 98.522988 42.048421 \r\nL 96.348588 43.18267 \r\nL 95.56499 43.615219 \r\nL 94.174188 44.397612 \r\nL 91.999788 45.694114 \r\nL 91.847142 45.789619 \r\nL 89.825388 47.082302 \r\nL 88.517073 47.964019 \r\nL 87.650988 48.561718 \r\nL 85.476588 50.138419 \r\nL 85.476588 50.138419 \r\nL 83.302188 51.825939 \r\nL 82.701855 52.312819 \r\nL 81.127788 53.626781 \r\nL 80.138695 54.487219 \r\nL 78.953388 55.550981 \r\nL 77.762714 56.661619 \r\nL 76.778988 57.610529 \r\nL 75.553498 58.836019 \r\nL 74.604588 59.819746 \r\nL 73.493949 61.010419 \r\nL 72.430188 62.195726 \r\nL 71.56975 63.184819 \r\nL 70.255788 64.758886 \r\nL 69.768908 65.359219 \r\nL 68.081388 67.533619 \r\nL 66.504687 69.708019 \r\nL 65.906988 70.574104 \r\nL 65.025271 71.882419 \r\nL 63.732588 73.904174 \r\nL 63.637083 74.056819 \r\nL 62.340581 76.231219 \r\nL 61.558188 77.622021 \r\nL 61.125639 78.405619 \r\nL 59.991389 80.580019 \r\nL 59.383788 81.819623 \r\nL 58.93297 82.754419 \r\nL 57.948439 84.928819 \r\nL 57.209388 86.680728 \r\nL 57.033578 87.103219 \r\nL 56.18833 89.277619 \r\nL 55.408204 91.452019 \r\nL 55.034988 92.580587 \r\nL 54.692706 93.626419 \r\nL 54.040144 95.800819 \r\nL 53.448388 97.975219 \r\nL 52.916396 100.149619 \r\nL 52.860588 100.40483 \r\nL 52.443629 102.324019 \r\nL 52.028562 104.498419 \r\nL 51.670388 106.672819 \r\nL 51.368456 108.847219 \r\nL 51.122205 111.021619 \r\nL 50.931168 113.196019 \r\nL 50.794979 115.370419 \r\nL 50.713372 117.544819 \r\nL 50.686188 119.719219 \r\nL 50.713372 121.893619 \r\nL 50.794979 124.068019 \r\nL 50.931168 126.242419 \r\nL 51.122205 128.416819 \r\nL 51.368456 130.591219 \r\nL 51.670388 132.765619 \r\nL 52.028562 134.940019 \r\nL 52.443629 137.114419 \r\nL 52.860588 139.033608 \r\nL 52.916396 139.288819 \r\nL 53.448388 141.463219 \r\nL 54.040144 143.637619 \r\nL 54.692706 145.812019 \r\nL 55.034988 146.85785 \r\nL 55.408204 147.986419 \r\nL 56.18833 150.160819 \r\nL 57.033578 152.335219 \r\nL 57.209388 152.757709 \r\nL 57.948439 154.509619 \r\nL 58.93297 156.684019 \r\nL 59.383788 157.618814 \r\nL 59.991389 158.858419 \r\nL 61.125639 161.032819 \r\nL 61.558188 161.816416 \r\nL 62.340581 163.207219 \r\nL 63.637083 165.381619 \r\nL 63.732588 165.534264 \r\nL 65.025271 167.556019 \r\nL 65.906988 168.864333 \r\nL 66.504687 169.730419 \r\nL 68.081388 171.904819 \r\nL 69.768908 174.079219 \r\nL 70.255788 174.679551 \r\nL 71.56975 176.253619 \r\nL 72.430188 177.242711 \r\nL 73.493949 178.428019 \r\nL 74.604588 179.618692 \r\nL 75.553498 180.602419 \r\nL 76.778988 181.827908 \r\nL 77.762714 182.776819 \r\nL 78.953388 183.887457 \r\nL 80.138695 184.951219 \r\nL 81.127788 185.811657 \r\nL 82.701855 187.125619 \r\nL 83.302188 187.612498 \r\nL 85.476588 189.300019 \r\nL 87.650988 190.87672 \r\nL 88.517073 191.474419 \r\nL 89.825388 192.356135 \r\nL 91.847142 193.648819 \r\nL 91.999788 193.744323 \r\nL 94.174188 195.040826 \r\nL 95.56499 195.823219 \r\nL 96.348588 196.255767 \r\nL 98.522988 197.390017 \r\nL 99.762592 197.997619 \r\nL 100.697388 198.448436 \r\nL 102.871788 199.432967 \r\nL 104.623697 200.172019 \r\nL 105.046188 200.347828 \r\nL 107.220588 201.193076 \r\nL 109.394988 201.973203 \r\nL 110.523556 202.346419 \r\nL 111.569388 202.6887 \r\nL 113.743788 203.341262 \r\nL 115.918188 203.933019 \r\nL 118.092588 204.46501 \r\nL 118.347798 204.520819 \r\nL 120.266988 204.937777 \r\nL 122.441388 205.352844 \r\nL 124.615788 205.711018 \r\nL 126.790188 206.01295 \r\nL 128.964588 206.259202 \r\nL 131.138988 206.450238 \r\nL 133.313388 206.586427 \r\nL 135.487788 206.668034 \r\nL 137.662188 206.695219 \r\nz\r\nM 137.662188 184.951219 \r\nL 135.487788 184.914968 \r\nL 133.313388 184.806087 \r\nL 131.138988 184.624192 \r\nL 128.964588 184.368649 \r\nL 126.790188 184.038588 \r\nL 124.615788 183.632914 \r\nL 122.441388 183.150325 \r\nL 120.989771 182.776819 \r\nL 120.266988 182.588874 \r\nL 118.092588 181.945767 \r\nL 115.918188 181.219681 \r\nL 114.259194 180.602419 \r\nL 113.743788 180.407527 \r\nL 111.569388 179.503753 \r\nL 109.394988 178.508236 \r\nL 109.232809 178.428019 \r\nL 107.220588 177.410344 \r\nL 105.120579 176.253619 \r\nL 105.046188 176.211584 \r\nL 102.871788 174.896465 \r\nL 101.614985 174.079219 \r\nL 100.697388 173.464038 \r\nL 98.522988 171.904819 \r\nL 96.348588 170.197777 \r\nL 95.786581 169.730419 \r\nL 94.174188 168.335345 \r\nL 93.319763 167.556019 \r\nL 91.999788 166.298142 \r\nL 91.083264 165.381619 \r\nL 89.825388 164.061644 \r\nL 89.046061 163.207219 \r\nL 87.650988 161.594825 \r\nL 87.183629 161.032819 \r\nL 85.476588 158.858419 \r\nL 83.917368 156.684019 \r\nL 83.302188 155.766422 \r\nL 82.484941 154.509619 \r\nL 81.169822 152.335219 \r\nL 81.127788 152.260827 \r\nL 79.971063 150.160819 \r\nL 78.953388 148.148597 \r\nL 78.87317 147.986419 \r\nL 77.877653 145.812019 \r\nL 76.973879 143.637619 \r\nL 76.778988 143.122213 \r\nL 76.161725 141.463219 \r\nL 75.435639 139.288819 \r\nL 74.792532 137.114419 \r\nL 74.604588 136.391635 \r\nL 74.231082 134.940019 \r\nL 73.748492 132.765619 \r\nL 73.342818 130.591219 \r\nL 73.012757 128.416819 \r\nL 72.757215 126.242419 \r\nL 72.575319 124.068019 \r\nL 72.466438 121.893619 \r\nL 72.430188 119.719219 \r\nL 72.466438 117.544819 \r\nL 72.575319 115.370419 \r\nL 72.757215 113.196019 \r\nL 73.012757 111.021619 \r\nL 73.342818 108.847219 \r\nL 73.748492 106.672819 \r\nL 74.231082 104.498419 \r\nL 74.604588 103.046803 \r\nL 74.792532 102.324019 \r\nL 75.435639 100.149619 \r\nL 76.161725 97.975219 \r\nL 76.778988 96.316225 \r\nL 76.973879 95.800819 \r\nL 77.877653 93.626419 \r\nL 78.87317 91.452019 \r\nL 78.953388 91.289841 \r\nL 79.971063 89.277619 \r\nL 81.127788 87.17761 \r\nL 81.169822 87.103219 \r\nL 82.484941 84.928819 \r\nL 83.302188 83.672016 \r\nL 83.917368 82.754419 \r\nL 85.476588 80.580019 \r\nL 85.476588 80.580019 \r\nL 87.183629 78.405619 \r\nL 87.650988 77.843612 \r\nL 89.046061 76.231219 \r\nL 89.825388 75.376794 \r\nL 91.083264 74.056819 \r\nL 91.999788 73.140295 \r\nL 93.319763 71.882419 \r\nL 94.174188 71.103093 \r\nL 95.786581 69.708019 \r\nL 96.348588 69.24066 \r\nL 98.522988 67.533619 \r\nL 100.697388 65.9744 \r\nL 101.614985 65.359219 \r\nL 102.871788 64.541972 \r\nL 105.046188 63.226854 \r\nL 105.120579 63.184819 \r\nL 107.220588 62.028094 \r\nL 109.232809 61.010419 \r\nL 109.394988 60.930202 \r\nL 111.569388 59.934685 \r\nL 113.743788 59.030911 \r\nL 114.259194 58.836019 \r\nL 115.918188 58.218756 \r\nL 118.092588 57.49267 \r\nL 120.266988 56.849563 \r\nL 120.989771 56.661619 \r\nL 122.441388 56.288113 \r\nL 124.615788 55.805524 \r\nL 126.790188 55.399849 \r\nL 128.964588 55.069789 \r\nL 131.138988 54.814246 \r\nL 133.313388 54.632351 \r\nL 135.487788 54.52347 \r\nL 137.662188 54.487219 \r\nL 139.836588 54.52347 \r\nL 142.010988 54.632351 \r\nL 144.185388 54.814246 \r\nL 146.359788 55.069789 \r\nL 148.534188 55.399849 \r\nL 150.708588 55.805524 \r\nL 152.882988 56.288113 \r\nL 154.334604 56.661619 \r\nL 155.057388 56.849563 \r\nL 157.231788 57.49267 \r\nL 159.406188 58.218756 \r\nL 161.065181 58.836019 \r\nL 161.580588 59.030911 \r\nL 163.754988 59.934685 \r\nL 165.929388 60.930202 \r\nL 166.091566 61.010419 \r\nL 168.103788 62.028094 \r\nL 170.203796 63.184819 \r\nL 170.278188 63.226854 \r\nL 172.452588 64.541972 \r\nL 173.70939 65.359219 \r\nL 174.626988 65.9744 \r\nL 176.801388 67.533619 \r\nL 176.801388 67.533619 \r\nL 178.975788 69.24066 \r\nL 179.537794 69.708019 \r\nL 181.150188 71.103093 \r\nL 182.004612 71.882419 \r\nL 183.324588 73.140295 \r\nL 184.241111 74.056819 \r\nL 185.498988 75.376794 \r\nL 186.278314 76.231219 \r\nL 187.673388 77.843612 \r\nL 188.140746 78.405619 \r\nL 189.847788 80.580019 \r\nL 189.847788 80.580019 \r\nL 191.407007 82.754419 \r\nL 192.022188 83.672016 \r\nL 192.839434 84.928819 \r\nL 194.154553 87.103219 \r\nL 194.196588 87.17761 \r\nL 195.353312 89.277619 \r\nL 196.370988 91.289841 \r\nL 196.451205 91.452019 \r\nL 197.446722 93.626419 \r\nL 198.350496 95.800819 \r\nL 198.545388 96.316225 \r\nL 199.16265 97.975219 \r\nL 199.888736 100.149619 \r\nL 200.531843 102.324019 \r\nL 200.719788 103.046803 \r\nL 201.093293 104.498419 \r\nL 201.575883 106.672819 \r\nL 201.981557 108.847219 \r\nL 202.311618 111.021619 \r\nL 202.56716 113.196019 \r\nL 202.749056 115.370419 \r\nL 202.857937 117.544819 \r\nL 202.894188 119.719219 \r\nL 202.857937 121.893619 \r\nL 202.749056 124.068019 \r\nL 202.56716 126.242419 \r\nL 202.311618 128.416819 \r\nL 201.981557 130.591219 \r\nL 201.575883 132.765619 \r\nL 201.093293 134.940019 \r\nL 200.719788 136.391635 \r\nL 200.531843 137.114419 \r\nL 199.888736 139.288819 \r\nL 199.16265 141.463219 \r\nL 198.545388 143.122213 \r\nL 198.350496 143.637619 \r\nL 197.446722 145.812019 \r\nL 196.451205 147.986419 \r\nL 196.370988 148.148597 \r\nL 195.353312 150.160819 \r\nL 194.196588 152.260827 \r\nL 194.154553 152.335219 \r\nL 192.839434 154.509619 \r\nL 192.022188 155.766422 \r\nL 191.407007 156.684019 \r\nL 189.847788 158.858419 \r\nL 188.140746 161.032819 \r\nL 187.673388 161.594825 \r\nL 186.278314 163.207219 \r\nL 185.498988 164.061644 \r\nL 184.241111 165.381619 \r\nL 183.324588 166.298142 \r\nL 182.004612 167.556019 \r\nL 181.150188 168.335345 \r\nL 179.537794 169.730419 \r\nL 178.975788 170.197777 \r\nL 176.801388 171.904819 \r\nL 176.801388 171.904819 \r\nL 174.626988 173.464038 \r\nL 173.70939 174.079219 \r\nL 172.452588 174.896465 \r\nL 170.278188 176.211584 \r\nL 170.203796 176.253619 \r\nL 168.103788 177.410344 \r\nL 166.091566 178.428019 \r\nL 165.929388 178.508236 \r\nL 163.754988 179.503753 \r\nL 161.580588 180.407527 \r\nL 161.065181 180.602419 \r\nL 159.406188 181.219681 \r\nL 157.231788 181.945767 \r\nL 155.057388 182.588874 \r\nL 154.334604 182.776819 \r\nL 152.882988 183.150325 \r\nL 150.708588 183.632914 \r\nL 148.534188 184.038588 \r\nL 146.359788 184.368649 \r\nL 144.185388 184.624192 \r\nL 142.010988 184.806087 \r\nL 139.836588 184.914968 \r\nL 137.662188 184.951219 \r\nz\r\n\" style=\"fill:#26828e;\"/>\r\n   </g>\r\n   <g id=\"PathCollection_5\">\r\n    <path clip-path=\"url(#p1723efebb4)\" d=\"M 118.092588 226.663347 \r\nL 120.266988 227.038452 \r\nL 122.441388 227.368383 \r\nL 124.615788 227.653523 \r\nL 126.790188 227.894211 \r\nL 128.964588 228.090737 \r\nL 131.138988 228.24334 \r\nL 133.313388 228.352207 \r\nL 135.487788 228.417472 \r\nL 137.662188 228.439219 \r\nL 139.836588 228.417472 \r\nL 142.010988 228.352207 \r\nL 144.185388 228.24334 \r\nL 146.359788 228.090737 \r\nL 148.534188 227.894211 \r\nL 150.708588 227.653523 \r\nL 152.882988 227.368383 \r\nL 155.057388 227.038452 \r\nL 157.231788 226.663347 \r\nL 159.291952 226.264819 \r\nL 159.406188 226.24262 \r\nL 161.580588 225.775375 \r\nL 163.754988 225.261326 \r\nL 165.929388 224.699883 \r\nL 168.103788 224.090419 \r\nL 170.278188 223.431052 \r\nL 172.452588 222.721908 \r\nL 174.626988 221.962218 \r\nL 174.751648 221.916019 \r\nL 176.801388 221.1491 \r\nL 178.975788 220.283121 \r\nL 180.260179 219.741619 \r\nL 181.150188 219.362191 \r\nL 183.324588 218.384252 \r\nL 185.045432 217.567219 \r\nL 185.498988 217.349107 \r\nL 187.673388 216.252529 \r\nL 189.294569 215.392819 \r\nL 189.847788 215.095165 \r\nL 192.022188 213.87219 \r\nL 193.133477 213.218419 \r\nL 194.196588 212.58274 \r\nL 196.370988 211.224474 \r\nL 196.649052 211.044019 \r\nL 198.545388 209.79093 \r\nL 199.883487 208.869619 \r\nL 200.719788 208.282539 \r\nL 202.894188 206.695219 \r\nL 205.068588 205.019261 \r\nL 205.692633 204.520819 \r\nL 207.242988 203.254127 \r\nL 208.316994 202.346419 \r\nL 209.417388 201.393705 \r\nL 210.783858 200.172019 \r\nL 211.591788 199.430944 \r\nL 213.107599 197.997619 \r\nL 213.766188 197.357712 \r\nL 215.30068 195.823219 \r\nL 215.940587 195.16463 \r\nL 217.373913 193.648819 \r\nL 218.114988 192.840889 \r\nL 219.336674 191.474419 \r\nL 220.289388 190.374025 \r\nL 221.197096 189.300019 \r\nL 222.463788 187.749664 \r\nL 222.96223 187.125619 \r\nL 224.638188 184.951219 \r\nL 226.225507 182.776819 \r\nL 226.812588 181.940518 \r\nL 227.733899 180.602419 \r\nL 228.986988 178.706084 \r\nL 229.167443 178.428019 \r\nL 230.525709 176.253619 \r\nL 231.161388 175.190508 \r\nL 231.815159 174.079219 \r\nL 233.038134 171.904819 \r\nL 233.335788 171.3516 \r\nL 234.195498 169.730419 \r\nL 235.292076 167.556019 \r\nL 235.510188 167.102463 \r\nL 236.327221 165.381619 \r\nL 237.30516 163.207219 \r\nL 237.684588 162.31721 \r\nL 238.226089 161.032819 \r\nL 239.092068 158.858419 \r\nL 239.858988 156.808679 \r\nL 239.905186 156.684019 \r\nL 240.664877 154.509619 \r\nL 241.374021 152.335219 \r\nL 242.033388 150.160819 \r\nL 242.033388 150.160819 \r\nL 242.642852 147.986419 \r\nL 243.204295 145.812019 \r\nL 243.718343 143.637619 \r\nL 244.185588 141.463219 \r\nL 244.207788 141.348983 \r\nL 244.606315 139.288819 \r\nL 244.981421 137.114419 \r\nL 245.311351 134.940019 \r\nL 245.596492 132.765619 \r\nL 245.83718 130.591219 \r\nL 246.033706 128.416819 \r\nL 246.186309 126.242419 \r\nL 246.295175 124.068019 \r\nL 246.360441 121.893619 \r\nL 246.382188 119.719219 \r\nL 246.360441 117.544819 \r\nL 246.295175 115.370419 \r\nL 246.186309 113.196019 \r\nL 246.033706 111.021619 \r\nL 245.83718 108.847219 \r\nL 245.596492 106.672819 \r\nL 245.311351 104.498419 \r\nL 244.981421 102.324019 \r\nL 244.606315 100.149619 \r\nL 244.207788 98.089455 \r\nL 244.185588 97.975219 \r\nL 243.718343 95.800819 \r\nL 243.204295 93.626419 \r\nL 242.642852 91.452019 \r\nL 242.033388 89.277619 \r\nL 242.033388 89.277619 \r\nL 241.374021 87.103219 \r\nL 240.664877 84.928819 \r\nL 239.905186 82.754419 \r\nL 239.858988 82.629759 \r\nL 239.092068 80.580019 \r\nL 238.226089 78.405619 \r\nL 237.684588 77.121227 \r\nL 237.30516 76.231219 \r\nL 236.327221 74.056819 \r\nL 235.510188 72.335974 \r\nL 235.292076 71.882419 \r\nL 234.195498 69.708019 \r\nL 233.335788 68.086837 \r\nL 233.038134 67.533619 \r\nL 231.815159 65.359219 \r\nL 231.161388 64.247929 \r\nL 230.525709 63.184819 \r\nL 229.167443 61.010419 \r\nL 228.986988 60.732354 \r\nL 227.733899 58.836019 \r\nL 226.812588 57.49792 \r\nL 226.225507 56.661619 \r\nL 224.638188 54.487219 \r\nL 222.96223 52.312819 \r\nL 222.463788 51.688773 \r\nL 221.197096 50.138419 \r\nL 220.289388 49.064413 \r\nL 219.336674 47.964019 \r\nL 218.114988 46.597548 \r\nL 217.373913 45.789619 \r\nL 215.940587 44.273807 \r\nL 215.30068 43.615219 \r\nL 213.766188 42.080726 \r\nL 213.107599 41.440819 \r\nL 211.591788 40.007494 \r\nL 210.783858 39.266419 \r\nL 209.417388 38.044733 \r\nL 208.316994 37.092019 \r\nL 207.242988 36.184311 \r\nL 205.692633 34.917619 \r\nL 205.068588 34.419176 \r\nL 202.894188 32.743219 \r\nL 200.719788 31.155899 \r\nL 199.883487 30.568819 \r\nL 198.545388 29.647507 \r\nL 196.649052 28.394419 \r\nL 196.370988 28.213964 \r\nL 194.196588 26.855697 \r\nL 193.133477 26.220019 \r\nL 192.022188 25.566248 \r\nL 189.847788 24.343272 \r\nL 189.294569 24.045619 \r\nL 187.673388 23.185909 \r\nL 185.498988 22.08933 \r\nL 185.045432 21.871219 \r\nL 183.324588 21.054185 \r\nL 181.150188 20.076246 \r\nL 180.260179 19.696819 \r\nL 178.975788 19.155317 \r\nL 176.801388 18.289338 \r\nL 174.751648 17.522419 \r\nL 174.626988 17.47622 \r\nL 172.452588 16.716529 \r\nL 170.278188 16.007386 \r\nL 168.103788 15.348019 \r\nL 168.103787 15.348019 \r\nL 165.929388 14.738554 \r\nL 163.754988 14.177112 \r\nL 161.580588 13.663063 \r\nL 159.406188 13.195818 \r\nL 159.291952 13.173619 \r\nL 157.231788 12.775091 \r\nL 155.057388 12.399985 \r\nL 152.882988 12.070055 \r\nL 150.708588 11.784914 \r\nL 148.534188 11.544226 \r\nL 146.359788 11.3477 \r\nL 144.185388 11.195098 \r\nL 142.010988 11.086231 \r\nL 139.836588 11.020965 \r\nL 137.662188 10.999219 \r\nL 135.487788 11.020965 \r\nL 133.313388 11.086231 \r\nL 131.138988 11.195098 \r\nL 128.964588 11.3477 \r\nL 126.790188 11.544226 \r\nL 124.615788 11.784914 \r\nL 122.441388 12.070055 \r\nL 120.266988 12.399985 \r\nL 118.092588 12.775091 \r\nL 116.032423 13.173619 \r\nL 115.918188 13.195818 \r\nL 113.743788 13.663063 \r\nL 111.569388 14.177112 \r\nL 109.394988 14.738554 \r\nL 107.220588 15.348019 \r\nL 107.220588 15.348019 \r\nL 105.046188 16.007386 \r\nL 102.871788 16.716529 \r\nL 100.697388 17.47622 \r\nL 100.572727 17.522419 \r\nL 98.522988 18.289338 \r\nL 96.348588 19.155317 \r\nL 95.064196 19.696819 \r\nL 94.174188 20.076246 \r\nL 91.999788 21.054185 \r\nL 90.278943 21.871219 \r\nL 89.825388 22.08933 \r\nL 87.650988 23.185909 \r\nL 86.029806 24.045619 \r\nL 85.476588 24.343272 \r\nL 83.302188 25.566248 \r\nL 82.190898 26.220019 \r\nL 81.127788 26.855697 \r\nL 78.953388 28.213964 \r\nL 78.675323 28.394419 \r\nL 76.778988 29.647507 \r\nL 75.440888 30.568819 \r\nL 74.604588 31.155899 \r\nL 72.430188 32.743219 \r\nL 70.255788 34.419176 \r\nL 69.631742 34.917619 \r\nL 68.081388 36.184311 \r\nL 67.007381 37.092019 \r\nL 65.906988 38.044733 \r\nL 64.540517 39.266419 \r\nL 63.732588 40.007494 \r\nL 62.216776 41.440819 \r\nL 61.558188 42.080726 \r\nL 60.023695 43.615219 \r\nL 59.383788 44.273807 \r\nL 57.950462 45.789619 \r\nL 57.209388 46.597548 \r\nL 55.987701 47.964019 \r\nL 55.034988 49.064413 \r\nL 54.127279 50.138419 \r\nL 52.860588 51.688773 \r\nL 52.362145 52.312819 \r\nL 50.686188 54.487219 \r\nL 49.098868 56.661619 \r\nL 48.511788 57.49792 \r\nL 47.590476 58.836019 \r\nL 46.337388 60.732354 \r\nL 46.156932 61.010419 \r\nL 44.798666 63.184819 \r\nL 44.162988 64.247929 \r\nL 43.509216 65.359219 \r\nL 42.286241 67.533619 \r\nL 41.988588 68.086837 \r\nL 41.128877 69.708019 \r\nL 40.032299 71.882419 \r\nL 39.814188 72.335974 \r\nL 38.997154 74.056819 \r\nL 38.019215 76.231219 \r\nL 37.639788 77.121227 \r\nL 37.098286 78.405619 \r\nL 36.232307 80.580019 \r\nL 35.465388 82.629759 \r\nL 35.419189 82.754419 \r\nL 34.659498 84.928819 \r\nL 33.950354 87.103219 \r\nL 33.290988 89.277619 \r\nL 32.681523 91.452019 \r\nL 32.12008 93.626419 \r\nL 31.606032 95.800819 \r\nL 31.138787 97.975219 \r\nL 31.116588 98.089455 \r\nL 30.71806 100.149619 \r\nL 30.342954 102.324019 \r\nL 30.013024 104.498419 \r\nL 29.727883 106.672819 \r\nL 29.487195 108.847219 \r\nL 29.290669 111.021619 \r\nL 29.138066 113.196019 \r\nL 29.0292 115.370419 \r\nL 28.963934 117.544819 \r\nL 28.942188 119.719219 \r\nL 28.963934 121.893619 \r\nL 29.0292 124.068019 \r\nL 29.138066 126.242419 \r\nL 29.290669 128.416819 \r\nL 29.487195 130.591219 \r\nL 29.727883 132.765619 \r\nL 30.013024 134.940019 \r\nL 30.342954 137.114419 \r\nL 30.71806 139.288819 \r\nL 31.116588 141.348983 \r\nL 31.138787 141.463219 \r\nL 31.606032 143.637619 \r\nL 32.12008 145.812019 \r\nL 32.681523 147.986419 \r\nL 33.290988 150.160819 \r\nL 33.950354 152.335219 \r\nL 34.659498 154.509619 \r\nL 35.419189 156.684019 \r\nL 35.465388 156.808679 \r\nL 36.232307 158.858419 \r\nL 37.098286 161.032819 \r\nL 37.639788 162.31721 \r\nL 38.019215 163.207219 \r\nL 38.997154 165.381619 \r\nL 39.814188 167.102463 \r\nL 40.032299 167.556019 \r\nL 41.128877 169.730419 \r\nL 41.988588 171.3516 \r\nL 42.286241 171.904819 \r\nL 43.509216 174.079219 \r\nL 44.162988 175.190508 \r\nL 44.798666 176.253619 \r\nL 46.156932 178.428019 \r\nL 46.337388 178.706084 \r\nL 47.590476 180.602419 \r\nL 48.511788 181.940518 \r\nL 49.098868 182.776819 \r\nL 50.686188 184.951219 \r\nL 52.362145 187.125619 \r\nL 52.860588 187.749664 \r\nL 54.127279 189.300019 \r\nL 55.034988 190.374025 \r\nL 55.987701 191.474419 \r\nL 57.209388 192.840889 \r\nL 57.950462 193.648819 \r\nL 59.383788 195.16463 \r\nL 60.023695 195.823219 \r\nL 61.558188 197.357712 \r\nL 62.216776 197.997619 \r\nL 63.732588 199.430944 \r\nL 64.540517 200.172019 \r\nL 65.906988 201.393705 \r\nL 67.007381 202.346419 \r\nL 68.081388 203.254127 \r\nL 69.631742 204.520819 \r\nL 70.255788 205.019261 \r\nL 72.430188 206.695219 \r\nL 74.604588 208.282539 \r\nL 75.440888 208.869619 \r\nL 76.778988 209.79093 \r\nL 78.675323 211.044019 \r\nL 78.953388 211.224474 \r\nL 81.127788 212.58274 \r\nL 82.190898 213.218419 \r\nL 83.302188 213.87219 \r\nL 85.476588 215.095165 \r\nL 86.029806 215.392819 \r\nL 87.650988 216.252529 \r\nL 89.825388 217.349107 \r\nL 90.278943 217.567219 \r\nL 91.999788 218.384252 \r\nL 94.174188 219.362191 \r\nL 95.064196 219.741619 \r\nL 96.348588 220.283121 \r\nL 98.522988 221.1491 \r\nL 100.572727 221.916019 \r\nL 100.697388 221.962218 \r\nL 102.871788 222.721908 \r\nL 105.046188 223.431052 \r\nL 107.220588 224.090419 \r\nL 109.394988 224.699883 \r\nL 111.569388 225.261326 \r\nL 113.743788 225.775375 \r\nL 115.918188 226.24262 \r\nL 116.032423 226.264819 \r\nz\r\nM 137.662188 206.695219 \r\nL 135.487788 206.668034 \r\nL 133.313388 206.586427 \r\nL 131.138988 206.450238 \r\nL 128.964588 206.259202 \r\nL 126.790188 206.01295 \r\nL 124.615788 205.711018 \r\nL 122.441388 205.352844 \r\nL 120.266988 204.937777 \r\nL 118.347798 204.520819 \r\nL 118.092588 204.46501 \r\nL 115.918188 203.933019 \r\nL 113.743788 203.341262 \r\nL 111.569388 202.6887 \r\nL 110.523556 202.346419 \r\nL 109.394988 201.973203 \r\nL 107.220588 201.193076 \r\nL 105.046188 200.347828 \r\nL 104.623697 200.172019 \r\nL 102.871788 199.432967 \r\nL 100.697388 198.448436 \r\nL 99.762592 197.997619 \r\nL 98.522988 197.390017 \r\nL 96.348588 196.255767 \r\nL 95.56499 195.823219 \r\nL 94.174188 195.040826 \r\nL 91.999788 193.744323 \r\nL 91.847142 193.648819 \r\nL 89.825388 192.356135 \r\nL 88.517073 191.474419 \r\nL 87.650988 190.87672 \r\nL 85.476588 189.300019 \r\nL 83.302188 187.612498 \r\nL 82.701855 187.125619 \r\nL 81.127788 185.811657 \r\nL 80.138695 184.951219 \r\nL 78.953388 183.887457 \r\nL 77.762714 182.776819 \r\nL 76.778988 181.827908 \r\nL 75.553498 180.602419 \r\nL 74.604588 179.618692 \r\nL 73.493949 178.428019 \r\nL 72.430188 177.242711 \r\nL 71.56975 176.253619 \r\nL 70.255788 174.679551 \r\nL 69.768908 174.079219 \r\nL 68.081388 171.904819 \r\nL 66.504687 169.730419 \r\nL 65.906988 168.864333 \r\nL 65.025271 167.556019 \r\nL 63.732588 165.534264 \r\nL 63.637083 165.381619 \r\nL 62.340581 163.207219 \r\nL 61.558188 161.816416 \r\nL 61.125639 161.032819 \r\nL 59.991389 158.858419 \r\nL 59.383788 157.618814 \r\nL 58.93297 156.684019 \r\nL 57.948439 154.509619 \r\nL 57.209388 152.757709 \r\nL 57.033578 152.335219 \r\nL 56.18833 150.160819 \r\nL 55.408204 147.986419 \r\nL 55.034988 146.85785 \r\nL 54.692706 145.812019 \r\nL 54.040144 143.637619 \r\nL 53.448388 141.463219 \r\nL 52.916396 139.288819 \r\nL 52.860588 139.033608 \r\nL 52.443629 137.114419 \r\nL 52.028562 134.940019 \r\nL 51.670388 132.765619 \r\nL 51.368456 130.591219 \r\nL 51.122205 128.416819 \r\nL 50.931168 126.242419 \r\nL 50.794979 124.068019 \r\nL 50.713372 121.893619 \r\nL 50.686188 119.719219 \r\nL 50.713372 117.544819 \r\nL 50.794979 115.370419 \r\nL 50.931168 113.196019 \r\nL 51.122205 111.021619 \r\nL 51.368456 108.847219 \r\nL 51.670388 106.672819 \r\nL 52.028562 104.498419 \r\nL 52.443629 102.324019 \r\nL 52.860588 100.40483 \r\nL 52.916396 100.149619 \r\nL 53.448388 97.975219 \r\nL 54.040144 95.800819 \r\nL 54.692706 93.626419 \r\nL 55.034988 92.580587 \r\nL 55.408204 91.452019 \r\nL 56.18833 89.277619 \r\nL 57.033578 87.103219 \r\nL 57.209388 86.680728 \r\nL 57.948439 84.928819 \r\nL 58.93297 82.754419 \r\nL 59.383788 81.819623 \r\nL 59.991389 80.580019 \r\nL 61.125639 78.405619 \r\nL 61.558188 77.622021 \r\nL 62.340581 76.231219 \r\nL 63.637083 74.056819 \r\nL 63.732588 73.904174 \r\nL 65.025271 71.882419 \r\nL 65.906988 70.574104 \r\nL 66.504687 69.708019 \r\nL 68.081388 67.533619 \r\nL 69.768908 65.359219 \r\nL 70.255788 64.758886 \r\nL 71.56975 63.184819 \r\nL 72.430188 62.195726 \r\nL 73.493949 61.010419 \r\nL 74.604588 59.819746 \r\nL 75.553498 58.836019 \r\nL 76.778988 57.610529 \r\nL 77.762714 56.661619 \r\nL 78.953388 55.550981 \r\nL 80.138695 54.487219 \r\nL 81.127788 53.626781 \r\nL 82.701855 52.312819 \r\nL 83.302188 51.825939 \r\nL 85.476588 50.138419 \r\nL 85.476588 50.138419 \r\nL 87.650988 48.561718 \r\nL 88.517073 47.964019 \r\nL 89.825388 47.082302 \r\nL 91.847142 45.789619 \r\nL 91.999788 45.694114 \r\nL 94.174188 44.397612 \r\nL 95.56499 43.615219 \r\nL 96.348588 43.18267 \r\nL 98.522988 42.048421 \r\nL 99.762592 41.440819 \r\nL 100.697388 40.990002 \r\nL 102.871788 40.005471 \r\nL 104.623697 39.266419 \r\nL 105.046188 39.090609 \r\nL 107.220588 38.245361 \r\nL 109.394988 37.465235 \r\nL 110.523556 37.092019 \r\nL 111.569388 36.749737 \r\nL 113.743788 36.097175 \r\nL 115.918188 35.505419 \r\nL 118.092588 34.973427 \r\nL 118.347798 34.917619 \r\nL 120.266988 34.50066 \r\nL 122.441388 34.085593 \r\nL 124.615788 33.727419 \r\nL 126.790188 33.425487 \r\nL 128.964588 33.179236 \r\nL 131.138988 32.988199 \r\nL 133.313388 32.85201 \r\nL 135.487788 32.770403 \r\nL 137.662188 32.743219 \r\nL 139.836588 32.770403 \r\nL 142.010988 32.85201 \r\nL 144.185388 32.988199 \r\nL 146.359788 33.179236 \r\nL 148.534188 33.425487 \r\nL 150.708588 33.727419 \r\nL 152.882988 34.085593 \r\nL 155.057388 34.50066 \r\nL 156.976577 34.917619 \r\nL 157.231788 34.973427 \r\nL 159.406188 35.505419 \r\nL 161.580588 36.097175 \r\nL 163.754988 36.749737 \r\nL 164.800819 37.092019 \r\nL 165.929388 37.465235 \r\nL 168.103788 38.245361 \r\nL 170.278188 39.090609 \r\nL 170.700678 39.266419 \r\nL 172.452588 40.005471 \r\nL 174.626988 40.990002 \r\nL 175.561783 41.440819 \r\nL 176.801388 42.048421 \r\nL 178.975788 43.18267 \r\nL 179.759385 43.615219 \r\nL 181.150188 44.397612 \r\nL 183.324588 45.694114 \r\nL 183.477233 45.789619 \r\nL 185.498988 47.082302 \r\nL 186.807302 47.964019 \r\nL 187.673388 48.561718 \r\nL 189.847787 50.138419 \r\nL 189.847788 50.138419 \r\nL 192.022188 51.825939 \r\nL 192.62252 52.312819 \r\nL 194.196588 53.626781 \r\nL 195.18568 54.487219 \r\nL 196.370988 55.550981 \r\nL 197.561661 56.661619 \r\nL 198.545388 57.610529 \r\nL 199.770877 58.836019 \r\nL 200.719788 59.819746 \r\nL 201.830426 61.010419 \r\nL 202.894188 62.195726 \r\nL 203.754625 63.184819 \r\nL 205.068588 64.758886 \r\nL 205.555467 65.359219 \r\nL 207.242988 67.533619 \r\nL 207.242988 67.533619 \r\nL 208.819688 69.708019 \r\nL 209.417388 70.574104 \r\nL 210.299104 71.882419 \r\nL 211.591788 73.904174 \r\nL 211.687292 74.056819 \r\nL 212.983794 76.231219 \r\nL 213.766188 77.622021 \r\nL 214.198736 78.405619 \r\nL 215.332986 80.580019 \r\nL 215.940587 81.819623 \r\nL 216.391405 82.754419 \r\nL 217.375936 84.928819 \r\nL 218.114988 86.680728 \r\nL 218.290797 87.103219 \r\nL 219.136045 89.277619 \r\nL 219.916171 91.452019 \r\nL 220.289388 92.580587 \r\nL 220.631669 93.626419 \r\nL 221.284231 95.800819 \r\nL 221.875987 97.975219 \r\nL 222.407979 100.149619 \r\nL 222.463788 100.40483 \r\nL 222.880746 102.324019 \r\nL 223.295813 104.498419 \r\nL 223.653987 106.672819 \r\nL 223.955919 108.847219 \r\nL 224.20217 111.021619 \r\nL 224.393207 113.196019 \r\nL 224.529396 115.370419 \r\nL 224.611003 117.544819 \r\nL 224.638188 119.719219 \r\nL 224.611003 121.893619 \r\nL 224.529396 124.068019 \r\nL 224.393207 126.242419 \r\nL 224.20217 128.416819 \r\nL 223.955919 130.591219 \r\nL 223.653987 132.765619 \r\nL 223.295813 134.940019 \r\nL 222.880746 137.114419 \r\nL 222.463788 139.033608 \r\nL 222.407979 139.288819 \r\nL 221.875987 141.463219 \r\nL 221.284231 143.637619 \r\nL 220.631669 145.812019 \r\nL 220.289388 146.85785 \r\nL 219.916171 147.986419 \r\nL 219.136045 150.160819 \r\nL 218.290797 152.335219 \r\nL 218.114988 152.757709 \r\nL 217.375936 154.509619 \r\nL 216.391405 156.684019 \r\nL 215.940587 157.618814 \r\nL 215.332986 158.858419 \r\nL 214.198736 161.032819 \r\nL 213.766188 161.816416 \r\nL 212.983794 163.207219 \r\nL 211.687292 165.381619 \r\nL 211.591788 165.534264 \r\nL 210.299104 167.556019 \r\nL 209.417388 168.864333 \r\nL 208.819688 169.730419 \r\nL 207.242988 171.904819 \r\nL 207.242988 171.904819 \r\nL 205.555467 174.079219 \r\nL 205.068588 174.679551 \r\nL 203.754625 176.253619 \r\nL 202.894188 177.242711 \r\nL 201.830426 178.428019 \r\nL 200.719788 179.618692 \r\nL 199.770877 180.602419 \r\nL 198.545388 181.827908 \r\nL 197.561661 182.776819 \r\nL 196.370988 183.887457 \r\nL 195.18568 184.951219 \r\nL 194.196588 185.811657 \r\nL 192.62252 187.125619 \r\nL 192.022188 187.612498 \r\nL 189.847788 189.300019 \r\nL 187.673388 190.87672 \r\nL 186.807302 191.474419 \r\nL 185.498988 192.356135 \r\nL 183.477233 193.648819 \r\nL 183.324588 193.744323 \r\nL 181.150188 195.040826 \r\nL 179.759385 195.823219 \r\nL 178.975788 196.255767 \r\nL 176.801388 197.390017 \r\nL 175.561783 197.997619 \r\nL 174.626988 198.448436 \r\nL 172.452588 199.432967 \r\nL 170.700678 200.172019 \r\nL 170.278188 200.347828 \r\nL 168.103788 201.193076 \r\nL 165.929388 201.973203 \r\nL 164.800819 202.346419 \r\nL 163.754988 202.6887 \r\nL 161.580588 203.341262 \r\nL 159.406188 203.933019 \r\nL 157.231788 204.46501 \r\nL 156.976577 204.520819 \r\nL 155.057388 204.937777 \r\nL 152.882988 205.352844 \r\nL 150.708588 205.711018 \r\nL 148.534188 206.01295 \r\nL 146.359788 206.259202 \r\nL 144.185388 206.450238 \r\nL 142.010988 206.586427 \r\nL 139.836588 206.668034 \r\nL 137.662188 206.695219 \r\nz\r\n\" style=\"fill:#1fa088;\"/>\r\n   </g>\r\n   <g id=\"PathCollection_6\">\r\n    <path clip-path=\"url(#p1723efebb4)\" d=\"M 63.732588 227.212925 \r\nL 65.548612 228.439219 \r\nL 65.906988 228.439219 \r\nL 68.081388 228.439219 \r\nL 70.255788 228.439219 \r\nL 72.430188 228.439219 \r\nL 74.604588 228.439219 \r\nL 76.778988 228.439219 \r\nL 78.953388 228.439219 \r\nL 81.127788 228.439219 \r\nL 83.302188 228.439219 \r\nL 85.476588 228.439219 \r\nL 87.650988 228.439219 \r\nL 89.825388 228.439219 \r\nL 91.999788 228.439219 \r\nL 94.174188 228.439219 \r\nL 96.348588 228.439219 \r\nL 98.522988 228.439219 \r\nL 100.697388 228.439219 \r\nL 102.871788 228.439219 \r\nL 105.046188 228.439219 \r\nL 107.220588 228.439219 \r\nL 109.394988 228.439219 \r\nL 111.569388 228.439219 \r\nL 113.743788 228.439219 \r\nL 115.918188 228.439219 \r\nL 118.092588 228.439219 \r\nL 120.266988 228.439219 \r\nL 122.441388 228.439219 \r\nL 124.615788 228.439219 \r\nL 126.790188 228.439219 \r\nL 128.964588 228.439219 \r\nL 131.138988 228.439219 \r\nL 133.313388 228.439219 \r\nL 135.487788 228.439219 \r\nL 137.662188 228.439219 \r\nL 135.487788 228.417472 \r\nL 133.313388 228.352207 \r\nL 131.138988 228.24334 \r\nL 128.964588 228.090737 \r\nL 126.790188 227.894211 \r\nL 124.615788 227.653523 \r\nL 122.441388 227.368383 \r\nL 120.266988 227.038452 \r\nL 118.092588 226.663347 \r\nL 116.032423 226.264819 \r\nL 115.918188 226.24262 \r\nL 113.743788 225.775375 \r\nL 111.569388 225.261326 \r\nL 109.394988 224.699883 \r\nL 107.220588 224.090419 \r\nL 105.046188 223.431052 \r\nL 102.871788 222.721908 \r\nL 100.697388 221.962218 \r\nL 100.572727 221.916019 \r\nL 98.522988 221.1491 \r\nL 96.348588 220.283121 \r\nL 95.064196 219.741619 \r\nL 94.174188 219.362191 \r\nL 91.999788 218.384252 \r\nL 90.278943 217.567219 \r\nL 89.825388 217.349107 \r\nL 87.650988 216.252529 \r\nL 86.029806 215.392819 \r\nL 85.476588 215.095165 \r\nL 83.302188 213.87219 \r\nL 82.190898 213.218419 \r\nL 81.127788 212.58274 \r\nL 78.953388 211.224474 \r\nL 78.675323 211.044019 \r\nL 76.778988 209.79093 \r\nL 75.440888 208.869619 \r\nL 74.604588 208.282539 \r\nL 72.430188 206.695219 \r\nL 70.255788 205.019261 \r\nL 69.631742 204.520819 \r\nL 68.081388 203.254127 \r\nL 67.007381 202.346419 \r\nL 65.906988 201.393705 \r\nL 64.540517 200.172019 \r\nL 63.732588 199.430944 \r\nL 62.216776 197.997619 \r\nL 61.558188 197.357712 \r\nL 60.023695 195.823219 \r\nL 59.383788 195.16463 \r\nL 57.950462 193.648819 \r\nL 57.209388 192.840889 \r\nL 55.987701 191.474419 \r\nL 55.034988 190.374025 \r\nL 54.127279 189.300019 \r\nL 52.860588 187.749664 \r\nL 52.362145 187.125619 \r\nL 50.686188 184.951219 \r\nL 49.098868 182.776819 \r\nL 48.511788 181.940518 \r\nL 47.590476 180.602419 \r\nL 46.337388 178.706084 \r\nL 46.156932 178.428019 \r\nL 44.798666 176.253619 \r\nL 44.162988 175.190508 \r\nL 43.509216 174.079219 \r\nL 42.286241 171.904819 \r\nL 41.988588 171.3516 \r\nL 41.128877 169.730419 \r\nL 40.032299 167.556019 \r\nL 39.814188 167.102463 \r\nL 38.997154 165.381619 \r\nL 38.019215 163.207219 \r\nL 37.639788 162.31721 \r\nL 37.098286 161.032819 \r\nL 36.232307 158.858419 \r\nL 35.465388 156.808679 \r\nL 35.419189 156.684019 \r\nL 34.659498 154.509619 \r\nL 33.950354 152.335219 \r\nL 33.290988 150.160819 \r\nL 32.681523 147.986419 \r\nL 32.12008 145.812019 \r\nL 31.606032 143.637619 \r\nL 31.138787 141.463219 \r\nL 31.116588 141.348983 \r\nL 30.71806 139.288819 \r\nL 30.342954 137.114419 \r\nL 30.013024 134.940019 \r\nL 29.727883 132.765619 \r\nL 29.487195 130.591219 \r\nL 29.290669 128.416819 \r\nL 29.138066 126.242419 \r\nL 29.0292 124.068019 \r\nL 28.963934 121.893619 \r\nL 28.942188 119.719219 \r\nL 28.942188 121.893619 \r\nL 28.942188 124.068019 \r\nL 28.942188 126.242419 \r\nL 28.942188 128.416819 \r\nL 28.942188 130.591219 \r\nL 28.942188 132.765619 \r\nL 28.942188 134.940019 \r\nL 28.942188 137.114419 \r\nL 28.942188 139.288819 \r\nL 28.942188 141.463219 \r\nL 28.942188 143.637619 \r\nL 28.942188 145.812019 \r\nL 28.942188 147.986419 \r\nL 28.942188 150.160819 \r\nL 28.942188 152.335219 \r\nL 28.942188 154.509619 \r\nL 28.942188 156.684019 \r\nL 28.942188 158.858419 \r\nL 28.942188 161.032819 \r\nL 28.942188 163.207219 \r\nL 28.942188 165.381619 \r\nL 28.942188 167.556019 \r\nL 28.942188 169.730419 \r\nL 28.942188 171.904819 \r\nL 28.942188 174.079219 \r\nL 28.942188 176.253619 \r\nL 28.942188 178.428019 \r\nL 28.942188 180.602419 \r\nL 28.942188 182.776819 \r\nL 28.942188 184.951219 \r\nL 28.942188 187.125619 \r\nL 28.942188 189.300019 \r\nL 28.942188 191.474419 \r\nL 28.942188 191.832794 \r\nL 30.168482 193.648819 \r\nL 31.116588 195.006329 \r\nL 31.696534 195.823219 \r\nL 33.290988 197.997619 \r\nL 34.959298 200.172019 \r\nL 35.465388 200.812185 \r\nL 36.701123 202.346419 \r\nL 37.639788 203.47888 \r\nL 38.520565 204.520819 \r\nL 39.814188 206.009703 \r\nL 40.422252 206.695219 \r\nL 41.988588 208.415298 \r\nL 42.411397 208.869619 \r\nL 44.162988 210.705112 \r\nL 44.493873 211.044019 \r\nL 46.337388 212.887533 \r\nL 46.676294 213.218419 \r\nL 48.511788 214.970009 \r\nL 48.966108 215.392819 \r\nL 50.686188 216.959154 \r\nL 51.371703 217.567219 \r\nL 52.860588 218.860841 \r\nL 53.902526 219.741619 \r\nL 55.034988 220.680284 \r\nL 56.569221 221.916019 \r\nL 57.209388 222.422108 \r\nL 59.383788 224.090419 \r\nL 61.558188 225.684873 \r\nL 62.375077 226.264819 \r\nz\r\n\" style=\"fill:#3fbc73;\"/>\r\n    <path clip-path=\"url(#p1723efebb4)\" d=\"M 139.836588 228.439219 \r\nL 142.010988 228.439219 \r\nL 144.185388 228.439219 \r\nL 146.359788 228.439219 \r\nL 148.534188 228.439219 \r\nL 150.708588 228.439219 \r\nL 152.882988 228.439219 \r\nL 155.057388 228.439219 \r\nL 157.231788 228.439219 \r\nL 159.406188 228.439219 \r\nL 161.580588 228.439219 \r\nL 163.754988 228.439219 \r\nL 165.929388 228.439219 \r\nL 168.103788 228.439219 \r\nL 170.278188 228.439219 \r\nL 172.452588 228.439219 \r\nL 174.626988 228.439219 \r\nL 176.801388 228.439219 \r\nL 178.975788 228.439219 \r\nL 181.150188 228.439219 \r\nL 183.324588 228.439219 \r\nL 185.498988 228.439219 \r\nL 187.673388 228.439219 \r\nL 189.847788 228.439219 \r\nL 192.022188 228.439219 \r\nL 194.196588 228.439219 \r\nL 196.370988 228.439219 \r\nL 198.545388 228.439219 \r\nL 200.719788 228.439219 \r\nL 202.894188 228.439219 \r\nL 205.068588 228.439219 \r\nL 207.242988 228.439219 \r\nL 209.417388 228.439219 \r\nL 209.775763 228.439219 \r\nL 211.591788 227.212925 \r\nL 212.949298 226.264819 \r\nL 213.766188 225.684873 \r\nL 215.940587 224.090419 \r\nL 218.114988 222.422108 \r\nL 218.755154 221.916019 \r\nL 220.289388 220.680284 \r\nL 221.421849 219.741619 \r\nL 222.463788 218.860841 \r\nL 223.952672 217.567219 \r\nL 224.638188 216.959154 \r\nL 226.358267 215.392819 \r\nL 226.812588 214.970009 \r\nL 228.648081 213.218419 \r\nL 228.986988 212.887533 \r\nL 230.830502 211.044019 \r\nL 231.161388 210.705112 \r\nL 232.912978 208.869619 \r\nL 233.335788 208.415298 \r\nL 234.902123 206.695219 \r\nL 235.510188 206.009703 \r\nL 236.80381 204.520819 \r\nL 237.684588 203.47888 \r\nL 238.623252 202.346419 \r\nL 239.858988 200.812185 \r\nL 240.365077 200.172019 \r\nL 242.033388 197.997619 \r\nL 243.627841 195.823219 \r\nL 244.207788 195.006329 \r\nL 245.155893 193.648819 \r\nL 246.382188 191.832794 \r\nL 246.382188 191.474419 \r\nL 246.382188 189.300019 \r\nL 246.382188 187.125619 \r\nL 246.382188 184.951219 \r\nL 246.382188 182.776819 \r\nL 246.382188 180.602419 \r\nL 246.382188 178.428019 \r\nL 246.382188 176.253619 \r\nL 246.382188 174.079219 \r\nL 246.382188 171.904819 \r\nL 246.382188 169.730419 \r\nL 246.382188 167.556019 \r\nL 246.382188 165.381619 \r\nL 246.382188 163.207219 \r\nL 246.382188 161.032819 \r\nL 246.382188 158.858419 \r\nL 246.382188 156.684019 \r\nL 246.382188 154.509619 \r\nL 246.382188 152.335219 \r\nL 246.382188 150.160819 \r\nL 246.382188 147.986419 \r\nL 246.382188 145.812019 \r\nL 246.382188 143.637619 \r\nL 246.382188 141.463219 \r\nL 246.382188 139.288819 \r\nL 246.382188 137.114419 \r\nL 246.382188 134.940019 \r\nL 246.382188 132.765619 \r\nL 246.382188 130.591219 \r\nL 246.382188 128.416819 \r\nL 246.382188 126.242419 \r\nL 246.382188 124.068019 \r\nL 246.382188 121.893619 \r\nL 246.382188 119.719219 \r\nL 246.360441 121.893619 \r\nL 246.295175 124.068019 \r\nL 246.186309 126.242419 \r\nL 246.033706 128.416819 \r\nL 245.83718 130.591219 \r\nL 245.596492 132.765619 \r\nL 245.311351 134.940019 \r\nL 244.981421 137.114419 \r\nL 244.606315 139.288819 \r\nL 244.207788 141.348983 \r\nL 244.185588 141.463219 \r\nL 243.718343 143.637619 \r\nL 243.204295 145.812019 \r\nL 242.642852 147.986419 \r\nL 242.033388 150.160819 \r\nL 242.033388 150.160819 \r\nL 241.374021 152.335219 \r\nL 240.664877 154.509619 \r\nL 239.905186 156.684019 \r\nL 239.858988 156.808679 \r\nL 239.092068 158.858419 \r\nL 238.226089 161.032819 \r\nL 237.684588 162.31721 \r\nL 237.30516 163.207219 \r\nL 236.327221 165.381619 \r\nL 235.510188 167.102463 \r\nL 235.292076 167.556019 \r\nL 234.195498 169.730419 \r\nL 233.335788 171.3516 \r\nL 233.038134 171.904819 \r\nL 231.815159 174.079219 \r\nL 231.161388 175.190508 \r\nL 230.525709 176.253619 \r\nL 229.167443 178.428019 \r\nL 228.986988 178.706084 \r\nL 227.733899 180.602419 \r\nL 226.812588 181.940518 \r\nL 226.225507 182.776819 \r\nL 224.638188 184.951219 \r\nL 222.96223 187.125619 \r\nL 222.463788 187.749664 \r\nL 221.197096 189.300019 \r\nL 220.289388 190.374025 \r\nL 219.336674 191.474419 \r\nL 218.114988 192.840889 \r\nL 217.373913 193.648819 \r\nL 215.940587 195.16463 \r\nL 215.30068 195.823219 \r\nL 213.766188 197.357712 \r\nL 213.107599 197.997619 \r\nL 211.591788 199.430944 \r\nL 210.783858 200.172019 \r\nL 209.417388 201.393705 \r\nL 208.316994 202.346419 \r\nL 207.242988 203.254127 \r\nL 205.692633 204.520819 \r\nL 205.068588 205.019261 \r\nL 202.894188 206.695219 \r\nL 200.719788 208.282539 \r\nL 199.883487 208.869619 \r\nL 198.545388 209.79093 \r\nL 196.649052 211.044019 \r\nL 196.370988 211.224474 \r\nL 194.196588 212.58274 \r\nL 193.133477 213.218419 \r\nL 192.022188 213.87219 \r\nL 189.847788 215.095165 \r\nL 189.294569 215.392819 \r\nL 187.673388 216.252529 \r\nL 185.498988 217.349107 \r\nL 185.045432 217.567219 \r\nL 183.324588 218.384252 \r\nL 181.150188 219.362191 \r\nL 180.260179 219.741619 \r\nL 178.975788 220.283121 \r\nL 176.801388 221.1491 \r\nL 174.751648 221.916019 \r\nL 174.626988 221.962218 \r\nL 172.452588 222.721908 \r\nL 170.278188 223.431052 \r\nL 168.103788 224.090419 \r\nL 165.929388 224.699883 \r\nL 163.754988 225.261326 \r\nL 161.580588 225.775375 \r\nL 159.406188 226.24262 \r\nL 159.291952 226.264819 \r\nL 157.231788 226.663347 \r\nL 155.057388 227.038452 \r\nL 152.882988 227.368383 \r\nL 150.708588 227.653523 \r\nL 148.534188 227.894211 \r\nL 146.359788 228.090737 \r\nL 144.185388 228.24334 \r\nL 142.010988 228.352207 \r\nL 139.836588 228.417472 \r\nL 137.662188 228.439219 \r\nz\r\n\" style=\"fill:#3fbc73;\"/>\r\n    <path clip-path=\"url(#p1723efebb4)\" d=\"M 28.963934 117.544819 \r\nL 29.0292 115.370419 \r\nL 29.138066 113.196019 \r\nL 29.290669 111.021619 \r\nL 29.487195 108.847219 \r\nL 29.727883 106.672819 \r\nL 30.013024 104.498419 \r\nL 30.342954 102.324019 \r\nL 30.71806 100.149619 \r\nL 31.116588 98.089455 \r\nL 31.138787 97.975219 \r\nL 31.606032 95.800819 \r\nL 32.12008 93.626419 \r\nL 32.681523 91.452019 \r\nL 33.290988 89.277619 \r\nL 33.950354 87.103219 \r\nL 34.659498 84.928819 \r\nL 35.419189 82.754419 \r\nL 35.465388 82.629759 \r\nL 36.232307 80.580019 \r\nL 37.098286 78.405619 \r\nL 37.639788 77.121227 \r\nL 38.019215 76.231219 \r\nL 38.997154 74.056819 \r\nL 39.814188 72.335974 \r\nL 40.032299 71.882419 \r\nL 41.128877 69.708019 \r\nL 41.988588 68.086837 \r\nL 42.286241 67.533619 \r\nL 43.509216 65.359219 \r\nL 44.162988 64.247929 \r\nL 44.798666 63.184819 \r\nL 46.156932 61.010419 \r\nL 46.337388 60.732354 \r\nL 47.590476 58.836019 \r\nL 48.511788 57.49792 \r\nL 49.098868 56.661619 \r\nL 50.686188 54.487219 \r\nL 52.362145 52.312819 \r\nL 52.860588 51.688773 \r\nL 54.127279 50.138419 \r\nL 55.034988 49.064413 \r\nL 55.987701 47.964019 \r\nL 57.209388 46.597548 \r\nL 57.950462 45.789619 \r\nL 59.383788 44.273807 \r\nL 60.023695 43.615219 \r\nL 61.558188 42.080726 \r\nL 62.216776 41.440819 \r\nL 63.732588 40.007494 \r\nL 64.540517 39.266419 \r\nL 65.906988 38.044733 \r\nL 67.007381 37.092019 \r\nL 68.081388 36.184311 \r\nL 69.631742 34.917619 \r\nL 70.255788 34.419176 \r\nL 72.430188 32.743219 \r\nL 74.604588 31.155899 \r\nL 75.440888 30.568819 \r\nL 76.778988 29.647507 \r\nL 78.675323 28.394419 \r\nL 78.953388 28.213964 \r\nL 81.127788 26.855697 \r\nL 82.190898 26.220019 \r\nL 83.302188 25.566248 \r\nL 85.476588 24.343272 \r\nL 86.029806 24.045619 \r\nL 87.650988 23.185909 \r\nL 89.825388 22.08933 \r\nL 90.278943 21.871219 \r\nL 91.999788 21.054185 \r\nL 94.174188 20.076246 \r\nL 95.064196 19.696819 \r\nL 96.348588 19.155317 \r\nL 98.522988 18.289338 \r\nL 100.572727 17.522419 \r\nL 100.697388 17.47622 \r\nL 102.871788 16.716529 \r\nL 105.046188 16.007386 \r\nL 107.220588 15.348019 \r\nL 107.220588 15.348019 \r\nL 109.394988 14.738554 \r\nL 111.569388 14.177112 \r\nL 113.743788 13.663063 \r\nL 115.918188 13.195818 \r\nL 116.032423 13.173619 \r\nL 118.092588 12.775091 \r\nL 120.266988 12.399985 \r\nL 122.441388 12.070055 \r\nL 124.615788 11.784914 \r\nL 126.790188 11.544226 \r\nL 128.964588 11.3477 \r\nL 131.138988 11.195098 \r\nL 133.313388 11.086231 \r\nL 135.487788 11.020965 \r\nL 137.662188 10.999219 \r\nL 135.487788 10.999219 \r\nL 133.313388 10.999219 \r\nL 131.138988 10.999219 \r\nL 128.964588 10.999219 \r\nL 126.790188 10.999219 \r\nL 124.615788 10.999219 \r\nL 122.441388 10.999219 \r\nL 120.266988 10.999219 \r\nL 118.092588 10.999219 \r\nL 115.918188 10.999219 \r\nL 113.743788 10.999219 \r\nL 111.569388 10.999219 \r\nL 109.394988 10.999219 \r\nL 107.220588 10.999219 \r\nL 105.046188 10.999219 \r\nL 102.871788 10.999219 \r\nL 100.697388 10.999219 \r\nL 98.522988 10.999219 \r\nL 96.348588 10.999219 \r\nL 94.174188 10.999219 \r\nL 91.999788 10.999219 \r\nL 89.825388 10.999219 \r\nL 87.650988 10.999219 \r\nL 85.476588 10.999219 \r\nL 83.302188 10.999219 \r\nL 81.127788 10.999219 \r\nL 78.953388 10.999219 \r\nL 76.778988 10.999219 \r\nL 74.604588 10.999219 \r\nL 72.430188 10.999219 \r\nL 70.255788 10.999219 \r\nL 68.081388 10.999219 \r\nL 65.906988 10.999219 \r\nL 65.548612 10.999219 \r\nL 63.732588 12.225513 \r\nL 62.375077 13.173619 \r\nL 61.558188 13.753565 \r\nL 59.383788 15.348019 \r\nL 57.209388 17.01633 \r\nL 56.569221 17.522419 \r\nL 55.034988 18.758154 \r\nL 53.902526 19.696819 \r\nL 52.860588 20.577596 \r\nL 51.371703 21.871219 \r\nL 50.686188 22.479283 \r\nL 48.966108 24.045619 \r\nL 48.511788 24.468428 \r\nL 46.676294 26.220019 \r\nL 46.337388 26.550904 \r\nL 44.493873 28.394419 \r\nL 44.162988 28.733325 \r\nL 42.411397 30.568819 \r\nL 41.988588 31.023139 \r\nL 40.422252 32.743219 \r\nL 39.814188 33.428734 \r\nL 38.520565 34.917619 \r\nL 37.639788 35.959557 \r\nL 36.701123 37.092019 \r\nL 35.465388 38.626252 \r\nL 34.959298 39.266419 \r\nL 33.290988 41.440819 \r\nL 31.696534 43.615219 \r\nL 31.116588 44.432108 \r\nL 30.168482 45.789619 \r\nL 28.942188 47.605644 \r\nL 28.942188 47.964019 \r\nL 28.942188 50.138419 \r\nL 28.942188 52.312819 \r\nL 28.942188 54.487219 \r\nL 28.942188 56.661619 \r\nL 28.942188 58.836019 \r\nL 28.942188 61.010419 \r\nL 28.942188 63.184819 \r\nL 28.942188 65.359219 \r\nL 28.942188 67.533619 \r\nL 28.942188 69.708019 \r\nL 28.942188 71.882419 \r\nL 28.942188 74.056819 \r\nL 28.942188 76.231219 \r\nL 28.942188 78.405619 \r\nL 28.942188 80.580019 \r\nL 28.942188 82.754419 \r\nL 28.942188 84.928819 \r\nL 28.942188 87.103219 \r\nL 28.942188 89.277619 \r\nL 28.942188 91.452019 \r\nL 28.942188 93.626419 \r\nL 28.942188 95.800819 \r\nL 28.942188 97.975219 \r\nL 28.942188 100.149619 \r\nL 28.942188 102.324019 \r\nL 28.942188 104.498419 \r\nL 28.942188 106.672819 \r\nL 28.942188 108.847219 \r\nL 28.942188 111.021619 \r\nL 28.942188 113.196019 \r\nL 28.942188 115.370419 \r\nL 28.942188 117.544819 \r\nL 28.942188 119.719219 \r\nz\r\n\" style=\"fill:#3fbc73;\"/>\r\n    <path clip-path=\"url(#p1723efebb4)\" d=\"M 246.382188 119.719219 \r\nL 246.382188 117.544819 \r\nL 246.382188 115.370419 \r\nL 246.382188 113.196019 \r\nL 246.382188 111.021619 \r\nL 246.382188 108.847219 \r\nL 246.382188 106.672819 \r\nL 246.382188 104.498419 \r\nL 246.382188 102.324019 \r\nL 246.382188 100.149619 \r\nL 246.382188 97.975219 \r\nL 246.382188 95.800819 \r\nL 246.382188 93.626419 \r\nL 246.382188 91.452019 \r\nL 246.382188 89.277619 \r\nL 246.382188 87.103219 \r\nL 246.382188 84.928819 \r\nL 246.382188 82.754419 \r\nL 246.382188 80.580019 \r\nL 246.382188 78.405619 \r\nL 246.382188 76.231219 \r\nL 246.382188 74.056819 \r\nL 246.382188 71.882419 \r\nL 246.382188 69.708019 \r\nL 246.382188 67.533619 \r\nL 246.382188 65.359219 \r\nL 246.382188 63.184819 \r\nL 246.382188 61.010419 \r\nL 246.382188 58.836019 \r\nL 246.382188 56.661619 \r\nL 246.382188 54.487219 \r\nL 246.382188 52.312819 \r\nL 246.382188 50.138419 \r\nL 246.382188 47.964019 \r\nL 246.382188 47.605644 \r\nL 245.155893 45.789619 \r\nL 244.207788 44.432108 \r\nL 243.627841 43.615219 \r\nL 242.033388 41.440819 \r\nL 240.365077 39.266419 \r\nL 239.858988 38.626252 \r\nL 238.623252 37.092019 \r\nL 237.684588 35.959557 \r\nL 236.80381 34.917619 \r\nL 235.510188 33.428734 \r\nL 234.902123 32.743219 \r\nL 233.335788 31.023139 \r\nL 232.912978 30.568819 \r\nL 231.161388 28.733325 \r\nL 230.830502 28.394419 \r\nL 228.986988 26.550904 \r\nL 228.648081 26.220019 \r\nL 226.812588 24.468428 \r\nL 226.358267 24.045619 \r\nL 224.638188 22.479283 \r\nL 223.952672 21.871219 \r\nL 222.463788 20.577596 \r\nL 221.421849 19.696819 \r\nL 220.289388 18.758154 \r\nL 218.755154 17.522419 \r\nL 218.114988 17.01633 \r\nL 215.940587 15.348019 \r\nL 213.766188 13.753565 \r\nL 212.949298 13.173619 \r\nL 211.591788 12.225513 \r\nL 209.775763 10.999219 \r\nL 209.417388 10.999219 \r\nL 207.242988 10.999219 \r\nL 205.068588 10.999219 \r\nL 202.894188 10.999219 \r\nL 200.719788 10.999219 \r\nL 198.545388 10.999219 \r\nL 196.370988 10.999219 \r\nL 194.196588 10.999219 \r\nL 192.022188 10.999219 \r\nL 189.847788 10.999219 \r\nL 187.673388 10.999219 \r\nL 185.498988 10.999219 \r\nL 183.324588 10.999219 \r\nL 181.150188 10.999219 \r\nL 178.975788 10.999219 \r\nL 176.801388 10.999219 \r\nL 174.626988 10.999219 \r\nL 172.452588 10.999219 \r\nL 170.278188 10.999219 \r\nL 168.103788 10.999219 \r\nL 165.929388 10.999219 \r\nL 163.754988 10.999219 \r\nL 161.580588 10.999219 \r\nL 159.406188 10.999219 \r\nL 157.231788 10.999219 \r\nL 155.057388 10.999219 \r\nL 152.882988 10.999219 \r\nL 150.708588 10.999219 \r\nL 148.534188 10.999219 \r\nL 146.359788 10.999219 \r\nL 144.185388 10.999219 \r\nL 142.010988 10.999219 \r\nL 139.836588 10.999219 \r\nL 137.662188 10.999219 \r\nL 139.836588 11.020965 \r\nL 142.010988 11.086231 \r\nL 144.185388 11.195098 \r\nL 146.359788 11.3477 \r\nL 148.534188 11.544226 \r\nL 150.708588 11.784914 \r\nL 152.882988 12.070055 \r\nL 155.057388 12.399985 \r\nL 157.231788 12.775091 \r\nL 159.291952 13.173619 \r\nL 159.406188 13.195818 \r\nL 161.580588 13.663063 \r\nL 163.754988 14.177112 \r\nL 165.929388 14.738554 \r\nL 168.103787 15.348019 \r\nL 168.103788 15.348019 \r\nL 170.278188 16.007386 \r\nL 172.452588 16.716529 \r\nL 174.626988 17.47622 \r\nL 174.751648 17.522419 \r\nL 176.801388 18.289338 \r\nL 178.975788 19.155317 \r\nL 180.260179 19.696819 \r\nL 181.150188 20.076246 \r\nL 183.324588 21.054185 \r\nL 185.045432 21.871219 \r\nL 185.498988 22.08933 \r\nL 187.673388 23.185909 \r\nL 189.294569 24.045619 \r\nL 189.847788 24.343272 \r\nL 192.022188 25.566248 \r\nL 193.133477 26.220019 \r\nL 194.196588 26.855697 \r\nL 196.370988 28.213964 \r\nL 196.649052 28.394419 \r\nL 198.545388 29.647507 \r\nL 199.883487 30.568819 \r\nL 200.719788 31.155899 \r\nL 202.894188 32.743219 \r\nL 205.068588 34.419176 \r\nL 205.692633 34.917619 \r\nL 207.242988 36.184311 \r\nL 208.316994 37.092019 \r\nL 209.417388 38.044733 \r\nL 210.783858 39.266419 \r\nL 211.591788 40.007494 \r\nL 213.107599 41.440819 \r\nL 213.766188 42.080726 \r\nL 215.30068 43.615219 \r\nL 215.940587 44.273807 \r\nL 217.373913 45.789619 \r\nL 218.114988 46.597548 \r\nL 219.336674 47.964019 \r\nL 220.289388 49.064413 \r\nL 221.197096 50.138419 \r\nL 222.463788 51.688773 \r\nL 222.96223 52.312819 \r\nL 224.638188 54.487219 \r\nL 226.225507 56.661619 \r\nL 226.812588 57.49792 \r\nL 227.733899 58.836019 \r\nL 228.986988 60.732354 \r\nL 229.167443 61.010419 \r\nL 230.525709 63.184819 \r\nL 231.161388 64.247929 \r\nL 231.815159 65.359219 \r\nL 233.038134 67.533619 \r\nL 233.335788 68.086837 \r\nL 234.195498 69.708019 \r\nL 235.292076 71.882419 \r\nL 235.510188 72.335974 \r\nL 236.327221 74.056819 \r\nL 237.30516 76.231219 \r\nL 237.684588 77.121227 \r\nL 238.226089 78.405619 \r\nL 239.092068 80.580019 \r\nL 239.858988 82.629759 \r\nL 239.905186 82.754419 \r\nL 240.664877 84.928819 \r\nL 241.374021 87.103219 \r\nL 242.033388 89.277619 \r\nL 242.033388 89.277619 \r\nL 242.642852 91.452019 \r\nL 243.204295 93.626419 \r\nL 243.718343 95.800819 \r\nL 244.185588 97.975219 \r\nL 244.207788 98.089455 \r\nL 244.606315 100.149619 \r\nL 244.981421 102.324019 \r\nL 245.311351 104.498419 \r\nL 245.596492 106.672819 \r\nL 245.83718 108.847219 \r\nL 246.033706 111.021619 \r\nL 246.186309 113.196019 \r\nL 246.295175 115.370419 \r\nL 246.360441 117.544819 \r\nz\r\n\" style=\"fill:#3fbc73;\"/>\r\n   </g>\r\n   <g id=\"PathCollection_7\">\r\n    <path clip-path=\"url(#p1723efebb4)\" d=\"M 31.116588 228.417365 \r\nL 31.138894 228.439219 \r\nL 33.290988 228.439219 \r\nL 35.465388 228.439219 \r\nL 37.639788 228.439219 \r\nL 39.814188 228.439219 \r\nL 41.988588 228.439219 \r\nL 44.162988 228.439219 \r\nL 46.337388 228.439219 \r\nL 48.511788 228.439219 \r\nL 50.686188 228.439219 \r\nL 52.860588 228.439219 \r\nL 55.034988 228.439219 \r\nL 57.209388 228.439219 \r\nL 59.383788 228.439219 \r\nL 61.558188 228.439219 \r\nL 63.732588 228.439219 \r\nL 65.548612 228.439219 \r\nL 63.732588 227.212925 \r\nL 62.375077 226.264819 \r\nL 61.558188 225.684873 \r\nL 59.383788 224.090419 \r\nL 57.209388 222.422108 \r\nL 56.569221 221.916019 \r\nL 55.034988 220.680284 \r\nL 53.902526 219.741619 \r\nL 52.860588 218.860841 \r\nL 51.371703 217.567219 \r\nL 50.686188 216.959154 \r\nL 48.966108 215.392819 \r\nL 48.511788 214.970009 \r\nL 46.676294 213.218419 \r\nL 46.337388 212.887533 \r\nL 44.493873 211.044019 \r\nL 44.162988 210.705112 \r\nL 42.411397 208.869619 \r\nL 41.988588 208.415298 \r\nL 40.422252 206.695219 \r\nL 39.814188 206.009703 \r\nL 38.520565 204.520819 \r\nL 37.639788 203.47888 \r\nL 36.701123 202.346419 \r\nL 35.465388 200.812185 \r\nL 34.959298 200.172019 \r\nL 33.290988 197.997619 \r\nL 31.696534 195.823219 \r\nL 31.116588 195.006329 \r\nL 30.168482 193.648819 \r\nL 28.942188 191.832794 \r\nL 28.942188 193.648819 \r\nL 28.942188 195.823219 \r\nL 28.942188 197.997619 \r\nL 28.942188 200.172019 \r\nL 28.942188 202.346419 \r\nL 28.942188 204.520819 \r\nL 28.942188 206.695219 \r\nL 28.942188 208.869619 \r\nL 28.942188 211.044019 \r\nL 28.942188 213.218419 \r\nL 28.942188 215.392819 \r\nL 28.942188 217.567219 \r\nL 28.942188 219.741619 \r\nL 28.942188 221.916019 \r\nL 28.942188 224.090419 \r\nL 28.942188 226.242513 \r\nL 28.964041 226.264819 \r\nz\r\n\" style=\"fill:#84d44b;\"/>\r\n    <path clip-path=\"url(#p1723efebb4)\" d=\"M 211.591788 228.439219 \r\nL 213.766188 228.439219 \r\nL 215.940587 228.439219 \r\nL 218.114988 228.439219 \r\nL 220.289388 228.439219 \r\nL 222.463788 228.439219 \r\nL 224.638188 228.439219 \r\nL 226.812588 228.439219 \r\nL 228.986988 228.439219 \r\nL 231.161388 228.439219 \r\nL 233.335788 228.439219 \r\nL 235.510188 228.439219 \r\nL 237.684588 228.439219 \r\nL 239.858988 228.439219 \r\nL 242.033388 228.439219 \r\nL 244.185481 228.439219 \r\nL 244.207788 228.417365 \r\nL 246.360334 226.264819 \r\nL 246.382188 226.242513 \r\nL 246.382188 224.090419 \r\nL 246.382188 221.916019 \r\nL 246.382188 219.741619 \r\nL 246.382188 217.567219 \r\nL 246.382188 215.392819 \r\nL 246.382188 213.218419 \r\nL 246.382188 211.044019 \r\nL 246.382188 208.869619 \r\nL 246.382188 206.695219 \r\nL 246.382188 204.520819 \r\nL 246.382188 202.346419 \r\nL 246.382188 200.172019 \r\nL 246.382188 197.997619 \r\nL 246.382188 195.823219 \r\nL 246.382188 193.648819 \r\nL 246.382188 191.832794 \r\nL 245.155893 193.648819 \r\nL 244.207788 195.006329 \r\nL 243.627841 195.823219 \r\nL 242.033388 197.997619 \r\nL 240.365077 200.172019 \r\nL 239.858988 200.812185 \r\nL 238.623252 202.346419 \r\nL 237.684588 203.47888 \r\nL 236.80381 204.520819 \r\nL 235.510188 206.009703 \r\nL 234.902123 206.695219 \r\nL 233.335788 208.415298 \r\nL 232.912978 208.869619 \r\nL 231.161388 210.705112 \r\nL 230.830502 211.044019 \r\nL 228.986988 212.887533 \r\nL 228.648081 213.218419 \r\nL 226.812588 214.970009 \r\nL 226.358267 215.392819 \r\nL 224.638188 216.959154 \r\nL 223.952672 217.567219 \r\nL 222.463788 218.860841 \r\nL 221.421849 219.741619 \r\nL 220.289388 220.680284 \r\nL 218.755154 221.916019 \r\nL 218.114988 222.422108 \r\nL 215.940587 224.090419 \r\nL 213.766188 225.684873 \r\nL 212.949298 226.264819 \r\nL 211.591788 227.212925 \r\nL 209.775763 228.439219 \r\nz\r\n\" style=\"fill:#84d44b;\"/>\r\n    <path clip-path=\"url(#p1723efebb4)\" d=\"M 30.168482 45.789619 \r\nL 31.116588 44.432108 \r\nL 31.696534 43.615219 \r\nL 33.290988 41.440819 \r\nL 34.959298 39.266419 \r\nL 35.465388 38.626252 \r\nL 36.701123 37.092019 \r\nL 37.639788 35.959557 \r\nL 38.520565 34.917619 \r\nL 39.814188 33.428734 \r\nL 40.422252 32.743219 \r\nL 41.988588 31.023139 \r\nL 42.411397 30.568819 \r\nL 44.162988 28.733325 \r\nL 44.493873 28.394419 \r\nL 46.337388 26.550904 \r\nL 46.676294 26.220019 \r\nL 48.511788 24.468428 \r\nL 48.966108 24.045619 \r\nL 50.686188 22.479283 \r\nL 51.371703 21.871219 \r\nL 52.860588 20.577596 \r\nL 53.902526 19.696819 \r\nL 55.034988 18.758154 \r\nL 56.569221 17.522419 \r\nL 57.209388 17.01633 \r\nL 59.383788 15.348019 \r\nL 61.558188 13.753565 \r\nL 62.375077 13.173619 \r\nL 63.732588 12.225513 \r\nL 65.548612 10.999219 \r\nL 63.732588 10.999219 \r\nL 61.558188 10.999219 \r\nL 59.383788 10.999219 \r\nL 57.209388 10.999219 \r\nL 55.034988 10.999219 \r\nL 52.860588 10.999219 \r\nL 50.686188 10.999219 \r\nL 48.511788 10.999219 \r\nL 46.337388 10.999219 \r\nL 44.162988 10.999219 \r\nL 41.988588 10.999219 \r\nL 39.814188 10.999219 \r\nL 37.639788 10.999219 \r\nL 35.465388 10.999219 \r\nL 33.290988 10.999219 \r\nL 31.138894 10.999219 \r\nL 31.116588 11.021072 \r\nL 28.964041 13.173619 \r\nL 28.942188 13.195925 \r\nL 28.942188 15.348019 \r\nL 28.942188 17.522419 \r\nL 28.942188 19.696819 \r\nL 28.942188 21.871219 \r\nL 28.942188 24.045619 \r\nL 28.942188 26.220019 \r\nL 28.942188 28.394419 \r\nL 28.942188 30.568819 \r\nL 28.942188 32.743219 \r\nL 28.942188 34.917619 \r\nL 28.942188 37.092019 \r\nL 28.942188 39.266419 \r\nL 28.942188 41.440819 \r\nL 28.942188 43.615219 \r\nL 28.942188 45.789619 \r\nL 28.942188 47.605644 \r\nz\r\n\" style=\"fill:#84d44b;\"/>\r\n    <path clip-path=\"url(#p1723efebb4)\" d=\"M 246.382188 47.605644 \r\nL 246.382188 45.789619 \r\nL 246.382188 43.615219 \r\nL 246.382188 41.440819 \r\nL 246.382188 39.266419 \r\nL 246.382188 37.092019 \r\nL 246.382188 34.917619 \r\nL 246.382188 32.743219 \r\nL 246.382188 30.568819 \r\nL 246.382188 28.394419 \r\nL 246.382188 26.220019 \r\nL 246.382188 24.045619 \r\nL 246.382188 21.871219 \r\nL 246.382188 19.696819 \r\nL 246.382188 17.522419 \r\nL 246.382188 15.348019 \r\nL 246.382188 13.195925 \r\nL 246.360334 13.173619 \r\nL 244.207788 11.021072 \r\nL 244.185481 10.999219 \r\nL 242.033388 10.999219 \r\nL 239.858988 10.999219 \r\nL 237.684588 10.999219 \r\nL 235.510188 10.999219 \r\nL 233.335788 10.999219 \r\nL 231.161388 10.999219 \r\nL 228.986988 10.999219 \r\nL 226.812588 10.999219 \r\nL 224.638188 10.999219 \r\nL 222.463788 10.999219 \r\nL 220.289388 10.999219 \r\nL 218.114988 10.999219 \r\nL 215.940587 10.999219 \r\nL 213.766188 10.999219 \r\nL 211.591788 10.999219 \r\nL 209.775763 10.999219 \r\nL 211.591788 12.225513 \r\nL 212.949298 13.173619 \r\nL 213.766188 13.753565 \r\nL 215.940587 15.348019 \r\nL 218.114988 17.01633 \r\nL 218.755154 17.522419 \r\nL 220.289388 18.758154 \r\nL 221.421849 19.696819 \r\nL 222.463788 20.577596 \r\nL 223.952672 21.871219 \r\nL 224.638188 22.479283 \r\nL 226.358267 24.045619 \r\nL 226.812588 24.468428 \r\nL 228.648081 26.220019 \r\nL 228.986988 26.550904 \r\nL 230.830502 28.394419 \r\nL 231.161388 28.733325 \r\nL 232.912978 30.568819 \r\nL 233.335788 31.023139 \r\nL 234.902123 32.743219 \r\nL 235.510188 33.428734 \r\nL 236.80381 34.917619 \r\nL 237.684588 35.959557 \r\nL 238.623252 37.092019 \r\nL 239.858988 38.626252 \r\nL 240.365077 39.266419 \r\nL 242.033388 41.440819 \r\nL 243.627841 43.615219 \r\nL 244.207788 44.432108 \r\nL 245.155893 45.789619 \r\nz\r\n\" style=\"fill:#84d44b;\"/>\r\n   </g>\r\n   <g id=\"PathCollection_8\">\r\n    <path clip-path=\"url(#p1723efebb4)\" d=\"M 31.116588 228.439219 \r\nL 31.138894 228.439219 \r\nL 31.116588 228.417365 \r\nL 28.964041 226.264819 \r\nL 28.942188 226.242513 \r\nL 28.942188 226.264819 \r\nL 28.942188 228.439219 \r\nz\r\n\" style=\"fill:#d8e219;\"/>\r\n    <path clip-path=\"url(#p1723efebb4)\" d=\"M 244.207788 228.439219 \r\nL 246.382188 228.439219 \r\nL 246.382188 226.264819 \r\nL 246.382188 226.242513 \r\nL 246.360334 226.264819 \r\nL 244.207788 228.417365 \r\nL 244.185481 228.439219 \r\nz\r\n\" style=\"fill:#d8e219;\"/>\r\n    <path clip-path=\"url(#p1723efebb4)\" d=\"M 28.964041 13.173619 \r\nL 31.116588 11.021072 \r\nL 31.138894 10.999219 \r\nL 31.116588 10.999219 \r\nL 28.942188 10.999219 \r\nL 28.942188 13.173619 \r\nL 28.942188 13.195925 \r\nz\r\n\" style=\"fill:#d8e219;\"/>\r\n    <path clip-path=\"url(#p1723efebb4)\" d=\"M 246.382188 13.195925 \r\nL 246.382188 13.173619 \r\nL 246.382188 10.999219 \r\nL 244.207788 10.999219 \r\nL 244.185481 10.999219 \r\nL 244.207788 11.021072 \r\nL 246.360334 13.173619 \r\nz\r\n\" style=\"fill:#d8e219;\"/>\r\n   </g>\r\n   <g id=\"matplotlib.axis_1\">\r\n    <g id=\"xtick_1\">\r\n     <g id=\"line2d_1\">\r\n      <defs>\r\n       <path d=\"M 0 0 \r\nL 0 3.5 \r\n\" id=\"m7ac61b4a64\" style=\"stroke:#000000;stroke-width:0.8;\"/>\r\n      </defs>\r\n      <g>\r\n       <use style=\"stroke:#000000;stroke-width:0.8;\" x=\"50.686188\" xlink:href=\"#m7ac61b4a64\" y=\"228.439219\"/>\r\n      </g>\r\n     </g>\r\n     <g id=\"text_1\">\r\n      <!-- −4 -->\r\n      <g transform=\"translate(43.315094 243.037656)scale(0.1 -0.1)\">\r\n       <defs>\r\n        <path d=\"M 10.59375 35.5 \r\nL 73.1875 35.5 \r\nL 73.1875 27.203125 \r\nL 10.59375 27.203125 \r\nz\r\n\" id=\"DejaVuSans-8722\"/>\r\n        <path d=\"M 37.796875 64.3125 \r\nL 12.890625 25.390625 \r\nL 37.796875 25.390625 \r\nz\r\nM 35.203125 72.90625 \r\nL 47.609375 72.90625 \r\nL 47.609375 25.390625 \r\nL 58.015625 25.390625 \r\nL 58.015625 17.1875 \r\nL 47.609375 17.1875 \r\nL 47.609375 0 \r\nL 37.796875 0 \r\nL 37.796875 17.1875 \r\nL 4.890625 17.1875 \r\nL 4.890625 26.703125 \r\nz\r\n\" id=\"DejaVuSans-52\"/>\r\n       </defs>\r\n       <use xlink:href=\"#DejaVuSans-8722\"/>\r\n       <use x=\"83.789062\" xlink:href=\"#DejaVuSans-52\"/>\r\n      </g>\r\n     </g>\r\n    </g>\r\n    <g id=\"xtick_2\">\r\n     <g id=\"line2d_2\">\r\n      <g>\r\n       <use style=\"stroke:#000000;stroke-width:0.8;\" x=\"94.174188\" xlink:href=\"#m7ac61b4a64\" y=\"228.439219\"/>\r\n      </g>\r\n     </g>\r\n     <g id=\"text_2\">\r\n      <!-- −2 -->\r\n      <g transform=\"translate(86.803094 243.037656)scale(0.1 -0.1)\">\r\n       <defs>\r\n        <path d=\"M 19.1875 8.296875 \r\nL 53.609375 8.296875 \r\nL 53.609375 0 \r\nL 7.328125 0 \r\nL 7.328125 8.296875 \r\nQ 12.9375 14.109375 22.625 23.890625 \r\nQ 32.328125 33.6875 34.8125 36.53125 \r\nQ 39.546875 41.84375 41.421875 45.53125 \r\nQ 43.3125 49.21875 43.3125 52.78125 \r\nQ 43.3125 58.59375 39.234375 62.25 \r\nQ 35.15625 65.921875 28.609375 65.921875 \r\nQ 23.96875 65.921875 18.8125 64.3125 \r\nQ 13.671875 62.703125 7.8125 59.421875 \r\nL 7.8125 69.390625 \r\nQ 13.765625 71.78125 18.9375 73 \r\nQ 24.125 74.21875 28.421875 74.21875 \r\nQ 39.75 74.21875 46.484375 68.546875 \r\nQ 53.21875 62.890625 53.21875 53.421875 \r\nQ 53.21875 48.921875 51.53125 44.890625 \r\nQ 49.859375 40.875 45.40625 35.40625 \r\nQ 44.1875 33.984375 37.640625 27.21875 \r\nQ 31.109375 20.453125 19.1875 8.296875 \r\nz\r\n\" id=\"DejaVuSans-50\"/>\r\n       </defs>\r\n       <use xlink:href=\"#DejaVuSans-8722\"/>\r\n       <use x=\"83.789062\" xlink:href=\"#DejaVuSans-50\"/>\r\n      </g>\r\n     </g>\r\n    </g>\r\n    <g id=\"xtick_3\">\r\n     <g id=\"line2d_3\">\r\n      <g>\r\n       <use style=\"stroke:#000000;stroke-width:0.8;\" x=\"137.662188\" xlink:href=\"#m7ac61b4a64\" y=\"228.439219\"/>\r\n      </g>\r\n     </g>\r\n     <g id=\"text_3\">\r\n      <!-- 0 -->\r\n      <g transform=\"translate(134.480938 243.037656)scale(0.1 -0.1)\">\r\n       <defs>\r\n        <path d=\"M 31.78125 66.40625 \r\nQ 24.171875 66.40625 20.328125 58.90625 \r\nQ 16.5 51.421875 16.5 36.375 \r\nQ 16.5 21.390625 20.328125 13.890625 \r\nQ 24.171875 6.390625 31.78125 6.390625 \r\nQ 39.453125 6.390625 43.28125 13.890625 \r\nQ 47.125 21.390625 47.125 36.375 \r\nQ 47.125 51.421875 43.28125 58.90625 \r\nQ 39.453125 66.40625 31.78125 66.40625 \r\nz\r\nM 31.78125 74.21875 \r\nQ 44.046875 74.21875 50.515625 64.515625 \r\nQ 56.984375 54.828125 56.984375 36.375 \r\nQ 56.984375 17.96875 50.515625 8.265625 \r\nQ 44.046875 -1.421875 31.78125 -1.421875 \r\nQ 19.53125 -1.421875 13.0625 8.265625 \r\nQ 6.59375 17.96875 6.59375 36.375 \r\nQ 6.59375 54.828125 13.0625 64.515625 \r\nQ 19.53125 74.21875 31.78125 74.21875 \r\nz\r\n\" id=\"DejaVuSans-48\"/>\r\n       </defs>\r\n       <use xlink:href=\"#DejaVuSans-48\"/>\r\n      </g>\r\n     </g>\r\n    </g>\r\n    <g id=\"xtick_4\">\r\n     <g id=\"line2d_4\">\r\n      <g>\r\n       <use style=\"stroke:#000000;stroke-width:0.8;\" x=\"181.150188\" xlink:href=\"#m7ac61b4a64\" y=\"228.439219\"/>\r\n      </g>\r\n     </g>\r\n     <g id=\"text_4\">\r\n      <!-- 2 -->\r\n      <g transform=\"translate(177.968938 243.037656)scale(0.1 -0.1)\">\r\n       <use xlink:href=\"#DejaVuSans-50\"/>\r\n      </g>\r\n     </g>\r\n    </g>\r\n    <g id=\"xtick_5\">\r\n     <g id=\"line2d_5\">\r\n      <g>\r\n       <use style=\"stroke:#000000;stroke-width:0.8;\" x=\"224.638188\" xlink:href=\"#m7ac61b4a64\" y=\"228.439219\"/>\r\n      </g>\r\n     </g>\r\n     <g id=\"text_5\">\r\n      <!-- 4 -->\r\n      <g transform=\"translate(221.456938 243.037656)scale(0.1 -0.1)\">\r\n       <use xlink:href=\"#DejaVuSans-52\"/>\r\n      </g>\r\n     </g>\r\n    </g>\r\n   </g>\r\n   <g id=\"matplotlib.axis_2\">\r\n    <g id=\"ytick_1\">\r\n     <g id=\"line2d_6\">\r\n      <defs>\r\n       <path d=\"M 0 0 \r\nL -3.5 0 \r\n\" id=\"ma0fba974d9\" style=\"stroke:#000000;stroke-width:0.8;\"/>\r\n      </defs>\r\n      <g>\r\n       <use style=\"stroke:#000000;stroke-width:0.8;\" x=\"28.942188\" xlink:href=\"#ma0fba974d9\" y=\"206.695219\"/>\r\n      </g>\r\n     </g>\r\n     <g id=\"text_6\">\r\n      <!-- −4 -->\r\n      <g transform=\"translate(7.2 210.494437)scale(0.1 -0.1)\">\r\n       <use xlink:href=\"#DejaVuSans-8722\"/>\r\n       <use x=\"83.789062\" xlink:href=\"#DejaVuSans-52\"/>\r\n      </g>\r\n     </g>\r\n    </g>\r\n    <g id=\"ytick_2\">\r\n     <g id=\"line2d_7\">\r\n      <g>\r\n       <use style=\"stroke:#000000;stroke-width:0.8;\" x=\"28.942188\" xlink:href=\"#ma0fba974d9\" y=\"163.207219\"/>\r\n      </g>\r\n     </g>\r\n     <g id=\"text_7\">\r\n      <!-- −2 -->\r\n      <g transform=\"translate(7.2 167.006437)scale(0.1 -0.1)\">\r\n       <use xlink:href=\"#DejaVuSans-8722\"/>\r\n       <use x=\"83.789062\" xlink:href=\"#DejaVuSans-50\"/>\r\n      </g>\r\n     </g>\r\n    </g>\r\n    <g id=\"ytick_3\">\r\n     <g id=\"line2d_8\">\r\n      <g>\r\n       <use style=\"stroke:#000000;stroke-width:0.8;\" x=\"28.942188\" xlink:href=\"#ma0fba974d9\" y=\"119.719219\"/>\r\n      </g>\r\n     </g>\r\n     <g id=\"text_8\">\r\n      <!-- 0 -->\r\n      <g transform=\"translate(15.579688 123.518437)scale(0.1 -0.1)\">\r\n       <use xlink:href=\"#DejaVuSans-48\"/>\r\n      </g>\r\n     </g>\r\n    </g>\r\n    <g id=\"ytick_4\">\r\n     <g id=\"line2d_9\">\r\n      <g>\r\n       <use style=\"stroke:#000000;stroke-width:0.8;\" x=\"28.942188\" xlink:href=\"#ma0fba974d9\" y=\"76.231219\"/>\r\n      </g>\r\n     </g>\r\n     <g id=\"text_9\">\r\n      <!-- 2 -->\r\n      <g transform=\"translate(15.579688 80.030437)scale(0.1 -0.1)\">\r\n       <use xlink:href=\"#DejaVuSans-50\"/>\r\n      </g>\r\n     </g>\r\n    </g>\r\n    <g id=\"ytick_5\">\r\n     <g id=\"line2d_10\">\r\n      <g>\r\n       <use style=\"stroke:#000000;stroke-width:0.8;\" x=\"28.942188\" xlink:href=\"#ma0fba974d9\" y=\"32.743219\"/>\r\n      </g>\r\n     </g>\r\n     <g id=\"text_10\">\r\n      <!-- 4 -->\r\n      <g transform=\"translate(15.579688 36.542437)scale(0.1 -0.1)\">\r\n       <use xlink:href=\"#DejaVuSans-52\"/>\r\n      </g>\r\n     </g>\r\n    </g>\r\n   </g>\r\n   <g id=\"patch_3\">\r\n    <path d=\"M 28.942188 228.439219 \r\nL 28.942188 10.999219 \r\n\" style=\"fill:none;stroke:#000000;stroke-linecap:square;stroke-linejoin:miter;stroke-width:0.8;\"/>\r\n   </g>\r\n   <g id=\"patch_4\">\r\n    <path d=\"M 246.382187 228.439219 \r\nL 246.382187 10.999219 \r\n\" style=\"fill:none;stroke:#000000;stroke-linecap:square;stroke-linejoin:miter;stroke-width:0.8;\"/>\r\n   </g>\r\n   <g id=\"patch_5\">\r\n    <path d=\"M 28.942188 228.439219 \r\nL 246.382188 228.439219 \r\n\" style=\"fill:none;stroke:#000000;stroke-linecap:square;stroke-linejoin:miter;stroke-width:0.8;\"/>\r\n   </g>\r\n   <g id=\"patch_6\">\r\n    <path d=\"M 28.942188 10.999219 \r\nL 246.382188 10.999219 \r\n\" style=\"fill:none;stroke:#000000;stroke-linecap:square;stroke-linejoin:miter;stroke-width:0.8;\"/>\r\n   </g>\r\n  </g>\r\n  <g id=\"axes_2\">\r\n   <g id=\"patch_7\">\r\n    <path clip-path=\"url(#p5b9a1a4fde)\" d=\"M 263.122188 228.439219 \r\nL 263.122188 201.259219 \r\nL 263.122188 38.179219 \r\nL 263.122188 10.999219 \r\nL 273.994188 10.999219 \r\nL 273.994188 38.179219 \r\nL 273.994188 201.259219 \r\nL 273.994188 228.439219 \r\nz\r\n\" style=\"fill:#ffffff;stroke:#ffffff;stroke-linejoin:miter;stroke-width:0.01;\"/>\r\n   </g>\r\n   <g id=\"QuadMesh_1\">\r\n    <path clip-path=\"url(#p5b9a1a4fde)\" d=\"M 263.122188 228.439219 \r\nL 273.994188 228.439219 \r\nL 273.994188 201.259219 \r\nL 263.122188 201.259219 \r\nL 263.122188 228.439219 \r\n\" style=\"fill:#48186a;\"/>\r\n    <path clip-path=\"url(#p5b9a1a4fde)\" d=\"M 263.122188 201.259219 \r\nL 273.994188 201.259219 \r\nL 273.994188 174.079219 \r\nL 263.122188 174.079219 \r\nL 263.122188 201.259219 \r\n\" style=\"fill:#424086;\"/>\r\n    <path clip-path=\"url(#p5b9a1a4fde)\" d=\"M 263.122188 174.079219 \r\nL 273.994188 174.079219 \r\nL 273.994188 146.899219 \r\nL 263.122188 146.899219 \r\nL 263.122188 174.079219 \r\n\" style=\"fill:#33638d;\"/>\r\n    <path clip-path=\"url(#p5b9a1a4fde)\" d=\"M 263.122188 146.899219 \r\nL 273.994188 146.899219 \r\nL 273.994188 119.719219 \r\nL 263.122188 119.719219 \r\nL 263.122188 146.899219 \r\n\" style=\"fill:#26828e;\"/>\r\n    <path clip-path=\"url(#p5b9a1a4fde)\" d=\"M 263.122188 119.719219 \r\nL 273.994188 119.719219 \r\nL 273.994188 92.539219 \r\nL 263.122188 92.539219 \r\nL 263.122188 119.719219 \r\n\" style=\"fill:#1fa088;\"/>\r\n    <path clip-path=\"url(#p5b9a1a4fde)\" d=\"M 263.122188 92.539219 \r\nL 273.994188 92.539219 \r\nL 273.994188 65.359219 \r\nL 263.122188 65.359219 \r\nL 263.122188 92.539219 \r\n\" style=\"fill:#3fbc73;\"/>\r\n    <path clip-path=\"url(#p5b9a1a4fde)\" d=\"M 263.122188 65.359219 \r\nL 273.994188 65.359219 \r\nL 273.994188 38.179219 \r\nL 263.122188 38.179219 \r\nL 263.122188 65.359219 \r\n\" style=\"fill:#84d44b;\"/>\r\n    <path clip-path=\"url(#p5b9a1a4fde)\" d=\"M 263.122188 38.179219 \r\nL 273.994188 38.179219 \r\nL 273.994188 10.999219 \r\nL 263.122188 10.999219 \r\nL 263.122188 38.179219 \r\n\" style=\"fill:#d8e219;\"/>\r\n   </g>\r\n   <g id=\"matplotlib.axis_3\"/>\r\n   <g id=\"matplotlib.axis_4\">\r\n    <g id=\"ytick_6\">\r\n     <g id=\"line2d_11\">\r\n      <defs>\r\n       <path d=\"M 0 0 \r\nL 3.5 0 \r\n\" id=\"m098e4d29c1\" style=\"stroke:#000000;stroke-width:0.8;\"/>\r\n      </defs>\r\n      <g>\r\n       <use style=\"stroke:#000000;stroke-width:0.8;\" x=\"273.994188\" xlink:href=\"#m098e4d29c1\" y=\"228.439219\"/>\r\n      </g>\r\n     </g>\r\n     <g id=\"text_11\">\r\n      <!-- 0 -->\r\n      <g transform=\"translate(280.994188 232.238437)scale(0.1 -0.1)\">\r\n       <use xlink:href=\"#DejaVuSans-48\"/>\r\n      </g>\r\n     </g>\r\n    </g>\r\n    <g id=\"ytick_7\">\r\n     <g id=\"line2d_12\">\r\n      <g>\r\n       <use style=\"stroke:#000000;stroke-width:0.8;\" x=\"273.994188\" xlink:href=\"#m098e4d29c1\" y=\"201.259219\"/>\r\n      </g>\r\n     </g>\r\n     <g id=\"text_12\">\r\n      <!-- 1 -->\r\n      <g transform=\"translate(280.994188 205.058437)scale(0.1 -0.1)\">\r\n       <defs>\r\n        <path d=\"M 12.40625 8.296875 \r\nL 28.515625 8.296875 \r\nL 28.515625 63.921875 \r\nL 10.984375 60.40625 \r\nL 10.984375 69.390625 \r\nL 28.421875 72.90625 \r\nL 38.28125 72.90625 \r\nL 38.28125 8.296875 \r\nL 54.390625 8.296875 \r\nL 54.390625 0 \r\nL 12.40625 0 \r\nz\r\n\" id=\"DejaVuSans-49\"/>\r\n       </defs>\r\n       <use xlink:href=\"#DejaVuSans-49\"/>\r\n      </g>\r\n     </g>\r\n    </g>\r\n    <g id=\"ytick_8\">\r\n     <g id=\"line2d_13\">\r\n      <g>\r\n       <use style=\"stroke:#000000;stroke-width:0.8;\" x=\"273.994188\" xlink:href=\"#m098e4d29c1\" y=\"174.079219\"/>\r\n      </g>\r\n     </g>\r\n     <g id=\"text_13\">\r\n      <!-- 2 -->\r\n      <g transform=\"translate(280.994188 177.878437)scale(0.1 -0.1)\">\r\n       <use xlink:href=\"#DejaVuSans-50\"/>\r\n      </g>\r\n     </g>\r\n    </g>\r\n    <g id=\"ytick_9\">\r\n     <g id=\"line2d_14\">\r\n      <g>\r\n       <use style=\"stroke:#000000;stroke-width:0.8;\" x=\"273.994188\" xlink:href=\"#m098e4d29c1\" y=\"146.899219\"/>\r\n      </g>\r\n     </g>\r\n     <g id=\"text_14\">\r\n      <!-- 3 -->\r\n      <g transform=\"translate(280.994188 150.698437)scale(0.1 -0.1)\">\r\n       <defs>\r\n        <path d=\"M 40.578125 39.3125 \r\nQ 47.65625 37.796875 51.625 33 \r\nQ 55.609375 28.21875 55.609375 21.1875 \r\nQ 55.609375 10.40625 48.1875 4.484375 \r\nQ 40.765625 -1.421875 27.09375 -1.421875 \r\nQ 22.515625 -1.421875 17.65625 -0.515625 \r\nQ 12.796875 0.390625 7.625 2.203125 \r\nL 7.625 11.71875 \r\nQ 11.71875 9.328125 16.59375 8.109375 \r\nQ 21.484375 6.890625 26.8125 6.890625 \r\nQ 36.078125 6.890625 40.9375 10.546875 \r\nQ 45.796875 14.203125 45.796875 21.1875 \r\nQ 45.796875 27.640625 41.28125 31.265625 \r\nQ 36.765625 34.90625 28.71875 34.90625 \r\nL 20.21875 34.90625 \r\nL 20.21875 43.015625 \r\nL 29.109375 43.015625 \r\nQ 36.375 43.015625 40.234375 45.921875 \r\nQ 44.09375 48.828125 44.09375 54.296875 \r\nQ 44.09375 59.90625 40.109375 62.90625 \r\nQ 36.140625 65.921875 28.71875 65.921875 \r\nQ 24.65625 65.921875 20.015625 65.03125 \r\nQ 15.375 64.15625 9.8125 62.3125 \r\nL 9.8125 71.09375 \r\nQ 15.4375 72.65625 20.34375 73.4375 \r\nQ 25.25 74.21875 29.59375 74.21875 \r\nQ 40.828125 74.21875 47.359375 69.109375 \r\nQ 53.90625 64.015625 53.90625 55.328125 \r\nQ 53.90625 49.265625 50.4375 45.09375 \r\nQ 46.96875 40.921875 40.578125 39.3125 \r\nz\r\n\" id=\"DejaVuSans-51\"/>\r\n       </defs>\r\n       <use xlink:href=\"#DejaVuSans-51\"/>\r\n      </g>\r\n     </g>\r\n    </g>\r\n    <g id=\"ytick_10\">\r\n     <g id=\"line2d_15\">\r\n      <g>\r\n       <use style=\"stroke:#000000;stroke-width:0.8;\" x=\"273.994188\" xlink:href=\"#m098e4d29c1\" y=\"119.719219\"/>\r\n      </g>\r\n     </g>\r\n     <g id=\"text_15\">\r\n      <!-- 4 -->\r\n      <g transform=\"translate(280.994188 123.518437)scale(0.1 -0.1)\">\r\n       <use xlink:href=\"#DejaVuSans-52\"/>\r\n      </g>\r\n     </g>\r\n    </g>\r\n    <g id=\"ytick_11\">\r\n     <g id=\"line2d_16\">\r\n      <g>\r\n       <use style=\"stroke:#000000;stroke-width:0.8;\" x=\"273.994188\" xlink:href=\"#m098e4d29c1\" y=\"92.539219\"/>\r\n      </g>\r\n     </g>\r\n     <g id=\"text_16\">\r\n      <!-- 5 -->\r\n      <g transform=\"translate(280.994188 96.338437)scale(0.1 -0.1)\">\r\n       <defs>\r\n        <path d=\"M 10.796875 72.90625 \r\nL 49.515625 72.90625 \r\nL 49.515625 64.59375 \r\nL 19.828125 64.59375 \r\nL 19.828125 46.734375 \r\nQ 21.96875 47.46875 24.109375 47.828125 \r\nQ 26.265625 48.1875 28.421875 48.1875 \r\nQ 40.625 48.1875 47.75 41.5 \r\nQ 54.890625 34.8125 54.890625 23.390625 \r\nQ 54.890625 11.625 47.5625 5.09375 \r\nQ 40.234375 -1.421875 26.90625 -1.421875 \r\nQ 22.3125 -1.421875 17.546875 -0.640625 \r\nQ 12.796875 0.140625 7.71875 1.703125 \r\nL 7.71875 11.625 \r\nQ 12.109375 9.234375 16.796875 8.0625 \r\nQ 21.484375 6.890625 26.703125 6.890625 \r\nQ 35.15625 6.890625 40.078125 11.328125 \r\nQ 45.015625 15.765625 45.015625 23.390625 \r\nQ 45.015625 31 40.078125 35.4375 \r\nQ 35.15625 39.890625 26.703125 39.890625 \r\nQ 22.75 39.890625 18.8125 39.015625 \r\nQ 14.890625 38.140625 10.796875 36.28125 \r\nz\r\n\" id=\"DejaVuSans-53\"/>\r\n       </defs>\r\n       <use xlink:href=\"#DejaVuSans-53\"/>\r\n      </g>\r\n     </g>\r\n    </g>\r\n    <g id=\"ytick_12\">\r\n     <g id=\"line2d_17\">\r\n      <g>\r\n       <use style=\"stroke:#000000;stroke-width:0.8;\" x=\"273.994188\" xlink:href=\"#m098e4d29c1\" y=\"65.359219\"/>\r\n      </g>\r\n     </g>\r\n     <g id=\"text_17\">\r\n      <!-- 6 -->\r\n      <g transform=\"translate(280.994188 69.158437)scale(0.1 -0.1)\">\r\n       <defs>\r\n        <path d=\"M 33.015625 40.375 \r\nQ 26.375 40.375 22.484375 35.828125 \r\nQ 18.609375 31.296875 18.609375 23.390625 \r\nQ 18.609375 15.53125 22.484375 10.953125 \r\nQ 26.375 6.390625 33.015625 6.390625 \r\nQ 39.65625 6.390625 43.53125 10.953125 \r\nQ 47.40625 15.53125 47.40625 23.390625 \r\nQ 47.40625 31.296875 43.53125 35.828125 \r\nQ 39.65625 40.375 33.015625 40.375 \r\nz\r\nM 52.59375 71.296875 \r\nL 52.59375 62.3125 \r\nQ 48.875 64.0625 45.09375 64.984375 \r\nQ 41.3125 65.921875 37.59375 65.921875 \r\nQ 27.828125 65.921875 22.671875 59.328125 \r\nQ 17.53125 52.734375 16.796875 39.40625 \r\nQ 19.671875 43.65625 24.015625 45.921875 \r\nQ 28.375 48.1875 33.59375 48.1875 \r\nQ 44.578125 48.1875 50.953125 41.515625 \r\nQ 57.328125 34.859375 57.328125 23.390625 \r\nQ 57.328125 12.15625 50.6875 5.359375 \r\nQ 44.046875 -1.421875 33.015625 -1.421875 \r\nQ 20.359375 -1.421875 13.671875 8.265625 \r\nQ 6.984375 17.96875 6.984375 36.375 \r\nQ 6.984375 53.65625 15.1875 63.9375 \r\nQ 23.390625 74.21875 37.203125 74.21875 \r\nQ 40.921875 74.21875 44.703125 73.484375 \r\nQ 48.484375 72.75 52.59375 71.296875 \r\nz\r\n\" id=\"DejaVuSans-54\"/>\r\n       </defs>\r\n       <use xlink:href=\"#DejaVuSans-54\"/>\r\n      </g>\r\n     </g>\r\n    </g>\r\n    <g id=\"ytick_13\">\r\n     <g id=\"line2d_18\">\r\n      <g>\r\n       <use style=\"stroke:#000000;stroke-width:0.8;\" x=\"273.994188\" xlink:href=\"#m098e4d29c1\" y=\"38.179219\"/>\r\n      </g>\r\n     </g>\r\n     <g id=\"text_18\">\r\n      <!-- 7 -->\r\n      <g transform=\"translate(280.994188 41.978437)scale(0.1 -0.1)\">\r\n       <defs>\r\n        <path d=\"M 8.203125 72.90625 \r\nL 55.078125 72.90625 \r\nL 55.078125 68.703125 \r\nL 28.609375 0 \r\nL 18.3125 0 \r\nL 43.21875 64.59375 \r\nL 8.203125 64.59375 \r\nz\r\n\" id=\"DejaVuSans-55\"/>\r\n       </defs>\r\n       <use xlink:href=\"#DejaVuSans-55\"/>\r\n      </g>\r\n     </g>\r\n    </g>\r\n    <g id=\"ytick_14\">\r\n     <g id=\"line2d_19\">\r\n      <g>\r\n       <use style=\"stroke:#000000;stroke-width:0.8;\" x=\"273.994188\" xlink:href=\"#m098e4d29c1\" y=\"10.999219\"/>\r\n      </g>\r\n     </g>\r\n     <g id=\"text_19\">\r\n      <!-- 8 -->\r\n      <g transform=\"translate(280.994188 14.798437)scale(0.1 -0.1)\">\r\n       <defs>\r\n        <path d=\"M 31.78125 34.625 \r\nQ 24.75 34.625 20.71875 30.859375 \r\nQ 16.703125 27.09375 16.703125 20.515625 \r\nQ 16.703125 13.921875 20.71875 10.15625 \r\nQ 24.75 6.390625 31.78125 6.390625 \r\nQ 38.8125 6.390625 42.859375 10.171875 \r\nQ 46.921875 13.96875 46.921875 20.515625 \r\nQ 46.921875 27.09375 42.890625 30.859375 \r\nQ 38.875 34.625 31.78125 34.625 \r\nz\r\nM 21.921875 38.8125 \r\nQ 15.578125 40.375 12.03125 44.71875 \r\nQ 8.5 49.078125 8.5 55.328125 \r\nQ 8.5 64.0625 14.71875 69.140625 \r\nQ 20.953125 74.21875 31.78125 74.21875 \r\nQ 42.671875 74.21875 48.875 69.140625 \r\nQ 55.078125 64.0625 55.078125 55.328125 \r\nQ 55.078125 49.078125 51.53125 44.71875 \r\nQ 48 40.375 41.703125 38.8125 \r\nQ 48.828125 37.15625 52.796875 32.3125 \r\nQ 56.78125 27.484375 56.78125 20.515625 \r\nQ 56.78125 9.90625 50.3125 4.234375 \r\nQ 43.84375 -1.421875 31.78125 -1.421875 \r\nQ 19.734375 -1.421875 13.25 4.234375 \r\nQ 6.78125 9.90625 6.78125 20.515625 \r\nQ 6.78125 27.484375 10.78125 32.3125 \r\nQ 14.796875 37.15625 21.921875 38.8125 \r\nz\r\nM 18.3125 54.390625 \r\nQ 18.3125 48.734375 21.84375 45.5625 \r\nQ 25.390625 42.390625 31.78125 42.390625 \r\nQ 38.140625 42.390625 41.71875 45.5625 \r\nQ 45.3125 48.734375 45.3125 54.390625 \r\nQ 45.3125 60.0625 41.71875 63.234375 \r\nQ 38.140625 66.40625 31.78125 66.40625 \r\nQ 25.390625 66.40625 21.84375 63.234375 \r\nQ 18.3125 60.0625 18.3125 54.390625 \r\nz\r\n\" id=\"DejaVuSans-56\"/>\r\n       </defs>\r\n       <use xlink:href=\"#DejaVuSans-56\"/>\r\n      </g>\r\n     </g>\r\n    </g>\r\n   </g>\r\n   <g id=\"patch_8\">\r\n    <path d=\"M 263.122188 228.439219 \r\nL 263.122188 201.259219 \r\nL 263.122188 38.179219 \r\nL 263.122188 10.999219 \r\nL 273.994188 10.999219 \r\nL 273.994188 38.179219 \r\nL 273.994188 201.259219 \r\nL 273.994188 228.439219 \r\nz\r\n\" style=\"fill:none;stroke:#000000;stroke-linejoin:miter;stroke-width:0.8;\"/>\r\n   </g>\r\n  </g>\r\n </g>\r\n <defs>\r\n  <clipPath id=\"p1723efebb4\">\r\n   <rect height=\"217.44\" width=\"217.44\" x=\"28.942188\" y=\"10.999219\"/>\r\n  </clipPath>\r\n  <clipPath id=\"p5b9a1a4fde\">\r\n   <rect height=\"217.44\" width=\"10.872\" x=\"263.122188\" y=\"10.999219\"/>\r\n  </clipPath>\r\n </defs>\r\n</svg>\r\n",
      "image/png": "[encoded data removed]"
     },
     "metadata": {
      "needs_background": "light"
     }
    }
   ],
   "source": [
    "#dit is makkelijk om mee te rekenen!\n",
    "zz = np.sqrt(xx**2 + yy**2)\n",
    "import matplotlib.pyplot as plt\n",
    "h = plt.contourf(x, y, zz)\n",
    "plt.axis('scaled')\n",
    "plt.colorbar()\n",
    "plt.show()"
   ]
  },
  {
   "cell_type": "markdown",
   "metadata": {},
   "source": [
    "## Matplotlib"
   ]
  },
  {
   "cell_type": "code",
   "execution_count": 604,
   "metadata": {},
   "outputs": [
    {
     "data": {
      "image/png": "[encoded data removed]",
      "text/plain": [
       "<Figure size 432x288 with 1 Axes>"
      ]
     },
     "metadata": {
      "needs_background": "light"
     },
     "output_type": "display_data"
    }
   ],
   "source": [
    "import matplotlib as mpl\n",
    "fig, ax = plt.subplots()"
   ]
  },
  {
   "cell_type": "code",
   "execution_count": 605,
   "metadata": {},
   "outputs": [
    {
     "data": {
      "image/png": "[encoded data removed]",
      "text/plain": [
       "<Figure size 432x288 with 1 Axes>"
      ]
     },
     "execution_count": 605,
     "metadata": {},
     "output_type": "execute_result"
    }
   ],
   "source": [
    "fig"
   ]
  },
  {
   "cell_type": "code",
   "execution_count": 606,
   "metadata": {},
   "outputs": [
    {
     "data": {
      "text/plain": [
       "<AxesSubplot:>"
      ]
     },
     "execution_count": 606,
     "metadata": {},
     "output_type": "execute_result"
    }
   ],
   "source": [
    "ax"
   ]
  },
  {
   "cell_type": "code",
   "execution_count": 607,
   "metadata": {},
   "outputs": [
    {
     "data": {
      "image/png": "[encoded data removed]",
      "text/plain": [
       "<Figure size 432x288 with 1 Axes>"
      ]
     },
     "execution_count": 607,
     "metadata": {},
     "output_type": "execute_result"
    }
   ],
   "source": [
    "ax.plot([1,2,3,4],[1,4,2,3]);\n",
    "fig"
   ]
  },
  {
   "cell_type": "code",
   "execution_count": 608,
   "metadata": {},
   "outputs": [
    {
     "data": {
      "text/plain": [
       "<Figure size 432x288 with 0 Axes>"
      ]
     },
     "metadata": {},
     "output_type": "display_data"
    },
    {
     "data": {
      "image/png": "[encoded data removed]",
      "text/plain": [
       "<Figure size 432x288 with 1 Axes>"
      ]
     },
     "metadata": {
      "needs_background": "light"
     },
     "output_type": "display_data"
    }
   ],
   "source": [
    "#new figure\n",
    "fig = plt.figure()\n",
    "#axes are the childs of the figure!\n",
    "fig, ax = plt.subplots()"
   ]
  },
  {
   "cell_type": "code",
   "execution_count": 609,
   "metadata": {},
   "outputs": [
    {
     "data": {
      "image/png": "[encoded data removed]",
      "text/plain": [
       "<Figure size 432x288 with 4 Axes>"
      ]
     },
     "metadata": {
      "needs_background": "light"
     },
     "output_type": "display_data"
    }
   ],
   "source": [
    "fig, axs = plt.subplots(2,2)"
   ]
  },
  {
   "cell_type": "markdown",
   "metadata": {},
   "source": [
    "Numpy arrays are expected as input for the plotfunctions! Best to convert pandas or others to ARRAY! "
   ]
  },
  {
   "cell_type": "code",
   "execution_count": 610,
   "metadata": {},
   "outputs": [
    {
     "data": {
      "text/plain": [
       "Text(0, 0.5, 'entry b')"
      ]
     },
     "execution_count": 610,
     "metadata": {},
     "output_type": "execute_result"
    },
    {
     "data": {
      "image/png": "[encoded data removed]",
      "text/plain": [
       "<Figure size 360x194.4 with 1 Axes>"
      ]
     },
     "metadata": {
      "needs_background": "light"
     },
     "output_type": "display_data"
    }
   ],
   "source": [
    "#aanmaken van een dictionary (overgetypt)\n",
    "data = {'a':np.arange(50),\n",
    "       'c': np.random.randint(0,50,50),\n",
    "       'd':np.random.randn(50)}\n",
    "data['b'] = data['a'] + 10*np.random.randn(50)\n",
    "data['d'] = np.abs(data['d'])*100\n",
    "#bemerk: de letters zijn 'keys', de waarden 'values' (key-value pairs!)\n",
    "fig, ax = plt.subplots(figsize = (5, 2.7))\n",
    "ax.scatter(x='a',y ='b',c = 'c',s = 'd', data = data)  # s staat voor size!\n",
    "#c staat voor color!\n",
    "#we geven dus data mee en selecteren hier uit! (zie wat analogie ggplot)\n",
    "ax.set_xlabel('entry a')\n",
    "ax.set_ylabel('entry b')"
   ]
  },
  {
   "cell_type": "code",
   "execution_count": 611,
   "metadata": {},
   "outputs": [
    {
     "data": {
      "text/plain": [
       "array([0, 2, 3, 1, 1])"
      ]
     },
     "execution_count": 611,
     "metadata": {},
     "output_type": "execute_result"
    }
   ],
   "source": [
    "np.random.randint(0,5,5) #dus 5 random \n",
    "#gehele getallen tussen 0 en 5 (cf 1e 2 getallen)"
   ]
  },
  {
   "cell_type": "code",
   "execution_count": 612,
   "metadata": {},
   "outputs": [
    {
     "data": {
      "text/plain": [
       "array([ 0.96628356, -0.74962078, -0.51609895, -1.91859375,  1.81202327,\n",
       "        0.93736717, -1.01936837,  0.49437796, -0.23371577,  0.99961594])"
      ]
     },
     "execution_count": 612,
     "metadata": {},
     "output_type": "execute_result"
    }
   ],
   "source": [
    "np.random.randn(10) #uit normale distirbutie 10 random nummers"
   ]
  },
  {
   "cell_type": "code",
   "execution_count": 613,
   "metadata": {},
   "outputs": [
    {
     "data": {
      "text/plain": [
       "dict"
      ]
     },
     "execution_count": 613,
     "metadata": {},
     "output_type": "execute_result"
    }
   ],
   "source": [
    "type(data)"
   ]
  },
  {
   "cell_type": "code",
   "execution_count": 614,
   "metadata": {},
   "outputs": [
    {
     "data": {
      "text/plain": [
       "4"
      ]
     },
     "execution_count": 614,
     "metadata": {},
     "output_type": "execute_result"
    }
   ],
   "source": [
    "len(data)"
   ]
  },
  {
   "cell_type": "markdown",
   "metadata": {},
   "source": [
    "In plaats van expliciet te werken met figures and axes, kan het eenvoudiger zijn gewoon te werken met PYPLOT die die allemaal wat automatisch creëert! \n",
    "* De OG manier"
   ]
  },
  {
   "cell_type": "code",
   "execution_count": 615,
   "metadata": {},
   "outputs": [
    {
     "data": {
      "image/png": "[encoded data removed]",
      "text/plain": [
       "<Figure size 360x194.4 with 1 Axes>"
      ]
     },
     "metadata": {
      "needs_background": "light"
     },
     "output_type": "display_data"
    }
   ],
   "source": [
    "#copy paste\n",
    "x = np.linspace(0, 2, 100)  # Sample data.\n",
    "\n",
    "# Note that even in the OO-style, we use `.pyplot.figure` to create the Figure.\n",
    "fig, ax = plt.subplots(figsize=(5, 2.7))\n",
    "ax.plot(x, x, label='linear')  # Plot some data on the axes.\n",
    "ax.plot(x, x**2, label='quadratic')  # Plot more data on the axes...\n",
    "ax.plot(x, x**3, label='cubic')  # ... and some more.\n",
    "ax.set_xlabel('x label')  # Add an x-label to the axes.\n",
    "ax.set_ylabel('y label')  # Add a y-label to the axes.\n",
    "ax.set_title(\"Simple Plot\")  # Add a title to the axes.\n",
    "ax.legend();  # Add a legend."
   ]
  },
  {
   "cell_type": "markdown",
   "metadata": {},
   "source": [
    "* De handige pyplot wijze"
   ]
  },
  {
   "cell_type": "code",
   "execution_count": 616,
   "metadata": {},
   "outputs": [
    {
     "data": {
      "text/plain": [
       "Text(0.5, 1.0, 'Simple plot pyplot')"
      ]
     },
     "execution_count": 616,
     "metadata": {},
     "output_type": "execute_result"
    },
    {
     "data": {
      "image/png": "[encoded data removed]",
      "text/plain": [
       "<Figure size 720x388.8 with 1 Axes>"
      ]
     },
     "metadata": {
      "needs_background": "light"
     },
     "output_type": "display_data"
    }
   ],
   "source": [
    "plt.figure(figsize=(10,5.4)) #analoog aan figure() in matlab! \n",
    "plt.plot(x, x, label ='linear')\n",
    "plt.plot(x, x**2, label ='quadratic')\n",
    "plt.plot(x, x**3, label ='cubic') #dus zeer analoog aan matlab!\n",
    "plt.xlabel('x label')\n",
    "plt.ylabel('y label')\n",
    "plt.legend() #geeft dus alle labels mee, zeer handig! \n",
    "plt.title('Simple plot pyplot')"
   ]
  },
  {
   "cell_type": "markdown",
   "metadata": {},
   "source": [
    "Aangezien pyplot veel meer lijkt op MATLAB, gaan we verder in de tutorial die hier op ingaat\n",
    "https://matplotlib.org/stable/tutorials/introductory/pyplot.html"
   ]
  },
  {
   "cell_type": "code",
   "execution_count": 617,
   "metadata": {},
   "outputs": [
    {
     "data": {
      "image/png": "[encoded data removed]",
      "text/plain": [
       "<Figure size 432x288 with 1 Axes>"
      ]
     },
     "metadata": {
      "needs_background": "light"
     },
     "output_type": "display_data"
    }
   ],
   "source": [
    "#assen definiëren\n",
    "plt.plot([1, 2, 3, 4], [1, 4, 9, 16], 'ro')\n",
    "# r wijst op de kleur, o op het bolletje!\n",
    "plt.axis([0, 6, 0, 20])\n",
    "plt.show()"
   ]
  },
  {
   "cell_type": "markdown",
   "metadata": {},
   "source": [
    "Werkt ook met numpy arrays! Niet enkel lijsten!"
   ]
  },
  {
   "cell_type": "code",
   "execution_count": 618,
   "metadata": {},
   "outputs": [
    {
     "data": {
      "text/plain": [
       "list"
      ]
     },
     "execution_count": 618,
     "metadata": {},
     "output_type": "execute_result"
    }
   ],
   "source": [
    "type([1,2,3,4])"
   ]
  },
  {
   "cell_type": "code",
   "execution_count": 619,
   "metadata": {},
   "outputs": [
    {
     "data": {
      "text/plain": [
       "numpy.ndarray"
      ]
     },
     "execution_count": 619,
     "metadata": {},
     "output_type": "execute_result"
    }
   ],
   "source": [
    "type(np.array([1,2,3,4]))"
   ]
  },
  {
   "cell_type": "code",
   "execution_count": 620,
   "metadata": {},
   "outputs": [
    {
     "data": {
      "text/plain": [
       "4.800000000000001"
      ]
     },
     "execution_count": 620,
     "metadata": {},
     "output_type": "execute_result"
    }
   ],
   "source": [
    "t = np.arange(0,5,0.2) #van 0 tot 5-0.2 in stappen van 0.2\n",
    "t.max()"
   ]
  },
  {
   "cell_type": "code",
   "execution_count": 621,
   "metadata": {},
   "outputs": [
    {
     "data": {
      "text/plain": [
       "0.0"
      ]
     },
     "execution_count": 621,
     "metadata": {},
     "output_type": "execute_result"
    }
   ],
   "source": [
    "t.min()"
   ]
  },
  {
   "cell_type": "code",
   "execution_count": 622,
   "metadata": {},
   "outputs": [
    {
     "data": {
      "text/plain": [
       "[<matplotlib.lines.Line2D at 0x1f3d59b5280>,\n",
       " <matplotlib.lines.Line2D at 0x1f3d59b5130>,\n",
       " <matplotlib.lines.Line2D at 0x1f3d59b52b0>]"
      ]
     },
     "execution_count": 622,
     "metadata": {},
     "output_type": "execute_result"
    },
    {
     "data": {
      "image/png": "[encoded data removed]",
      "text/plain": [
       "<Figure size 432x288 with 1 Axes>"
      ]
     },
     "metadata": {
      "needs_background": "light"
     },
     "output_type": "display_data"
    }
   ],
   "source": [
    "plt.plot(t,t,'r--',t,t**2,'bs',t,t**3,'g^')\n",
    "#r,b,g: red, blue, green\n",
    "#--,s,^: strepen, squares en driehoeken! "
   ]
  },
  {
   "cell_type": "markdown",
   "metadata": {},
   "source": [
    "Dezelfde plot als eerder gemaakt op dictionairies, kan ook in pyplot! "
   ]
  },
  {
   "cell_type": "code",
   "execution_count": 623,
   "metadata": {},
   "outputs": [
    {
     "data": {
      "text/plain": [
       "Text(0, 0.5, 'entry b')"
      ]
     },
     "execution_count": 623,
     "metadata": {},
     "output_type": "execute_result"
    },
    {
     "data": {
      "image/png": "[encoded data removed]",
      "text/plain": [
       "<Figure size 432x288 with 1 Axes>"
      ]
     },
     "metadata": {
      "needs_background": "light"
     },
     "output_type": "display_data"
    }
   ],
   "source": [
    "plt.scatter('a','b',c = 'c', s = 'd',data = data)\n",
    "plt.xlabel('entry a')\n",
    "plt.ylabel('entry b')"
   ]
  },
  {
   "cell_type": "code",
   "execution_count": 624,
   "metadata": {},
   "outputs": [
    {
     "data": {
      "text/plain": [
       "list"
      ]
     },
     "execution_count": 624,
     "metadata": {},
     "output_type": "execute_result"
    }
   ],
   "source": [
    "names = ['group_a', 'group_b', 'group_c']\n",
    "values = np.array([1,10,100]) #numpy array maar lijst mag ook! \n",
    "type(names) #lijst!"
   ]
  },
  {
   "cell_type": "code",
   "execution_count": 625,
   "metadata": {},
   "outputs": [
    {
     "data": {
      "text/plain": [
       "[<matplotlib.lines.Line2D at 0x1f3d5b337f0>]"
      ]
     },
     "execution_count": 625,
     "metadata": {},
     "output_type": "execute_result"
    },
    {
     "data": {
      "image/png": "[encoded data removed]",
      "text/plain": [
       "<Figure size 720x360 with 3 Axes>"
      ]
     },
     "metadata": {
      "needs_background": "light"
     },
     "output_type": "display_data"
    }
   ],
   "source": [
    "plt.figure(figsize=(10,5))\n",
    "plt.subplot(131) #volledig analoog malab! 1,3 en nemen 1e plot\n",
    "plt.bar(names, values)\n",
    "plt.subplot(1,3,2)\n",
    "plt.scatter(names,values, color = 'r')\n",
    "plt.subplot(1,3,3) #je mag kiezen of je kommas zet of niet! \n",
    "plt.plot(names,values, color = 'r', linewidth = 2.0) #volledig zoals MATLAB!"
   ]
  },
  {
   "cell_type": "markdown",
   "metadata": {},
   "source": [
    "Analoog aan MATLAB opnieuw bestaat ook plt.gca en plt.gcf. Ook plt.close om figuur te sluiten "
   ]
  },
  {
   "cell_type": "code",
   "execution_count": 626,
   "metadata": {},
   "outputs": [
    {
     "data": {
      "image/png": "[encoded data removed]",
      "text/plain": [
       "<Figure size 432x288 with 1 Axes>"
      ]
     },
     "metadata": {
      "needs_background": "light"
     },
     "output_type": "display_data"
    }
   ],
   "source": [
    "mu, sigma = 100, 15\n",
    "x = mu + sigma * np.random.randn(10000) #uit normale verdeling! \n",
    "#histogram\n",
    "n = plt.hist(x, bins = 50, density = 1,color = 'g', alpha = 0.75)\n",
    "#densiteit maakt er een densiteitplot van i.p.v. een histogram die\n",
    "#absolute frequenties telt! \n",
    "#alpha < 1 maakt licht doorzichtig! \n",
    "#hierover nu eens een normale distribute\n",
    "import scipy.stats\n",
    "x = np.linspace(0,160,1000)\n",
    "y = scipy.stats.norm.pdf(x,mu,sigma)\n",
    "plt.plot(x,y)\n",
    "plt.xlabel('x')\n",
    "plt.ylabel('density')\n",
    "plt.text(60,0.025,r'$\\mu = 100, \\ \\sigma = 15$', fontsize = 12)\n",
    "#belang van de r er voor! \n",
    "#bemerk dat klassieke latex notatie dus mogelijk is! \n",
    "plt.axis([40, 160, 0, 0.03])\n",
    "plt.annotate('mean',xy = (100,0),xytext = (140,0.015), fontsize = 12,\n",
    "            arrowprops = dict(facecolor = 'black'))\n",
    "plt.grid(True)"
   ]
  },
  {
   "cell_type": "markdown",
   "metadata": {},
   "source": [
    "Ook schalen kunnen worden aangepast door plt._scale('iets') met _ = x of y en dan bv iets = 'logit' of 'log'"
   ]
  },
  {
   "cell_type": "markdown",
   "metadata": {},
   "source": [
    "## 10 minutes to pandas"
   ]
  },
  {
   "cell_type": "code",
   "execution_count": 27,
   "metadata": {},
   "outputs": [
    {
     "output_type": "execute_result",
     "data": {
      "text/plain": [
       "0    1.0\n",
       "1    3.0\n",
       "2    5.0\n",
       "3    NaN\n",
       "4    6.0\n",
       "5    8.0\n",
       "dtype: float64"
      ]
     },
     "metadata": {},
     "execution_count": 27
    }
   ],
   "source": [
    "import pandas as pd\n",
    "#Series object\n",
    "s = pd.Series([1,3,5,np.nan,6,8])\n",
    "s"
   ]
  },
  {
   "cell_type": "code",
   "execution_count": 628,
   "metadata": {},
   "outputs": [
    {
     "data": {
      "text/plain": [
       "pandas.core.series.Series"
      ]
     },
     "execution_count": 628,
     "metadata": {},
     "output_type": "execute_result"
    }
   ],
   "source": [
    "type(s)"
   ]
  },
  {
   "cell_type": "code",
   "execution_count": 629,
   "metadata": {},
   "outputs": [
    {
     "data": {
      "text/plain": [
       "pandas.core.indexes.datetimes.DatetimeIndex"
      ]
     },
     "execution_count": 629,
     "metadata": {},
     "output_type": "execute_result"
    }
   ],
   "source": [
    "dates = pd.date_range(\"20130101\", periods=6)\n",
    "type(dates)"
   ]
  },
  {
   "cell_type": "code",
   "execution_count": 630,
   "metadata": {},
   "outputs": [
    {
     "data": {
      "text/plain": [
       "DatetimeIndex(['2013-01-01', '2013-01-02', '2013-01-03', '2013-01-04',\n",
       "               '2013-01-05', '2013-01-06'],\n",
       "              dtype='datetime64[ns]', freq='D')"
      ]
     },
     "execution_count": 630,
     "metadata": {},
     "output_type": "execute_result"
    }
   ],
   "source": [
    "dates"
   ]
  },
  {
   "cell_type": "code",
   "execution_count": 631,
   "metadata": {},
   "outputs": [
    {
     "data": {
      "text/html": [
       "<div>\n",
       "<style scoped>\n",
       "    .dataframe tbody tr th:only-of-type {\n",
       "        vertical-align: middle;\n",
       "    }\n",
       "\n",
       "    .dataframe tbody tr th {\n",
       "        vertical-align: top;\n",
       "    }\n",
       "\n",
       "    .dataframe thead th {\n",
       "        text-align: right;\n",
       "    }\n",
       "</style>\n",
       "<table border=\"1\" class=\"dataframe\">\n",
       "  <thead>\n",
       "    <tr style=\"text-align: right;\">\n",
       "      <th></th>\n",
       "      <th>0</th>\n",
       "      <th>1</th>\n",
       "      <th>2</th>\n",
       "      <th>3</th>\n",
       "    </tr>\n",
       "  </thead>\n",
       "  <tbody>\n",
       "    <tr>\n",
       "      <th>0</th>\n",
       "      <td>-0.706171</td>\n",
       "      <td>-0.373518</td>\n",
       "      <td>-0.245854</td>\n",
       "      <td>-1.097671</td>\n",
       "    </tr>\n",
       "    <tr>\n",
       "      <th>1</th>\n",
       "      <td>-2.238278</td>\n",
       "      <td>-0.049682</td>\n",
       "      <td>0.454352</td>\n",
       "      <td>0.095100</td>\n",
       "    </tr>\n",
       "    <tr>\n",
       "      <th>2</th>\n",
       "      <td>1.135676</td>\n",
       "      <td>0.537986</td>\n",
       "      <td>0.369693</td>\n",
       "      <td>0.677362</td>\n",
       "    </tr>\n",
       "    <tr>\n",
       "      <th>3</th>\n",
       "      <td>-0.881297</td>\n",
       "      <td>0.914565</td>\n",
       "      <td>0.017465</td>\n",
       "      <td>-0.668671</td>\n",
       "    </tr>\n",
       "    <tr>\n",
       "      <th>4</th>\n",
       "      <td>-2.236543</td>\n",
       "      <td>-0.403161</td>\n",
       "      <td>1.163028</td>\n",
       "      <td>-0.096596</td>\n",
       "    </tr>\n",
       "    <tr>\n",
       "      <th>5</th>\n",
       "      <td>-0.641990</td>\n",
       "      <td>-1.902784</td>\n",
       "      <td>-1.539532</td>\n",
       "      <td>-0.373263</td>\n",
       "    </tr>\n",
       "  </tbody>\n",
       "</table>\n",
       "</div>"
      ],
      "text/plain": [
       "          0         1         2         3\n",
       "0 -0.706171 -0.373518 -0.245854 -1.097671\n",
       "1 -2.238278 -0.049682  0.454352  0.095100\n",
       "2  1.135676  0.537986  0.369693  0.677362\n",
       "3 -0.881297  0.914565  0.017465 -0.668671\n",
       "4 -2.236543 -0.403161  1.163028 -0.096596\n",
       "5 -0.641990 -1.902784 -1.539532 -0.373263"
      ]
     },
     "execution_count": 631,
     "metadata": {},
     "output_type": "execute_result"
    }
   ],
   "source": [
    "df = pd.DataFrame(np.random.randn(6,4))\n",
    "df"
   ]
  },
  {
   "cell_type": "code",
   "execution_count": 632,
   "metadata": {},
   "outputs": [
    {
     "data": {
      "text/html": [
       "<div>\n",
       "<style scoped>\n",
       "    .dataframe tbody tr th:only-of-type {\n",
       "        vertical-align: middle;\n",
       "    }\n",
       "\n",
       "    .dataframe tbody tr th {\n",
       "        vertical-align: top;\n",
       "    }\n",
       "\n",
       "    .dataframe thead th {\n",
       "        text-align: right;\n",
       "    }\n",
       "</style>\n",
       "<table border=\"1\" class=\"dataframe\">\n",
       "  <thead>\n",
       "    <tr style=\"text-align: right;\">\n",
       "      <th></th>\n",
       "      <th>A</th>\n",
       "      <th>B</th>\n",
       "      <th>C</th>\n",
       "      <th>D</th>\n",
       "    </tr>\n",
       "  </thead>\n",
       "  <tbody>\n",
       "    <tr>\n",
       "      <th>2013-01-01</th>\n",
       "      <td>-0.399550</td>\n",
       "      <td>-0.052065</td>\n",
       "      <td>-0.355444</td>\n",
       "      <td>-0.169286</td>\n",
       "    </tr>\n",
       "    <tr>\n",
       "      <th>2013-01-02</th>\n",
       "      <td>0.296856</td>\n",
       "      <td>-1.205644</td>\n",
       "      <td>0.579487</td>\n",
       "      <td>0.266552</td>\n",
       "    </tr>\n",
       "    <tr>\n",
       "      <th>2013-01-03</th>\n",
       "      <td>-0.288383</td>\n",
       "      <td>0.314134</td>\n",
       "      <td>0.465957</td>\n",
       "      <td>-0.452328</td>\n",
       "    </tr>\n",
       "    <tr>\n",
       "      <th>2013-01-04</th>\n",
       "      <td>0.018681</td>\n",
       "      <td>2.040517</td>\n",
       "      <td>0.107422</td>\n",
       "      <td>-0.681685</td>\n",
       "    </tr>\n",
       "    <tr>\n",
       "      <th>2013-01-05</th>\n",
       "      <td>1.777284</td>\n",
       "      <td>-2.016222</td>\n",
       "      <td>1.638877</td>\n",
       "      <td>-0.861957</td>\n",
       "    </tr>\n",
       "    <tr>\n",
       "      <th>2013-01-06</th>\n",
       "      <td>0.577523</td>\n",
       "      <td>-0.219787</td>\n",
       "      <td>-0.296909</td>\n",
       "      <td>-1.549203</td>\n",
       "    </tr>\n",
       "  </tbody>\n",
       "</table>\n",
       "</div>"
      ],
      "text/plain": [
       "                   A         B         C         D\n",
       "2013-01-01 -0.399550 -0.052065 -0.355444 -0.169286\n",
       "2013-01-02  0.296856 -1.205644  0.579487  0.266552\n",
       "2013-01-03 -0.288383  0.314134  0.465957 -0.452328\n",
       "2013-01-04  0.018681  2.040517  0.107422 -0.681685\n",
       "2013-01-05  1.777284 -2.016222  1.638877 -0.861957\n",
       "2013-01-06  0.577523 -0.219787 -0.296909 -1.549203"
      ]
     },
     "execution_count": 632,
     "metadata": {},
     "output_type": "execute_result"
    }
   ],
   "source": [
    "df2 =  pd.DataFrame(np.random.randn(6,4), index = dates,\n",
    "                   columns = ['A','B','C','D'])\n",
    "df2"
   ]
  },
  {
   "cell_type": "code",
   "execution_count": 633,
   "metadata": {},
   "outputs": [
    {
     "data": {
      "text/plain": [
       "2013-01-01   -0.399550\n",
       "2013-01-02    0.296856\n",
       "2013-01-03   -0.288383\n",
       "2013-01-04    0.018681\n",
       "2013-01-05    1.777284\n",
       "2013-01-06    0.577523\n",
       "Freq: D, Name: A, dtype: float64"
      ]
     },
     "execution_count": 633,
     "metadata": {},
     "output_type": "execute_result"
    }
   ],
   "source": [
    "df2.A"
   ]
  },
  {
   "cell_type": "markdown",
   "metadata": {},
   "source": [
    "Ook mogelijk om dataframe uit dictionary"
   ]
  },
  {
   "cell_type": "code",
   "execution_count": 634,
   "metadata": {},
   "outputs": [
    {
     "data": {
      "text/html": [
       "<div>\n",
       "<style scoped>\n",
       "    .dataframe tbody tr th:only-of-type {\n",
       "        vertical-align: middle;\n",
       "    }\n",
       "\n",
       "    .dataframe tbody tr th {\n",
       "        vertical-align: top;\n",
       "    }\n",
       "\n",
       "    .dataframe thead th {\n",
       "        text-align: right;\n",
       "    }\n",
       "</style>\n",
       "<table border=\"1\" class=\"dataframe\">\n",
       "  <thead>\n",
       "    <tr style=\"text-align: right;\">\n",
       "      <th></th>\n",
       "      <th>a</th>\n",
       "      <th>c</th>\n",
       "      <th>d</th>\n",
       "      <th>b</th>\n",
       "    </tr>\n",
       "  </thead>\n",
       "  <tbody>\n",
       "    <tr>\n",
       "      <th>0</th>\n",
       "      <td>0</td>\n",
       "      <td>12</td>\n",
       "      <td>221.654006</td>\n",
       "      <td>1.384943</td>\n",
       "    </tr>\n",
       "    <tr>\n",
       "      <th>1</th>\n",
       "      <td>1</td>\n",
       "      <td>13</td>\n",
       "      <td>199.009344</td>\n",
       "      <td>8.819126</td>\n",
       "    </tr>\n",
       "    <tr>\n",
       "      <th>2</th>\n",
       "      <td>2</td>\n",
       "      <td>20</td>\n",
       "      <td>37.394503</td>\n",
       "      <td>-14.848313</td>\n",
       "    </tr>\n",
       "    <tr>\n",
       "      <th>3</th>\n",
       "      <td>3</td>\n",
       "      <td>8</td>\n",
       "      <td>20.110325</td>\n",
       "      <td>2.059894</td>\n",
       "    </tr>\n",
       "    <tr>\n",
       "      <th>4</th>\n",
       "      <td>4</td>\n",
       "      <td>6</td>\n",
       "      <td>20.487703</td>\n",
       "      <td>6.358237</td>\n",
       "    </tr>\n",
       "  </tbody>\n",
       "</table>\n",
       "</div>"
      ],
      "text/plain": [
       "   a   c           d          b\n",
       "0  0  12  221.654006   1.384943\n",
       "1  1  13  199.009344   8.819126\n",
       "2  2  20   37.394503 -14.848313\n",
       "3  3   8   20.110325   2.059894\n",
       "4  4   6   20.487703   6.358237"
      ]
     },
     "execution_count": 634,
     "metadata": {},
     "output_type": "execute_result"
    }
   ],
   "source": [
    "data_df = pd.DataFrame(data)\n",
    "data_df.head() #zo snel inspecteren van de bovenste 4 rijen!"
   ]
  },
  {
   "cell_type": "code",
   "execution_count": 635,
   "metadata": {},
   "outputs": [
    {
     "data": {
      "text/html": [
       "<div>\n",
       "<style scoped>\n",
       "    .dataframe tbody tr th:only-of-type {\n",
       "        vertical-align: middle;\n",
       "    }\n",
       "\n",
       "    .dataframe tbody tr th {\n",
       "        vertical-align: top;\n",
       "    }\n",
       "\n",
       "    .dataframe thead th {\n",
       "        text-align: right;\n",
       "    }\n",
       "</style>\n",
       "<table border=\"1\" class=\"dataframe\">\n",
       "  <thead>\n",
       "    <tr style=\"text-align: right;\">\n",
       "      <th></th>\n",
       "      <th>a</th>\n",
       "      <th>c</th>\n",
       "      <th>d</th>\n",
       "      <th>b</th>\n",
       "    </tr>\n",
       "  </thead>\n",
       "  <tbody>\n",
       "    <tr>\n",
       "      <th>45</th>\n",
       "      <td>45</td>\n",
       "      <td>5</td>\n",
       "      <td>108.573697</td>\n",
       "      <td>53.355492</td>\n",
       "    </tr>\n",
       "    <tr>\n",
       "      <th>46</th>\n",
       "      <td>46</td>\n",
       "      <td>16</td>\n",
       "      <td>108.846491</td>\n",
       "      <td>61.307886</td>\n",
       "    </tr>\n",
       "    <tr>\n",
       "      <th>47</th>\n",
       "      <td>47</td>\n",
       "      <td>45</td>\n",
       "      <td>43.824342</td>\n",
       "      <td>51.099535</td>\n",
       "    </tr>\n",
       "    <tr>\n",
       "      <th>48</th>\n",
       "      <td>48</td>\n",
       "      <td>33</td>\n",
       "      <td>256.318639</td>\n",
       "      <td>46.237031</td>\n",
       "    </tr>\n",
       "    <tr>\n",
       "      <th>49</th>\n",
       "      <td>49</td>\n",
       "      <td>44</td>\n",
       "      <td>0.954450</td>\n",
       "      <td>60.168692</td>\n",
       "    </tr>\n",
       "  </tbody>\n",
       "</table>\n",
       "</div>"
      ],
      "text/plain": [
       "     a   c           d          b\n",
       "45  45   5  108.573697  53.355492\n",
       "46  46  16  108.846491  61.307886\n",
       "47  47  45   43.824342  51.099535\n",
       "48  48  33  256.318639  46.237031\n",
       "49  49  44    0.954450  60.168692"
      ]
     },
     "execution_count": 635,
     "metadata": {},
     "output_type": "execute_result"
    }
   ],
   "source": [
    "data_df.tail()"
   ]
  },
  {
   "cell_type": "code",
   "execution_count": 636,
   "metadata": {},
   "outputs": [
    {
     "data": {
      "text/plain": [
       "a      int32\n",
       "c      int32\n",
       "d    float64\n",
       "b    float64\n",
       "dtype: object"
      ]
     },
     "execution_count": 636,
     "metadata": {},
     "output_type": "execute_result"
    }
   ],
   "source": [
    "data_df.dtypes #Zo de verschillende categorieën! "
   ]
  },
  {
   "cell_type": "code",
   "execution_count": 637,
   "metadata": {},
   "outputs": [
    {
     "data": {
      "text/plain": [
       "DatetimeIndex(['2013-01-01', '2013-01-02', '2013-01-03', '2013-01-04',\n",
       "               '2013-01-05', '2013-01-06'],\n",
       "              dtype='datetime64[ns]', freq='D')"
      ]
     },
     "execution_count": 637,
     "metadata": {},
     "output_type": "execute_result"
    }
   ],
   "source": [
    "df2.index #de rijnamen!"
   ]
  },
  {
   "cell_type": "code",
   "execution_count": 638,
   "metadata": {},
   "outputs": [
    {
     "data": {
      "text/plain": [
       "Index(['A', 'B', 'C', 'D'], dtype='object')"
      ]
     },
     "execution_count": 638,
     "metadata": {},
     "output_type": "execute_result"
    }
   ],
   "source": [
    "df2.columns # de kolomnamen!"
   ]
  },
  {
   "cell_type": "markdown",
   "metadata": {},
   "source": [
    "De mogelijkheid bestaat om naar numpy_array te gaan van dataframe"
   ]
  },
  {
   "cell_type": "code",
   "execution_count": 639,
   "metadata": {},
   "outputs": [
    {
     "data": {
      "text/plain": [
       "array([[-0.39955045, -0.05206471, -0.35544415, -0.16928586],\n",
       "       [ 0.29685567, -1.20564409,  0.57948726,  0.26655162],\n",
       "       [-0.28838265,  0.31413354,  0.46595683, -0.45232795],\n",
       "       [ 0.01868144,  2.04051735,  0.10742238, -0.68168493],\n",
       "       [ 1.77728443, -2.01622178,  1.63887742, -0.86195708],\n",
       "       [ 0.57752327, -0.21978684, -0.29690942, -1.54920266]])"
      ]
     },
     "execution_count": 639,
     "metadata": {},
     "output_type": "execute_result"
    }
   ],
   "source": [
    "numpy_df2 = df2.to_numpy()\n",
    "numpy_df2"
   ]
  },
  {
   "cell_type": "code",
   "execution_count": 640,
   "metadata": {},
   "outputs": [
    {
     "data": {
      "text/plain": [
       "(6, 4)"
      ]
     },
     "execution_count": 640,
     "metadata": {},
     "output_type": "execute_result"
    }
   ],
   "source": [
    "numpy_df2.shape #zelfde vorm als de dataframe!"
   ]
  },
  {
   "cell_type": "markdown",
   "metadata": {},
   "source": [
    "Bemerk dat de indexen of kolomnamen NIET behouden worden door deze transformatie naar numpy array.\n",
    "Je kan van een dataframe snel de statistieken berekenen via .describe()"
   ]
  },
  {
   "cell_type": "code",
   "execution_count": 641,
   "metadata": {},
   "outputs": [
    {
     "data": {
      "text/html": [
       "<div>\n",
       "<style scoped>\n",
       "    .dataframe tbody tr th:only-of-type {\n",
       "        vertical-align: middle;\n",
       "    }\n",
       "\n",
       "    .dataframe tbody tr th {\n",
       "        vertical-align: top;\n",
       "    }\n",
       "\n",
       "    .dataframe thead th {\n",
       "        text-align: right;\n",
       "    }\n",
       "</style>\n",
       "<table border=\"1\" class=\"dataframe\">\n",
       "  <thead>\n",
       "    <tr style=\"text-align: right;\">\n",
       "      <th></th>\n",
       "      <th>A</th>\n",
       "      <th>B</th>\n",
       "      <th>C</th>\n",
       "      <th>D</th>\n",
       "    </tr>\n",
       "  </thead>\n",
       "  <tbody>\n",
       "    <tr>\n",
       "      <th>count</th>\n",
       "      <td>6.000000</td>\n",
       "      <td>6.000000</td>\n",
       "      <td>6.000000</td>\n",
       "      <td>6.000000</td>\n",
       "    </tr>\n",
       "    <tr>\n",
       "      <th>mean</th>\n",
       "      <td>0.330402</td>\n",
       "      <td>-0.189844</td>\n",
       "      <td>0.356565</td>\n",
       "      <td>-0.574651</td>\n",
       "    </tr>\n",
       "    <tr>\n",
       "      <th>std</th>\n",
       "      <td>0.796060</td>\n",
       "      <td>1.386787</td>\n",
       "      <td>0.735125</td>\n",
       "      <td>0.621395</td>\n",
       "    </tr>\n",
       "    <tr>\n",
       "      <th>min</th>\n",
       "      <td>-0.399550</td>\n",
       "      <td>-2.016222</td>\n",
       "      <td>-0.355444</td>\n",
       "      <td>-1.549203</td>\n",
       "    </tr>\n",
       "    <tr>\n",
       "      <th>25%</th>\n",
       "      <td>-0.211617</td>\n",
       "      <td>-0.959180</td>\n",
       "      <td>-0.195826</td>\n",
       "      <td>-0.816889</td>\n",
       "    </tr>\n",
       "    <tr>\n",
       "      <th>50%</th>\n",
       "      <td>0.157769</td>\n",
       "      <td>-0.135926</td>\n",
       "      <td>0.286690</td>\n",
       "      <td>-0.567006</td>\n",
       "    </tr>\n",
       "    <tr>\n",
       "      <th>75%</th>\n",
       "      <td>0.507356</td>\n",
       "      <td>0.222584</td>\n",
       "      <td>0.551105</td>\n",
       "      <td>-0.240046</td>\n",
       "    </tr>\n",
       "    <tr>\n",
       "      <th>max</th>\n",
       "      <td>1.777284</td>\n",
       "      <td>2.040517</td>\n",
       "      <td>1.638877</td>\n",
       "      <td>0.266552</td>\n",
       "    </tr>\n",
       "  </tbody>\n",
       "</table>\n",
       "</div>"
      ],
      "text/plain": [
       "              A         B         C         D\n",
       "count  6.000000  6.000000  6.000000  6.000000\n",
       "mean   0.330402 -0.189844  0.356565 -0.574651\n",
       "std    0.796060  1.386787  0.735125  0.621395\n",
       "min   -0.399550 -2.016222 -0.355444 -1.549203\n",
       "25%   -0.211617 -0.959180 -0.195826 -0.816889\n",
       "50%    0.157769 -0.135926  0.286690 -0.567006\n",
       "75%    0.507356  0.222584  0.551105 -0.240046\n",
       "max    1.777284  2.040517  1.638877  0.266552"
      ]
     },
     "execution_count": 641,
     "metadata": {},
     "output_type": "execute_result"
    }
   ],
   "source": [
    "df2.describe()"
   ]
  },
  {
   "cell_type": "code",
   "execution_count": 642,
   "metadata": {},
   "outputs": [
    {
     "data": {
      "text/html": [
       "<div>\n",
       "<style scoped>\n",
       "    .dataframe tbody tr th:only-of-type {\n",
       "        vertical-align: middle;\n",
       "    }\n",
       "\n",
       "    .dataframe tbody tr th {\n",
       "        vertical-align: top;\n",
       "    }\n",
       "\n",
       "    .dataframe thead th {\n",
       "        text-align: right;\n",
       "    }\n",
       "</style>\n",
       "<table border=\"1\" class=\"dataframe\">\n",
       "  <thead>\n",
       "    <tr style=\"text-align: right;\">\n",
       "      <th></th>\n",
       "      <th>2013-01-01</th>\n",
       "      <th>2013-01-02</th>\n",
       "      <th>2013-01-03</th>\n",
       "      <th>2013-01-04</th>\n",
       "      <th>2013-01-05</th>\n",
       "      <th>2013-01-06</th>\n",
       "    </tr>\n",
       "  </thead>\n",
       "  <tbody>\n",
       "    <tr>\n",
       "      <th>A</th>\n",
       "      <td>-0.399550</td>\n",
       "      <td>0.296856</td>\n",
       "      <td>-0.288383</td>\n",
       "      <td>0.018681</td>\n",
       "      <td>1.777284</td>\n",
       "      <td>0.577523</td>\n",
       "    </tr>\n",
       "    <tr>\n",
       "      <th>B</th>\n",
       "      <td>-0.052065</td>\n",
       "      <td>-1.205644</td>\n",
       "      <td>0.314134</td>\n",
       "      <td>2.040517</td>\n",
       "      <td>-2.016222</td>\n",
       "      <td>-0.219787</td>\n",
       "    </tr>\n",
       "    <tr>\n",
       "      <th>C</th>\n",
       "      <td>-0.355444</td>\n",
       "      <td>0.579487</td>\n",
       "      <td>0.465957</td>\n",
       "      <td>0.107422</td>\n",
       "      <td>1.638877</td>\n",
       "      <td>-0.296909</td>\n",
       "    </tr>\n",
       "    <tr>\n",
       "      <th>D</th>\n",
       "      <td>-0.169286</td>\n",
       "      <td>0.266552</td>\n",
       "      <td>-0.452328</td>\n",
       "      <td>-0.681685</td>\n",
       "      <td>-0.861957</td>\n",
       "      <td>-1.549203</td>\n",
       "    </tr>\n",
       "  </tbody>\n",
       "</table>\n",
       "</div>"
      ],
      "text/plain": [
       "   2013-01-01  2013-01-02  2013-01-03  2013-01-04  2013-01-05  2013-01-06\n",
       "A   -0.399550    0.296856   -0.288383    0.018681    1.777284    0.577523\n",
       "B   -0.052065   -1.205644    0.314134    2.040517   -2.016222   -0.219787\n",
       "C   -0.355444    0.579487    0.465957    0.107422    1.638877   -0.296909\n",
       "D   -0.169286    0.266552   -0.452328   -0.681685   -0.861957   -1.549203"
      ]
     },
     "execution_count": 642,
     "metadata": {},
     "output_type": "execute_result"
    }
   ],
   "source": [
    "df2.T #transponeren"
   ]
  },
  {
   "cell_type": "markdown",
   "metadata": {},
   "source": [
    "Sorteren op basis van de rijnamen (axis = 0) of obv de kolomnamen (axis = 1)"
   ]
  },
  {
   "cell_type": "code",
   "execution_count": 643,
   "metadata": {},
   "outputs": [
    {
     "data": {
      "text/html": [
       "<div>\n",
       "<style scoped>\n",
       "    .dataframe tbody tr th:only-of-type {\n",
       "        vertical-align: middle;\n",
       "    }\n",
       "\n",
       "    .dataframe tbody tr th {\n",
       "        vertical-align: top;\n",
       "    }\n",
       "\n",
       "    .dataframe thead th {\n",
       "        text-align: right;\n",
       "    }\n",
       "</style>\n",
       "<table border=\"1\" class=\"dataframe\">\n",
       "  <thead>\n",
       "    <tr style=\"text-align: right;\">\n",
       "      <th></th>\n",
       "      <th>D</th>\n",
       "      <th>C</th>\n",
       "      <th>B</th>\n",
       "      <th>A</th>\n",
       "    </tr>\n",
       "  </thead>\n",
       "  <tbody>\n",
       "    <tr>\n",
       "      <th>2013-01-01</th>\n",
       "      <td>-0.169286</td>\n",
       "      <td>-0.355444</td>\n",
       "      <td>-0.052065</td>\n",
       "      <td>-0.399550</td>\n",
       "    </tr>\n",
       "    <tr>\n",
       "      <th>2013-01-02</th>\n",
       "      <td>0.266552</td>\n",
       "      <td>0.579487</td>\n",
       "      <td>-1.205644</td>\n",
       "      <td>0.296856</td>\n",
       "    </tr>\n",
       "    <tr>\n",
       "      <th>2013-01-03</th>\n",
       "      <td>-0.452328</td>\n",
       "      <td>0.465957</td>\n",
       "      <td>0.314134</td>\n",
       "      <td>-0.288383</td>\n",
       "    </tr>\n",
       "    <tr>\n",
       "      <th>2013-01-04</th>\n",
       "      <td>-0.681685</td>\n",
       "      <td>0.107422</td>\n",
       "      <td>2.040517</td>\n",
       "      <td>0.018681</td>\n",
       "    </tr>\n",
       "    <tr>\n",
       "      <th>2013-01-05</th>\n",
       "      <td>-0.861957</td>\n",
       "      <td>1.638877</td>\n",
       "      <td>-2.016222</td>\n",
       "      <td>1.777284</td>\n",
       "    </tr>\n",
       "    <tr>\n",
       "      <th>2013-01-06</th>\n",
       "      <td>-1.549203</td>\n",
       "      <td>-0.296909</td>\n",
       "      <td>-0.219787</td>\n",
       "      <td>0.577523</td>\n",
       "    </tr>\n",
       "  </tbody>\n",
       "</table>\n",
       "</div>"
      ],
      "text/plain": [
       "                   D         C         B         A\n",
       "2013-01-01 -0.169286 -0.355444 -0.052065 -0.399550\n",
       "2013-01-02  0.266552  0.579487 -1.205644  0.296856\n",
       "2013-01-03 -0.452328  0.465957  0.314134 -0.288383\n",
       "2013-01-04 -0.681685  0.107422  2.040517  0.018681\n",
       "2013-01-05 -0.861957  1.638877 -2.016222  1.777284\n",
       "2013-01-06 -1.549203 -0.296909 -0.219787  0.577523"
      ]
     },
     "execution_count": 643,
     "metadata": {},
     "output_type": "execute_result"
    }
   ],
   "source": [
    "df2.sort_index(axis = 1, ascending = False) \n",
    "#kolommen 'afnemend': van D naar A"
   ]
  },
  {
   "cell_type": "code",
   "execution_count": 644,
   "metadata": {},
   "outputs": [
    {
     "data": {
      "text/html": [
       "<div>\n",
       "<style scoped>\n",
       "    .dataframe tbody tr th:only-of-type {\n",
       "        vertical-align: middle;\n",
       "    }\n",
       "\n",
       "    .dataframe tbody tr th {\n",
       "        vertical-align: top;\n",
       "    }\n",
       "\n",
       "    .dataframe thead th {\n",
       "        text-align: right;\n",
       "    }\n",
       "</style>\n",
       "<table border=\"1\" class=\"dataframe\">\n",
       "  <thead>\n",
       "    <tr style=\"text-align: right;\">\n",
       "      <th></th>\n",
       "      <th>A</th>\n",
       "      <th>B</th>\n",
       "      <th>C</th>\n",
       "      <th>D</th>\n",
       "    </tr>\n",
       "  </thead>\n",
       "  <tbody>\n",
       "    <tr>\n",
       "      <th>2013-01-06</th>\n",
       "      <td>0.577523</td>\n",
       "      <td>-0.219787</td>\n",
       "      <td>-0.296909</td>\n",
       "      <td>-1.549203</td>\n",
       "    </tr>\n",
       "    <tr>\n",
       "      <th>2013-01-05</th>\n",
       "      <td>1.777284</td>\n",
       "      <td>-2.016222</td>\n",
       "      <td>1.638877</td>\n",
       "      <td>-0.861957</td>\n",
       "    </tr>\n",
       "    <tr>\n",
       "      <th>2013-01-04</th>\n",
       "      <td>0.018681</td>\n",
       "      <td>2.040517</td>\n",
       "      <td>0.107422</td>\n",
       "      <td>-0.681685</td>\n",
       "    </tr>\n",
       "    <tr>\n",
       "      <th>2013-01-03</th>\n",
       "      <td>-0.288383</td>\n",
       "      <td>0.314134</td>\n",
       "      <td>0.465957</td>\n",
       "      <td>-0.452328</td>\n",
       "    </tr>\n",
       "    <tr>\n",
       "      <th>2013-01-02</th>\n",
       "      <td>0.296856</td>\n",
       "      <td>-1.205644</td>\n",
       "      <td>0.579487</td>\n",
       "      <td>0.266552</td>\n",
       "    </tr>\n",
       "    <tr>\n",
       "      <th>2013-01-01</th>\n",
       "      <td>-0.399550</td>\n",
       "      <td>-0.052065</td>\n",
       "      <td>-0.355444</td>\n",
       "      <td>-0.169286</td>\n",
       "    </tr>\n",
       "  </tbody>\n",
       "</table>\n",
       "</div>"
      ],
      "text/plain": [
       "                   A         B         C         D\n",
       "2013-01-06  0.577523 -0.219787 -0.296909 -1.549203\n",
       "2013-01-05  1.777284 -2.016222  1.638877 -0.861957\n",
       "2013-01-04  0.018681  2.040517  0.107422 -0.681685\n",
       "2013-01-03 -0.288383  0.314134  0.465957 -0.452328\n",
       "2013-01-02  0.296856 -1.205644  0.579487  0.266552\n",
       "2013-01-01 -0.399550 -0.052065 -0.355444 -0.169286"
      ]
     },
     "execution_count": 644,
     "metadata": {},
     "output_type": "execute_result"
    }
   ],
   "source": [
    "df2.sort_index(axis = 0, ascending = False)\n",
    "#Data afnemend! "
   ]
  },
  {
   "cell_type": "markdown",
   "metadata": {},
   "source": [
    "Ook op de waarden zelf kan je sorteren"
   ]
  },
  {
   "cell_type": "code",
   "execution_count": 645,
   "metadata": {},
   "outputs": [
    {
     "data": {
      "text/html": [
       "<div>\n",
       "<style scoped>\n",
       "    .dataframe tbody tr th:only-of-type {\n",
       "        vertical-align: middle;\n",
       "    }\n",
       "\n",
       "    .dataframe tbody tr th {\n",
       "        vertical-align: top;\n",
       "    }\n",
       "\n",
       "    .dataframe thead th {\n",
       "        text-align: right;\n",
       "    }\n",
       "</style>\n",
       "<table border=\"1\" class=\"dataframe\">\n",
       "  <thead>\n",
       "    <tr style=\"text-align: right;\">\n",
       "      <th></th>\n",
       "      <th>A</th>\n",
       "      <th>B</th>\n",
       "      <th>C</th>\n",
       "      <th>D</th>\n",
       "    </tr>\n",
       "  </thead>\n",
       "  <tbody>\n",
       "    <tr>\n",
       "      <th>2013-01-05</th>\n",
       "      <td>1.777284</td>\n",
       "      <td>-2.016222</td>\n",
       "      <td>1.638877</td>\n",
       "      <td>-0.861957</td>\n",
       "    </tr>\n",
       "    <tr>\n",
       "      <th>2013-01-02</th>\n",
       "      <td>0.296856</td>\n",
       "      <td>-1.205644</td>\n",
       "      <td>0.579487</td>\n",
       "      <td>0.266552</td>\n",
       "    </tr>\n",
       "    <tr>\n",
       "      <th>2013-01-06</th>\n",
       "      <td>0.577523</td>\n",
       "      <td>-0.219787</td>\n",
       "      <td>-0.296909</td>\n",
       "      <td>-1.549203</td>\n",
       "    </tr>\n",
       "    <tr>\n",
       "      <th>2013-01-01</th>\n",
       "      <td>-0.399550</td>\n",
       "      <td>-0.052065</td>\n",
       "      <td>-0.355444</td>\n",
       "      <td>-0.169286</td>\n",
       "    </tr>\n",
       "    <tr>\n",
       "      <th>2013-01-03</th>\n",
       "      <td>-0.288383</td>\n",
       "      <td>0.314134</td>\n",
       "      <td>0.465957</td>\n",
       "      <td>-0.452328</td>\n",
       "    </tr>\n",
       "    <tr>\n",
       "      <th>2013-01-04</th>\n",
       "      <td>0.018681</td>\n",
       "      <td>2.040517</td>\n",
       "      <td>0.107422</td>\n",
       "      <td>-0.681685</td>\n",
       "    </tr>\n",
       "  </tbody>\n",
       "</table>\n",
       "</div>"
      ],
      "text/plain": [
       "                   A         B         C         D\n",
       "2013-01-05  1.777284 -2.016222  1.638877 -0.861957\n",
       "2013-01-02  0.296856 -1.205644  0.579487  0.266552\n",
       "2013-01-06  0.577523 -0.219787 -0.296909 -1.549203\n",
       "2013-01-01 -0.399550 -0.052065 -0.355444 -0.169286\n",
       "2013-01-03 -0.288383  0.314134  0.465957 -0.452328\n",
       "2013-01-04  0.018681  2.040517  0.107422 -0.681685"
      ]
     },
     "execution_count": 645,
     "metadata": {},
     "output_type": "execute_result"
    }
   ],
   "source": [
    "df2.sort_values(by = 'B') #stijgende waarden"
   ]
  },
  {
   "cell_type": "markdown",
   "metadata": {},
   "source": [
    "Uitschrijven naar csv"
   ]
  },
  {
   "cell_type": "code",
   "execution_count": 646,
   "metadata": {},
   "outputs": [],
   "source": [
    "df2.to_csv('df2.csv')"
   ]
  },
  {
   "cell_type": "markdown",
   "metadata": {},
   "source": [
    "Verschillende manieren van indexering bestaan:\n",
    "* op kolom"
   ]
  },
  {
   "cell_type": "code",
   "execution_count": 647,
   "metadata": {},
   "outputs": [
    {
     "data": {
      "text/plain": [
       "2013-01-01   -0.399550\n",
       "2013-01-02    0.296856\n",
       "2013-01-03   -0.288383\n",
       "2013-01-04    0.018681\n",
       "2013-01-05    1.777284\n",
       "2013-01-06    0.577523\n",
       "Freq: D, Name: A, dtype: float64"
      ]
     },
     "execution_count": 647,
     "metadata": {},
     "output_type": "execute_result"
    }
   ],
   "source": [
    "df2['A']"
   ]
  },
  {
   "cell_type": "code",
   "execution_count": 648,
   "metadata": {},
   "outputs": [
    {
     "data": {
      "text/plain": [
       "2013-01-01   -0.399550\n",
       "2013-01-02    0.296856\n",
       "2013-01-03   -0.288383\n",
       "2013-01-04    0.018681\n",
       "2013-01-05    1.777284\n",
       "2013-01-06    0.577523\n",
       "Freq: D, Name: A, dtype: float64"
      ]
     },
     "execution_count": 648,
     "metadata": {},
     "output_type": "execute_result"
    }
   ],
   "source": [
    "df2.A"
   ]
  },
  {
   "cell_type": "markdown",
   "metadata": {},
   "source": [
    "* op rij"
   ]
  },
  {
   "cell_type": "code",
   "execution_count": 649,
   "metadata": {},
   "outputs": [
    {
     "data": {
      "text/html": [
       "<div>\n",
       "<style scoped>\n",
       "    .dataframe tbody tr th:only-of-type {\n",
       "        vertical-align: middle;\n",
       "    }\n",
       "\n",
       "    .dataframe tbody tr th {\n",
       "        vertical-align: top;\n",
       "    }\n",
       "\n",
       "    .dataframe thead th {\n",
       "        text-align: right;\n",
       "    }\n",
       "</style>\n",
       "<table border=\"1\" class=\"dataframe\">\n",
       "  <thead>\n",
       "    <tr style=\"text-align: right;\">\n",
       "      <th></th>\n",
       "      <th>A</th>\n",
       "      <th>B</th>\n",
       "      <th>C</th>\n",
       "      <th>D</th>\n",
       "    </tr>\n",
       "  </thead>\n",
       "  <tbody>\n",
       "    <tr>\n",
       "      <th>2013-01-01</th>\n",
       "      <td>-0.399550</td>\n",
       "      <td>-0.052065</td>\n",
       "      <td>-0.355444</td>\n",
       "      <td>-0.169286</td>\n",
       "    </tr>\n",
       "    <tr>\n",
       "      <th>2013-01-02</th>\n",
       "      <td>0.296856</td>\n",
       "      <td>-1.205644</td>\n",
       "      <td>0.579487</td>\n",
       "      <td>0.266552</td>\n",
       "    </tr>\n",
       "    <tr>\n",
       "      <th>2013-01-03</th>\n",
       "      <td>-0.288383</td>\n",
       "      <td>0.314134</td>\n",
       "      <td>0.465957</td>\n",
       "      <td>-0.452328</td>\n",
       "    </tr>\n",
       "  </tbody>\n",
       "</table>\n",
       "</div>"
      ],
      "text/plain": [
       "                   A         B         C         D\n",
       "2013-01-01 -0.399550 -0.052065 -0.355444 -0.169286\n",
       "2013-01-02  0.296856 -1.205644  0.579487  0.266552\n",
       "2013-01-03 -0.288383  0.314134  0.465957 -0.452328"
      ]
     },
     "execution_count": 649,
     "metadata": {},
     "output_type": "execute_result"
    }
   ],
   "source": [
    "df2[0:3] #kolom 1 t.e.m. 2"
   ]
  },
  {
   "cell_type": "markdown",
   "metadata": {},
   "source": [
    "* op label (loc)"
   ]
  },
  {
   "cell_type": "code",
   "execution_count": 650,
   "metadata": {},
   "outputs": [
    {
     "data": {
      "text/plain": [
       "Timestamp('2013-01-01 00:00:00', freq='D')"
      ]
     },
     "execution_count": 650,
     "metadata": {},
     "output_type": "execute_result"
    }
   ],
   "source": [
    "dates[0]"
   ]
  },
  {
   "cell_type": "code",
   "execution_count": 651,
   "metadata": {},
   "outputs": [
    {
     "data": {
      "text/plain": [
       "A   -0.399550\n",
       "B   -0.052065\n",
       "C   -0.355444\n",
       "D   -0.169286\n",
       "Name: 2013-01-01 00:00:00, dtype: float64"
      ]
     },
     "execution_count": 651,
     "metadata": {},
     "output_type": "execute_result"
    }
   ],
   "source": [
    "df2.loc[dates[0]]"
   ]
  },
  {
   "cell_type": "code",
   "execution_count": 652,
   "metadata": {},
   "outputs": [
    {
     "data": {
      "text/html": [
       "<div>\n",
       "<style scoped>\n",
       "    .dataframe tbody tr th:only-of-type {\n",
       "        vertical-align: middle;\n",
       "    }\n",
       "\n",
       "    .dataframe tbody tr th {\n",
       "        vertical-align: top;\n",
       "    }\n",
       "\n",
       "    .dataframe thead th {\n",
       "        text-align: right;\n",
       "    }\n",
       "</style>\n",
       "<table border=\"1\" class=\"dataframe\">\n",
       "  <thead>\n",
       "    <tr style=\"text-align: right;\">\n",
       "      <th></th>\n",
       "      <th>A</th>\n",
       "      <th>B</th>\n",
       "    </tr>\n",
       "  </thead>\n",
       "  <tbody>\n",
       "    <tr>\n",
       "      <th>2013-01-01</th>\n",
       "      <td>-0.399550</td>\n",
       "      <td>-0.052065</td>\n",
       "    </tr>\n",
       "    <tr>\n",
       "      <th>2013-01-02</th>\n",
       "      <td>0.296856</td>\n",
       "      <td>-1.205644</td>\n",
       "    </tr>\n",
       "    <tr>\n",
       "      <th>2013-01-03</th>\n",
       "      <td>-0.288383</td>\n",
       "      <td>0.314134</td>\n",
       "    </tr>\n",
       "    <tr>\n",
       "      <th>2013-01-04</th>\n",
       "      <td>0.018681</td>\n",
       "      <td>2.040517</td>\n",
       "    </tr>\n",
       "    <tr>\n",
       "      <th>2013-01-05</th>\n",
       "      <td>1.777284</td>\n",
       "      <td>-2.016222</td>\n",
       "    </tr>\n",
       "    <tr>\n",
       "      <th>2013-01-06</th>\n",
       "      <td>0.577523</td>\n",
       "      <td>-0.219787</td>\n",
       "    </tr>\n",
       "  </tbody>\n",
       "</table>\n",
       "</div>"
      ],
      "text/plain": [
       "                   A         B\n",
       "2013-01-01 -0.399550 -0.052065\n",
       "2013-01-02  0.296856 -1.205644\n",
       "2013-01-03 -0.288383  0.314134\n",
       "2013-01-04  0.018681  2.040517\n",
       "2013-01-05  1.777284 -2.016222\n",
       "2013-01-06  0.577523 -0.219787"
      ]
     },
     "execution_count": 652,
     "metadata": {},
     "output_type": "execute_result"
    }
   ],
   "source": [
    "#multilabe\n",
    "df2.loc[:,['A','B']]"
   ]
  },
  {
   "cell_type": "markdown",
   "metadata": {},
   "source": [
    "* op positie (iloc)"
   ]
  },
  {
   "cell_type": "code",
   "execution_count": 653,
   "metadata": {},
   "outputs": [
    {
     "data": {
      "text/plain": [
       "-0.3995504488136694"
      ]
     },
     "execution_count": 653,
     "metadata": {},
     "output_type": "execute_result"
    }
   ],
   "source": [
    "df2.iloc[0,0]"
   ]
  },
  {
   "cell_type": "code",
   "execution_count": 654,
   "metadata": {},
   "outputs": [
    {
     "data": {
      "text/plain": [
       "A   -0.399550\n",
       "B   -0.052065\n",
       "C   -0.355444\n",
       "D   -0.169286\n",
       "Name: 2013-01-01 00:00:00, dtype: float64"
      ]
     },
     "execution_count": 654,
     "metadata": {},
     "output_type": "execute_result"
    }
   ],
   "source": [
    "df2.iloc[0] #selectie van de 1e rij!"
   ]
  },
  {
   "cell_type": "code",
   "execution_count": 655,
   "metadata": {},
   "outputs": [
    {
     "data": {
      "text/plain": [
       "A   -0.399550\n",
       "B   -0.052065\n",
       "C   -0.355444\n",
       "D   -0.169286\n",
       "Name: 2013-01-01 00:00:00, dtype: float64"
      ]
     },
     "execution_count": 655,
     "metadata": {},
     "output_type": "execute_result"
    }
   ],
   "source": [
    "df2.iloc[0,:] #identike aan hierboven, meer matlab like"
   ]
  },
  {
   "cell_type": "code",
   "execution_count": 656,
   "metadata": {},
   "outputs": [
    {
     "data": {
      "text/plain": [
       "2013-01-01   -0.399550\n",
       "2013-01-02    0.296856\n",
       "Freq: D, Name: A, dtype: float64"
      ]
     },
     "execution_count": 656,
     "metadata": {},
     "output_type": "execute_result"
    }
   ],
   "source": [
    "#je kan lists gebruiken binnen de indexering\n",
    "df2.iloc[[0,1],0]"
   ]
  },
  {
   "cell_type": "markdown",
   "metadata": {},
   "source": [
    "* Boolean indexing "
   ]
  },
  {
   "cell_type": "code",
   "execution_count": 657,
   "metadata": {},
   "outputs": [
    {
     "data": {
      "text/html": [
       "<div>\n",
       "<style scoped>\n",
       "    .dataframe tbody tr th:only-of-type {\n",
       "        vertical-align: middle;\n",
       "    }\n",
       "\n",
       "    .dataframe tbody tr th {\n",
       "        vertical-align: top;\n",
       "    }\n",
       "\n",
       "    .dataframe thead th {\n",
       "        text-align: right;\n",
       "    }\n",
       "</style>\n",
       "<table border=\"1\" class=\"dataframe\">\n",
       "  <thead>\n",
       "    <tr style=\"text-align: right;\">\n",
       "      <th></th>\n",
       "      <th>A</th>\n",
       "      <th>B</th>\n",
       "      <th>C</th>\n",
       "      <th>D</th>\n",
       "    </tr>\n",
       "  </thead>\n",
       "  <tbody>\n",
       "    <tr>\n",
       "      <th>2013-01-01</th>\n",
       "      <td>NaN</td>\n",
       "      <td>NaN</td>\n",
       "      <td>NaN</td>\n",
       "      <td>NaN</td>\n",
       "    </tr>\n",
       "    <tr>\n",
       "      <th>2013-01-02</th>\n",
       "      <td>0.296856</td>\n",
       "      <td>NaN</td>\n",
       "      <td>0.579487</td>\n",
       "      <td>0.266552</td>\n",
       "    </tr>\n",
       "    <tr>\n",
       "      <th>2013-01-03</th>\n",
       "      <td>NaN</td>\n",
       "      <td>0.314134</td>\n",
       "      <td>0.465957</td>\n",
       "      <td>NaN</td>\n",
       "    </tr>\n",
       "    <tr>\n",
       "      <th>2013-01-04</th>\n",
       "      <td>0.018681</td>\n",
       "      <td>2.040517</td>\n",
       "      <td>0.107422</td>\n",
       "      <td>NaN</td>\n",
       "    </tr>\n",
       "    <tr>\n",
       "      <th>2013-01-05</th>\n",
       "      <td>1.777284</td>\n",
       "      <td>NaN</td>\n",
       "      <td>1.638877</td>\n",
       "      <td>NaN</td>\n",
       "    </tr>\n",
       "    <tr>\n",
       "      <th>2013-01-06</th>\n",
       "      <td>0.577523</td>\n",
       "      <td>NaN</td>\n",
       "      <td>NaN</td>\n",
       "      <td>NaN</td>\n",
       "    </tr>\n",
       "  </tbody>\n",
       "</table>\n",
       "</div>"
      ],
      "text/plain": [
       "                   A         B         C         D\n",
       "2013-01-01       NaN       NaN       NaN       NaN\n",
       "2013-01-02  0.296856       NaN  0.579487  0.266552\n",
       "2013-01-03       NaN  0.314134  0.465957       NaN\n",
       "2013-01-04  0.018681  2.040517  0.107422       NaN\n",
       "2013-01-05  1.777284       NaN  1.638877       NaN\n",
       "2013-01-06  0.577523       NaN       NaN       NaN"
      ]
     },
     "execution_count": 657,
     "metadata": {},
     "output_type": "execute_result"
    }
   ],
   "source": [
    "df2[df2 > 0]"
   ]
  },
  {
   "cell_type": "code",
   "execution_count": 658,
   "metadata": {},
   "outputs": [
    {
     "data": {
      "text/html": [
       "<div>\n",
       "<style scoped>\n",
       "    .dataframe tbody tr th:only-of-type {\n",
       "        vertical-align: middle;\n",
       "    }\n",
       "\n",
       "    .dataframe tbody tr th {\n",
       "        vertical-align: top;\n",
       "    }\n",
       "\n",
       "    .dataframe thead th {\n",
       "        text-align: right;\n",
       "    }\n",
       "</style>\n",
       "<table border=\"1\" class=\"dataframe\">\n",
       "  <thead>\n",
       "    <tr style=\"text-align: right;\">\n",
       "      <th></th>\n",
       "      <th>A</th>\n",
       "      <th>B</th>\n",
       "      <th>C</th>\n",
       "      <th>D</th>\n",
       "    </tr>\n",
       "  </thead>\n",
       "  <tbody>\n",
       "    <tr>\n",
       "      <th>2013-01-02</th>\n",
       "      <td>0.296856</td>\n",
       "      <td>-1.205644</td>\n",
       "      <td>0.579487</td>\n",
       "      <td>0.266552</td>\n",
       "    </tr>\n",
       "    <tr>\n",
       "      <th>2013-01-04</th>\n",
       "      <td>0.018681</td>\n",
       "      <td>2.040517</td>\n",
       "      <td>0.107422</td>\n",
       "      <td>-0.681685</td>\n",
       "    </tr>\n",
       "    <tr>\n",
       "      <th>2013-01-05</th>\n",
       "      <td>1.777284</td>\n",
       "      <td>-2.016222</td>\n",
       "      <td>1.638877</td>\n",
       "      <td>-0.861957</td>\n",
       "    </tr>\n",
       "    <tr>\n",
       "      <th>2013-01-06</th>\n",
       "      <td>0.577523</td>\n",
       "      <td>-0.219787</td>\n",
       "      <td>-0.296909</td>\n",
       "      <td>-1.549203</td>\n",
       "    </tr>\n",
       "  </tbody>\n",
       "</table>\n",
       "</div>"
      ],
      "text/plain": [
       "                   A         B         C         D\n",
       "2013-01-02  0.296856 -1.205644  0.579487  0.266552\n",
       "2013-01-04  0.018681  2.040517  0.107422 -0.681685\n",
       "2013-01-05  1.777284 -2.016222  1.638877 -0.861957\n",
       "2013-01-06  0.577523 -0.219787 -0.296909 -1.549203"
      ]
     },
     "execution_count": 658,
     "metadata": {},
     "output_type": "execute_result"
    }
   ],
   "source": [
    "df2[df2.A > 0]"
   ]
  },
  {
   "cell_type": "markdown",
   "metadata": {},
   "source": [
    "Analoog aan numpy, moet je hier met .copy() werken om te verhindere dat problemen ontstaan"
   ]
  },
  {
   "cell_type": "code",
   "execution_count": 659,
   "metadata": {},
   "outputs": [
    {
     "name": "stdout",
     "output_type": "stream",
     "text": [
      "1000.0\n",
      "-0.3995504488136694\n"
     ]
    }
   ],
   "source": [
    "#met copy()\n",
    "df2copy = df2.copy()\n",
    "df2copy.iloc[0,0] = 1000\n",
    "print(df2copy.iloc[0,0])\n",
    "print(df2.iloc[0,0])\n",
    "#geen probleem :) "
   ]
  },
  {
   "cell_type": "code",
   "execution_count": 660,
   "metadata": {},
   "outputs": [
    {
     "name": "stdout",
     "output_type": "stream",
     "text": [
      "1000.0\n",
      "1000.0\n"
     ]
    }
   ],
   "source": [
    "# zonder copy()\n",
    "df2_no_copy = df2copy\n",
    "df2_no_copy.iloc[0,0] = 1000\n",
    "print(df2_no_copy.iloc[0,0])\n",
    "print(df2copy.iloc[0,0])\n",
    "#niet goed, allebei naar 1000 :("
   ]
  },
  {
   "cell_type": "markdown",
   "metadata": {},
   "source": [
    "missing data wordt met np.nan vertegenwoordigd"
   ]
  },
  {
   "cell_type": "markdown",
   "metadata": {},
   "source": [
    "**Statistieken**"
   ]
  },
  {
   "cell_type": "code",
   "execution_count": 661,
   "metadata": {},
   "outputs": [
    {
     "data": {
      "text/plain": [
       "A    0.330402\n",
       "B   -0.189844\n",
       "C    0.356565\n",
       "D   -0.574651\n",
       "dtype: float64"
      ]
     },
     "execution_count": 661,
     "metadata": {},
     "output_type": "execute_result"
    }
   ],
   "source": [
    "df2.mean() #default is dus de rijen samenvatten"
   ]
  },
  {
   "cell_type": "code",
   "execution_count": 662,
   "metadata": {},
   "outputs": [
    {
     "data": {
      "text/plain": [
       "A    0.330402\n",
       "B   -0.189844\n",
       "C    0.356565\n",
       "D   -0.574651\n",
       "dtype: float64"
      ]
     },
     "execution_count": 662,
     "metadata": {},
     "output_type": "execute_result"
    }
   ],
   "source": [
    "df2.mean(axis = 0) #rij: axis = 0"
   ]
  },
  {
   "cell_type": "code",
   "execution_count": 663,
   "metadata": {},
   "outputs": [
    {
     "data": {
      "text/plain": [
       "2013-01-01   -0.244086\n",
       "2013-01-02   -0.015687\n",
       "2013-01-03    0.009845\n",
       "2013-01-04    0.371234\n",
       "2013-01-05    0.134496\n",
       "2013-01-06   -0.372094\n",
       "Freq: D, dtype: float64"
      ]
     },
     "execution_count": 663,
     "metadata": {},
     "output_type": "execute_result"
    }
   ],
   "source": [
    "df2.mean(axis = 1) #de kolommen samenvatten"
   ]
  },
  {
   "cell_type": "markdown",
   "metadata": {},
   "source": [
    "**Functies toepassen**"
   ]
  },
  {
   "cell_type": "code",
   "execution_count": 664,
   "metadata": {},
   "outputs": [
    {
     "data": {
      "text/plain": [
       "A    1.982412\n",
       "B   -1.139067\n",
       "C    2.139390\n",
       "D   -3.447907\n",
       "dtype: float64"
      ]
     },
     "execution_count": 664,
     "metadata": {},
     "output_type": "execute_result"
    }
   ],
   "source": [
    "df2.apply(np.sum)"
   ]
  },
  {
   "cell_type": "code",
   "execution_count": 665,
   "metadata": {},
   "outputs": [
    {
     "data": {
      "text/plain": [
       "16"
      ]
     },
     "execution_count": 665,
     "metadata": {},
     "output_type": "execute_result"
    }
   ],
   "source": [
    "def kwadraat(x):\n",
    "    return x**2\n",
    "kwadraat(4)"
   ]
  },
  {
   "cell_type": "markdown",
   "metadata": {},
   "source": [
    "Anonieme functie aanmaken in Python (analoog aan f = @(x) ... in MATLAB)"
   ]
  },
  {
   "cell_type": "code",
   "execution_count": 666,
   "metadata": {},
   "outputs": [
    {
     "data": {
      "text/plain": [
       "13"
      ]
     },
     "execution_count": 666,
     "metadata": {},
     "output_type": "execute_result"
    }
   ],
   "source": [
    "anon_functie = lambda x: x.max() - x.min() \n",
    "ar = np.arange(1,15,1)\n",
    "anon_functie(ar)"
   ]
  },
  {
   "cell_type": "code",
   "execution_count": 667,
   "metadata": {},
   "outputs": [
    {
     "data": {
      "text/plain": [
       "A    2.176835\n",
       "B    4.056739\n",
       "C    1.994322\n",
       "D    1.815754\n",
       "dtype: float64"
      ]
     },
     "execution_count": 667,
     "metadata": {},
     "output_type": "execute_result"
    }
   ],
   "source": [
    "df2.apply(anon_functie)"
   ]
  },
  {
   "cell_type": "markdown",
   "metadata": {},
   "source": [
    "**Merging mogelijkheden**"
   ]
  },
  {
   "cell_type": "code",
   "execution_count": 668,
   "metadata": {},
   "outputs": [
    {
     "data": {
      "text/plain": [
       "[          0         1         2         3\n",
       " 0 -0.962756  0.673059 -0.338714  0.934400\n",
       " 1 -0.301519  0.188040  0.289395  0.626459\n",
       " 2  0.806653 -0.774610  2.164939  0.434949,\n",
       "           0         1         2         3\n",
       " 3  0.854517 -0.889977 -0.499065  0.227739\n",
       " 4 -0.774256  0.117110  1.430871  0.225078\n",
       " 5  1.924492  0.931433  1.268076  1.382164\n",
       " 6  1.122449 -0.749604 -1.517859  0.198719,\n",
       "           0         1         2         3\n",
       " 7  0.674617  1.441123 -1.452570 -0.282124\n",
       " 8 -0.394086  0.815560  2.506577 -1.452358\n",
       " 9 -0.874151 -0.424731 -0.131686 -1.355102]"
      ]
     },
     "execution_count": 668,
     "metadata": {},
     "output_type": "execute_result"
    }
   ],
   "source": [
    "df = pd.DataFrame(np.random.randn(10, 4))\n",
    "pieces = [df.iloc[0:3,:],df.iloc[3:7,:],df.iloc[7:,:]]\n",
    "pieces "
   ]
  },
  {
   "cell_type": "code",
   "execution_count": 669,
   "metadata": {},
   "outputs": [
    {
     "data": {
      "text/plain": [
       "list"
      ]
     },
     "execution_count": 669,
     "metadata": {},
     "output_type": "execute_result"
    }
   ],
   "source": [
    "type(pieces) #is een list van dataframes!"
   ]
  },
  {
   "cell_type": "code",
   "execution_count": 670,
   "metadata": {},
   "outputs": [
    {
     "data": {
      "text/html": [
       "<div>\n",
       "<style scoped>\n",
       "    .dataframe tbody tr th:only-of-type {\n",
       "        vertical-align: middle;\n",
       "    }\n",
       "\n",
       "    .dataframe tbody tr th {\n",
       "        vertical-align: top;\n",
       "    }\n",
       "\n",
       "    .dataframe thead th {\n",
       "        text-align: right;\n",
       "    }\n",
       "</style>\n",
       "<table border=\"1\" class=\"dataframe\">\n",
       "  <thead>\n",
       "    <tr style=\"text-align: right;\">\n",
       "      <th></th>\n",
       "      <th>0</th>\n",
       "      <th>1</th>\n",
       "      <th>2</th>\n",
       "      <th>3</th>\n",
       "    </tr>\n",
       "  </thead>\n",
       "  <tbody>\n",
       "    <tr>\n",
       "      <th>0</th>\n",
       "      <td>-0.962756</td>\n",
       "      <td>0.673059</td>\n",
       "      <td>-0.338714</td>\n",
       "      <td>0.934400</td>\n",
       "    </tr>\n",
       "    <tr>\n",
       "      <th>1</th>\n",
       "      <td>-0.301519</td>\n",
       "      <td>0.188040</td>\n",
       "      <td>0.289395</td>\n",
       "      <td>0.626459</td>\n",
       "    </tr>\n",
       "    <tr>\n",
       "      <th>2</th>\n",
       "      <td>0.806653</td>\n",
       "      <td>-0.774610</td>\n",
       "      <td>2.164939</td>\n",
       "      <td>0.434949</td>\n",
       "    </tr>\n",
       "  </tbody>\n",
       "</table>\n",
       "</div>"
      ],
      "text/plain": [
       "          0         1         2         3\n",
       "0 -0.962756  0.673059 -0.338714  0.934400\n",
       "1 -0.301519  0.188040  0.289395  0.626459\n",
       "2  0.806653 -0.774610  2.164939  0.434949"
      ]
     },
     "execution_count": 670,
     "metadata": {},
     "output_type": "execute_result"
    }
   ],
   "source": [
    "pieces[0]"
   ]
  },
  {
   "cell_type": "code",
   "execution_count": 671,
   "metadata": {},
   "outputs": [
    {
     "data": {
      "text/html": [
       "<div>\n",
       "<style scoped>\n",
       "    .dataframe tbody tr th:only-of-type {\n",
       "        vertical-align: middle;\n",
       "    }\n",
       "\n",
       "    .dataframe tbody tr th {\n",
       "        vertical-align: top;\n",
       "    }\n",
       "\n",
       "    .dataframe thead th {\n",
       "        text-align: right;\n",
       "    }\n",
       "</style>\n",
       "<table border=\"1\" class=\"dataframe\">\n",
       "  <thead>\n",
       "    <tr style=\"text-align: right;\">\n",
       "      <th></th>\n",
       "      <th>0</th>\n",
       "      <th>1</th>\n",
       "      <th>2</th>\n",
       "      <th>3</th>\n",
       "    </tr>\n",
       "  </thead>\n",
       "  <tbody>\n",
       "    <tr>\n",
       "      <th>0</th>\n",
       "      <td>-0.962756</td>\n",
       "      <td>0.673059</td>\n",
       "      <td>-0.338714</td>\n",
       "      <td>0.934400</td>\n",
       "    </tr>\n",
       "    <tr>\n",
       "      <th>1</th>\n",
       "      <td>-0.301519</td>\n",
       "      <td>0.188040</td>\n",
       "      <td>0.289395</td>\n",
       "      <td>0.626459</td>\n",
       "    </tr>\n",
       "    <tr>\n",
       "      <th>2</th>\n",
       "      <td>0.806653</td>\n",
       "      <td>-0.774610</td>\n",
       "      <td>2.164939</td>\n",
       "      <td>0.434949</td>\n",
       "    </tr>\n",
       "    <tr>\n",
       "      <th>3</th>\n",
       "      <td>0.854517</td>\n",
       "      <td>-0.889977</td>\n",
       "      <td>-0.499065</td>\n",
       "      <td>0.227739</td>\n",
       "    </tr>\n",
       "    <tr>\n",
       "      <th>4</th>\n",
       "      <td>-0.774256</td>\n",
       "      <td>0.117110</td>\n",
       "      <td>1.430871</td>\n",
       "      <td>0.225078</td>\n",
       "    </tr>\n",
       "    <tr>\n",
       "      <th>5</th>\n",
       "      <td>1.924492</td>\n",
       "      <td>0.931433</td>\n",
       "      <td>1.268076</td>\n",
       "      <td>1.382164</td>\n",
       "    </tr>\n",
       "    <tr>\n",
       "      <th>6</th>\n",
       "      <td>1.122449</td>\n",
       "      <td>-0.749604</td>\n",
       "      <td>-1.517859</td>\n",
       "      <td>0.198719</td>\n",
       "    </tr>\n",
       "    <tr>\n",
       "      <th>7</th>\n",
       "      <td>0.674617</td>\n",
       "      <td>1.441123</td>\n",
       "      <td>-1.452570</td>\n",
       "      <td>-0.282124</td>\n",
       "    </tr>\n",
       "    <tr>\n",
       "      <th>8</th>\n",
       "      <td>-0.394086</td>\n",
       "      <td>0.815560</td>\n",
       "      <td>2.506577</td>\n",
       "      <td>-1.452358</td>\n",
       "    </tr>\n",
       "    <tr>\n",
       "      <th>9</th>\n",
       "      <td>-0.874151</td>\n",
       "      <td>-0.424731</td>\n",
       "      <td>-0.131686</td>\n",
       "      <td>-1.355102</td>\n",
       "    </tr>\n",
       "  </tbody>\n",
       "</table>\n",
       "</div>"
      ],
      "text/plain": [
       "          0         1         2         3\n",
       "0 -0.962756  0.673059 -0.338714  0.934400\n",
       "1 -0.301519  0.188040  0.289395  0.626459\n",
       "2  0.806653 -0.774610  2.164939  0.434949\n",
       "3  0.854517 -0.889977 -0.499065  0.227739\n",
       "4 -0.774256  0.117110  1.430871  0.225078\n",
       "5  1.924492  0.931433  1.268076  1.382164\n",
       "6  1.122449 -0.749604 -1.517859  0.198719\n",
       "7  0.674617  1.441123 -1.452570 -0.282124\n",
       "8 -0.394086  0.815560  2.506577 -1.452358\n",
       "9 -0.874151 -0.424731 -0.131686 -1.355102"
      ]
     },
     "execution_count": 671,
     "metadata": {},
     "output_type": "execute_result"
    }
   ],
   "source": [
    "pd.concat(pieces) #terug in één geheel"
   ]
  },
  {
   "cell_type": "code",
   "execution_count": 672,
   "metadata": {},
   "outputs": [
    {
     "name": "stdout",
     "output_type": "stream",
     "text": [
      "   key  lval\n",
      "0  foo     1\n",
      "1  foo     2\n",
      "   key  rval\n",
      "0  foo     4\n",
      "1  foo     5\n"
     ]
    }
   ],
   "source": [
    "left = pd.DataFrame({\"key\": [\"foo\", \"foo\"], \"lval\": [1, 2]})\n",
    "right = pd.DataFrame({\"key\": [\"foo\", \"foo\"], \"rval\": [4, 5]})\n",
    "print(left)\n",
    "print(right)\n"
   ]
  },
  {
   "cell_type": "code",
   "execution_count": 673,
   "metadata": {},
   "outputs": [
    {
     "data": {
      "text/plain": [
       "0    foo\n",
       "1    foo\n",
       "Name: key, dtype: object"
      ]
     },
     "execution_count": 673,
     "metadata": {},
     "output_type": "execute_result"
    }
   ],
   "source": [
    "left.key"
   ]
  },
  {
   "cell_type": "code",
   "execution_count": 674,
   "metadata": {},
   "outputs": [
    {
     "data": {
      "text/plain": [
       "0    1\n",
       "1    2\n",
       "Name: lval, dtype: int64"
      ]
     },
     "execution_count": 674,
     "metadata": {},
     "output_type": "execute_result"
    }
   ],
   "source": [
    "left.lval"
   ]
  },
  {
   "cell_type": "code",
   "execution_count": 675,
   "metadata": {},
   "outputs": [
    {
     "data": {
      "text/plain": [
       "pandas.core.frame.DataFrame"
      ]
     },
     "execution_count": 675,
     "metadata": {},
     "output_type": "execute_result"
    }
   ],
   "source": [
    "type(left)"
   ]
  },
  {
   "cell_type": "code",
   "execution_count": 676,
   "metadata": {},
   "outputs": [
    {
     "data": {
      "text/html": [
       "<div>\n",
       "<style scoped>\n",
       "    .dataframe tbody tr th:only-of-type {\n",
       "        vertical-align: middle;\n",
       "    }\n",
       "\n",
       "    .dataframe tbody tr th {\n",
       "        vertical-align: top;\n",
       "    }\n",
       "\n",
       "    .dataframe thead th {\n",
       "        text-align: right;\n",
       "    }\n",
       "</style>\n",
       "<table border=\"1\" class=\"dataframe\">\n",
       "  <thead>\n",
       "    <tr style=\"text-align: right;\">\n",
       "      <th></th>\n",
       "      <th>key</th>\n",
       "      <th>lval</th>\n",
       "      <th>rval</th>\n",
       "    </tr>\n",
       "  </thead>\n",
       "  <tbody>\n",
       "    <tr>\n",
       "      <th>0</th>\n",
       "      <td>foo</td>\n",
       "      <td>1</td>\n",
       "      <td>4</td>\n",
       "    </tr>\n",
       "    <tr>\n",
       "      <th>1</th>\n",
       "      <td>foo</td>\n",
       "      <td>1</td>\n",
       "      <td>5</td>\n",
       "    </tr>\n",
       "    <tr>\n",
       "      <th>2</th>\n",
       "      <td>foo</td>\n",
       "      <td>2</td>\n",
       "      <td>4</td>\n",
       "    </tr>\n",
       "    <tr>\n",
       "      <th>3</th>\n",
       "      <td>foo</td>\n",
       "      <td>2</td>\n",
       "      <td>5</td>\n",
       "    </tr>\n",
       "  </tbody>\n",
       "</table>\n",
       "</div>"
      ],
      "text/plain": [
       "   key  lval  rval\n",
       "0  foo     1     4\n",
       "1  foo     1     5\n",
       "2  foo     2     4\n",
       "3  foo     2     5"
      ]
     },
     "execution_count": 676,
     "metadata": {},
     "output_type": "execute_result"
    }
   ],
   "source": [
    "pd.merge(left,right, on = 'key')"
   ]
  },
  {
   "cell_type": "markdown",
   "metadata": {},
   "source": [
    "Groeperen: analoog aan hoe dit werk in R! "
   ]
  },
  {
   "cell_type": "code",
   "execution_count": 677,
   "metadata": {},
   "outputs": [
    {
     "data": {
      "text/html": [
       "<div>\n",
       "<style scoped>\n",
       "    .dataframe tbody tr th:only-of-type {\n",
       "        vertical-align: middle;\n",
       "    }\n",
       "\n",
       "    .dataframe tbody tr th {\n",
       "        vertical-align: top;\n",
       "    }\n",
       "\n",
       "    .dataframe thead th {\n",
       "        text-align: right;\n",
       "    }\n",
       "</style>\n",
       "<table border=\"1\" class=\"dataframe\">\n",
       "  <thead>\n",
       "    <tr style=\"text-align: right;\">\n",
       "      <th></th>\n",
       "      <th>C</th>\n",
       "      <th>D</th>\n",
       "    </tr>\n",
       "    <tr>\n",
       "      <th>A</th>\n",
       "      <th></th>\n",
       "      <th></th>\n",
       "    </tr>\n",
       "  </thead>\n",
       "  <tbody>\n",
       "    <tr>\n",
       "      <th>bar</th>\n",
       "      <td>0.964566</td>\n",
       "      <td>0.289650</td>\n",
       "    </tr>\n",
       "    <tr>\n",
       "      <th>foo</th>\n",
       "      <td>1.957537</td>\n",
       "      <td>-1.887339</td>\n",
       "    </tr>\n",
       "  </tbody>\n",
       "</table>\n",
       "</div>"
      ],
      "text/plain": [
       "            C         D\n",
       "A                      \n",
       "bar  0.964566  0.289650\n",
       "foo  1.957537 -1.887339"
      ]
     },
     "execution_count": 677,
     "metadata": {},
     "output_type": "execute_result"
    }
   ],
   "source": [
    "df = pd.DataFrame(\n",
    "    {\n",
    "        \"A\": [\"foo\", \"bar\", \"foo\", \"bar\", \"foo\", \"bar\", \"foo\", \"foo\"],\n",
    "        \"B\": [\"one\", \"one\", \"two\", \"three\", \"two\", \"two\", \"one\", \"three\"],\n",
    "        \"C\": np.random.randn(8),\n",
    "        \"D\": np.random.randn(8),\n",
    "    }\n",
    ")\n",
    "df.groupby(\"A\").sum()"
   ]
  },
  {
   "cell_type": "code",
   "execution_count": 678,
   "metadata": {},
   "outputs": [
    {
     "data": {
      "text/html": [
       "<div>\n",
       "<style scoped>\n",
       "    .dataframe tbody tr th:only-of-type {\n",
       "        vertical-align: middle;\n",
       "    }\n",
       "\n",
       "    .dataframe tbody tr th {\n",
       "        vertical-align: top;\n",
       "    }\n",
       "\n",
       "    .dataframe thead th {\n",
       "        text-align: right;\n",
       "    }\n",
       "</style>\n",
       "<table border=\"1\" class=\"dataframe\">\n",
       "  <thead>\n",
       "    <tr style=\"text-align: right;\">\n",
       "      <th></th>\n",
       "      <th></th>\n",
       "      <th>C</th>\n",
       "      <th>D</th>\n",
       "    </tr>\n",
       "    <tr>\n",
       "      <th>A</th>\n",
       "      <th>B</th>\n",
       "      <th></th>\n",
       "      <th></th>\n",
       "    </tr>\n",
       "  </thead>\n",
       "  <tbody>\n",
       "    <tr>\n",
       "      <th rowspan=\"3\" valign=\"top\">bar</th>\n",
       "      <th>one</th>\n",
       "      <td>1.075050</td>\n",
       "      <td>0.795326</td>\n",
       "    </tr>\n",
       "    <tr>\n",
       "      <th>three</th>\n",
       "      <td>-0.557304</td>\n",
       "      <td>0.385882</td>\n",
       "    </tr>\n",
       "    <tr>\n",
       "      <th>two</th>\n",
       "      <td>0.446820</td>\n",
       "      <td>-0.891558</td>\n",
       "    </tr>\n",
       "    <tr>\n",
       "      <th rowspan=\"3\" valign=\"top\">foo</th>\n",
       "      <th>one</th>\n",
       "      <td>2.562914</td>\n",
       "      <td>-1.919641</td>\n",
       "    </tr>\n",
       "    <tr>\n",
       "      <th>three</th>\n",
       "      <td>-0.212531</td>\n",
       "      <td>0.540964</td>\n",
       "    </tr>\n",
       "    <tr>\n",
       "      <th>two</th>\n",
       "      <td>-0.392847</td>\n",
       "      <td>-0.508662</td>\n",
       "    </tr>\n",
       "  </tbody>\n",
       "</table>\n",
       "</div>"
      ],
      "text/plain": [
       "                  C         D\n",
       "A   B                        \n",
       "bar one    1.075050  0.795326\n",
       "    three -0.557304  0.385882\n",
       "    two    0.446820 -0.891558\n",
       "foo one    2.562914 -1.919641\n",
       "    three -0.212531  0.540964\n",
       "    two   -0.392847 -0.508662"
      ]
     },
     "execution_count": 678,
     "metadata": {},
     "output_type": "execute_result"
    }
   ],
   "source": [
    "df.groupby([\"A\",\"B\"]).sum()"
   ]
  },
  {
   "cell_type": "code",
   "execution_count": 679,
   "metadata": {},
   "outputs": [
    {
     "data": {
      "text/plain": [
       "0  A          foo\n",
       "   B          one\n",
       "   C      1.15121\n",
       "   D    0.0614814\n",
       "1  A          bar\n",
       "   B          one\n",
       "   C      1.07505\n",
       "   D     0.795326\n",
       "2  A          foo\n",
       "   B          two\n",
       "   C     0.432691\n",
       "   D     0.869147\n",
       "3  A          bar\n",
       "   B        three\n",
       "   C    -0.557304\n",
       "   D     0.385882\n",
       "4  A          foo\n",
       "   B          two\n",
       "   C    -0.825537\n",
       "   D     -1.37781\n",
       "5  A          bar\n",
       "   B          two\n",
       "   C      0.44682\n",
       "   D    -0.891558\n",
       "6  A          foo\n",
       "   B          one\n",
       "   C      1.41171\n",
       "   D     -1.98112\n",
       "7  A          foo\n",
       "   B        three\n",
       "   C    -0.212531\n",
       "   D     0.540964\n",
       "dtype: object"
      ]
     },
     "execution_count": 679,
     "metadata": {},
     "output_type": "execute_result"
    }
   ],
   "source": [
    "df.stack() #maakt van de kolomnamen een aparte categorie kolommen"
   ]
  },
  {
   "cell_type": "markdown",
   "metadata": {},
   "source": [
    "Ook pivoteren werkt analoog zoals in R "
   ]
  },
  {
   "cell_type": "code",
   "execution_count": 680,
   "metadata": {},
   "outputs": [
    {
     "data": {
      "text/html": [
       "<div>\n",
       "<style scoped>\n",
       "    .dataframe tbody tr th:only-of-type {\n",
       "        vertical-align: middle;\n",
       "    }\n",
       "\n",
       "    .dataframe tbody tr th {\n",
       "        vertical-align: top;\n",
       "    }\n",
       "\n",
       "    .dataframe thead th {\n",
       "        text-align: right;\n",
       "    }\n",
       "</style>\n",
       "<table border=\"1\" class=\"dataframe\">\n",
       "  <thead>\n",
       "    <tr style=\"text-align: right;\">\n",
       "      <th></th>\n",
       "      <th>C</th>\n",
       "      <th>bar</th>\n",
       "      <th>foo</th>\n",
       "    </tr>\n",
       "    <tr>\n",
       "      <th>A</th>\n",
       "      <th>B</th>\n",
       "      <th></th>\n",
       "      <th></th>\n",
       "    </tr>\n",
       "  </thead>\n",
       "  <tbody>\n",
       "    <tr>\n",
       "      <th rowspan=\"3\" valign=\"top\">one</th>\n",
       "      <th>A</th>\n",
       "      <td>1.655374</td>\n",
       "      <td>0.744529</td>\n",
       "    </tr>\n",
       "    <tr>\n",
       "      <th>B</th>\n",
       "      <td>0.027567</td>\n",
       "      <td>-1.997965</td>\n",
       "    </tr>\n",
       "    <tr>\n",
       "      <th>C</th>\n",
       "      <td>-0.150630</td>\n",
       "      <td>0.648994</td>\n",
       "    </tr>\n",
       "    <tr>\n",
       "      <th rowspan=\"3\" valign=\"top\">three</th>\n",
       "      <th>A</th>\n",
       "      <td>-0.443470</td>\n",
       "      <td>NaN</td>\n",
       "    </tr>\n",
       "    <tr>\n",
       "      <th>B</th>\n",
       "      <td>NaN</td>\n",
       "      <td>-0.084333</td>\n",
       "    </tr>\n",
       "    <tr>\n",
       "      <th>C</th>\n",
       "      <td>0.479467</td>\n",
       "      <td>NaN</td>\n",
       "    </tr>\n",
       "    <tr>\n",
       "      <th rowspan=\"3\" valign=\"top\">two</th>\n",
       "      <th>A</th>\n",
       "      <td>NaN</td>\n",
       "      <td>0.099399</td>\n",
       "    </tr>\n",
       "    <tr>\n",
       "      <th>B</th>\n",
       "      <td>1.604777</td>\n",
       "      <td>NaN</td>\n",
       "    </tr>\n",
       "    <tr>\n",
       "      <th>C</th>\n",
       "      <td>NaN</td>\n",
       "      <td>0.827025</td>\n",
       "    </tr>\n",
       "  </tbody>\n",
       "</table>\n",
       "</div>"
      ],
      "text/plain": [
       "C             bar       foo\n",
       "A     B                    \n",
       "one   A  1.655374  0.744529\n",
       "      B  0.027567 -1.997965\n",
       "      C -0.150630  0.648994\n",
       "three A -0.443470       NaN\n",
       "      B       NaN -0.084333\n",
       "      C  0.479467       NaN\n",
       "two   A       NaN  0.099399\n",
       "      B  1.604777       NaN\n",
       "      C       NaN  0.827025"
      ]
     },
     "execution_count": 680,
     "metadata": {},
     "output_type": "execute_result"
    }
   ],
   "source": [
    "df = pd.DataFrame(\n",
    "    {\n",
    "        \"A\": [\"one\", \"one\", \"two\", \"three\"] * 3,\n",
    "        \"B\": [\"A\", \"B\", \"C\"] * 4,\n",
    "        \"C\": [\"foo\", \"foo\", \"foo\", \"bar\", \"bar\", \"bar\"] * 2,\n",
    "        \"D\": np.random.randn(12),\n",
    "        \"E\": np.random.randn(12),\n",
    "    }\n",
    ")\n",
    "pd.pivot_table(df,values = 'D',  index = ['A','B'], columns = 'C')\n",
    "#Dus de categorische var in kolom c worden kolomnamen! \n",
    "#de rijnamen (indexen) zijn volgens A en B"
   ]
  },
  {
   "cell_type": "markdown",
   "metadata": {},
   "source": [
    "**Werken met categorische variabelen**"
   ]
  },
  {
   "cell_type": "code",
   "execution_count": 681,
   "metadata": {},
   "outputs": [
    {
     "data": {
      "text/plain": [
       "0    a\n",
       "1    b\n",
       "2    b\n",
       "3    a\n",
       "4    a\n",
       "5    e\n",
       "Name: raw_grade, dtype: object"
      ]
     },
     "execution_count": 681,
     "metadata": {},
     "output_type": "execute_result"
    }
   ],
   "source": [
    "dictionary =  {\"id\": [1, 2, 3, 4, 5, 6], \n",
    "               \"raw_grade\": [\"a\", \"b\", \"b\", \"a\", \"a\", \"e\"]}\n",
    "df = pd.DataFrame(dictionary)\n",
    "df.raw_grade"
   ]
  },
  {
   "cell_type": "code",
   "execution_count": 682,
   "metadata": {},
   "outputs": [],
   "source": [
    "df[\"grade\"] = df.raw_grade.astype(\"category\") "
   ]
  },
  {
   "cell_type": "code",
   "execution_count": 683,
   "metadata": {},
   "outputs": [
    {
     "data": {
      "text/plain": [
       "0    a\n",
       "1    b\n",
       "2    b\n",
       "3    a\n",
       "4    a\n",
       "5    e\n",
       "Name: grade, dtype: category\n",
       "Categories (3, object): ['a', 'b', 'e']"
      ]
     },
     "execution_count": 683,
     "metadata": {},
     "output_type": "execute_result"
    }
   ],
   "source": [
    "df.grade"
   ]
  },
  {
   "cell_type": "code",
   "execution_count": 684,
   "metadata": {},
   "outputs": [
    {
     "data": {
      "text/plain": [
       "0    very good\n",
       "1         good\n",
       "2         good\n",
       "3    very good\n",
       "4    very good\n",
       "5     very bad\n",
       "Name: grade, dtype: category\n",
       "Categories (5, object): ['very good', 'good', 'medium', 'bad', 'very bad']"
      ]
     },
     "execution_count": 684,
     "metadata": {},
     "output_type": "execute_result"
    }
   ],
   "source": [
    "df[\"grade\"].cat.categories = [\"very good\", \"good\", \"very bad\"]\n",
    "df.grade = df.grade.cat.set_categories([\"very good\",\n",
    "    \"good\",\"medium\",\"bad\",\"very bad\"])\n",
    "df.grade"
   ]
  },
  {
   "cell_type": "code",
   "execution_count": 685,
   "metadata": {},
   "outputs": [
    {
     "data": {
      "text/html": [
       "<div>\n",
       "<style scoped>\n",
       "    .dataframe tbody tr th:only-of-type {\n",
       "        vertical-align: middle;\n",
       "    }\n",
       "\n",
       "    .dataframe tbody tr th {\n",
       "        vertical-align: top;\n",
       "    }\n",
       "\n",
       "    .dataframe thead th {\n",
       "        text-align: right;\n",
       "    }\n",
       "</style>\n",
       "<table border=\"1\" class=\"dataframe\">\n",
       "  <thead>\n",
       "    <tr style=\"text-align: right;\">\n",
       "      <th></th>\n",
       "      <th>id</th>\n",
       "      <th>raw_grade</th>\n",
       "      <th>grade</th>\n",
       "    </tr>\n",
       "  </thead>\n",
       "  <tbody>\n",
       "    <tr>\n",
       "      <th>0</th>\n",
       "      <td>1</td>\n",
       "      <td>a</td>\n",
       "      <td>very good</td>\n",
       "    </tr>\n",
       "    <tr>\n",
       "      <th>3</th>\n",
       "      <td>4</td>\n",
       "      <td>a</td>\n",
       "      <td>very good</td>\n",
       "    </tr>\n",
       "    <tr>\n",
       "      <th>4</th>\n",
       "      <td>5</td>\n",
       "      <td>a</td>\n",
       "      <td>very good</td>\n",
       "    </tr>\n",
       "    <tr>\n",
       "      <th>1</th>\n",
       "      <td>2</td>\n",
       "      <td>b</td>\n",
       "      <td>good</td>\n",
       "    </tr>\n",
       "    <tr>\n",
       "      <th>2</th>\n",
       "      <td>3</td>\n",
       "      <td>b</td>\n",
       "      <td>good</td>\n",
       "    </tr>\n",
       "    <tr>\n",
       "      <th>5</th>\n",
       "      <td>6</td>\n",
       "      <td>e</td>\n",
       "      <td>very bad</td>\n",
       "    </tr>\n",
       "  </tbody>\n",
       "</table>\n",
       "</div>"
      ],
      "text/plain": [
       "   id raw_grade      grade\n",
       "0   1         a  very good\n",
       "3   4         a  very good\n",
       "4   5         a  very good\n",
       "1   2         b       good\n",
       "2   3         b       good\n",
       "5   6         e   very bad"
      ]
     },
     "execution_count": 685,
     "metadata": {},
     "output_type": "execute_result"
    }
   ],
   "source": [
    "df.sort_values(by = \"grade\")"
   ]
  },
  {
   "cell_type": "code",
   "execution_count": 686,
   "metadata": {},
   "outputs": [
    {
     "data": {
      "text/plain": [
       "grade\n",
       "very good    3\n",
       "good         2\n",
       "medium       0\n",
       "bad          0\n",
       "very bad     1\n",
       "dtype: int64"
      ]
     },
     "execution_count": 686,
     "metadata": {},
     "output_type": "execute_result"
    }
   ],
   "source": [
    "df.groupby(\"grade\").size()"
   ]
  },
  {
   "cell_type": "markdown",
   "metadata": {},
   "source": [
    "**Plotten** \\\n",
    "Lukt rechtstreeks op bv. een series document!"
   ]
  },
  {
   "cell_type": "code",
   "execution_count": 687,
   "metadata": {},
   "outputs": [
    {
     "data": {
      "text/plain": [
       "Text(0.5, 0, 'aantal dagen')"
      ]
     },
     "execution_count": 687,
     "metadata": {},
     "output_type": "execute_result"
    },
    {
     "data": {
      "image/png": "[encoded data removed]",
      "text/plain": [
       "<Figure size 432x288 with 1 Axes>"
      ]
     },
     "metadata": {
      "needs_background": "light"
     },
     "output_type": "display_data"
    }
   ],
   "source": [
    "ts = pd.Series(np.random.randn(1000))\n",
    "ts = ts.cumsum()\n",
    "ts.plot(color = 'r')\n",
    "#hierop kunnen zelfde bewerking als op normale pyplots!\n",
    "plt.xlabel('aantal dagen')"
   ]
  },
  {
   "cell_type": "markdown",
   "metadata": {},
   "source": [
    "Ook op dataframe is dit idee mogelijk"
   ]
  },
  {
   "cell_type": "code",
   "execution_count": 29,
   "metadata": {},
   "outputs": [],
   "source": [
    "df = pd.DataFrame(\n",
    "    np.random.randn(1000, 4), columns=[\"A\", \"B\", \"C\", \"D\"]\n",
    ")\n",
    "df.head()\n",
    "df = df.cumsum()"
   ]
  },
  {
   "cell_type": "code",
   "execution_count": 30,
   "metadata": {},
   "outputs": [
    {
     "output_type": "execute_result",
     "data": {
      "text/plain": [
       "Text(0, 0.5, '-')"
      ]
     },
     "metadata": {},
     "execution_count": 30
    },
    {
     "output_type": "display_data",
     "data": {
      "text/plain": "<Figure size 432x288 with 1 Axes>",
      "image/svg+xml": "<?xml version=\"1.0\" encoding=\"utf-8\" standalone=\"no\"?>\r\n<!DOCTYPE svg PUBLIC \"-//W3C//DTD SVG 1.1//EN\"\r\n  \"http://www.w3.org/Graphics/SVG/1.1/DTD/svg11.dtd\">\r\n<!-- Created with matplotlib (https://matplotlib.org/) -->\r\n<svg height=\"262.19625pt\" version=\"1.1\" viewBox=\"0 0 390.982812 262.19625\" width=\"390.982812pt\" xmlns=\"http://www.w3.org/2000/svg\" xmlns:xlink=\"http://www.w3.org/1999/xlink\">\r\n <metadata>\r\n  <rdf:RDF xmlns:cc=\"http://creativecommons.org/ns#\" xmlns:dc=\"http://purl.org/dc/elements/1.1/\" xmlns:rdf=\"http://www.w3.org/1999/02/22-rdf-syntax-ns#\">\r\n   <cc:Work>\r\n    <dc:type rdf:resource=\"http://purl.org/dc/dcmitype/StillImage\"/>\r\n    <dc:date>2022-03-13T21:04:23.088350</dc:date>\r\n    <dc:format>image/svg+xml</dc:format>\r\n    <dc:creator>\r\n     <cc:Agent>\r\n      <dc:title>Matplotlib v3.3.2, https://matplotlib.org/</dc:title>\r\n     </cc:Agent>\r\n    </dc:creator>\r\n   </cc:Work>\r\n  </rdf:RDF>\r\n </metadata>\r\n <defs>\r\n  <style type=\"text/css\">*{stroke-linecap:butt;stroke-linejoin:round;}</style>\r\n </defs>\r\n <g id=\"figure_1\">\r\n  <g id=\"patch_1\">\r\n   <path d=\"M 0 262.19625 \r\nL 390.982812 262.19625 \r\nL 390.982812 0 \r\nL 0 0 \r\nz\r\n\" style=\"fill:none;\"/>\r\n  </g>\r\n  <g id=\"axes_1\">\r\n   <g id=\"patch_2\">\r\n    <path d=\"M 48.982813 224.64 \r\nL 383.782813 224.64 \r\nL 383.782813 7.2 \r\nL 48.982813 7.2 \r\nz\r\n\" style=\"fill:#ffffff;\"/>\r\n   </g>\r\n   <g id=\"matplotlib.axis_1\">\r\n    <g id=\"xtick_1\">\r\n     <g id=\"line2d_1\">\r\n      <defs>\r\n       <path d=\"M 0 0 \r\nL 0 3.5 \r\n\" id=\"md3d45f800e\" style=\"stroke:#000000;stroke-width:0.8;\"/>\r\n      </defs>\r\n      <g>\r\n       <use style=\"stroke:#000000;stroke-width:0.8;\" x=\"64.200994\" xlink:href=\"#md3d45f800e\" y=\"224.64\"/>\r\n      </g>\r\n     </g>\r\n     <g id=\"text_1\">\r\n      <!-- 0 -->\r\n      <g transform=\"translate(61.019744 239.238437)scale(0.1 -0.1)\">\r\n       <defs>\r\n        <path d=\"M 31.78125 66.40625 \r\nQ 24.171875 66.40625 20.328125 58.90625 \r\nQ 16.5 51.421875 16.5 36.375 \r\nQ 16.5 21.390625 20.328125 13.890625 \r\nQ 24.171875 6.390625 31.78125 6.390625 \r\nQ 39.453125 6.390625 43.28125 13.890625 \r\nQ 47.125 21.390625 47.125 36.375 \r\nQ 47.125 51.421875 43.28125 58.90625 \r\nQ 39.453125 66.40625 31.78125 66.40625 \r\nz\r\nM 31.78125 74.21875 \r\nQ 44.046875 74.21875 50.515625 64.515625 \r\nQ 56.984375 54.828125 56.984375 36.375 \r\nQ 56.984375 17.96875 50.515625 8.265625 \r\nQ 44.046875 -1.421875 31.78125 -1.421875 \r\nQ 19.53125 -1.421875 13.0625 8.265625 \r\nQ 6.59375 17.96875 6.59375 36.375 \r\nQ 6.59375 54.828125 13.0625 64.515625 \r\nQ 19.53125 74.21875 31.78125 74.21875 \r\nz\r\n\" id=\"DejaVuSans-48\"/>\r\n       </defs>\r\n       <use xlink:href=\"#DejaVuSans-48\"/>\r\n      </g>\r\n     </g>\r\n    </g>\r\n    <g id=\"xtick_2\">\r\n     <g id=\"line2d_2\">\r\n      <g>\r\n       <use style=\"stroke:#000000;stroke-width:0.8;\" x=\"125.134655\" xlink:href=\"#md3d45f800e\" y=\"224.64\"/>\r\n      </g>\r\n     </g>\r\n     <g id=\"text_2\">\r\n      <!-- 200 -->\r\n      <g transform=\"translate(115.590905 239.238437)scale(0.1 -0.1)\">\r\n       <defs>\r\n        <path d=\"M 19.1875 8.296875 \r\nL 53.609375 8.296875 \r\nL 53.609375 0 \r\nL 7.328125 0 \r\nL 7.328125 8.296875 \r\nQ 12.9375 14.109375 22.625 23.890625 \r\nQ 32.328125 33.6875 34.8125 36.53125 \r\nQ 39.546875 41.84375 41.421875 45.53125 \r\nQ 43.3125 49.21875 43.3125 52.78125 \r\nQ 43.3125 58.59375 39.234375 62.25 \r\nQ 35.15625 65.921875 28.609375 65.921875 \r\nQ 23.96875 65.921875 18.8125 64.3125 \r\nQ 13.671875 62.703125 7.8125 59.421875 \r\nL 7.8125 69.390625 \r\nQ 13.765625 71.78125 18.9375 73 \r\nQ 24.125 74.21875 28.421875 74.21875 \r\nQ 39.75 74.21875 46.484375 68.546875 \r\nQ 53.21875 62.890625 53.21875 53.421875 \r\nQ 53.21875 48.921875 51.53125 44.890625 \r\nQ 49.859375 40.875 45.40625 35.40625 \r\nQ 44.1875 33.984375 37.640625 27.21875 \r\nQ 31.109375 20.453125 19.1875 8.296875 \r\nz\r\n\" id=\"DejaVuSans-50\"/>\r\n       </defs>\r\n       <use xlink:href=\"#DejaVuSans-50\"/>\r\n       <use x=\"63.623047\" xlink:href=\"#DejaVuSans-48\"/>\r\n       <use x=\"127.246094\" xlink:href=\"#DejaVuSans-48\"/>\r\n      </g>\r\n     </g>\r\n    </g>\r\n    <g id=\"xtick_3\">\r\n     <g id=\"line2d_3\">\r\n      <g>\r\n       <use style=\"stroke:#000000;stroke-width:0.8;\" x=\"186.068316\" xlink:href=\"#md3d45f800e\" y=\"224.64\"/>\r\n      </g>\r\n     </g>\r\n     <g id=\"text_3\">\r\n      <!-- 400 -->\r\n      <g transform=\"translate(176.524566 239.238437)scale(0.1 -0.1)\">\r\n       <defs>\r\n        <path d=\"M 37.796875 64.3125 \r\nL 12.890625 25.390625 \r\nL 37.796875 25.390625 \r\nz\r\nM 35.203125 72.90625 \r\nL 47.609375 72.90625 \r\nL 47.609375 25.390625 \r\nL 58.015625 25.390625 \r\nL 58.015625 17.1875 \r\nL 47.609375 17.1875 \r\nL 47.609375 0 \r\nL 37.796875 0 \r\nL 37.796875 17.1875 \r\nL 4.890625 17.1875 \r\nL 4.890625 26.703125 \r\nz\r\n\" id=\"DejaVuSans-52\"/>\r\n       </defs>\r\n       <use xlink:href=\"#DejaVuSans-52\"/>\r\n       <use x=\"63.623047\" xlink:href=\"#DejaVuSans-48\"/>\r\n       <use x=\"127.246094\" xlink:href=\"#DejaVuSans-48\"/>\r\n      </g>\r\n     </g>\r\n    </g>\r\n    <g id=\"xtick_4\">\r\n     <g id=\"line2d_4\">\r\n      <g>\r\n       <use style=\"stroke:#000000;stroke-width:0.8;\" x=\"247.001977\" xlink:href=\"#md3d45f800e\" y=\"224.64\"/>\r\n      </g>\r\n     </g>\r\n     <g id=\"text_4\">\r\n      <!-- 600 -->\r\n      <g transform=\"translate(237.458227 239.238437)scale(0.1 -0.1)\">\r\n       <defs>\r\n        <path d=\"M 33.015625 40.375 \r\nQ 26.375 40.375 22.484375 35.828125 \r\nQ 18.609375 31.296875 18.609375 23.390625 \r\nQ 18.609375 15.53125 22.484375 10.953125 \r\nQ 26.375 6.390625 33.015625 6.390625 \r\nQ 39.65625 6.390625 43.53125 10.953125 \r\nQ 47.40625 15.53125 47.40625 23.390625 \r\nQ 47.40625 31.296875 43.53125 35.828125 \r\nQ 39.65625 40.375 33.015625 40.375 \r\nz\r\nM 52.59375 71.296875 \r\nL 52.59375 62.3125 \r\nQ 48.875 64.0625 45.09375 64.984375 \r\nQ 41.3125 65.921875 37.59375 65.921875 \r\nQ 27.828125 65.921875 22.671875 59.328125 \r\nQ 17.53125 52.734375 16.796875 39.40625 \r\nQ 19.671875 43.65625 24.015625 45.921875 \r\nQ 28.375 48.1875 33.59375 48.1875 \r\nQ 44.578125 48.1875 50.953125 41.515625 \r\nQ 57.328125 34.859375 57.328125 23.390625 \r\nQ 57.328125 12.15625 50.6875 5.359375 \r\nQ 44.046875 -1.421875 33.015625 -1.421875 \r\nQ 20.359375 -1.421875 13.671875 8.265625 \r\nQ 6.984375 17.96875 6.984375 36.375 \r\nQ 6.984375 53.65625 15.1875 63.9375 \r\nQ 23.390625 74.21875 37.203125 74.21875 \r\nQ 40.921875 74.21875 44.703125 73.484375 \r\nQ 48.484375 72.75 52.59375 71.296875 \r\nz\r\n\" id=\"DejaVuSans-54\"/>\r\n       </defs>\r\n       <use xlink:href=\"#DejaVuSans-54\"/>\r\n       <use x=\"63.623047\" xlink:href=\"#DejaVuSans-48\"/>\r\n       <use x=\"127.246094\" xlink:href=\"#DejaVuSans-48\"/>\r\n      </g>\r\n     </g>\r\n    </g>\r\n    <g id=\"xtick_5\">\r\n     <g id=\"line2d_5\">\r\n      <g>\r\n       <use style=\"stroke:#000000;stroke-width:0.8;\" x=\"307.935638\" xlink:href=\"#md3d45f800e\" y=\"224.64\"/>\r\n      </g>\r\n     </g>\r\n     <g id=\"text_5\">\r\n      <!-- 800 -->\r\n      <g transform=\"translate(298.391888 239.238437)scale(0.1 -0.1)\">\r\n       <defs>\r\n        <path d=\"M 31.78125 34.625 \r\nQ 24.75 34.625 20.71875 30.859375 \r\nQ 16.703125 27.09375 16.703125 20.515625 \r\nQ 16.703125 13.921875 20.71875 10.15625 \r\nQ 24.75 6.390625 31.78125 6.390625 \r\nQ 38.8125 6.390625 42.859375 10.171875 \r\nQ 46.921875 13.96875 46.921875 20.515625 \r\nQ 46.921875 27.09375 42.890625 30.859375 \r\nQ 38.875 34.625 31.78125 34.625 \r\nz\r\nM 21.921875 38.8125 \r\nQ 15.578125 40.375 12.03125 44.71875 \r\nQ 8.5 49.078125 8.5 55.328125 \r\nQ 8.5 64.0625 14.71875 69.140625 \r\nQ 20.953125 74.21875 31.78125 74.21875 \r\nQ 42.671875 74.21875 48.875 69.140625 \r\nQ 55.078125 64.0625 55.078125 55.328125 \r\nQ 55.078125 49.078125 51.53125 44.71875 \r\nQ 48 40.375 41.703125 38.8125 \r\nQ 48.828125 37.15625 52.796875 32.3125 \r\nQ 56.78125 27.484375 56.78125 20.515625 \r\nQ 56.78125 9.90625 50.3125 4.234375 \r\nQ 43.84375 -1.421875 31.78125 -1.421875 \r\nQ 19.734375 -1.421875 13.25 4.234375 \r\nQ 6.78125 9.90625 6.78125 20.515625 \r\nQ 6.78125 27.484375 10.78125 32.3125 \r\nQ 14.796875 37.15625 21.921875 38.8125 \r\nz\r\nM 18.3125 54.390625 \r\nQ 18.3125 48.734375 21.84375 45.5625 \r\nQ 25.390625 42.390625 31.78125 42.390625 \r\nQ 38.140625 42.390625 41.71875 45.5625 \r\nQ 45.3125 48.734375 45.3125 54.390625 \r\nQ 45.3125 60.0625 41.71875 63.234375 \r\nQ 38.140625 66.40625 31.78125 66.40625 \r\nQ 25.390625 66.40625 21.84375 63.234375 \r\nQ 18.3125 60.0625 18.3125 54.390625 \r\nz\r\n\" id=\"DejaVuSans-56\"/>\r\n       </defs>\r\n       <use xlink:href=\"#DejaVuSans-56\"/>\r\n       <use x=\"63.623047\" xlink:href=\"#DejaVuSans-48\"/>\r\n       <use x=\"127.246094\" xlink:href=\"#DejaVuSans-48\"/>\r\n      </g>\r\n     </g>\r\n    </g>\r\n    <g id=\"xtick_6\">\r\n     <g id=\"line2d_6\">\r\n      <g>\r\n       <use style=\"stroke:#000000;stroke-width:0.8;\" x=\"368.869299\" xlink:href=\"#md3d45f800e\" y=\"224.64\"/>\r\n      </g>\r\n     </g>\r\n     <g id=\"text_6\">\r\n      <!-- 1000 -->\r\n      <g transform=\"translate(356.144299 239.238437)scale(0.1 -0.1)\">\r\n       <defs>\r\n        <path d=\"M 12.40625 8.296875 \r\nL 28.515625 8.296875 \r\nL 28.515625 63.921875 \r\nL 10.984375 60.40625 \r\nL 10.984375 69.390625 \r\nL 28.421875 72.90625 \r\nL 38.28125 72.90625 \r\nL 38.28125 8.296875 \r\nL 54.390625 8.296875 \r\nL 54.390625 0 \r\nL 12.40625 0 \r\nz\r\n\" id=\"DejaVuSans-49\"/>\r\n       </defs>\r\n       <use xlink:href=\"#DejaVuSans-49\"/>\r\n       <use x=\"63.623047\" xlink:href=\"#DejaVuSans-48\"/>\r\n       <use x=\"127.246094\" xlink:href=\"#DejaVuSans-48\"/>\r\n       <use x=\"190.869141\" xlink:href=\"#DejaVuSans-48\"/>\r\n      </g>\r\n     </g>\r\n    </g>\r\n    <g id=\"text_7\">\r\n     <!-- Aantal dagen -->\r\n     <g transform=\"translate(183.069531 252.916562)scale(0.1 -0.1)\">\r\n      <defs>\r\n       <path d=\"M 34.1875 63.1875 \r\nL 20.796875 26.90625 \r\nL 47.609375 26.90625 \r\nz\r\nM 28.609375 72.90625 \r\nL 39.796875 72.90625 \r\nL 67.578125 0 \r\nL 57.328125 0 \r\nL 50.6875 18.703125 \r\nL 17.828125 18.703125 \r\nL 11.1875 0 \r\nL 0.78125 0 \r\nz\r\n\" id=\"DejaVuSans-65\"/>\r\n       <path d=\"M 34.28125 27.484375 \r\nQ 23.390625 27.484375 19.1875 25 \r\nQ 14.984375 22.515625 14.984375 16.5 \r\nQ 14.984375 11.71875 18.140625 8.90625 \r\nQ 21.296875 6.109375 26.703125 6.109375 \r\nQ 34.1875 6.109375 38.703125 11.40625 \r\nQ 43.21875 16.703125 43.21875 25.484375 \r\nL 43.21875 27.484375 \r\nz\r\nM 52.203125 31.203125 \r\nL 52.203125 0 \r\nL 43.21875 0 \r\nL 43.21875 8.296875 \r\nQ 40.140625 3.328125 35.546875 0.953125 \r\nQ 30.953125 -1.421875 24.3125 -1.421875 \r\nQ 15.921875 -1.421875 10.953125 3.296875 \r\nQ 6 8.015625 6 15.921875 \r\nQ 6 25.140625 12.171875 29.828125 \r\nQ 18.359375 34.515625 30.609375 34.515625 \r\nL 43.21875 34.515625 \r\nL 43.21875 35.40625 \r\nQ 43.21875 41.609375 39.140625 45 \r\nQ 35.0625 48.390625 27.6875 48.390625 \r\nQ 23 48.390625 18.546875 47.265625 \r\nQ 14.109375 46.140625 10.015625 43.890625 \r\nL 10.015625 52.203125 \r\nQ 14.9375 54.109375 19.578125 55.046875 \r\nQ 24.21875 56 28.609375 56 \r\nQ 40.484375 56 46.34375 49.84375 \r\nQ 52.203125 43.703125 52.203125 31.203125 \r\nz\r\n\" id=\"DejaVuSans-97\"/>\r\n       <path d=\"M 54.890625 33.015625 \r\nL 54.890625 0 \r\nL 45.90625 0 \r\nL 45.90625 32.71875 \r\nQ 45.90625 40.484375 42.875 44.328125 \r\nQ 39.84375 48.1875 33.796875 48.1875 \r\nQ 26.515625 48.1875 22.3125 43.546875 \r\nQ 18.109375 38.921875 18.109375 30.90625 \r\nL 18.109375 0 \r\nL 9.078125 0 \r\nL 9.078125 54.6875 \r\nL 18.109375 54.6875 \r\nL 18.109375 46.1875 \r\nQ 21.34375 51.125 25.703125 53.5625 \r\nQ 30.078125 56 35.796875 56 \r\nQ 45.21875 56 50.046875 50.171875 \r\nQ 54.890625 44.34375 54.890625 33.015625 \r\nz\r\n\" id=\"DejaVuSans-110\"/>\r\n       <path d=\"M 18.3125 70.21875 \r\nL 18.3125 54.6875 \r\nL 36.8125 54.6875 \r\nL 36.8125 47.703125 \r\nL 18.3125 47.703125 \r\nL 18.3125 18.015625 \r\nQ 18.3125 11.328125 20.140625 9.421875 \r\nQ 21.96875 7.515625 27.59375 7.515625 \r\nL 36.8125 7.515625 \r\nL 36.8125 0 \r\nL 27.59375 0 \r\nQ 17.1875 0 13.234375 3.875 \r\nQ 9.28125 7.765625 9.28125 18.015625 \r\nL 9.28125 47.703125 \r\nL 2.6875 47.703125 \r\nL 2.6875 54.6875 \r\nL 9.28125 54.6875 \r\nL 9.28125 70.21875 \r\nz\r\n\" id=\"DejaVuSans-116\"/>\r\n       <path d=\"M 9.421875 75.984375 \r\nL 18.40625 75.984375 \r\nL 18.40625 0 \r\nL 9.421875 0 \r\nz\r\n\" id=\"DejaVuSans-108\"/>\r\n       <path id=\"DejaVuSans-32\"/>\r\n       <path d=\"M 45.40625 46.390625 \r\nL 45.40625 75.984375 \r\nL 54.390625 75.984375 \r\nL 54.390625 0 \r\nL 45.40625 0 \r\nL 45.40625 8.203125 \r\nQ 42.578125 3.328125 38.25 0.953125 \r\nQ 33.9375 -1.421875 27.875 -1.421875 \r\nQ 17.96875 -1.421875 11.734375 6.484375 \r\nQ 5.515625 14.40625 5.515625 27.296875 \r\nQ 5.515625 40.1875 11.734375 48.09375 \r\nQ 17.96875 56 27.875 56 \r\nQ 33.9375 56 38.25 53.625 \r\nQ 42.578125 51.265625 45.40625 46.390625 \r\nz\r\nM 14.796875 27.296875 \r\nQ 14.796875 17.390625 18.875 11.75 \r\nQ 22.953125 6.109375 30.078125 6.109375 \r\nQ 37.203125 6.109375 41.296875 11.75 \r\nQ 45.40625 17.390625 45.40625 27.296875 \r\nQ 45.40625 37.203125 41.296875 42.84375 \r\nQ 37.203125 48.484375 30.078125 48.484375 \r\nQ 22.953125 48.484375 18.875 42.84375 \r\nQ 14.796875 37.203125 14.796875 27.296875 \r\nz\r\n\" id=\"DejaVuSans-100\"/>\r\n       <path d=\"M 45.40625 27.984375 \r\nQ 45.40625 37.75 41.375 43.109375 \r\nQ 37.359375 48.484375 30.078125 48.484375 \r\nQ 22.859375 48.484375 18.828125 43.109375 \r\nQ 14.796875 37.75 14.796875 27.984375 \r\nQ 14.796875 18.265625 18.828125 12.890625 \r\nQ 22.859375 7.515625 30.078125 7.515625 \r\nQ 37.359375 7.515625 41.375 12.890625 \r\nQ 45.40625 18.265625 45.40625 27.984375 \r\nz\r\nM 54.390625 6.78125 \r\nQ 54.390625 -7.171875 48.1875 -13.984375 \r\nQ 42 -20.796875 29.203125 -20.796875 \r\nQ 24.46875 -20.796875 20.265625 -20.09375 \r\nQ 16.0625 -19.390625 12.109375 -17.921875 \r\nL 12.109375 -9.1875 \r\nQ 16.0625 -11.328125 19.921875 -12.34375 \r\nQ 23.78125 -13.375 27.78125 -13.375 \r\nQ 36.625 -13.375 41.015625 -8.765625 \r\nQ 45.40625 -4.15625 45.40625 5.171875 \r\nL 45.40625 9.625 \r\nQ 42.625 4.78125 38.28125 2.390625 \r\nQ 33.9375 0 27.875 0 \r\nQ 17.828125 0 11.671875 7.65625 \r\nQ 5.515625 15.328125 5.515625 27.984375 \r\nQ 5.515625 40.671875 11.671875 48.328125 \r\nQ 17.828125 56 27.875 56 \r\nQ 33.9375 56 38.28125 53.609375 \r\nQ 42.625 51.21875 45.40625 46.390625 \r\nL 45.40625 54.6875 \r\nL 54.390625 54.6875 \r\nz\r\n\" id=\"DejaVuSans-103\"/>\r\n       <path d=\"M 56.203125 29.59375 \r\nL 56.203125 25.203125 \r\nL 14.890625 25.203125 \r\nQ 15.484375 15.921875 20.484375 11.0625 \r\nQ 25.484375 6.203125 34.421875 6.203125 \r\nQ 39.59375 6.203125 44.453125 7.46875 \r\nQ 49.3125 8.734375 54.109375 11.28125 \r\nL 54.109375 2.78125 \r\nQ 49.265625 0.734375 44.1875 -0.34375 \r\nQ 39.109375 -1.421875 33.890625 -1.421875 \r\nQ 20.796875 -1.421875 13.15625 6.1875 \r\nQ 5.515625 13.8125 5.515625 26.8125 \r\nQ 5.515625 40.234375 12.765625 48.109375 \r\nQ 20.015625 56 32.328125 56 \r\nQ 43.359375 56 49.78125 48.890625 \r\nQ 56.203125 41.796875 56.203125 29.59375 \r\nz\r\nM 47.21875 32.234375 \r\nQ 47.125 39.59375 43.09375 43.984375 \r\nQ 39.0625 48.390625 32.421875 48.390625 \r\nQ 24.90625 48.390625 20.390625 44.140625 \r\nQ 15.875 39.890625 15.1875 32.171875 \r\nz\r\n\" id=\"DejaVuSans-101\"/>\r\n      </defs>\r\n      <use xlink:href=\"#DejaVuSans-65\"/>\r\n      <use x=\"68.408203\" xlink:href=\"#DejaVuSans-97\"/>\r\n      <use x=\"129.6875\" xlink:href=\"#DejaVuSans-110\"/>\r\n      <use x=\"193.066406\" xlink:href=\"#DejaVuSans-116\"/>\r\n      <use x=\"232.275391\" xlink:href=\"#DejaVuSans-97\"/>\r\n      <use x=\"293.554688\" xlink:href=\"#DejaVuSans-108\"/>\r\n      <use x=\"321.337891\" xlink:href=\"#DejaVuSans-32\"/>\r\n      <use x=\"353.125\" xlink:href=\"#DejaVuSans-100\"/>\r\n      <use x=\"416.601562\" xlink:href=\"#DejaVuSans-97\"/>\r\n      <use x=\"477.880859\" xlink:href=\"#DejaVuSans-103\"/>\r\n      <use x=\"541.357422\" xlink:href=\"#DejaVuSans-101\"/>\r\n      <use x=\"602.880859\" xlink:href=\"#DejaVuSans-110\"/>\r\n     </g>\r\n    </g>\r\n   </g>\r\n   <g id=\"matplotlib.axis_2\">\r\n    <g id=\"ytick_1\">\r\n     <g id=\"line2d_7\">\r\n      <defs>\r\n       <path d=\"M 0 0 \r\nL -3.5 0 \r\n\" id=\"m48d7e046cb\" style=\"stroke:#000000;stroke-width:0.8;\"/>\r\n      </defs>\r\n      <g>\r\n       <use style=\"stroke:#000000;stroke-width:0.8;\" x=\"48.982813\" xlink:href=\"#m48d7e046cb\" y=\"201.795345\"/>\r\n      </g>\r\n     </g>\r\n     <g id=\"text_8\">\r\n      <!-- −60 -->\r\n      <g transform=\"translate(20.878125 205.594564)scale(0.1 -0.1)\">\r\n       <defs>\r\n        <path d=\"M 10.59375 35.5 \r\nL 73.1875 35.5 \r\nL 73.1875 27.203125 \r\nL 10.59375 27.203125 \r\nz\r\n\" id=\"DejaVuSans-8722\"/>\r\n       </defs>\r\n       <use xlink:href=\"#DejaVuSans-8722\"/>\r\n       <use x=\"83.789062\" xlink:href=\"#DejaVuSans-54\"/>\r\n       <use x=\"147.412109\" xlink:href=\"#DejaVuSans-48\"/>\r\n      </g>\r\n     </g>\r\n    </g>\r\n    <g id=\"ytick_2\">\r\n     <g id=\"line2d_8\">\r\n      <g>\r\n       <use style=\"stroke:#000000;stroke-width:0.8;\" x=\"48.982813\" xlink:href=\"#m48d7e046cb\" y=\"166.23126\"/>\r\n      </g>\r\n     </g>\r\n     <g id=\"text_9\">\r\n      <!-- −40 -->\r\n      <g transform=\"translate(20.878125 170.030479)scale(0.1 -0.1)\">\r\n       <use xlink:href=\"#DejaVuSans-8722\"/>\r\n       <use x=\"83.789062\" xlink:href=\"#DejaVuSans-52\"/>\r\n       <use x=\"147.412109\" xlink:href=\"#DejaVuSans-48\"/>\r\n      </g>\r\n     </g>\r\n    </g>\r\n    <g id=\"ytick_3\">\r\n     <g id=\"line2d_9\">\r\n      <g>\r\n       <use style=\"stroke:#000000;stroke-width:0.8;\" x=\"48.982813\" xlink:href=\"#m48d7e046cb\" y=\"130.667175\"/>\r\n      </g>\r\n     </g>\r\n     <g id=\"text_10\">\r\n      <!-- −20 -->\r\n      <g transform=\"translate(20.878125 134.466394)scale(0.1 -0.1)\">\r\n       <use xlink:href=\"#DejaVuSans-8722\"/>\r\n       <use x=\"83.789062\" xlink:href=\"#DejaVuSans-50\"/>\r\n       <use x=\"147.412109\" xlink:href=\"#DejaVuSans-48\"/>\r\n      </g>\r\n     </g>\r\n    </g>\r\n    <g id=\"ytick_4\">\r\n     <g id=\"line2d_10\">\r\n      <g>\r\n       <use style=\"stroke:#000000;stroke-width:0.8;\" x=\"48.982813\" xlink:href=\"#m48d7e046cb\" y=\"95.10309\"/>\r\n      </g>\r\n     </g>\r\n     <g id=\"text_11\">\r\n      <!-- 0 -->\r\n      <g transform=\"translate(35.620312 98.902308)scale(0.1 -0.1)\">\r\n       <use xlink:href=\"#DejaVuSans-48\"/>\r\n      </g>\r\n     </g>\r\n    </g>\r\n    <g id=\"ytick_5\">\r\n     <g id=\"line2d_11\">\r\n      <g>\r\n       <use style=\"stroke:#000000;stroke-width:0.8;\" x=\"48.982813\" xlink:href=\"#m48d7e046cb\" y=\"59.539004\"/>\r\n      </g>\r\n     </g>\r\n     <g id=\"text_12\">\r\n      <!-- 20 -->\r\n      <g transform=\"translate(29.257812 63.338223)scale(0.1 -0.1)\">\r\n       <use xlink:href=\"#DejaVuSans-50\"/>\r\n       <use x=\"63.623047\" xlink:href=\"#DejaVuSans-48\"/>\r\n      </g>\r\n     </g>\r\n    </g>\r\n    <g id=\"ytick_6\">\r\n     <g id=\"line2d_12\">\r\n      <g>\r\n       <use style=\"stroke:#000000;stroke-width:0.8;\" x=\"48.982813\" xlink:href=\"#m48d7e046cb\" y=\"23.974919\"/>\r\n      </g>\r\n     </g>\r\n     <g id=\"text_13\">\r\n      <!-- 40 -->\r\n      <g transform=\"translate(29.257812 27.774138)scale(0.1 -0.1)\">\r\n       <use xlink:href=\"#DejaVuSans-52\"/>\r\n       <use x=\"63.623047\" xlink:href=\"#DejaVuSans-48\"/>\r\n      </g>\r\n     </g>\r\n    </g>\r\n    <g id=\"text_14\">\r\n     <!-- - -->\r\n     <g transform=\"translate(14.798438 117.723906)rotate(-90)scale(0.1 -0.1)\">\r\n      <defs>\r\n       <path d=\"M 4.890625 31.390625 \r\nL 31.203125 31.390625 \r\nL 31.203125 23.390625 \r\nL 4.890625 23.390625 \r\nz\r\n\" id=\"DejaVuSans-45\"/>\r\n      </defs>\r\n      <use xlink:href=\"#DejaVuSans-45\"/>\r\n     </g>\r\n    </g>\r\n   </g>\r\n   <g id=\"line2d_13\">\r\n    <path clip-path=\"url(#pd3e1d837e9)\" d=\"M 64.200994 95.166051 \r\nL 64.505663 96.52727 \r\nL 64.810331 97.197963 \r\nL 65.114999 95.741997 \r\nL 65.419668 98.473092 \r\nL 65.724336 97.783796 \r\nL 66.638341 91.646996 \r\nL 66.943009 93.759778 \r\nL 67.247677 89.519995 \r\nL 67.552346 87.359399 \r\nL 67.857014 87.079736 \r\nL 68.161682 87.335813 \r\nL 68.466351 86.822382 \r\nL 69.075687 88.759351 \r\nL 69.380355 88.750982 \r\nL 69.685024 90.209633 \r\nL 69.989692 92.927583 \r\nL 70.29436 90.880999 \r\nL 70.599029 92.156367 \r\nL 70.903697 93.973651 \r\nL 71.208365 93.382224 \r\nL 71.513034 91.94455 \r\nL 71.817702 92.515117 \r\nL 72.12237 90.092818 \r\nL 72.427039 90.849463 \r\nL 72.731707 92.978842 \r\nL 73.036375 93.721964 \r\nL 73.341043 94.133954 \r\nL 73.645712 94.064526 \r\nL 73.95038 95.472614 \r\nL 74.559717 92.542527 \r\nL 74.864385 88.268753 \r\nL 75.473722 87.551768 \r\nL 75.77839 87.234007 \r\nL 76.083058 87.663489 \r\nL 76.387727 85.480526 \r\nL 76.692395 88.192997 \r\nL 76.997063 89.777112 \r\nL 77.301731 89.997584 \r\nL 77.6064 86.054492 \r\nL 77.911068 85.734013 \r\nL 78.215736 88.938361 \r\nL 78.520405 90.869385 \r\nL 78.825073 90.46613 \r\nL 79.129741 92.650276 \r\nL 79.739078 92.991963 \r\nL 80.043746 91.713217 \r\nL 80.348414 93.446704 \r\nL 80.653083 90.501981 \r\nL 80.957751 90.920001 \r\nL 81.262419 88.698936 \r\nL 81.567088 91.109138 \r\nL 81.871756 91.369704 \r\nL 82.176424 92.09444 \r\nL 82.481093 91.120294 \r\nL 82.785761 91.841852 \r\nL 83.090429 93.144939 \r\nL 83.395098 92.348492 \r\nL 84.004434 95.020292 \r\nL 84.613771 89.047651 \r\nL 85.223107 85.531193 \r\nL 85.527776 85.041798 \r\nL 85.832444 84.806123 \r\nL 86.441781 85.21555 \r\nL 86.746449 84.060511 \r\nL 87.051117 85.415005 \r\nL 87.355785 87.916923 \r\nL 87.660454 86.595258 \r\nL 87.965122 87.186763 \r\nL 88.26979 89.151614 \r\nL 88.574459 88.945107 \r\nL 88.879127 90.799475 \r\nL 89.183795 87.30297 \r\nL 89.488464 86.678959 \r\nL 89.793132 87.063103 \r\nL 90.0978 86.042636 \r\nL 90.402469 87.209089 \r\nL 90.707137 85.05896 \r\nL 91.011805 84.473698 \r\nL 91.316473 86.072673 \r\nL 91.621142 86.305222 \r\nL 92.535147 79.596973 \r\nL 92.839815 79.747206 \r\nL 93.144483 78.900558 \r\nL 93.449152 80.876462 \r\nL 93.75382 81.149267 \r\nL 94.058488 79.78031 \r\nL 94.363156 79.930968 \r\nL 94.667825 77.209583 \r\nL 94.972493 75.746734 \r\nL 95.277161 75.42743 \r\nL 95.58183 75.498052 \r\nL 95.886498 74.423342 \r\nL 96.191166 74.37053 \r\nL 96.495835 75.059626 \r\nL 97.105171 68.207946 \r\nL 97.40984 66.012292 \r\nL 97.714508 62.739636 \r\nL 98.323844 61.203321 \r\nL 98.628513 57.258718 \r\nL 98.933181 58.116232 \r\nL 99.237849 57.10862 \r\nL 99.542518 58.473521 \r\nL 99.847186 56.636865 \r\nL 100.151854 55.861701 \r\nL 100.456523 57.427214 \r\nL 100.761191 53.021374 \r\nL 101.065859 55.183662 \r\nL 101.370527 55.627422 \r\nL 101.675196 58.481852 \r\nL 101.979864 59.852397 \r\nL 102.284532 63.011891 \r\nL 102.589201 63.679129 \r\nL 102.893869 63.439042 \r\nL 103.198537 64.396077 \r\nL 103.503206 61.722581 \r\nL 103.807874 62.347562 \r\nL 104.112542 59.975628 \r\nL 104.417211 60.375205 \r\nL 104.721879 61.577858 \r\nL 105.331215 61.169511 \r\nL 105.940552 62.821719 \r\nL 106.24522 68.715287 \r\nL 106.549889 69.020371 \r\nL 106.854557 69.528936 \r\nL 107.159225 68.541233 \r\nL 107.463894 69.318512 \r\nL 107.768562 69.261234 \r\nL 108.07323 66.877876 \r\nL 108.377898 66.581226 \r\nL 108.682567 66.732751 \r\nL 109.291903 69.493066 \r\nL 109.596572 71.771572 \r\nL 109.90124 72.693709 \r\nL 110.205908 75.457297 \r\nL 110.510577 75.150965 \r\nL 110.815245 72.650077 \r\nL 111.119913 72.676334 \r\nL 111.424582 73.93119 \r\nL 112.033918 69.623261 \r\nL 112.338586 73.220591 \r\nL 112.643255 70.89945 \r\nL 112.947923 69.867392 \r\nL 113.252591 70.007693 \r\nL 113.861928 74.949004 \r\nL 114.166596 74.150699 \r\nL 114.471265 75.360513 \r\nL 114.775933 73.671214 \r\nL 115.080601 71.214002 \r\nL 115.38527 71.570099 \r\nL 115.689938 72.409406 \r\nL 115.994606 75.271437 \r\nL 116.299274 75.25411 \r\nL 116.603943 76.585157 \r\nL 116.908611 80.159158 \r\nL 117.213279 79.963599 \r\nL 117.517948 80.211889 \r\nL 117.822616 81.702336 \r\nL 118.127284 80.827677 \r\nL 118.431953 80.625992 \r\nL 118.736621 80.152491 \r\nL 119.041289 79.245214 \r\nL 119.345957 79.222408 \r\nL 119.650626 79.883782 \r\nL 119.955294 79.983001 \r\nL 120.259962 80.236858 \r\nL 120.869299 82.594508 \r\nL 121.173967 80.086801 \r\nL 121.478636 80.03351 \r\nL 121.783304 75.788367 \r\nL 122.087972 75.580857 \r\nL 122.392641 73.817378 \r\nL 122.697309 75.811022 \r\nL 123.001977 75.733219 \r\nL 123.306645 80.227188 \r\nL 123.915982 84.123166 \r\nL 124.525319 89.472374 \r\nL 125.134655 87.399649 \r\nL 125.439324 87.627909 \r\nL 126.04866 90.75072 \r\nL 126.353328 85.01395 \r\nL 126.657997 85.445184 \r\nL 126.962665 89.026413 \r\nL 127.267333 87.172889 \r\nL 127.572002 87.764857 \r\nL 127.87667 86.490589 \r\nL 128.181338 86.648447 \r\nL 128.486007 89.756686 \r\nL 128.790675 89.677158 \r\nL 129.095343 90.513599 \r\nL 129.400012 92.173999 \r\nL 129.70468 90.097349 \r\nL 130.009348 93.191693 \r\nL 130.314016 93.842826 \r\nL 130.618685 94.114549 \r\nL 130.923353 94.63431 \r\nL 131.228021 95.574758 \r\nL 131.53269 95.09417 \r\nL 131.837358 94.174002 \r\nL 132.142026 93.872962 \r\nL 132.446695 94.414386 \r\nL 132.751363 93.6276 \r\nL 133.056031 91.709851 \r\nL 133.360699 91.423799 \r\nL 133.665368 90.722081 \r\nL 134.579373 84.040142 \r\nL 134.884041 87.655373 \r\nL 135.188709 89.785606 \r\nL 135.493378 90.850759 \r\nL 135.798046 90.822703 \r\nL 136.407383 92.510082 \r\nL 136.712051 92.793197 \r\nL 137.016719 90.043945 \r\nL 137.321387 93.060608 \r\nL 137.626056 93.325605 \r\nL 137.930724 93.088946 \r\nL 138.235392 89.875976 \r\nL 138.540061 89.552242 \r\nL 138.844729 88.584964 \r\nL 139.149397 88.645958 \r\nL 139.454066 85.556331 \r\nL 140.063402 87.478999 \r\nL 140.36807 86.586619 \r\nL 140.672739 87.92812 \r\nL 140.977407 89.935735 \r\nL 141.586744 91.247291 \r\nL 141.891412 93.86895 \r\nL 142.19608 92.394212 \r\nL 142.805417 95.156139 \r\nL 143.414754 90.446209 \r\nL 143.719422 90.450374 \r\nL 144.02409 92.193097 \r\nL 144.328758 92.489312 \r\nL 144.633427 94.378315 \r\nL 144.938095 93.331604 \r\nL 145.242763 92.8086 \r\nL 145.547432 90.701773 \r\nL 145.8521 91.775297 \r\nL 146.156768 89.003206 \r\nL 146.461437 90.670606 \r\nL 146.766105 91.583605 \r\nL 147.070773 94.20491 \r\nL 147.375441 92.846229 \r\nL 147.68011 90.517248 \r\nL 147.984778 92.990206 \r\nL 148.289446 92.475935 \r\nL 148.594115 93.038541 \r\nL 148.898783 90.761753 \r\nL 149.203451 90.527878 \r\nL 149.50812 87.131774 \r\nL 149.812788 86.239753 \r\nL 150.117456 83.956118 \r\nL 150.422125 82.925206 \r\nL 150.726793 85.274431 \r\nL 151.336129 87.620684 \r\nL 151.945466 90.082851 \r\nL 152.250134 88.401541 \r\nL 152.554803 88.557196 \r\nL 152.859471 86.830512 \r\nL 153.468808 89.222986 \r\nL 153.773476 88.545998 \r\nL 154.078144 89.461619 \r\nL 154.382812 87.169199 \r\nL 154.687481 90.827187 \r\nL 154.992149 86.562543 \r\nL 155.296817 87.866616 \r\nL 155.601486 85.318563 \r\nL 155.906154 84.521491 \r\nL 156.210822 83.203614 \r\nL 156.515491 84.788039 \r\nL 157.124827 92.170159 \r\nL 157.429496 91.82589 \r\nL 157.734164 91.077478 \r\nL 158.038832 91.336992 \r\nL 158.3435 88.71204 \r\nL 158.648169 91.287692 \r\nL 158.952837 90.661503 \r\nL 159.562174 87.228776 \r\nL 159.866842 88.977852 \r\nL 160.17151 88.516741 \r\nL 160.476179 89.221489 \r\nL 160.780847 87.441435 \r\nL 161.085515 88.215686 \r\nL 161.390184 84.936405 \r\nL 161.694852 84.79692 \r\nL 161.99952 82.784997 \r\nL 162.608857 83.936978 \r\nL 162.913525 83.146795 \r\nL 163.218193 84.723449 \r\nL 163.522862 85.172554 \r\nL 163.82753 86.822207 \r\nL 164.132198 85.543901 \r\nL 164.436867 86.452283 \r\nL 164.741535 85.386884 \r\nL 165.046203 88.146502 \r\nL 165.350871 86.220079 \r\nL 165.65554 86.242375 \r\nL 165.960208 86.535972 \r\nL 166.569545 83.266526 \r\nL 166.874213 83.781548 \r\nL 167.178881 87.282767 \r\nL 167.48355 84.53156 \r\nL 167.788218 84.284047 \r\nL 168.092886 81.675828 \r\nL 168.397555 81.263778 \r\nL 168.702223 81.044568 \r\nL 169.311559 79.887498 \r\nL 169.616228 80.551295 \r\nL 169.920896 78.908669 \r\nL 170.225564 76.084235 \r\nL 170.530233 75.549426 \r\nL 170.834901 75.999114 \r\nL 171.139569 78.388742 \r\nL 171.444238 79.421409 \r\nL 171.748906 77.083552 \r\nL 172.053574 77.790242 \r\nL 172.358242 77.424658 \r\nL 172.662911 76.237152 \r\nL 172.967579 76.854978 \r\nL 173.576916 79.58033 \r\nL 173.881584 84.038838 \r\nL 174.186252 82.368617 \r\nL 174.490921 84.424243 \r\nL 174.795589 85.310734 \r\nL 175.100257 86.887787 \r\nL 175.709594 81.728332 \r\nL 176.014262 81.727016 \r\nL 176.623599 83.65869 \r\nL 176.928267 83.056174 \r\nL 177.232935 81.111238 \r\nL 177.537604 80.212977 \r\nL 177.842272 80.289765 \r\nL 178.14694 81.325416 \r\nL 178.451609 81.179189 \r\nL 178.756277 82.760681 \r\nL 179.060945 83.250752 \r\nL 179.365613 84.491857 \r\nL 179.670282 84.094673 \r\nL 179.97495 88.546748 \r\nL 180.279618 87.605635 \r\nL 180.584287 85.631176 \r\nL 180.888955 85.559051 \r\nL 181.193623 85.210636 \r\nL 181.498292 85.770256 \r\nL 181.80296 86.084294 \r\nL 182.107628 87.010623 \r\nL 182.412297 85.389253 \r\nL 182.716965 85.573564 \r\nL 183.021633 80.555982 \r\nL 183.326301 79.095584 \r\nL 183.63097 76.519584 \r\nL 183.935638 77.485833 \r\nL 184.240306 75.934958 \r\nL 184.544975 79.307511 \r\nL 184.849643 76.122615 \r\nL 185.154311 76.085464 \r\nL 185.45898 76.692482 \r\nL 186.068316 81.431262 \r\nL 186.372984 79.203112 \r\nL 186.677653 81.322108 \r\nL 186.982321 82.205815 \r\nL 187.286989 82.684913 \r\nL 187.896326 77.381533 \r\nL 188.200994 76.643793 \r\nL 188.810331 76.218088 \r\nL 189.114999 75.383175 \r\nL 189.419668 77.274317 \r\nL 189.724336 72.805525 \r\nL 190.029004 74.746229 \r\nL 190.333672 72.466564 \r\nL 190.638341 73.546491 \r\nL 191.247677 66.270671 \r\nL 191.857014 64.944402 \r\nL 192.161682 65.132419 \r\nL 192.771019 66.38526 \r\nL 193.075687 65.556036 \r\nL 193.380355 64.021036 \r\nL 193.685024 67.578622 \r\nL 193.989692 67.091681 \r\nL 194.29436 64.796592 \r\nL 194.599029 67.526013 \r\nL 194.903697 65.193861 \r\nL 195.208365 68.778207 \r\nL 196.12237 63.936222 \r\nL 196.427039 65.171096 \r\nL 196.731707 65.35121 \r\nL 197.036375 64.928265 \r\nL 197.341043 65.783841 \r\nL 197.645712 69.126226 \r\nL 197.95038 68.698827 \r\nL 198.255048 72.133604 \r\nL 198.864385 68.913632 \r\nL 199.169053 68.289676 \r\nL 199.473722 70.446348 \r\nL 199.77839 68.943863 \r\nL 200.083058 68.940953 \r\nL 200.387727 67.19346 \r\nL 201.301731 68.817022 \r\nL 201.6064 70.899007 \r\nL 202.215736 68.438114 \r\nL 202.520405 65.632604 \r\nL 202.825073 67.02015 \r\nL 203.129741 65.539218 \r\nL 203.739078 69.317534 \r\nL 204.043746 67.188532 \r\nL 204.653083 69.617889 \r\nL 204.957751 68.408434 \r\nL 205.262419 69.004941 \r\nL 205.871756 70.999273 \r\nL 206.176424 69.827753 \r\nL 206.481093 70.442718 \r\nL 206.785761 66.173183 \r\nL 207.090429 66.599482 \r\nL 207.395098 66.083663 \r\nL 207.699766 66.005987 \r\nL 208.004434 67.373306 \r\nL 208.309102 69.755284 \r\nL 208.918439 68.048198 \r\nL 209.223107 66.584396 \r\nL 209.527776 65.718355 \r\nL 209.832444 67.58415 \r\nL 210.137112 65.46437 \r\nL 210.441781 66.129088 \r\nL 210.746449 65.492414 \r\nL 211.051117 69.367217 \r\nL 211.355785 68.438786 \r\nL 211.660454 67.877913 \r\nL 212.26979 69.144023 \r\nL 212.574459 69.728358 \r\nL 212.879127 69.996727 \r\nL 213.183795 69.613343 \r\nL 213.488464 70.282713 \r\nL 213.793132 69.803759 \r\nL 214.0978 71.445942 \r\nL 214.402469 69.738574 \r\nL 214.707137 70.120051 \r\nL 215.011805 71.461254 \r\nL 215.316473 68.286208 \r\nL 215.621142 66.530928 \r\nL 215.92581 68.563477 \r\nL 216.230478 66.451233 \r\nL 216.535147 67.16393 \r\nL 216.839815 68.700984 \r\nL 217.144483 68.888738 \r\nL 217.449152 68.095254 \r\nL 217.75382 70.229057 \r\nL 218.058488 67.893024 \r\nL 218.363156 66.841435 \r\nL 218.667825 68.227555 \r\nL 218.972493 66.612968 \r\nL 219.277161 65.986753 \r\nL 219.886498 60.404019 \r\nL 220.495835 63.562546 \r\nL 220.800503 64.0557 \r\nL 221.105171 62.351979 \r\nL 221.714508 65.271532 \r\nL 222.019176 62.418375 \r\nL 222.323844 62.91982 \r\nL 222.628513 66.799664 \r\nL 222.933181 66.15757 \r\nL 223.237849 66.185834 \r\nL 223.542518 66.470967 \r\nL 223.847186 67.618641 \r\nL 224.151854 66.160146 \r\nL 224.456523 68.002383 \r\nL 224.761191 65.044602 \r\nL 225.065859 65.063338 \r\nL 225.370527 63.726803 \r\nL 225.675196 64.312665 \r\nL 225.979864 66.999378 \r\nL 226.284532 65.709048 \r\nL 226.589201 67.268123 \r\nL 226.893869 67.668819 \r\nL 227.198537 63.3502 \r\nL 227.503206 64.549412 \r\nL 227.807874 64.185087 \r\nL 228.112542 66.096138 \r\nL 228.417211 66.36572 \r\nL 228.721879 67.744655 \r\nL 229.026547 67.615564 \r\nL 229.331215 69.909162 \r\nL 229.635884 69.862734 \r\nL 229.940552 67.410237 \r\nL 230.24522 68.418316 \r\nL 230.549889 72.76518 \r\nL 230.854557 72.529562 \r\nL 231.463894 75.265469 \r\nL 231.768562 74.468974 \r\nL 232.07323 73.127516 \r\nL 232.377898 75.714929 \r\nL 232.682567 73.998374 \r\nL 232.987235 73.688801 \r\nL 233.291903 70.891351 \r\nL 233.596572 69.651707 \r\nL 233.90124 67.237792 \r\nL 234.510577 64.330277 \r\nL 234.815245 63.620576 \r\nL 235.119913 64.535151 \r\nL 235.424582 64.532075 \r\nL 235.72925 65.28144 \r\nL 236.033918 66.81354 \r\nL 236.338586 65.278625 \r\nL 236.643255 65.896128 \r\nL 236.947923 64.857576 \r\nL 237.252591 67.794391 \r\nL 237.55726 67.843911 \r\nL 237.861928 69.881462 \r\nL 238.166596 70.016593 \r\nL 238.775933 61.853843 \r\nL 239.080601 63.991306 \r\nL 239.38527 65.062957 \r\nL 239.689938 63.685701 \r\nL 239.994606 66.223545 \r\nL 240.299274 65.914435 \r\nL 240.603943 67.596311 \r\nL 240.908611 71.584211 \r\nL 241.213279 69.051439 \r\nL 241.517948 68.861898 \r\nL 242.127284 62.399929 \r\nL 242.431953 62.080067 \r\nL 242.736621 62.364232 \r\nL 243.041289 63.868252 \r\nL 243.345957 62.636252 \r\nL 243.650626 62.490462 \r\nL 243.955294 60.79572 \r\nL 244.259962 62.02793 \r\nL 244.564631 64.728141 \r\nL 244.869299 63.023111 \r\nL 245.173967 62.30592 \r\nL 245.478636 58.350399 \r\nL 245.783304 56.702736 \r\nL 246.087972 57.123537 \r\nL 246.392641 53.766995 \r\nL 246.697309 53.702779 \r\nL 247.001977 51.873356 \r\nL 247.306645 53.362524 \r\nL 247.611314 52.496104 \r\nL 247.915982 51.21342 \r\nL 248.22065 48.529128 \r\nL 248.525319 48.736206 \r\nL 249.134655 48.384999 \r\nL 249.439324 48.90286 \r\nL 249.743992 49.100842 \r\nL 250.04866 47.851397 \r\nL 250.353328 48.642003 \r\nL 250.657997 48.949278 \r\nL 250.962665 49.072398 \r\nL 251.267333 45.37014 \r\nL 251.572002 44.804961 \r\nL 251.87667 43.065952 \r\nL 252.181338 43.249519 \r\nL 252.486007 43.633698 \r\nL 253.400012 48.763966 \r\nL 253.70468 46.624902 \r\nL 254.314016 51.466888 \r\nL 254.618685 51.557888 \r\nL 254.923353 50.31853 \r\nL 255.228021 48.180366 \r\nL 255.53269 48.164038 \r\nL 255.837358 45.618337 \r\nL 256.142026 48.209177 \r\nL 256.446695 45.526068 \r\nL 256.751363 46.197492 \r\nL 257.360699 50.404814 \r\nL 257.970036 45.268747 \r\nL 258.274704 40.811917 \r\nL 258.579373 39.282508 \r\nL 258.884041 42.800213 \r\nL 259.188709 42.277762 \r\nL 260.102714 47.943222 \r\nL 260.407383 47.55058 \r\nL 260.712051 49.325585 \r\nL 261.016719 47.198974 \r\nL 261.321387 48.619461 \r\nL 261.626056 47.945329 \r\nL 261.930724 46.749341 \r\nL 262.540061 43.025958 \r\nL 263.149397 44.203945 \r\nL 263.454066 46.265558 \r\nL 263.758734 43.95342 \r\nL 264.36807 45.60486 \r\nL 264.672739 43.043789 \r\nL 264.977407 46.796726 \r\nL 265.282075 48.248049 \r\nL 265.586744 47.65287 \r\nL 265.891412 47.980713 \r\nL 266.19608 47.287329 \r\nL 266.500749 45.648935 \r\nL 266.805417 48.269845 \r\nL 267.110085 49.421648 \r\nL 267.414754 46.549064 \r\nL 267.719422 47.265096 \r\nL 268.02409 47.684059 \r\nL 268.328758 49.228439 \r\nL 268.633427 50.13846 \r\nL 269.242763 50.438747 \r\nL 269.547432 49.473931 \r\nL 269.8521 50.909658 \r\nL 270.156768 50.068298 \r\nL 270.461437 49.907517 \r\nL 270.766105 48.530259 \r\nL 271.375441 52.772845 \r\nL 271.68011 52.169659 \r\nL 271.984778 50.54639 \r\nL 272.289446 53.760116 \r\nL 272.594115 54.826632 \r\nL 272.898783 53.980437 \r\nL 273.203451 59.448957 \r\nL 273.50812 61.532831 \r\nL 273.812788 58.221987 \r\nL 274.117456 57.729649 \r\nL 274.422125 58.728901 \r\nL 274.726793 58.935343 \r\nL 275.031461 58.17938 \r\nL 275.336129 57.779762 \r\nL 275.640798 59.107363 \r\nL 275.945466 58.569606 \r\nL 276.250134 58.317064 \r\nL 276.554803 56.409316 \r\nL 277.164139 59.118552 \r\nL 277.468808 58.877853 \r\nL 277.773476 58.928096 \r\nL 278.078144 62.36837 \r\nL 278.382812 61.221282 \r\nL 278.687481 60.717043 \r\nL 278.992149 60.961062 \r\nL 279.296817 61.57816 \r\nL 279.601486 60.534499 \r\nL 279.906154 59.07667 \r\nL 280.210822 55.598705 \r\nL 280.515491 59.126343 \r\nL 280.820159 61.063679 \r\nL 281.124827 58.792911 \r\nL 281.429496 59.583107 \r\nL 281.734164 55.687885 \r\nL 282.038832 53.488296 \r\nL 282.3435 53.237831 \r\nL 282.648169 51.294527 \r\nL 282.952837 52.623509 \r\nL 283.562174 54.07558 \r\nL 283.866842 54.611191 \r\nL 284.17151 51.58725 \r\nL 284.476179 50.34477 \r\nL 284.780847 47.54472 \r\nL 285.085515 51.119988 \r\nL 285.390184 51.2961 \r\nL 285.694852 50.23249 \r\nL 285.99952 49.679898 \r\nL 286.304188 50.342873 \r\nL 286.608857 46.987853 \r\nL 286.913525 46.320109 \r\nL 287.218193 46.326782 \r\nL 287.522862 47.057833 \r\nL 287.82753 46.141107 \r\nL 288.132198 48.623441 \r\nL 288.436867 49.134671 \r\nL 288.741535 51.501676 \r\nL 289.046203 50.702742 \r\nL 289.350871 52.298347 \r\nL 289.65554 49.80861 \r\nL 289.960208 49.84387 \r\nL 290.264876 51.124248 \r\nL 290.569545 51.184392 \r\nL 290.874213 46.705751 \r\nL 291.178881 46.886402 \r\nL 291.48355 42.736439 \r\nL 292.092886 40.014484 \r\nL 292.702223 41.259681 \r\nL 293.006891 38.949002 \r\nL 293.311559 39.385272 \r\nL 293.616228 37.630262 \r\nL 293.920896 37.081343 \r\nL 294.225564 40.041834 \r\nL 294.530233 39.195591 \r\nL 295.444238 40.092969 \r\nL 295.748906 43.382381 \r\nL 296.053574 44.246305 \r\nL 296.358242 47.887145 \r\nL 296.662911 46.727855 \r\nL 296.967579 48.100694 \r\nL 297.272247 44.179267 \r\nL 297.576916 44.590359 \r\nL 297.881584 45.618718 \r\nL 298.186252 44.978352 \r\nL 298.490921 48.522954 \r\nL 298.795589 48.847906 \r\nL 299.100257 48.870778 \r\nL 299.404926 47.520816 \r\nL 299.709594 47.940868 \r\nL 300.623599 45.340345 \r\nL 300.928267 45.072971 \r\nL 301.232935 43.515413 \r\nL 301.537604 43.384502 \r\nL 301.842272 42.112688 \r\nL 302.451609 45.19207 \r\nL 302.756277 48.088692 \r\nL 303.060945 47.791093 \r\nL 303.365613 46.989643 \r\nL 303.670282 47.28212 \r\nL 303.97495 46.53507 \r\nL 304.279618 47.817182 \r\nL 304.584287 51.293589 \r\nL 304.888955 50.098526 \r\nL 305.193623 49.653027 \r\nL 305.498292 49.77924 \r\nL 305.80296 49.433929 \r\nL 306.107628 48.424215 \r\nL 306.412297 45.91111 \r\nL 306.716965 45.546912 \r\nL 307.021633 45.398034 \r\nL 307.326301 45.107803 \r\nL 307.63097 47.895779 \r\nL 307.935638 46.625046 \r\nL 308.240306 46.854395 \r\nL 308.544975 45.153896 \r\nL 308.849643 47.354837 \r\nL 309.154311 48.516266 \r\nL 309.45898 50.397924 \r\nL 309.763648 49.756489 \r\nL 310.068316 49.944458 \r\nL 310.372984 47.289781 \r\nL 310.677653 47.113133 \r\nL 310.982321 43.543845 \r\nL 311.286989 45.444518 \r\nL 311.591658 46.085906 \r\nL 311.896326 47.924436 \r\nL 312.200994 48.799426 \r\nL 312.505663 48.572107 \r\nL 313.114999 50.713757 \r\nL 313.724336 48.92666 \r\nL 314.029004 50.814802 \r\nL 314.333672 50.728552 \r\nL 314.638341 49.120072 \r\nL 314.943009 50.499995 \r\nL 315.247677 50.289672 \r\nL 315.552346 50.404068 \r\nL 315.857014 51.892704 \r\nL 316.161682 55.404065 \r\nL 316.466351 54.539698 \r\nL 316.771019 53.086543 \r\nL 317.075687 54.626408 \r\nL 317.685024 51.176378 \r\nL 317.989692 51.671072 \r\nL 318.29436 50.798704 \r\nL 318.599029 50.99079 \r\nL 318.903697 48.576434 \r\nL 319.208365 44.995066 \r\nL 319.513034 45.127604 \r\nL 319.817702 42.791225 \r\nL 320.12237 43.175145 \r\nL 321.036375 47.606804 \r\nL 321.341043 50.372373 \r\nL 321.645712 51.969669 \r\nL 321.95038 52.913785 \r\nL 322.255048 53.43045 \r\nL 322.559717 54.940476 \r\nL 322.864385 55.072991 \r\nL 323.169053 55.563163 \r\nL 323.473722 55.611693 \r\nL 323.77839 54.424418 \r\nL 324.083058 55.423554 \r\nL 324.387727 57.968273 \r\nL 324.692395 56.11297 \r\nL 325.6064 65.080997 \r\nL 325.911068 63.71781 \r\nL 326.215736 65.250908 \r\nL 326.520405 66.139187 \r\nL 326.825073 63.068825 \r\nL 327.129741 63.976543 \r\nL 327.43441 62.231182 \r\nL 327.739078 61.553202 \r\nL 328.043746 59.837885 \r\nL 328.348414 60.444212 \r\nL 328.653083 61.434657 \r\nL 328.957751 61.98706 \r\nL 329.262419 58.927369 \r\nL 329.567088 58.640843 \r\nL 329.871756 59.161395 \r\nL 330.176424 57.735477 \r\nL 330.481093 55.709735 \r\nL 330.785761 55.204105 \r\nL 331.090429 56.020335 \r\nL 331.395098 55.597361 \r\nL 331.699766 53.539918 \r\nL 332.004434 53.804527 \r\nL 332.309102 53.755067 \r\nL 332.613771 54.205539 \r\nL 332.918439 54.138769 \r\nL 333.223107 53.160376 \r\nL 333.832444 47.125477 \r\nL 334.441781 40.884799 \r\nL 334.746449 40.264838 \r\nL 335.051117 37.170823 \r\nL 335.355785 38.366055 \r\nL 335.660454 38.471873 \r\nL 335.965122 37.110174 \r\nL 336.26979 36.808173 \r\nL 336.574459 37.111377 \r\nL 337.183795 38.780101 \r\nL 337.488464 38.66844 \r\nL 337.793132 39.770523 \r\nL 338.0978 40.046525 \r\nL 338.402469 41.702369 \r\nL 338.707137 41.2744 \r\nL 339.011805 40.521146 \r\nL 339.621142 44.28971 \r\nL 339.92581 43.05618 \r\nL 340.535147 42.209534 \r\nL 340.839815 40.035028 \r\nL 341.144483 40.28856 \r\nL 341.449152 42.259834 \r\nL 341.75382 42.172715 \r\nL 342.058488 41.551888 \r\nL 342.667825 43.160991 \r\nL 342.972493 46.950363 \r\nL 343.277161 47.451117 \r\nL 343.58183 47.355248 \r\nL 343.886498 46.217085 \r\nL 344.191166 44.039987 \r\nL 344.495835 43.409474 \r\nL 344.800503 43.973577 \r\nL 345.105171 43.846655 \r\nL 345.40984 42.212226 \r\nL 345.714508 42.325558 \r\nL 346.019176 40.520613 \r\nL 346.323844 39.825978 \r\nL 346.933181 41.130045 \r\nL 347.237849 40.513435 \r\nL 347.847186 35.912019 \r\nL 348.151854 35.304056 \r\nL 348.456523 34.133031 \r\nL 348.761191 35.074378 \r\nL 349.065859 35.155731 \r\nL 349.370527 34.787917 \r\nL 349.675196 33.886907 \r\nL 349.979864 34.703108 \r\nL 350.284532 35.15855 \r\nL 350.589201 36.83607 \r\nL 350.893869 39.298805 \r\nL 351.198537 39.474137 \r\nL 351.503206 41.326785 \r\nL 351.807874 43.93018 \r\nL 352.112542 43.870382 \r\nL 352.417211 43.491947 \r\nL 352.721879 45.019679 \r\nL 353.026547 43.751124 \r\nL 353.331215 45.456749 \r\nL 353.635884 41.257239 \r\nL 353.940552 39.172343 \r\nL 354.24522 41.250079 \r\nL 354.549889 41.33638 \r\nL 354.854557 41.272637 \r\nL 355.159225 39.920565 \r\nL 355.463894 42.580915 \r\nL 355.768562 41.155255 \r\nL 356.07323 41.41917 \r\nL 356.377898 40.948597 \r\nL 356.682567 41.206762 \r\nL 356.987235 40.792432 \r\nL 357.291903 41.241519 \r\nL 358.205908 37.774223 \r\nL 358.510577 35.113452 \r\nL 358.815245 35.162707 \r\nL 359.72925 39.252211 \r\nL 360.033918 43.003956 \r\nL 360.338586 41.424688 \r\nL 360.643255 43.602409 \r\nL 360.947923 44.781205 \r\nL 361.252591 44.175508 \r\nL 361.55726 46.475169 \r\nL 362.166596 44.616358 \r\nL 362.471265 41.314175 \r\nL 362.775933 41.378392 \r\nL 363.080601 37.860247 \r\nL 363.38527 39.907434 \r\nL 363.689938 37.862964 \r\nL 363.994606 38.692183 \r\nL 365.213279 46.981733 \r\nL 365.517948 46.731387 \r\nL 365.822616 47.383135 \r\nL 366.127284 47.118485 \r\nL 366.431953 43.742312 \r\nL 366.736621 44.735667 \r\nL 367.041289 42.744925 \r\nL 367.345957 44.136882 \r\nL 367.650626 43.802139 \r\nL 367.955294 44.315686 \r\nL 368.259962 44.573218 \r\nL 368.564631 43.84841 \r\nL 368.564631 43.84841 \r\n\" style=\"fill:none;stroke:#1f77b4;stroke-linecap:square;stroke-width:1.5;\"/>\r\n   </g>\r\n   <g id=\"line2d_14\">\r\n    <path clip-path=\"url(#pd3e1d837e9)\" d=\"M 64.200994 96.060248 \r\nL 64.505663 95.125369 \r\nL 64.810331 99.236452 \r\nL 65.114999 99.913107 \r\nL 65.419668 101.214164 \r\nL 65.724336 100.694367 \r\nL 66.029004 100.745787 \r\nL 66.333672 96.950946 \r\nL 66.638341 96.541122 \r\nL 66.943009 98.290498 \r\nL 67.247677 100.922103 \r\nL 67.552346 101.565712 \r\nL 67.857014 99.152355 \r\nL 68.161682 99.962555 \r\nL 68.466351 100.350892 \r\nL 68.771019 98.062026 \r\nL 69.380355 101.564406 \r\nL 69.685024 100.138776 \r\nL 69.989692 101.145567 \r\nL 70.29436 98.796898 \r\nL 70.599029 98.329794 \r\nL 70.903697 98.207076 \r\nL 71.208365 94.165778 \r\nL 71.513034 94.385427 \r\nL 72.12237 99.233169 \r\nL 72.427039 103.028524 \r\nL 72.731707 102.036358 \r\nL 73.036375 103.498019 \r\nL 73.341043 103.392204 \r\nL 73.645712 102.821009 \r\nL 73.95038 107.161832 \r\nL 74.255048 106.102051 \r\nL 74.559717 106.229197 \r\nL 74.864385 105.628573 \r\nL 75.169053 104.604482 \r\nL 75.473722 106.447435 \r\nL 75.77839 105.281865 \r\nL 76.083058 105.87515 \r\nL 76.387727 104.75584 \r\nL 76.692395 105.375021 \r\nL 76.997063 104.03619 \r\nL 77.301731 103.890443 \r\nL 77.6064 101.328119 \r\nL 78.520405 107.21529 \r\nL 78.825073 108.908891 \r\nL 79.43441 108.646018 \r\nL 79.739078 111.402607 \r\nL 80.348414 110.029912 \r\nL 80.653083 112.762909 \r\nL 80.957751 113.657222 \r\nL 81.262419 112.147127 \r\nL 81.567088 113.699108 \r\nL 81.871756 113.287103 \r\nL 82.176424 113.076441 \r\nL 82.481093 111.086735 \r\nL 82.785761 111.792239 \r\nL 83.090429 111.81827 \r\nL 83.395098 114.382077 \r\nL 84.004434 116.815351 \r\nL 84.309102 114.283271 \r\nL 84.613771 116.919215 \r\nL 84.918439 115.622032 \r\nL 85.223107 118.414925 \r\nL 85.527776 116.17543 \r\nL 85.832444 119.874642 \r\nL 86.137112 119.066521 \r\nL 86.441781 120.02722 \r\nL 86.746449 119.644577 \r\nL 87.051117 118.506898 \r\nL 87.355785 118.211622 \r\nL 87.660454 116.375445 \r\nL 87.965122 117.594141 \r\nL 88.26979 113.994565 \r\nL 88.574459 111.730175 \r\nL 89.183795 118.274819 \r\nL 89.488464 118.48446 \r\nL 89.793132 119.427632 \r\nL 90.0978 119.805985 \r\nL 90.402469 120.442643 \r\nL 90.707137 122.285341 \r\nL 91.011805 121.974286 \r\nL 91.316473 121.896904 \r\nL 91.621142 123.983956 \r\nL 91.92581 124.579402 \r\nL 92.839815 133.705739 \r\nL 93.144483 129.279355 \r\nL 93.449152 128.323061 \r\nL 93.75382 129.958101 \r\nL 94.058488 127.687074 \r\nL 94.363156 129.865559 \r\nL 94.667825 129.820498 \r\nL 94.972493 128.712063 \r\nL 95.277161 130.404005 \r\nL 95.58183 130.266458 \r\nL 95.886498 128.748787 \r\nL 96.191166 128.185697 \r\nL 96.800503 132.647967 \r\nL 97.105171 131.87929 \r\nL 97.40984 133.554546 \r\nL 97.714508 130.790182 \r\nL 98.019176 132.627823 \r\nL 98.628513 129.767195 \r\nL 98.933181 129.792942 \r\nL 99.237849 127.291345 \r\nL 99.542518 125.719837 \r\nL 99.847186 126.655347 \r\nL 100.151854 128.807997 \r\nL 100.456523 126.593147 \r\nL 100.761191 127.02623 \r\nL 101.065859 123.609817 \r\nL 101.370527 126.841625 \r\nL 101.675196 127.47141 \r\nL 101.979864 127.352083 \r\nL 102.284532 131.25816 \r\nL 102.589201 131.360917 \r\nL 102.893869 129.605309 \r\nL 103.198537 129.966919 \r\nL 103.503206 125.887777 \r\nL 103.807874 128.310129 \r\nL 104.112542 127.618959 \r\nL 104.417211 126.53742 \r\nL 104.721879 126.879969 \r\nL 105.026547 126.946863 \r\nL 105.331215 125.464827 \r\nL 105.635884 122.461883 \r\nL 105.940552 122.046665 \r\nL 106.24522 120.030096 \r\nL 106.549889 121.224461 \r\nL 106.854557 118.218043 \r\nL 107.159225 120.055455 \r\nL 107.463894 120.872152 \r\nL 108.07323 123.812434 \r\nL 108.377898 122.147203 \r\nL 108.987235 127.540902 \r\nL 109.291903 126.071686 \r\nL 109.596572 128.369151 \r\nL 109.90124 127.536495 \r\nL 110.205908 129.155678 \r\nL 110.510577 131.722365 \r\nL 110.815245 130.320178 \r\nL 111.119913 130.582249 \r\nL 111.424582 130.381528 \r\nL 111.72925 127.841809 \r\nL 112.033918 129.995269 \r\nL 112.338586 127.996055 \r\nL 112.947923 131.581504 \r\nL 113.252591 131.055482 \r\nL 113.55726 129.467182 \r\nL 113.861928 129.133995 \r\nL 114.166596 130.156001 \r\nL 114.471265 132.953717 \r\nL 114.775933 131.919179 \r\nL 115.080601 134.861399 \r\nL 115.38527 133.796634 \r\nL 115.689938 134.426729 \r\nL 115.994606 134.563965 \r\nL 116.299274 134.180093 \r\nL 116.603943 133.345968 \r\nL 116.908611 130.801013 \r\nL 117.213279 131.334847 \r\nL 117.517948 133.555533 \r\nL 117.822616 133.823746 \r\nL 118.127284 135.10928 \r\nL 118.431953 134.70694 \r\nL 118.736621 137.561688 \r\nL 119.345957 138.001331 \r\nL 119.650626 141.365877 \r\nL 119.955294 143.397002 \r\nL 120.259962 143.267049 \r\nL 120.564631 147.299716 \r\nL 120.869299 147.037387 \r\nL 121.478636 151.080486 \r\nL 121.783304 151.736025 \r\nL 122.087972 153.497539 \r\nL 122.392641 153.360726 \r\nL 122.697309 154.032823 \r\nL 123.001977 153.761841 \r\nL 123.306645 155.163062 \r\nL 123.611314 155.306117 \r\nL 123.915982 154.577833 \r\nL 124.22065 152.415916 \r\nL 124.525319 151.59786 \r\nL 124.829987 152.595171 \r\nL 125.134655 147.727586 \r\nL 125.439324 147.687152 \r\nL 126.04866 146.851663 \r\nL 126.353328 144.299242 \r\nL 126.657997 145.381235 \r\nL 126.962665 147.567379 \r\nL 127.267333 145.725005 \r\nL 127.87667 149.717773 \r\nL 128.181338 149.26151 \r\nL 128.486007 147.782306 \r\nL 128.790675 144.00589 \r\nL 129.095343 143.683399 \r\nL 129.70468 150.710269 \r\nL 130.009348 150.160748 \r\nL 130.314016 152.112242 \r\nL 130.618685 155.425804 \r\nL 130.923353 156.813305 \r\nL 131.228021 154.262372 \r\nL 131.53269 155.306639 \r\nL 131.837358 153.788344 \r\nL 132.142026 154.034866 \r\nL 132.446695 153.20624 \r\nL 132.751363 155.596622 \r\nL 133.056031 154.317557 \r\nL 133.360699 158.866511 \r\nL 133.665368 157.881478 \r\nL 133.970036 158.78625 \r\nL 134.274704 158.091569 \r\nL 134.579373 160.273452 \r\nL 134.884041 160.944269 \r\nL 135.188709 162.434691 \r\nL 135.493378 162.893188 \r\nL 135.798046 164.511007 \r\nL 136.102714 165.009314 \r\nL 136.407383 165.889777 \r\nL 137.016719 168.385621 \r\nL 137.321387 165.749682 \r\nL 137.626056 166.76169 \r\nL 137.930724 166.940229 \r\nL 138.235392 166.278788 \r\nL 138.540061 164.30266 \r\nL 138.844729 163.320716 \r\nL 139.454066 157.412934 \r\nL 139.758734 157.129984 \r\nL 140.36807 151.398955 \r\nL 140.672739 152.004264 \r\nL 140.977407 153.580638 \r\nL 141.282075 153.590058 \r\nL 141.586744 155.378751 \r\nL 141.891412 155.760584 \r\nL 142.500749 150.030747 \r\nL 142.805417 149.765048 \r\nL 143.110085 151.880962 \r\nL 143.414754 152.629407 \r\nL 143.719422 149.984995 \r\nL 144.02409 148.366818 \r\nL 144.328758 149.425729 \r\nL 144.633427 147.982065 \r\nL 144.938095 147.112276 \r\nL 145.242763 146.688672 \r\nL 145.547432 146.799501 \r\nL 145.8521 143.632849 \r\nL 146.156768 143.157021 \r\nL 146.461437 138.800898 \r\nL 146.766105 137.470691 \r\nL 147.68011 136.131701 \r\nL 147.984778 141.864951 \r\nL 148.289446 142.030119 \r\nL 148.594115 143.541889 \r\nL 148.898783 144.454921 \r\nL 149.203451 142.360911 \r\nL 149.50812 141.774375 \r\nL 149.812788 141.866893 \r\nL 150.117456 142.938253 \r\nL 150.422125 142.145097 \r\nL 150.726793 142.78684 \r\nL 151.031461 141.104424 \r\nL 151.336129 140.401916 \r\nL 151.640798 139.057554 \r\nL 151.945466 139.889835 \r\nL 152.250134 135.702271 \r\nL 152.554803 133.709946 \r\nL 152.859471 130.504502 \r\nL 153.164139 130.148513 \r\nL 153.468808 128.38601 \r\nL 153.773476 130.048548 \r\nL 154.078144 134.371758 \r\nL 154.382812 136.94807 \r\nL 154.687481 138.561023 \r\nL 154.992149 142.385789 \r\nL 155.296817 140.800566 \r\nL 155.601486 136.409333 \r\nL 155.906154 137.786518 \r\nL 156.210822 134.659682 \r\nL 156.515491 137.190906 \r\nL 156.820159 137.580346 \r\nL 157.124827 139.566119 \r\nL 157.734164 136.292291 \r\nL 158.038832 136.672095 \r\nL 158.3435 138.116612 \r\nL 158.648169 141.099528 \r\nL 158.952837 141.807977 \r\nL 159.257505 143.620555 \r\nL 159.866842 145.154709 \r\nL 160.17151 141.868781 \r\nL 160.476179 141.148448 \r\nL 161.085515 140.290826 \r\nL 161.390184 144.173083 \r\nL 162.608857 138.097697 \r\nL 162.913525 139.443 \r\nL 163.218193 139.892092 \r\nL 163.522862 144.033131 \r\nL 163.82753 143.938147 \r\nL 164.436867 142.354317 \r\nL 164.741535 143.930512 \r\nL 165.046203 146.52363 \r\nL 165.350871 144.748898 \r\nL 165.65554 146.787087 \r\nL 165.960208 146.267681 \r\nL 166.874213 142.08463 \r\nL 167.178881 145.701125 \r\nL 167.48355 146.250019 \r\nL 167.788218 143.672641 \r\nL 168.092886 146.36701 \r\nL 168.397555 145.711354 \r\nL 168.702223 145.639368 \r\nL 169.006891 144.464385 \r\nL 169.311559 144.778828 \r\nL 169.616228 144.80076 \r\nL 169.920896 143.264041 \r\nL 170.225564 143.118049 \r\nL 170.530233 143.32322 \r\nL 170.834901 142.433683 \r\nL 171.139569 142.147336 \r\nL 171.444238 141.584532 \r\nL 171.748906 145.3083 \r\nL 172.662911 149.047689 \r\nL 173.272247 147.038179 \r\nL 173.576916 147.78659 \r\nL 174.186252 147.472479 \r\nL 174.795589 149.113891 \r\nL 175.100257 150.399999 \r\nL 175.404926 150.185799 \r\nL 175.709594 151.176231 \r\nL 176.014262 148.253979 \r\nL 176.31893 150.511338 \r\nL 176.928267 153.279185 \r\nL 177.232935 151.963108 \r\nL 177.842272 156.000764 \r\nL 178.14694 157.304774 \r\nL 178.451609 155.005696 \r\nL 178.756277 155.82572 \r\nL 179.060945 156.016587 \r\nL 179.365613 157.644107 \r\nL 179.97495 155.338966 \r\nL 180.279618 155.749779 \r\nL 180.584287 152.91098 \r\nL 180.888955 153.056039 \r\nL 181.193623 154.074231 \r\nL 181.498292 154.344195 \r\nL 181.80296 151.124699 \r\nL 182.412297 150.222107 \r\nL 182.716965 150.265791 \r\nL 183.326301 146.994378 \r\nL 183.63097 143.504982 \r\nL 183.935638 143.576777 \r\nL 184.240306 144.66514 \r\nL 184.544975 142.074404 \r\nL 184.849643 142.736143 \r\nL 185.45898 140.840331 \r\nL 185.763648 137.587995 \r\nL 186.068316 138.557761 \r\nL 186.372984 141.423004 \r\nL 186.677653 145.812305 \r\nL 186.982321 146.70726 \r\nL 187.286989 148.032924 \r\nL 187.591658 146.906759 \r\nL 188.200994 146.21287 \r\nL 188.505663 147.374495 \r\nL 188.810331 147.588391 \r\nL 189.114999 148.009306 \r\nL 189.419668 147.802425 \r\nL 189.724336 147.880094 \r\nL 190.029004 148.415836 \r\nL 190.333672 147.789389 \r\nL 190.638341 147.832535 \r\nL 190.943009 147.678313 \r\nL 191.247677 149.37897 \r\nL 191.552346 148.120365 \r\nL 191.857014 151.501682 \r\nL 192.161682 150.974983 \r\nL 192.466351 153.633018 \r\nL 192.771019 154.639107 \r\nL 193.075687 153.225685 \r\nL 193.380355 155.378977 \r\nL 193.685024 156.476795 \r\nL 193.989692 156.120113 \r\nL 194.29436 156.013541 \r\nL 194.599029 155.28944 \r\nL 195.208365 150.734917 \r\nL 195.513034 153.260435 \r\nL 195.817702 153.05266 \r\nL 196.12237 153.291329 \r\nL 196.427039 154.395059 \r\nL 196.731707 154.205224 \r\nL 197.036375 152.180128 \r\nL 197.341043 151.638696 \r\nL 197.645712 150.092689 \r\nL 197.95038 150.169065 \r\nL 198.255048 150.549688 \r\nL 198.559717 150.73042 \r\nL 198.864385 149.315777 \r\nL 199.169053 151.553045 \r\nL 199.473722 152.822741 \r\nL 199.77839 153.036728 \r\nL 200.083058 149.976749 \r\nL 200.387727 153.915062 \r\nL 200.692395 154.745331 \r\nL 200.997063 156.253519 \r\nL 201.301731 155.416883 \r\nL 201.6064 155.929569 \r\nL 201.911068 158.157754 \r\nL 202.215736 159.012606 \r\nL 202.520405 158.368222 \r\nL 202.825073 157.003242 \r\nL 203.129741 157.65635 \r\nL 203.43441 155.724614 \r\nL 203.739078 155.829246 \r\nL 204.043746 156.871598 \r\nL 204.957751 151.773386 \r\nL 205.262419 149.09461 \r\nL 205.567088 149.360168 \r\nL 205.871756 148.897577 \r\nL 206.176424 149.565354 \r\nL 206.481093 148.679783 \r\nL 207.090429 146.037845 \r\nL 207.699766 149.323802 \r\nL 208.309102 146.600197 \r\nL 208.613771 147.169537 \r\nL 208.918439 147.10329 \r\nL 209.223107 148.379796 \r\nL 209.527776 148.071675 \r\nL 209.832444 145.821994 \r\nL 210.137112 145.657349 \r\nL 210.441781 145.146891 \r\nL 211.355785 140.790223 \r\nL 211.660454 143.651386 \r\nL 211.965122 144.090067 \r\nL 212.26979 143.385286 \r\nL 212.879127 145.402888 \r\nL 213.183795 143.664748 \r\nL 213.793132 147.648929 \r\nL 214.0978 147.062287 \r\nL 214.402469 145.504157 \r\nL 214.707137 145.876695 \r\nL 215.011805 144.652152 \r\nL 215.621142 138.036025 \r\nL 215.92581 136.909652 \r\nL 216.230478 137.696822 \r\nL 216.535147 136.703317 \r\nL 216.839815 136.205797 \r\nL 217.144483 136.421669 \r\nL 217.449152 134.295849 \r\nL 218.058488 136.225191 \r\nL 218.363156 138.940844 \r\nL 218.972493 142.497183 \r\nL 219.277161 143.264089 \r\nL 219.58183 143.248614 \r\nL 219.886498 143.015562 \r\nL 220.191166 140.776672 \r\nL 220.495835 139.538821 \r\nL 220.800503 139.34915 \r\nL 221.105171 140.066302 \r\nL 221.40984 142.013863 \r\nL 221.714508 139.727932 \r\nL 222.323844 143.443564 \r\nL 222.628513 143.687647 \r\nL 222.933181 142.278602 \r\nL 223.237849 143.315857 \r\nL 223.542518 143.606304 \r\nL 223.847186 145.128764 \r\nL 224.151854 147.900863 \r\nL 224.456523 145.730036 \r\nL 224.761191 145.409395 \r\nL 225.065859 146.941585 \r\nL 225.370527 147.617212 \r\nL 225.675196 145.897295 \r\nL 225.979864 148.99735 \r\nL 226.284532 150.381865 \r\nL 226.589201 150.308778 \r\nL 226.893869 150.720592 \r\nL 227.198537 154.471801 \r\nL 227.503206 151.939563 \r\nL 227.807874 148.105807 \r\nL 228.112542 149.526995 \r\nL 228.417211 144.080792 \r\nL 228.721879 141.444153 \r\nL 229.026547 144.769366 \r\nL 229.331215 145.14919 \r\nL 229.635884 142.88861 \r\nL 229.940552 143.031024 \r\nL 230.24522 142.671648 \r\nL 230.549889 143.988603 \r\nL 230.854557 143.697198 \r\nL 231.159225 144.478489 \r\nL 231.463894 144.91055 \r\nL 231.768562 146.854703 \r\nL 232.377898 143.621415 \r\nL 232.987235 145.208728 \r\nL 233.291903 146.462679 \r\nL 233.596572 145.633604 \r\nL 233.90124 147.320145 \r\nL 234.205908 148.201915 \r\nL 234.510577 152.687134 \r\nL 234.815245 153.688552 \r\nL 235.119913 152.365152 \r\nL 235.424582 155.097639 \r\nL 235.72925 152.836919 \r\nL 236.033918 152.482176 \r\nL 236.338586 151.790731 \r\nL 236.643255 152.183922 \r\nL 236.947923 154.59464 \r\nL 237.252591 153.677646 \r\nL 237.55726 153.685289 \r\nL 237.861928 152.118785 \r\nL 238.166596 154.016335 \r\nL 238.471265 151.499396 \r\nL 238.775933 150.557847 \r\nL 239.080601 152.90672 \r\nL 239.38527 156.465786 \r\nL 239.689938 156.249632 \r\nL 239.994606 154.707961 \r\nL 240.299274 156.198975 \r\nL 240.603943 158.440049 \r\nL 241.213279 154.632422 \r\nL 241.517948 154.418765 \r\nL 241.822616 154.35556 \r\nL 242.127284 153.770263 \r\nL 242.431953 153.533454 \r\nL 242.736621 152.528643 \r\nL 243.041289 153.655611 \r\nL 243.650626 153.449959 \r\nL 244.259962 158.658698 \r\nL 244.564631 158.834507 \r\nL 244.869299 162.794928 \r\nL 245.173967 163.812865 \r\nL 245.783304 158.809973 \r\nL 246.087972 162.908566 \r\nL 246.392641 163.441875 \r\nL 247.001977 162.989547 \r\nL 247.611314 168.454146 \r\nL 247.915982 167.293505 \r\nL 248.22065 167.632322 \r\nL 248.525319 169.821675 \r\nL 248.829987 170.69601 \r\nL 249.134655 167.789259 \r\nL 249.439324 171.647535 \r\nL 249.743992 172.209332 \r\nL 250.04866 171.362116 \r\nL 250.353328 171.014586 \r\nL 250.657997 171.832406 \r\nL 250.962665 172.099187 \r\nL 251.267333 169.567545 \r\nL 251.572002 170.481898 \r\nL 252.181338 164.121575 \r\nL 252.486007 163.025311 \r\nL 252.790675 162.643035 \r\nL 253.095343 162.445862 \r\nL 253.400012 164.698961 \r\nL 253.70468 165.479258 \r\nL 254.314016 167.783463 \r\nL 254.618685 165.34483 \r\nL 254.923353 168.949191 \r\nL 255.228021 167.604129 \r\nL 255.837358 163.006733 \r\nL 256.142026 167.542278 \r\nL 256.446695 168.965953 \r\nL 256.751363 166.09189 \r\nL 257.056031 166.989086 \r\nL 257.360699 169.124738 \r\nL 257.665368 172.567545 \r\nL 258.274704 173.435514 \r\nL 258.579373 171.30231 \r\nL 258.884041 174.567978 \r\nL 259.188709 175.831006 \r\nL 259.493378 175.412574 \r\nL 259.798046 172.821103 \r\nL 260.712051 177.589912 \r\nL 261.016719 177.43983 \r\nL 261.321387 175.125839 \r\nL 261.626056 171.905856 \r\nL 261.930724 170.564447 \r\nL 262.235392 169.79719 \r\nL 262.540061 168.07783 \r\nL 262.844729 168.065377 \r\nL 263.149397 164.843728 \r\nL 263.454066 164.530109 \r\nL 264.063402 167.805684 \r\nL 264.36807 167.369685 \r\nL 264.672739 168.001025 \r\nL 264.977407 166.376673 \r\nL 265.282075 166.266441 \r\nL 265.586744 163.144835 \r\nL 265.891412 163.532378 \r\nL 266.19608 163.648041 \r\nL 266.500749 161.938364 \r\nL 267.110085 164.047583 \r\nL 267.414754 162.933731 \r\nL 267.719422 159.315667 \r\nL 268.02409 162.26845 \r\nL 268.328758 162.1849 \r\nL 268.633427 158.820087 \r\nL 268.938095 163.200336 \r\nL 269.242763 165.378898 \r\nL 269.8521 167.734831 \r\nL 270.156768 169.047774 \r\nL 270.461437 167.09343 \r\nL 270.766105 169.712539 \r\nL 271.070773 171.087772 \r\nL 271.375441 170.522476 \r\nL 271.68011 170.372858 \r\nL 271.984778 169.693354 \r\nL 272.289446 169.856414 \r\nL 272.594115 167.040303 \r\nL 273.203451 168.59 \r\nL 273.812788 171.286351 \r\nL 274.117456 170.311931 \r\nL 274.422125 170.61094 \r\nL 274.726793 170.521285 \r\nL 275.031461 169.076215 \r\nL 275.336129 165.356445 \r\nL 275.945466 168.617648 \r\nL 276.554803 163.679538 \r\nL 276.859471 162.943414 \r\nL 277.164139 161.388837 \r\nL 277.468808 164.37243 \r\nL 277.773476 164.14902 \r\nL 278.078144 164.703077 \r\nL 278.382812 164.183332 \r\nL 278.687481 162.821598 \r\nL 278.992149 163.293757 \r\nL 279.296817 164.819667 \r\nL 279.601486 165.180609 \r\nL 279.906154 164.074954 \r\nL 280.210822 163.642996 \r\nL 280.515491 165.03078 \r\nL 280.820159 167.348725 \r\nL 281.124827 166.332275 \r\nL 281.429496 167.396761 \r\nL 281.734164 166.637481 \r\nL 282.038832 167.482404 \r\nL 282.3435 166.046133 \r\nL 282.648169 164.056924 \r\nL 283.257505 171.059416 \r\nL 283.562174 168.713166 \r\nL 283.866842 172.342809 \r\nL 284.17151 170.322608 \r\nL 284.476179 169.276032 \r\nL 284.780847 169.888262 \r\nL 285.085515 173.557545 \r\nL 285.390184 174.246196 \r\nL 285.694852 176.696041 \r\nL 285.99952 177.000259 \r\nL 286.304188 177.557344 \r\nL 286.608857 175.414563 \r\nL 286.913525 175.421848 \r\nL 287.522862 176.940442 \r\nL 287.82753 175.200573 \r\nL 288.132198 175.320768 \r\nL 288.436867 174.995084 \r\nL 288.741535 174.250046 \r\nL 289.046203 172.325322 \r\nL 289.350871 171.975124 \r\nL 289.960208 169.76261 \r\nL 290.264876 167.728149 \r\nL 290.569545 168.765711 \r\nL 290.874213 168.362953 \r\nL 291.178881 167.047565 \r\nL 291.48355 167.9534 \r\nL 291.788218 169.60282 \r\nL 292.092886 169.769993 \r\nL 292.397555 168.221739 \r\nL 293.006891 166.483532 \r\nL 293.616228 172.34745 \r\nL 293.920896 174.310779 \r\nL 295.139569 165.269701 \r\nL 295.444238 165.77944 \r\nL 295.748906 162.069822 \r\nL 296.662911 158.904083 \r\nL 296.967579 157.560272 \r\nL 297.272247 158.42239 \r\nL 297.576916 158.787035 \r\nL 297.881584 160.969487 \r\nL 298.186252 161.979263 \r\nL 298.490921 163.500559 \r\nL 298.795589 164.287343 \r\nL 299.100257 166.896889 \r\nL 299.404926 164.416757 \r\nL 299.709594 165.829055 \r\nL 300.014262 165.87172 \r\nL 300.31893 165.024315 \r\nL 300.623599 168.082002 \r\nL 300.928267 168.135554 \r\nL 301.537604 163.774862 \r\nL 301.842272 161.462241 \r\nL 302.14694 162.377791 \r\nL 302.451609 161.102301 \r\nL 303.060945 165.865621 \r\nL 303.365613 165.323532 \r\nL 303.670282 163.67642 \r\nL 303.97495 160.199938 \r\nL 304.279618 158.723829 \r\nL 304.584287 157.862744 \r\nL 304.888955 154.402542 \r\nL 305.498292 153.480706 \r\nL 305.80296 154.039711 \r\nL 306.107628 157.331978 \r\nL 306.716965 157.980095 \r\nL 307.021633 159.025321 \r\nL 307.326301 162.280531 \r\nL 307.63097 161.728906 \r\nL 307.935638 162.350497 \r\nL 308.849643 167.253245 \r\nL 309.154311 167.336647 \r\nL 309.763648 164.864781 \r\nL 310.068316 167.272893 \r\nL 310.372984 166.201159 \r\nL 310.677653 166.627157 \r\nL 310.982321 168.500055 \r\nL 311.286989 169.11609 \r\nL 311.591658 168.845046 \r\nL 311.896326 168.141533 \r\nL 312.200994 170.897655 \r\nL 312.505663 169.991417 \r\nL 313.114999 174.406696 \r\nL 313.419668 174.117332 \r\nL 313.724336 173.115904 \r\nL 314.029004 173.665137 \r\nL 314.943009 177.809817 \r\nL 315.247677 175.613685 \r\nL 315.552346 175.104018 \r\nL 315.857014 176.367662 \r\nL 316.161682 175.952319 \r\nL 316.466351 174.53596 \r\nL 317.075687 176.841942 \r\nL 317.380355 175.86223 \r\nL 317.685024 177.06216 \r\nL 317.989692 176.272621 \r\nL 318.599029 180.777372 \r\nL 318.903697 179.373895 \r\nL 319.208365 181.803033 \r\nL 319.817702 180.371439 \r\nL 320.12237 180.356215 \r\nL 320.427039 179.079456 \r\nL 320.731707 179.746968 \r\nL 321.036375 178.818113 \r\nL 321.341043 177.151765 \r\nL 322.559717 173.69496 \r\nL 322.864385 174.419092 \r\nL 323.473722 171.795384 \r\nL 324.083058 168.291761 \r\nL 324.387727 170.261683 \r\nL 324.997063 171.730996 \r\nL 325.301731 170.62112 \r\nL 325.6064 170.556958 \r\nL 325.911068 168.626283 \r\nL 326.520405 170.861198 \r\nL 326.825073 169.699651 \r\nL 327.129741 169.980443 \r\nL 327.43441 172.847142 \r\nL 327.739078 172.875592 \r\nL 328.043746 173.464726 \r\nL 328.348414 169.105418 \r\nL 328.957751 167.114786 \r\nL 329.262419 166.429389 \r\nL 329.871756 170.84822 \r\nL 330.176424 171.474745 \r\nL 330.481093 170.296023 \r\nL 330.785761 167.220921 \r\nL 331.395098 165.578397 \r\nL 331.699766 165.882541 \r\nL 332.613771 170.715951 \r\nL 332.918439 169.297138 \r\nL 333.223107 166.654071 \r\nL 333.527776 165.364562 \r\nL 333.832444 162.154909 \r\nL 334.137112 164.403003 \r\nL 334.441781 163.852461 \r\nL 334.746449 167.152944 \r\nL 335.051117 172.182256 \r\nL 335.355785 173.119863 \r\nL 335.660454 171.903849 \r\nL 335.965122 168.030817 \r\nL 336.26979 168.693032 \r\nL 336.574459 170.514663 \r\nL 336.879127 171.291997 \r\nL 337.183795 167.971595 \r\nL 337.488464 168.504662 \r\nL 337.793132 168.139383 \r\nL 338.0978 169.62948 \r\nL 338.402469 172.242232 \r\nL 338.707137 173.164416 \r\nL 339.011805 173.570411 \r\nL 339.316473 171.674805 \r\nL 339.621142 171.58883 \r\nL 339.92581 170.555204 \r\nL 340.230478 169.992367 \r\nL 340.535147 172.022595 \r\nL 341.144483 169.08793 \r\nL 341.449152 169.774933 \r\nL 341.75382 171.383253 \r\nL 342.058488 174.623682 \r\nL 342.363156 175.576506 \r\nL 342.667825 179.354785 \r\nL 342.972493 178.977126 \r\nL 343.277161 180.544677 \r\nL 343.58183 185.133445 \r\nL 343.886498 181.483506 \r\nL 344.191166 184.362128 \r\nL 344.800503 186.412119 \r\nL 345.105171 185.642914 \r\nL 345.40984 185.267238 \r\nL 345.714508 185.900373 \r\nL 346.019176 188.551967 \r\nL 346.323844 189.321653 \r\nL 346.628513 189.089966 \r\nL 346.933181 188.505689 \r\nL 347.237849 186.051999 \r\nL 347.542518 185.388761 \r\nL 347.847186 185.762806 \r\nL 348.151854 184.998549 \r\nL 348.456523 183.820159 \r\nL 348.761191 181.373576 \r\nL 349.065859 181.86993 \r\nL 349.370527 181.053091 \r\nL 349.675196 182.246641 \r\nL 349.979864 182.527359 \r\nL 350.284532 183.436087 \r\nL 350.589201 181.777739 \r\nL 351.198537 184.94184 \r\nL 351.503206 186.45197 \r\nL 351.807874 183.632425 \r\nL 352.112542 184.295364 \r\nL 352.417211 185.271209 \r\nL 352.721879 186.639219 \r\nL 353.331215 187.86026 \r\nL 353.635884 191.943563 \r\nL 353.940552 191.223276 \r\nL 354.549889 192.785144 \r\nL 354.854557 191.452193 \r\nL 355.159225 193.65627 \r\nL 355.463894 191.818472 \r\nL 355.768562 192.848111 \r\nL 356.07323 192.501192 \r\nL 356.377898 192.55346 \r\nL 356.682567 191.829271 \r\nL 356.987235 192.43399 \r\nL 357.596572 197.986739 \r\nL 357.90124 196.954546 \r\nL 358.510577 197.373939 \r\nL 359.119913 200.976427 \r\nL 359.424582 200.736818 \r\nL 359.72925 200.944681 \r\nL 360.033918 201.778095 \r\nL 360.338586 205.137427 \r\nL 360.643255 205.727808 \r\nL 361.252591 208.53581 \r\nL 361.861928 206.298779 \r\nL 362.166596 205.893154 \r\nL 362.471265 207.961306 \r\nL 362.775933 208.108466 \r\nL 363.080601 208.454254 \r\nL 363.38527 211.286274 \r\nL 363.689938 211.489336 \r\nL 363.994606 213.527121 \r\nL 364.299274 214.756364 \r\nL 364.603943 212.890923 \r\nL 364.908611 208.784893 \r\nL 365.213279 210.382611 \r\nL 365.517948 210.146569 \r\nL 365.822616 210.524452 \r\nL 366.127284 211.182511 \r\nL 366.431953 211.316589 \r\nL 366.736621 213.470449 \r\nL 367.041289 212.689518 \r\nL 367.345957 212.42352 \r\nL 367.650626 211.613704 \r\nL 367.955294 211.67315 \r\nL 368.564631 209.1771 \r\nL 368.564631 209.1771 \r\n\" style=\"fill:none;stroke:#ff7f0e;stroke-linecap:square;stroke-width:1.5;\"/>\r\n   </g>\r\n   <g id=\"line2d_15\">\r\n    <path clip-path=\"url(#pd3e1d837e9)\" d=\"M 64.200994 92.57685 \r\nL 64.505663 91.063238 \r\nL 64.810331 91.002377 \r\nL 65.114999 94.270288 \r\nL 65.724336 89.870582 \r\nL 66.029004 90.500448 \r\nL 66.333672 89.188892 \r\nL 67.247677 93.827769 \r\nL 67.552346 96.624585 \r\nL 67.857014 94.742715 \r\nL 68.161682 94.45692 \r\nL 68.466351 95.801629 \r\nL 68.771019 97.729412 \r\nL 69.075687 96.43085 \r\nL 69.380355 99.160922 \r\nL 69.685024 98.450168 \r\nL 69.989692 100.570902 \r\nL 70.29436 97.806139 \r\nL 70.599029 98.555357 \r\nL 70.903697 96.683632 \r\nL 71.208365 99.190366 \r\nL 71.513034 98.776548 \r\nL 71.817702 97.687761 \r\nL 72.427039 100.043682 \r\nL 72.731707 98.951274 \r\nL 73.036375 101.7046 \r\nL 73.341043 101.334425 \r\nL 73.645712 101.639739 \r\nL 73.95038 101.313829 \r\nL 74.255048 101.34045 \r\nL 74.559717 102.360537 \r\nL 74.864385 103.831861 \r\nL 75.169053 102.275222 \r\nL 75.473722 105.1814 \r\nL 75.77839 105.53429 \r\nL 76.083058 104.981458 \r\nL 76.387727 106.064589 \r\nL 76.692395 105.675138 \r\nL 76.997063 105.545987 \r\nL 77.301731 106.095023 \r\nL 77.6064 110.31481 \r\nL 77.911068 108.76975 \r\nL 78.215736 108.516856 \r\nL 78.520405 107.762302 \r\nL 78.825073 105.312946 \r\nL 79.129741 105.188123 \r\nL 79.43441 105.330916 \r\nL 79.739078 103.348071 \r\nL 80.043746 103.084795 \r\nL 80.348414 103.48623 \r\nL 80.653083 103.08056 \r\nL 81.262419 99.284085 \r\nL 81.567088 97.929951 \r\nL 81.871756 95.320731 \r\nL 82.481093 93.063423 \r\nL 82.785761 91.735064 \r\nL 83.090429 92.325405 \r\nL 83.395098 92.273439 \r\nL 83.699766 92.927437 \r\nL 84.004434 90.702559 \r\nL 84.309102 93.011252 \r\nL 84.613771 92.380961 \r\nL 84.918439 95.497746 \r\nL 85.223107 96.417513 \r\nL 85.527776 98.71879 \r\nL 85.832444 97.447353 \r\nL 86.746449 103.812207 \r\nL 87.355785 101.47107 \r\nL 87.660454 102.020274 \r\nL 87.965122 100.38163 \r\nL 88.26979 101.726064 \r\nL 88.574459 101.125391 \r\nL 89.183795 99.196765 \r\nL 89.488464 100.70896 \r\nL 89.793132 97.873532 \r\nL 90.402469 105.926344 \r\nL 90.707137 108.051572 \r\nL 91.011805 109.21017 \r\nL 91.621142 112.073952 \r\nL 91.92581 111.228621 \r\nL 92.230478 108.799183 \r\nL 92.535147 108.912507 \r\nL 92.839815 106.641617 \r\nL 93.449152 108.913278 \r\nL 94.058488 110.889299 \r\nL 94.363156 111.236745 \r\nL 94.667825 111.757797 \r\nL 95.277161 108.912415 \r\nL 95.58183 109.64437 \r\nL 96.191166 107.026097 \r\nL 96.495835 107.800442 \r\nL 96.800503 107.534651 \r\nL 97.105171 108.881067 \r\nL 97.40984 109.377369 \r\nL 97.714508 109.300667 \r\nL 98.019176 111.287724 \r\nL 98.323844 109.939462 \r\nL 98.628513 105.171039 \r\nL 98.933181 105.342386 \r\nL 99.237849 99.862767 \r\nL 99.542518 98.537351 \r\nL 99.847186 100.216217 \r\nL 100.151854 97.53512 \r\nL 100.456523 96.998625 \r\nL 100.761191 95.411734 \r\nL 101.370527 96.603601 \r\nL 101.675196 98.804228 \r\nL 101.979864 96.773673 \r\nL 102.284532 96.797012 \r\nL 102.589201 94.89307 \r\nL 102.893869 95.477743 \r\nL 103.503206 92.246315 \r\nL 103.807874 91.976971 \r\nL 104.112542 94.27076 \r\nL 104.417211 92.477756 \r\nL 104.721879 94.60862 \r\nL 105.026547 92.966767 \r\nL 105.331215 93.714055 \r\nL 105.635884 92.799077 \r\nL 105.940552 93.469221 \r\nL 106.24522 93.43052 \r\nL 106.549889 92.199152 \r\nL 106.854557 91.642256 \r\nL 107.159225 88.284221 \r\nL 107.463894 87.412191 \r\nL 107.768562 85.79777 \r\nL 108.682567 89.613928 \r\nL 108.987235 89.969607 \r\nL 109.291903 89.534063 \r\nL 109.596572 87.528952 \r\nL 109.90124 89.231659 \r\nL 110.205908 89.803796 \r\nL 110.510577 89.85059 \r\nL 110.815245 88.259048 \r\nL 111.119913 90.249523 \r\nL 111.424582 90.598264 \r\nL 111.72925 89.604979 \r\nL 112.033918 89.627193 \r\nL 112.338586 90.427333 \r\nL 112.643255 91.549173 \r\nL 112.947923 89.457282 \r\nL 113.252591 84.379629 \r\nL 113.55726 84.645216 \r\nL 113.861928 84.704821 \r\nL 114.166596 83.477984 \r\nL 114.471265 84.892701 \r\nL 114.775933 83.941717 \r\nL 115.080601 85.472331 \r\nL 115.38527 84.443654 \r\nL 115.689938 84.490786 \r\nL 115.994606 87.427542 \r\nL 116.299274 85.405491 \r\nL 116.908611 88.057305 \r\nL 117.213279 88.72955 \r\nL 117.517948 88.415942 \r\nL 117.822616 86.452343 \r\nL 118.127284 90.62088 \r\nL 118.431953 86.567733 \r\nL 118.736621 86.556275 \r\nL 119.041289 82.096464 \r\nL 119.345957 82.460308 \r\nL 119.650626 81.380024 \r\nL 119.955294 79.872399 \r\nL 120.259962 80.105537 \r\nL 120.564631 81.16411 \r\nL 120.869299 81.697986 \r\nL 121.478636 81.395664 \r\nL 122.087972 85.344223 \r\nL 122.392641 84.739137 \r\nL 122.697309 84.793828 \r\nL 123.001977 81.909989 \r\nL 123.306645 81.900423 \r\nL 123.611314 82.615269 \r\nL 123.915982 84.467687 \r\nL 124.525319 92.556804 \r\nL 124.829987 92.54526 \r\nL 125.134655 90.776391 \r\nL 125.439324 90.085299 \r\nL 125.743992 89.000334 \r\nL 126.04866 88.595921 \r\nL 126.353328 90.727106 \r\nL 126.657997 93.644743 \r\nL 127.267333 91.802652 \r\nL 127.87667 94.212463 \r\nL 128.181338 96.880033 \r\nL 128.486007 96.667562 \r\nL 128.790675 95.536739 \r\nL 129.095343 93.116603 \r\nL 129.400012 92.77802 \r\nL 129.70468 92.116012 \r\nL 130.009348 92.910785 \r\nL 130.314016 92.984158 \r\nL 130.618685 91.103575 \r\nL 130.923353 90.965918 \r\nL 131.228021 90.260508 \r\nL 131.53269 87.265986 \r\nL 131.837358 86.412519 \r\nL 132.142026 84.095028 \r\nL 132.446695 83.351278 \r\nL 133.056031 76.674847 \r\nL 133.360699 78.102664 \r\nL 133.665368 75.830443 \r\nL 133.970036 75.750532 \r\nL 134.579373 74.589703 \r\nL 134.884041 76.421072 \r\nL 135.188709 75.573925 \r\nL 135.798046 71.145959 \r\nL 136.102714 72.153611 \r\nL 136.407383 72.437182 \r\nL 136.712051 71.879628 \r\nL 137.016719 72.515645 \r\nL 137.321387 70.325427 \r\nL 137.626056 74.551791 \r\nL 137.930724 75.307721 \r\nL 138.235392 74.946823 \r\nL 138.844729 79.978446 \r\nL 139.454066 76.493702 \r\nL 139.758734 76.424845 \r\nL 140.063402 74.291091 \r\nL 140.36807 76.056292 \r\nL 140.672739 75.91994 \r\nL 140.977407 78.952046 \r\nL 141.282075 74.941149 \r\nL 141.586744 72.669428 \r\nL 141.891412 76.614921 \r\nL 142.19608 79.072268 \r\nL 142.805417 76.027338 \r\nL 143.110085 73.306507 \r\nL 143.414754 73.718306 \r\nL 143.719422 73.363489 \r\nL 144.02409 73.328233 \r\nL 144.328758 70.551992 \r\nL 144.633427 70.403865 \r\nL 144.938095 72.471449 \r\nL 145.547432 74.516389 \r\nL 145.8521 74.289179 \r\nL 146.156768 73.770117 \r\nL 146.461437 75.547337 \r\nL 146.766105 74.091562 \r\nL 147.070773 74.971363 \r\nL 147.984778 80.079219 \r\nL 148.898783 77.607734 \r\nL 149.203451 80.976379 \r\nL 149.50812 78.108009 \r\nL 150.117456 75.605827 \r\nL 150.422125 75.466489 \r\nL 150.726793 74.946299 \r\nL 151.031461 77.014656 \r\nL 151.945466 78.806353 \r\nL 152.554803 76.591253 \r\nL 152.859471 76.14601 \r\nL 153.164139 79.336316 \r\nL 153.468808 79.550246 \r\nL 153.773476 81.2024 \r\nL 154.078144 81.417179 \r\nL 154.382812 81.3191 \r\nL 154.687481 82.46479 \r\nL 154.992149 82.27343 \r\nL 155.296817 84.104843 \r\nL 155.601486 82.592867 \r\nL 155.906154 82.173938 \r\nL 156.210822 82.728735 \r\nL 156.515491 84.253249 \r\nL 156.820159 85.207075 \r\nL 157.124827 85.293806 \r\nL 157.429496 84.096932 \r\nL 157.734164 84.931922 \r\nL 158.038832 86.260476 \r\nL 158.3435 85.834326 \r\nL 158.648169 87.960572 \r\nL 158.952837 85.3438 \r\nL 159.257505 84.677501 \r\nL 159.562174 84.796587 \r\nL 159.866842 82.788971 \r\nL 160.17151 82.59894 \r\nL 160.476179 81.71015 \r\nL 160.780847 83.949829 \r\nL 161.085515 82.387865 \r\nL 161.390184 82.074568 \r\nL 161.694852 84.908555 \r\nL 161.99952 80.449336 \r\nL 162.913525 86.891297 \r\nL 163.522862 92.232085 \r\nL 163.82753 91.340689 \r\nL 164.132198 93.06297 \r\nL 164.436867 93.717863 \r\nL 164.741535 93.035865 \r\nL 165.046203 93.730019 \r\nL 165.350871 91.563952 \r\nL 165.65554 90.889324 \r\nL 165.960208 91.32008 \r\nL 166.264876 92.656617 \r\nL 166.569545 92.825038 \r\nL 166.874213 94.121308 \r\nL 167.178881 93.986287 \r\nL 167.48355 94.584513 \r\nL 167.788218 93.345856 \r\nL 168.092886 93.997351 \r\nL 168.397555 94.14826 \r\nL 168.702223 95.162836 \r\nL 169.006891 95.430893 \r\nL 169.311559 95.049026 \r\nL 169.616228 95.63224 \r\nL 169.920896 93.652569 \r\nL 170.225564 93.853904 \r\nL 170.530233 88.73909 \r\nL 170.834901 90.166311 \r\nL 171.444238 94.349407 \r\nL 171.748906 91.255174 \r\nL 172.053574 94.325456 \r\nL 172.358242 94.542065 \r\nL 172.662911 93.022728 \r\nL 172.967579 90.737428 \r\nL 173.272247 89.443031 \r\nL 173.576916 91.492762 \r\nL 173.881584 91.635783 \r\nL 174.186252 93.246574 \r\nL 174.490921 93.074676 \r\nL 174.795589 94.518261 \r\nL 175.100257 96.627536 \r\nL 175.404926 93.53967 \r\nL 176.014262 92.64209 \r\nL 176.31893 94.882655 \r\nL 176.623599 95.036102 \r\nL 177.232935 92.158334 \r\nL 177.537604 93.689586 \r\nL 177.842272 92.947443 \r\nL 178.14694 93.124486 \r\nL 178.451609 97.225258 \r\nL 178.756277 96.710544 \r\nL 179.060945 94.484386 \r\nL 179.365613 94.206301 \r\nL 179.670282 92.821884 \r\nL 179.97495 90.779544 \r\nL 180.279618 91.69374 \r\nL 180.584287 93.033679 \r\nL 180.888955 93.744016 \r\nL 181.193623 94.854488 \r\nL 181.498292 95.109316 \r\nL 181.80296 97.126186 \r\nL 182.107628 97.35434 \r\nL 182.412297 95.895952 \r\nL 182.716965 95.808525 \r\nL 183.021633 93.429199 \r\nL 183.326301 94.538346 \r\nL 183.63097 94.761526 \r\nL 183.935638 95.251359 \r\nL 184.240306 94.532713 \r\nL 184.849643 97.799023 \r\nL 185.154311 97.873457 \r\nL 185.763648 96.71181 \r\nL 186.068316 97.962508 \r\nL 186.372984 98.479256 \r\nL 186.677653 100.114565 \r\nL 186.982321 100.625901 \r\nL 187.286989 97.546296 \r\nL 187.591658 99.960093 \r\nL 187.896326 97.967815 \r\nL 188.200994 97.940382 \r\nL 188.505663 96.174881 \r\nL 188.810331 95.466202 \r\nL 189.114999 93.874679 \r\nL 189.419668 95.624367 \r\nL 190.029004 103.953821 \r\nL 190.333672 105.414548 \r\nL 190.638341 103.885335 \r\nL 190.943009 103.282505 \r\nL 191.247677 101.022854 \r\nL 191.552346 103.61744 \r\nL 191.857014 104.962818 \r\nL 192.161682 107.366918 \r\nL 192.466351 107.07306 \r\nL 192.771019 107.948699 \r\nL 193.075687 106.831816 \r\nL 193.685024 107.579677 \r\nL 193.989692 108.467909 \r\nL 194.29436 105.719534 \r\nL 194.599029 105.413003 \r\nL 194.903697 106.851293 \r\nL 195.208365 111.884674 \r\nL 195.513034 111.243327 \r\nL 195.817702 112.881054 \r\nL 196.12237 111.056416 \r\nL 196.427039 110.575272 \r\nL 196.731707 111.124803 \r\nL 197.341043 110.782447 \r\nL 197.645712 112.310254 \r\nL 197.95038 111.272585 \r\nL 198.255048 110.949497 \r\nL 198.559717 112.894918 \r\nL 198.864385 110.94929 \r\nL 199.169053 111.962957 \r\nL 199.473722 115.006446 \r\nL 199.77839 114.118606 \r\nL 200.083058 111.009138 \r\nL 200.387727 110.50153 \r\nL 200.692395 110.284151 \r\nL 200.997063 113.491443 \r\nL 201.301731 111.866289 \r\nL 201.6064 115.322283 \r\nL 201.911068 115.4369 \r\nL 202.215736 117.559772 \r\nL 202.825073 113.892965 \r\nL 203.129741 110.395434 \r\nL 203.43441 110.216522 \r\nL 203.739078 109.892259 \r\nL 204.043746 109.783232 \r\nL 204.348414 112.452409 \r\nL 204.653083 114.046195 \r\nL 204.957751 111.573331 \r\nL 205.262419 114.753779 \r\nL 205.567088 115.062727 \r\nL 206.176424 113.840847 \r\nL 206.481093 112.562548 \r\nL 206.785761 110.275966 \r\nL 207.395098 115.255112 \r\nL 207.699766 114.05728 \r\nL 208.309102 107.654684 \r\nL 208.918439 105.22951 \r\nL 209.223107 102.491392 \r\nL 209.527776 106.40529 \r\nL 209.832444 108.163509 \r\nL 210.441781 102.589597 \r\nL 210.746449 100.669851 \r\nL 211.051117 102.978717 \r\nL 211.355785 104.302215 \r\nL 211.660454 104.052058 \r\nL 212.574459 108.178623 \r\nL 212.879127 108.664763 \r\nL 213.488464 111.273055 \r\nL 213.793132 111.470178 \r\nL 214.0978 110.467161 \r\nL 214.402469 109.974103 \r\nL 214.707137 110.47793 \r\nL 215.011805 113.702817 \r\nL 215.316473 113.793854 \r\nL 215.621142 114.131037 \r\nL 215.92581 113.9181 \r\nL 216.230478 111.178813 \r\nL 216.535147 111.312755 \r\nL 216.839815 113.227851 \r\nL 217.144483 113.488261 \r\nL 217.75382 109.195227 \r\nL 218.058488 108.662325 \r\nL 218.363156 108.365324 \r\nL 218.667825 113.685387 \r\nL 218.972493 112.994456 \r\nL 219.277161 113.517594 \r\nL 219.58183 111.998978 \r\nL 219.886498 112.527761 \r\nL 220.495835 115.518577 \r\nL 220.800503 115.260652 \r\nL 221.105171 114.541779 \r\nL 221.40984 116.682447 \r\nL 221.714508 117.010677 \r\nL 222.019176 112.163228 \r\nL 222.323844 114.7467 \r\nL 222.628513 114.683601 \r\nL 222.933181 116.245476 \r\nL 223.237849 120.665566 \r\nL 223.847186 115.3255 \r\nL 224.151854 115.711463 \r\nL 224.456523 115.222884 \r\nL 224.761191 115.428924 \r\nL 225.065859 112.330359 \r\nL 225.979864 116.920152 \r\nL 226.284532 115.059031 \r\nL 226.893869 118.265367 \r\nL 227.198537 118.944927 \r\nL 227.503206 118.262452 \r\nL 227.807874 120.211076 \r\nL 228.112542 119.681602 \r\nL 228.417211 118.826835 \r\nL 228.721879 119.864839 \r\nL 229.026547 121.597122 \r\nL 229.940552 116.225023 \r\nL 230.24522 115.075054 \r\nL 230.549889 113.160808 \r\nL 230.854557 114.466936 \r\nL 231.159225 115.239254 \r\nL 231.463894 119.305782 \r\nL 231.768562 117.415731 \r\nL 232.07323 117.600981 \r\nL 232.682567 113.512747 \r\nL 233.291903 114.10847 \r\nL 233.596572 113.656726 \r\nL 233.90124 115.192268 \r\nL 234.205908 114.907364 \r\nL 234.510577 113.758983 \r\nL 234.815245 114.484563 \r\nL 235.424582 119.455587 \r\nL 235.72925 118.209518 \r\nL 236.033918 119.978681 \r\nL 236.338586 123.061745 \r\nL 236.643255 123.455745 \r\nL 236.947923 125.057916 \r\nL 237.252591 125.480621 \r\nL 237.55726 125.360383 \r\nL 237.861928 124.677855 \r\nL 238.166596 122.132394 \r\nL 238.471265 122.557558 \r\nL 238.775933 123.587981 \r\nL 239.080601 122.348544 \r\nL 239.689938 121.133671 \r\nL 239.994606 124.344466 \r\nL 240.299274 122.514603 \r\nL 240.603943 123.020553 \r\nL 240.908611 119.465217 \r\nL 241.213279 122.397251 \r\nL 241.517948 122.81635 \r\nL 241.822616 123.969654 \r\nL 242.127284 120.602453 \r\nL 242.431953 118.775052 \r\nL 242.736621 119.253688 \r\nL 243.345957 122.046807 \r\nL 243.650626 125.014861 \r\nL 243.955294 125.160615 \r\nL 244.564631 117.972158 \r\nL 244.869299 118.721336 \r\nL 245.173967 118.601576 \r\nL 245.478636 117.85342 \r\nL 245.783304 120.144478 \r\nL 246.087972 119.515298 \r\nL 246.392641 121.239467 \r\nL 246.697309 120.453495 \r\nL 247.001977 121.945396 \r\nL 247.306645 120.270882 \r\nL 247.611314 117.860128 \r\nL 247.915982 117.329486 \r\nL 248.22065 117.075671 \r\nL 248.525319 116.104363 \r\nL 248.829987 117.167166 \r\nL 249.134655 117.489752 \r\nL 249.439324 118.421214 \r\nL 249.743992 116.437463 \r\nL 250.04866 115.273297 \r\nL 250.353328 116.7308 \r\nL 250.657997 112.483241 \r\nL 250.962665 110.707026 \r\nL 251.572002 113.205312 \r\nL 251.87667 114.17926 \r\nL 252.181338 116.057095 \r\nL 252.790675 113.421127 \r\nL 253.095343 113.579226 \r\nL 253.400012 111.662589 \r\nL 253.70468 111.105959 \r\nL 254.009348 109.655673 \r\nL 254.314016 109.888978 \r\nL 254.618685 109.186782 \r\nL 255.228021 109.818416 \r\nL 255.837358 107.928702 \r\nL 256.142026 109.873309 \r\nL 256.446695 110.04151 \r\nL 256.751363 107.925178 \r\nL 257.056031 108.922126 \r\nL 257.360699 111.772623 \r\nL 257.970036 107.843103 \r\nL 258.274704 110.456478 \r\nL 258.579373 110.926286 \r\nL 258.884041 112.134394 \r\nL 259.188709 111.661659 \r\nL 259.493378 111.404523 \r\nL 259.798046 110.237483 \r\nL 260.102714 108.572701 \r\nL 260.407383 109.247037 \r\nL 260.712051 107.08641 \r\nL 261.016719 110.405706 \r\nL 261.321387 110.988533 \r\nL 261.626056 112.401696 \r\nL 261.930724 111.232321 \r\nL 262.235392 111.435096 \r\nL 262.540061 115.707266 \r\nL 262.844729 116.043666 \r\nL 263.149397 114.428746 \r\nL 263.454066 114.401547 \r\nL 263.758734 118.019271 \r\nL 264.063402 118.562879 \r\nL 265.282075 113.14672 \r\nL 265.586744 114.716661 \r\nL 265.891412 112.137602 \r\nL 266.19608 110.540695 \r\nL 266.500749 111.42226 \r\nL 267.110085 111.781406 \r\nL 267.414754 109.005964 \r\nL 267.719422 111.79557 \r\nL 268.02409 109.646616 \r\nL 268.328758 112.919601 \r\nL 268.633427 113.599393 \r\nL 269.242763 118.784245 \r\nL 269.8521 116.460921 \r\nL 270.156768 116.398732 \r\nL 270.461437 113.296164 \r\nL 270.766105 116.304652 \r\nL 271.070773 116.676064 \r\nL 271.375441 119.595045 \r\nL 271.68011 117.865155 \r\nL 271.984778 118.998727 \r\nL 272.289446 117.029449 \r\nL 272.594115 117.302119 \r\nL 272.898783 113.583869 \r\nL 273.203451 112.93994 \r\nL 273.50812 113.155172 \r\nL 273.812788 112.500359 \r\nL 274.422125 116.473274 \r\nL 274.726793 114.273556 \r\nL 275.640798 111.914217 \r\nL 275.945466 111.731674 \r\nL 276.250134 111.933687 \r\nL 276.554803 111.650533 \r\nL 276.859471 109.585572 \r\nL 277.164139 111.85679 \r\nL 277.468808 109.881119 \r\nL 278.078144 111.805294 \r\nL 278.382812 111.601703 \r\nL 278.687481 110.87616 \r\nL 278.992149 110.649068 \r\nL 279.296817 111.520581 \r\nL 279.601486 114.041348 \r\nL 279.906154 114.24376 \r\nL 280.210822 112.404285 \r\nL 280.515491 112.446866 \r\nL 280.820159 109.765769 \r\nL 281.124827 112.204069 \r\nL 281.429496 110.920473 \r\nL 281.734164 111.346288 \r\nL 282.038832 114.472467 \r\nL 282.3435 116.244019 \r\nL 282.648169 115.196299 \r\nL 282.952837 115.887008 \r\nL 283.257505 114.8326 \r\nL 283.562174 116.166039 \r\nL 284.17151 112.04382 \r\nL 284.476179 114.094197 \r\nL 284.780847 115.224183 \r\nL 285.390184 114.118309 \r\nL 285.694852 111.987824 \r\nL 285.99952 116.284738 \r\nL 286.304188 114.907141 \r\nL 286.608857 115.29998 \r\nL 286.913525 114.094141 \r\nL 287.522862 116.683006 \r\nL 287.82753 114.152882 \r\nL 288.132198 113.373806 \r\nL 288.436867 113.341891 \r\nL 288.741535 117.615262 \r\nL 289.046203 117.820354 \r\nL 289.350871 118.437986 \r\nL 289.960208 116.456257 \r\nL 290.569545 118.126051 \r\nL 290.874213 118.464573 \r\nL 291.178881 117.926803 \r\nL 291.48355 115.634266 \r\nL 291.788218 116.41327 \r\nL 292.092886 112.909447 \r\nL 292.397555 113.114189 \r\nL 292.702223 112.990559 \r\nL 293.006891 111.477282 \r\nL 293.311559 113.603874 \r\nL 293.616228 117.858058 \r\nL 293.920896 117.842971 \r\nL 294.225564 116.220184 \r\nL 294.530233 115.77253 \r\nL 294.834901 113.305812 \r\nL 295.139569 114.75762 \r\nL 295.444238 117.540109 \r\nL 295.748906 116.412935 \r\nL 296.053574 115.734871 \r\nL 296.358242 113.25017 \r\nL 296.662911 111.697555 \r\nL 296.967579 114.204543 \r\nL 297.576916 111.745357 \r\nL 297.881584 112.723716 \r\nL 298.186252 111.93409 \r\nL 298.490921 112.831585 \r\nL 298.795589 112.796342 \r\nL 299.404926 115.509927 \r\nL 299.709594 114.945483 \r\nL 300.014262 115.611526 \r\nL 300.31893 116.878022 \r\nL 300.623599 121.597742 \r\nL 300.928267 121.552523 \r\nL 301.232935 122.634018 \r\nL 301.842272 125.867402 \r\nL 302.14694 124.353386 \r\nL 302.451609 124.933504 \r\nL 302.756277 124.519219 \r\nL 303.060945 125.432894 \r\nL 303.365613 125.950818 \r\nL 303.670282 125.040109 \r\nL 303.97495 124.653933 \r\nL 304.279618 121.660143 \r\nL 304.888955 128.674137 \r\nL 305.193623 127.628389 \r\nL 305.498292 131.522986 \r\nL 305.80296 131.535906 \r\nL 306.107628 134.731487 \r\nL 306.412297 136.181433 \r\nL 306.716965 134.406012 \r\nL 307.021633 135.512614 \r\nL 307.326301 137.226135 \r\nL 307.63097 135.558112 \r\nL 307.935638 135.138374 \r\nL 308.544975 140.492612 \r\nL 309.154311 139.57088 \r\nL 309.45898 142.56094 \r\nL 310.068316 143.846368 \r\nL 310.372984 143.969533 \r\nL 310.677653 145.520099 \r\nL 310.982321 145.368036 \r\nL 311.286989 141.703924 \r\nL 311.591658 141.081996 \r\nL 312.200994 144.36163 \r\nL 312.505663 144.229458 \r\nL 312.810331 143.967021 \r\nL 313.419668 148.191624 \r\nL 313.724336 146.616096 \r\nL 314.029004 147.617735 \r\nL 314.638341 152.592188 \r\nL 315.247677 149.999524 \r\nL 315.552346 149.924032 \r\nL 315.857014 150.993722 \r\nL 316.466351 147.348889 \r\nL 316.771019 146.290634 \r\nL 317.075687 147.549887 \r\nL 317.380355 147.914006 \r\nL 317.685024 146.217042 \r\nL 317.989692 147.179991 \r\nL 318.29436 148.693646 \r\nL 318.903697 144.722384 \r\nL 319.513034 143.173311 \r\nL 319.817702 139.630763 \r\nL 320.12237 138.993686 \r\nL 320.427039 142.020622 \r\nL 320.731707 141.828237 \r\nL 321.036375 143.400626 \r\nL 321.645712 145.346549 \r\nL 321.95038 144.255752 \r\nL 322.255048 142.033286 \r\nL 322.559717 144.67506 \r\nL 323.169053 143.238409 \r\nL 323.473722 144.416708 \r\nL 323.77839 144.406591 \r\nL 324.083058 145.667857 \r\nL 324.387727 145.546792 \r\nL 325.301731 152.008421 \r\nL 325.6064 151.742743 \r\nL 325.911068 151.689432 \r\nL 326.215736 150.549715 \r\nL 326.520405 151.327809 \r\nL 326.825073 150.100888 \r\nL 327.129741 146.622943 \r\nL 327.43441 147.791476 \r\nL 327.739078 145.348868 \r\nL 328.043746 144.020005 \r\nL 328.348414 143.578983 \r\nL 328.653083 143.587443 \r\nL 328.957751 141.181691 \r\nL 329.262419 141.838221 \r\nL 329.567088 141.086369 \r\nL 329.871756 141.694421 \r\nL 330.176424 139.81572 \r\nL 330.481093 142.359696 \r\nL 330.785761 141.562602 \r\nL 331.090429 142.430987 \r\nL 331.395098 143.886714 \r\nL 332.004434 141.371698 \r\nL 332.309102 141.289348 \r\nL 332.613771 141.489701 \r\nL 332.918439 139.349946 \r\nL 333.223107 139.029104 \r\nL 333.527776 139.300191 \r\nL 333.832444 136.629652 \r\nL 334.137112 136.103849 \r\nL 334.441781 136.589026 \r\nL 334.746449 136.272217 \r\nL 335.355785 132.807078 \r\nL 335.660454 136.028941 \r\nL 336.26979 139.079396 \r\nL 336.574459 138.186338 \r\nL 336.879127 138.753122 \r\nL 337.183795 139.911805 \r\nL 337.488464 138.922386 \r\nL 337.793132 140.718581 \r\nL 338.0978 137.736509 \r\nL 338.402469 137.046045 \r\nL 338.707137 134.255336 \r\nL 339.011805 135.502138 \r\nL 339.316473 137.563194 \r\nL 339.621142 135.990014 \r\nL 339.92581 136.036891 \r\nL 340.230478 134.68063 \r\nL 340.535147 133.934845 \r\nL 340.839815 128.197968 \r\nL 341.144483 128.717898 \r\nL 341.449152 130.48247 \r\nL 341.75382 130.504614 \r\nL 342.363156 133.558519 \r\nL 342.667825 136.269332 \r\nL 343.277161 133.413534 \r\nL 343.58183 134.986635 \r\nL 343.886498 135.23749 \r\nL 344.800503 140.513304 \r\nL 345.105171 138.216063 \r\nL 345.40984 139.022186 \r\nL 345.714508 137.831104 \r\nL 346.019176 134.896024 \r\nL 346.323844 136.485721 \r\nL 346.628513 138.937212 \r\nL 346.933181 138.3968 \r\nL 347.237849 138.777844 \r\nL 347.542518 139.528318 \r\nL 347.847186 141.818651 \r\nL 348.151854 145.5597 \r\nL 348.456523 147.076018 \r\nL 348.761191 147.87314 \r\nL 349.370527 145.357205 \r\nL 349.675196 145.33389 \r\nL 349.979864 144.695785 \r\nL 350.284532 145.728494 \r\nL 350.893869 147.191141 \r\nL 351.503206 140.303703 \r\nL 351.807874 139.27313 \r\nL 352.112542 139.804547 \r\nL 352.417211 139.885696 \r\nL 353.026547 141.612761 \r\nL 353.331215 143.190074 \r\nL 353.635884 142.554594 \r\nL 354.24522 144.256608 \r\nL 354.854557 145.129335 \r\nL 355.159225 143.615723 \r\nL 356.07323 148.992354 \r\nL 356.377898 146.255993 \r\nL 356.682567 145.395607 \r\nL 356.987235 146.574338 \r\nL 357.291903 150.970853 \r\nL 357.596572 150.965743 \r\nL 357.90124 148.473271 \r\nL 358.205908 147.247597 \r\nL 358.510577 147.718668 \r\nL 358.815245 149.193618 \r\nL 359.119913 148.319596 \r\nL 359.424582 145.396962 \r\nL 359.72925 144.855314 \r\nL 360.033918 146.517304 \r\nL 360.338586 147.159721 \r\nL 360.643255 144.37342 \r\nL 360.947923 144.215988 \r\nL 361.252591 144.202291 \r\nL 361.55726 143.739958 \r\nL 361.861928 141.246131 \r\nL 362.166596 143.680659 \r\nL 362.471265 143.4391 \r\nL 362.775933 147.338081 \r\nL 363.080601 148.324407 \r\nL 363.38527 147.250383 \r\nL 363.689938 147.336537 \r\nL 363.994606 149.417776 \r\nL 364.299274 148.726082 \r\nL 364.908611 150.153718 \r\nL 365.517948 147.923362 \r\nL 365.822616 146.539533 \r\nL 366.127284 146.110649 \r\nL 366.431953 144.180277 \r\nL 366.736621 143.227569 \r\nL 367.041289 145.73117 \r\nL 367.345957 144.112328 \r\nL 367.650626 143.358787 \r\nL 367.955294 143.225227 \r\nL 368.259962 143.282986 \r\nL 368.564631 144.394672 \r\nL 368.564631 144.394672 \r\n\" style=\"fill:none;stroke:#2ca02c;stroke-linecap:square;stroke-width:1.5;\"/>\r\n   </g>\r\n   <g id=\"line2d_16\">\r\n    <path clip-path=\"url(#pd3e1d837e9)\" d=\"M 64.200994 91.903023 \r\nL 64.505663 90.810496 \r\nL 65.114999 94.092759 \r\nL 65.724336 91.42422 \r\nL 66.029004 91.131882 \r\nL 66.333672 91.872157 \r\nL 66.638341 91.648968 \r\nL 66.943009 93.29488 \r\nL 67.247677 92.67814 \r\nL 67.552346 93.361666 \r\nL 67.857014 93.75753 \r\nL 68.161682 93.966898 \r\nL 68.466351 93.648084 \r\nL 69.075687 95.637643 \r\nL 69.685024 89.918116 \r\nL 69.989692 87.589689 \r\nL 70.29436 87.395105 \r\nL 70.903697 78.772335 \r\nL 71.208365 78.85075 \r\nL 71.513034 81.799042 \r\nL 72.12237 85.222443 \r\nL 72.427039 84.692278 \r\nL 72.731707 85.17035 \r\nL 73.036375 86.606175 \r\nL 73.341043 86.727032 \r\nL 74.559717 83.811871 \r\nL 74.864385 85.420908 \r\nL 75.169053 83.368065 \r\nL 75.77839 84.940215 \r\nL 76.083058 85.008843 \r\nL 76.387727 86.049262 \r\nL 76.692395 84.125729 \r\nL 76.997063 84.813475 \r\nL 77.301731 86.389024 \r\nL 77.6064 85.806673 \r\nL 77.911068 86.937053 \r\nL 78.215736 88.748388 \r\nL 78.520405 89.010789 \r\nL 78.825073 91.686592 \r\nL 79.129741 91.916586 \r\nL 79.43441 92.990338 \r\nL 79.739078 95.82656 \r\nL 80.043746 96.994929 \r\nL 80.348414 99.705433 \r\nL 80.653083 100.944187 \r\nL 80.957751 99.88367 \r\nL 81.262419 99.499238 \r\nL 81.567088 99.897386 \r\nL 81.871756 98.452712 \r\nL 82.176424 98.474196 \r\nL 82.481093 98.292743 \r\nL 82.785761 96.326648 \r\nL 83.090429 93.092944 \r\nL 83.395098 95.435014 \r\nL 83.699766 94.219979 \r\nL 84.004434 95.462621 \r\nL 84.309102 98.025487 \r\nL 84.613771 97.492477 \r\nL 84.918439 97.226414 \r\nL 85.832444 101.931917 \r\nL 86.137112 100.896307 \r\nL 86.441781 99.15087 \r\nL 87.051117 100.418577 \r\nL 87.355785 99.710828 \r\nL 87.965122 99.055887 \r\nL 88.26979 95.301285 \r\nL 88.574459 96.669587 \r\nL 88.879127 96.766682 \r\nL 89.183795 99.901625 \r\nL 89.488464 100.118109 \r\nL 89.793132 98.10781 \r\nL 90.0978 100.909795 \r\nL 90.707137 94.374533 \r\nL 91.011805 95.639616 \r\nL 91.621142 93.527319 \r\nL 91.92581 93.612072 \r\nL 92.535147 97.852379 \r\nL 92.839815 95.865698 \r\nL 93.144483 96.695888 \r\nL 94.058488 90.432365 \r\nL 94.363156 89.50821 \r\nL 94.667825 90.735388 \r\nL 94.972493 90.197655 \r\nL 95.277161 86.556442 \r\nL 95.58183 86.768057 \r\nL 95.886498 88.95979 \r\nL 96.495835 83.826368 \r\nL 97.105171 86.66748 \r\nL 97.40984 85.496783 \r\nL 97.714508 85.428253 \r\nL 98.019176 86.404041 \r\nL 98.323844 89.613728 \r\nL 98.628513 90.176515 \r\nL 98.933181 89.460734 \r\nL 99.237849 87.15622 \r\nL 100.151854 91.21734 \r\nL 100.456523 91.232139 \r\nL 100.761191 88.71754 \r\nL 101.065859 90.188923 \r\nL 101.370527 88.497866 \r\nL 101.675196 89.736164 \r\nL 101.979864 88.557945 \r\nL 102.284532 88.878832 \r\nL 102.893869 93.605075 \r\nL 103.198537 94.720309 \r\nL 103.503206 93.691008 \r\nL 103.807874 95.056615 \r\nL 104.112542 98.871946 \r\nL 104.417211 101.215523 \r\nL 104.721879 101.123523 \r\nL 105.026547 101.377217 \r\nL 105.331215 99.193142 \r\nL 105.635884 99.640264 \r\nL 105.940552 97.625542 \r\nL 106.24522 99.570106 \r\nL 106.549889 99.180817 \r\nL 106.854557 99.171218 \r\nL 107.159225 102.313717 \r\nL 107.768562 100.109674 \r\nL 108.07323 100.494335 \r\nL 108.377898 100.612327 \r\nL 108.682567 99.275496 \r\nL 108.987235 96.3303 \r\nL 109.291903 96.508426 \r\nL 109.90124 101.337936 \r\nL 110.205908 99.248856 \r\nL 110.510577 101.672029 \r\nL 110.815245 101.695087 \r\nL 111.424582 96.790754 \r\nL 111.72925 98.993763 \r\nL 112.033918 97.778393 \r\nL 112.338586 98.10499 \r\nL 112.643255 99.974967 \r\nL 112.947923 99.098751 \r\nL 113.252591 99.733393 \r\nL 113.55726 97.643701 \r\nL 113.861928 98.717952 \r\nL 114.166596 98.275997 \r\nL 114.775933 101.020247 \r\nL 115.080601 99.714093 \r\nL 115.38527 100.436181 \r\nL 115.689938 98.600703 \r\nL 115.994606 100.305212 \r\nL 116.299274 102.857468 \r\nL 116.603943 104.221622 \r\nL 116.908611 101.372839 \r\nL 117.517948 104.437974 \r\nL 117.822616 104.006269 \r\nL 118.127284 105.127393 \r\nL 118.431953 102.590101 \r\nL 118.736621 102.868716 \r\nL 119.041289 99.634941 \r\nL 119.345957 101.205426 \r\nL 119.650626 99.579485 \r\nL 119.955294 98.688733 \r\nL 120.259962 96.637519 \r\nL 120.564631 96.967649 \r\nL 121.478636 98.641338 \r\nL 121.783304 98.661368 \r\nL 122.087972 98.96973 \r\nL 122.392641 101.216455 \r\nL 123.306645 96.904805 \r\nL 124.22065 102.064738 \r\nL 124.525319 102.540771 \r\nL 124.829987 105.618845 \r\nL 125.134655 104.440506 \r\nL 125.439324 105.403474 \r\nL 125.743992 104.366827 \r\nL 126.04866 106.375486 \r\nL 126.962665 103.219405 \r\nL 127.267333 103.014632 \r\nL 127.572002 103.652815 \r\nL 127.87667 106.704121 \r\nL 128.181338 105.024797 \r\nL 128.486007 105.876241 \r\nL 128.790675 105.462844 \r\nL 129.095343 107.461453 \r\nL 129.400012 106.659794 \r\nL 129.70468 106.726827 \r\nL 130.009348 108.828163 \r\nL 130.314016 109.036639 \r\nL 130.618685 111.153693 \r\nL 130.923353 109.847553 \r\nL 131.228021 106.524902 \r\nL 131.53269 109.845775 \r\nL 131.837358 110.438559 \r\nL 132.142026 109.68678 \r\nL 132.751363 105.010059 \r\nL 133.056031 102.537808 \r\nL 133.360699 105.494731 \r\nL 133.665368 104.367657 \r\nL 133.970036 103.669163 \r\nL 134.274704 102.028 \r\nL 134.579373 103.056696 \r\nL 134.884041 104.959695 \r\nL 135.188709 104.386703 \r\nL 135.493378 106.340085 \r\nL 135.798046 105.586136 \r\nL 136.102714 109.093896 \r\nL 136.407383 109.25365 \r\nL 136.712051 107.927384 \r\nL 137.016719 109.196408 \r\nL 137.321387 107.975816 \r\nL 137.626056 108.842946 \r\nL 137.930724 108.22378 \r\nL 138.235392 108.264155 \r\nL 138.540061 106.740441 \r\nL 138.844729 103.138152 \r\nL 139.149397 101.392252 \r\nL 139.454066 101.799696 \r\nL 139.758734 101.25053 \r\nL 140.063402 98.860474 \r\nL 140.36807 95.225092 \r\nL 140.977407 100.139543 \r\nL 141.282075 98.625761 \r\nL 141.586744 98.23762 \r\nL 142.19608 95.816791 \r\nL 142.500749 97.99299 \r\nL 142.805417 95.827708 \r\nL 143.110085 94.731579 \r\nL 143.414754 95.783372 \r\nL 144.02409 93.498603 \r\nL 144.328758 94.154742 \r\nL 144.633427 93.807828 \r\nL 144.938095 92.86296 \r\nL 145.242763 93.218057 \r\nL 145.547432 93.775398 \r\nL 145.8521 92.854467 \r\nL 146.156768 95.71035 \r\nL 146.766105 91.346322 \r\nL 147.375441 86.180375 \r\nL 147.68011 84.303531 \r\nL 147.984778 81.190765 \r\nL 148.289446 81.121012 \r\nL 148.594115 79.145714 \r\nL 148.898783 76.110009 \r\nL 149.203451 75.039465 \r\nL 149.50812 70.507125 \r\nL 149.812788 69.327306 \r\nL 150.117456 67.69503 \r\nL 150.422125 66.751092 \r\nL 150.726793 68.463456 \r\nL 151.031461 65.314992 \r\nL 151.336129 64.386573 \r\nL 151.640798 65.30654 \r\nL 151.945466 68.673402 \r\nL 152.554803 60.456839 \r\nL 152.859471 60.059542 \r\nL 153.164139 57.627881 \r\nL 153.468808 57.901313 \r\nL 154.078144 56.985335 \r\nL 154.382812 55.572433 \r\nL 154.687481 55.663741 \r\nL 154.992149 56.491466 \r\nL 155.906154 50.98693 \r\nL 156.210822 50.831001 \r\nL 156.515491 51.944145 \r\nL 156.820159 52.615744 \r\nL 157.124827 50.393315 \r\nL 157.429496 49.820953 \r\nL 157.734164 52.464208 \r\nL 158.038832 48.605691 \r\nL 158.3435 48.275859 \r\nL 158.648169 49.90755 \r\nL 158.952837 50.911791 \r\nL 159.257505 55.279816 \r\nL 159.562174 54.557706 \r\nL 159.866842 55.032787 \r\nL 160.17151 56.112254 \r\nL 160.476179 56.064728 \r\nL 160.780847 55.82756 \r\nL 161.085515 54.166953 \r\nL 161.390184 55.781836 \r\nL 161.694852 58.105216 \r\nL 161.99952 56.402287 \r\nL 162.608857 57.357812 \r\nL 163.218193 54.477427 \r\nL 163.82753 48.999825 \r\nL 164.132198 47.663465 \r\nL 164.436867 51.099175 \r\nL 164.741535 51.368198 \r\nL 165.046203 54.566206 \r\nL 165.350871 51.027578 \r\nL 165.960208 53.492906 \r\nL 166.264876 55.726426 \r\nL 166.874213 56.93671 \r\nL 167.178881 57.783192 \r\nL 167.48355 53.572377 \r\nL 167.788218 52.583037 \r\nL 168.092886 53.472022 \r\nL 168.397555 52.040329 \r\nL 168.702223 52.76861 \r\nL 169.006891 50.881354 \r\nL 169.311559 50.139682 \r\nL 169.616228 50.92133 \r\nL 169.920896 50.931815 \r\nL 170.225564 56.13678 \r\nL 170.530233 56.853469 \r\nL 171.139569 54.946185 \r\nL 171.748906 51.406293 \r\nL 172.053574 53.099946 \r\nL 172.358242 55.830813 \r\nL 172.662911 53.552014 \r\nL 172.967579 54.684228 \r\nL 173.272247 53.791539 \r\nL 173.576916 50.488877 \r\nL 173.881584 49.352745 \r\nL 174.186252 49.484345 \r\nL 174.795589 53.833854 \r\nL 175.100257 54.332662 \r\nL 175.404926 52.411142 \r\nL 175.709594 51.820817 \r\nL 176.014262 52.010302 \r\nL 176.31893 53.146765 \r\nL 176.928267 49.716499 \r\nL 177.232935 49.846634 \r\nL 177.537604 50.969435 \r\nL 177.842272 49.047254 \r\nL 178.14694 52.773566 \r\nL 178.451609 50.809168 \r\nL 179.060945 54.755453 \r\nL 179.365613 49.583348 \r\nL 179.670282 48.036708 \r\nL 179.97495 47.239356 \r\nL 180.279618 47.266019 \r\nL 180.584287 47.432385 \r\nL 180.888955 45.795031 \r\nL 181.193623 48.337266 \r\nL 181.498292 48.791375 \r\nL 181.80296 51.376455 \r\nL 182.107628 52.338305 \r\nL 182.412297 51.50472 \r\nL 182.716965 49.901304 \r\nL 183.326301 53.185464 \r\nL 183.63097 50.955476 \r\nL 183.935638 49.763898 \r\nL 184.544975 55.456947 \r\nL 184.849643 54.179964 \r\nL 185.154311 52.021519 \r\nL 185.45898 51.388056 \r\nL 185.763648 51.475786 \r\nL 186.677653 58.385764 \r\nL 186.982321 62.590278 \r\nL 187.286989 61.12863 \r\nL 187.591658 60.977959 \r\nL 187.896326 59.945061 \r\nL 188.810331 62.636852 \r\nL 189.419668 63.792037 \r\nL 189.724336 66.496715 \r\nL 190.029004 64.858264 \r\nL 190.333672 63.951828 \r\nL 190.638341 64.934157 \r\nL 190.943009 68.149634 \r\nL 191.247677 66.509759 \r\nL 191.552346 69.400443 \r\nL 191.857014 68.189047 \r\nL 192.161682 68.749628 \r\nL 192.466351 71.00439 \r\nL 192.771019 68.748853 \r\nL 193.075687 70.465515 \r\nL 193.380355 70.913446 \r\nL 193.685024 69.658591 \r\nL 193.989692 73.196897 \r\nL 194.29436 74.214219 \r\nL 194.599029 71.015859 \r\nL 194.903697 69.07321 \r\nL 195.208365 69.687057 \r\nL 195.513034 69.954904 \r\nL 195.817702 69.400127 \r\nL 196.12237 70.049785 \r\nL 196.731707 67.543422 \r\nL 197.036375 69.423901 \r\nL 197.341043 67.772388 \r\nL 197.645712 65.042297 \r\nL 197.95038 63.487664 \r\nL 198.255048 64.927476 \r\nL 198.864385 65.446647 \r\nL 199.169053 67.408447 \r\nL 199.77839 64.380195 \r\nL 200.083058 64.253269 \r\nL 200.692395 67.565124 \r\nL 200.997063 67.24087 \r\nL 201.301731 66.387376 \r\nL 201.911068 67.334172 \r\nL 202.215736 67.296269 \r\nL 202.520405 67.598253 \r\nL 202.825073 67.161265 \r\nL 203.129741 68.208082 \r\nL 203.43441 66.28921 \r\nL 203.739078 65.790623 \r\nL 204.043746 66.066676 \r\nL 204.348414 62.921509 \r\nL 204.653083 64.299649 \r\nL 204.957751 66.202164 \r\nL 205.262419 66.633386 \r\nL 205.567088 69.416829 \r\nL 205.871756 68.079043 \r\nL 206.176424 71.838235 \r\nL 206.481093 69.386365 \r\nL 206.785761 68.444089 \r\nL 207.090429 67.870441 \r\nL 207.395098 67.907623 \r\nL 207.699766 68.953802 \r\nL 208.004434 66.947465 \r\nL 208.309102 67.666957 \r\nL 208.613771 67.218303 \r\nL 208.918439 65.514359 \r\nL 209.223107 65.028515 \r\nL 209.527776 63.61119 \r\nL 209.832444 64.194068 \r\nL 210.137112 63.604225 \r\nL 210.441781 65.769787 \r\nL 210.746449 66.588767 \r\nL 211.051117 64.833173 \r\nL 211.355785 64.771404 \r\nL 211.965122 59.900217 \r\nL 212.26979 62.805578 \r\nL 212.574459 62.420189 \r\nL 212.879127 60.167874 \r\nL 213.183795 59.659262 \r\nL 213.488464 62.585907 \r\nL 213.793132 58.80927 \r\nL 214.402469 61.514852 \r\nL 214.707137 61.232767 \r\nL 215.011805 65.06435 \r\nL 215.316473 65.35768 \r\nL 215.621142 65.23675 \r\nL 215.92581 64.56829 \r\nL 216.230478 68.563399 \r\nL 216.535147 67.718145 \r\nL 216.839815 69.792887 \r\nL 217.449152 67.030125 \r\nL 217.75382 66.26744 \r\nL 218.363156 61.328019 \r\nL 218.972493 58.245014 \r\nL 219.277161 59.736514 \r\nL 219.58183 60.143269 \r\nL 219.886498 61.3953 \r\nL 220.191166 61.064291 \r\nL 220.495835 59.904173 \r\nL 220.800503 61.691071 \r\nL 221.105171 61.62374 \r\nL 221.40984 62.143461 \r\nL 221.714508 63.308426 \r\nL 222.019176 61.007777 \r\nL 222.323844 59.989739 \r\nL 222.628513 60.580293 \r\nL 222.933181 62.159767 \r\nL 223.237849 61.686329 \r\nL 223.542518 66.317713 \r\nL 223.847186 65.689963 \r\nL 224.151854 66.481147 \r\nL 224.456523 65.808178 \r\nL 224.761191 63.602604 \r\nL 225.065859 62.651363 \r\nL 225.370527 65.281142 \r\nL 225.675196 64.638882 \r\nL 225.979864 63.15669 \r\nL 226.284532 63.944499 \r\nL 226.589201 65.691015 \r\nL 226.893869 68.581466 \r\nL 227.198537 67.580906 \r\nL 227.807874 67.472151 \r\nL 228.112542 69.028679 \r\nL 228.417211 65.951052 \r\nL 228.721879 66.138024 \r\nL 229.026547 64.839773 \r\nL 229.331215 66.69542 \r\nL 229.635884 67.712255 \r\nL 229.940552 69.654372 \r\nL 230.24522 68.401428 \r\nL 230.854557 69.190284 \r\nL 231.159225 66.252646 \r\nL 231.463894 65.593743 \r\nL 231.768562 63.759155 \r\nL 232.07323 63.522909 \r\nL 232.377898 62.294139 \r\nL 232.682567 62.195679 \r\nL 232.987235 65.266018 \r\nL 233.291903 65.628968 \r\nL 233.596572 64.839934 \r\nL 233.90124 65.545012 \r\nL 234.205908 65.467055 \r\nL 234.510577 61.845503 \r\nL 234.815245 63.047554 \r\nL 235.119913 62.050411 \r\nL 235.424582 61.620649 \r\nL 235.72925 62.764712 \r\nL 236.033918 62.629322 \r\nL 236.338586 61.365383 \r\nL 236.643255 63.457674 \r\nL 236.947923 64.383586 \r\nL 237.252591 63.54939 \r\nL 237.55726 64.684095 \r\nL 237.861928 63.8407 \r\nL 238.166596 64.672116 \r\nL 238.471265 62.397968 \r\nL 238.775933 58.973214 \r\nL 239.080601 58.169862 \r\nL 239.38527 60.917954 \r\nL 239.689938 59.960448 \r\nL 239.994606 57.763838 \r\nL 240.299274 60.543538 \r\nL 240.603943 57.608893 \r\nL 240.908611 55.877985 \r\nL 241.213279 59.655745 \r\nL 241.517948 57.974221 \r\nL 241.822616 57.925536 \r\nL 242.127284 56.738062 \r\nL 242.431953 57.261935 \r\nL 242.736621 58.929196 \r\nL 243.041289 57.560067 \r\nL 243.345957 60.063374 \r\nL 243.650626 58.45057 \r\nL 243.955294 61.005043 \r\nL 244.259962 60.006534 \r\nL 244.564631 60.522104 \r\nL 244.869299 58.954308 \r\nL 245.478636 57.012383 \r\nL 245.783304 57.805409 \r\nL 246.087972 56.327142 \r\nL 246.392641 55.873601 \r\nL 246.697309 53.818525 \r\nL 247.001977 55.001824 \r\nL 247.306645 55.489602 \r\nL 247.611314 55.674992 \r\nL 247.915982 53.921533 \r\nL 248.22065 53.353585 \r\nL 248.829987 47.16675 \r\nL 249.134655 51.489074 \r\nL 249.439324 48.789532 \r\nL 249.743992 47.157845 \r\nL 250.04866 42.712971 \r\nL 250.353328 41.551744 \r\nL 250.657997 38.756923 \r\nL 251.267333 41.429474 \r\nL 251.572002 41.735504 \r\nL 251.87667 42.493735 \r\nL 252.181338 41.759326 \r\nL 252.486007 42.008298 \r\nL 252.790675 40.276893 \r\nL 253.400012 41.413829 \r\nL 253.70468 38.76799 \r\nL 254.009348 43.160243 \r\nL 254.314016 43.540475 \r\nL 254.618685 44.303598 \r\nL 254.923353 40.544908 \r\nL 255.228021 44.432103 \r\nL 255.53269 44.850975 \r\nL 255.837358 44.879991 \r\nL 256.142026 43.685506 \r\nL 256.446695 41.731862 \r\nL 256.751363 40.979952 \r\nL 257.056031 38.122014 \r\nL 257.360699 37.094099 \r\nL 257.665368 37.716863 \r\nL 257.970036 38.768833 \r\nL 258.274704 38.292066 \r\nL 258.579373 38.735037 \r\nL 258.884041 36.9855 \r\nL 259.493378 34.932372 \r\nL 259.798046 36.907837 \r\nL 260.102714 34.611122 \r\nL 260.407383 38.282489 \r\nL 260.712051 37.90989 \r\nL 261.016719 41.532456 \r\nL 261.321387 42.89859 \r\nL 261.626056 40.758577 \r\nL 261.930724 39.408455 \r\nL 262.235392 39.295371 \r\nL 262.540061 38.579986 \r\nL 262.844729 38.164831 \r\nL 263.149397 41.157613 \r\nL 263.454066 41.442549 \r\nL 263.758734 37.743904 \r\nL 264.063402 36.540825 \r\nL 264.672739 30.381751 \r\nL 264.977407 28.369953 \r\nL 265.282075 27.916089 \r\nL 265.891412 26.146354 \r\nL 266.19608 25.927357 \r\nL 266.805417 28.413608 \r\nL 267.110085 25.44284 \r\nL 267.414754 25.915097 \r\nL 267.719422 27.776846 \r\nL 268.02409 28.142844 \r\nL 268.328758 27.915456 \r\nL 268.633427 32.165498 \r\nL 268.938095 32.200758 \r\nL 269.242763 32.351589 \r\nL 269.547432 30.426968 \r\nL 269.8521 32.548855 \r\nL 270.156768 33.834039 \r\nL 270.461437 32.582745 \r\nL 270.766105 29.942637 \r\nL 271.070773 29.593733 \r\nL 271.375441 28.31419 \r\nL 271.984778 23.49229 \r\nL 272.289446 23.193404 \r\nL 272.898783 26.150442 \r\nL 273.203451 25.02248 \r\nL 273.50812 26.427791 \r\nL 273.812788 25.763453 \r\nL 274.117456 23.348876 \r\nL 275.031461 25.390756 \r\nL 275.336129 25.280044 \r\nL 275.640798 24.831137 \r\nL 275.945466 22.566573 \r\nL 276.250134 23.41438 \r\nL 276.554803 18.586024 \r\nL 276.859471 17.083636 \r\nL 277.773476 25.314865 \r\nL 278.078144 25.584879 \r\nL 278.382812 26.354769 \r\nL 278.687481 24.517532 \r\nL 278.992149 25.699954 \r\nL 279.296817 25.887542 \r\nL 279.601486 26.820322 \r\nL 279.906154 26.289668 \r\nL 280.515491 28.46628 \r\nL 281.124827 25.263136 \r\nL 281.734164 29.697231 \r\nL 282.038832 30.447465 \r\nL 282.3435 28.118323 \r\nL 282.648169 29.055362 \r\nL 282.952837 28.317843 \r\nL 283.257505 28.165047 \r\nL 284.17151 23.99894 \r\nL 284.780847 23.001948 \r\nL 285.085515 26.312468 \r\nL 285.390184 26.580159 \r\nL 285.694852 29.690516 \r\nL 285.99952 28.963505 \r\nL 286.304188 31.248243 \r\nL 286.608857 30.408609 \r\nL 286.913525 30.053234 \r\nL 287.218193 30.298624 \r\nL 287.522862 33.433738 \r\nL 287.82753 35.141174 \r\nL 288.132198 34.963746 \r\nL 288.436867 33.98348 \r\nL 288.741535 39.578377 \r\nL 289.65554 41.220333 \r\nL 290.264876 34.655414 \r\nL 290.569545 35.343385 \r\nL 290.874213 35.334472 \r\nL 291.178881 36.507659 \r\nL 291.788218 34.259631 \r\nL 292.092886 35.067933 \r\nL 292.397555 38.202634 \r\nL 292.702223 36.009394 \r\nL 293.006891 35.898111 \r\nL 293.311559 36.597527 \r\nL 293.616228 32.309156 \r\nL 293.920896 32.920841 \r\nL 294.225564 37.031629 \r\nL 294.530233 37.764056 \r\nL 294.834901 37.055766 \r\nL 295.139569 37.898074 \r\nL 295.444238 41.253814 \r\nL 295.748906 39.527804 \r\nL 296.053574 39.743182 \r\nL 296.358242 40.976733 \r\nL 296.662911 43.640854 \r\nL 297.272247 44.887933 \r\nL 297.576916 43.46697 \r\nL 297.881584 43.65219 \r\nL 298.186252 44.206973 \r\nL 298.490921 44.134736 \r\nL 298.795589 43.871264 \r\nL 299.100257 42.565677 \r\nL 299.404926 44.89081 \r\nL 299.709594 45.296513 \r\nL 300.014262 44.283971 \r\nL 300.31893 41.001421 \r\nL 300.623599 39.603721 \r\nL 300.928267 40.775147 \r\nL 301.232935 38.840155 \r\nL 301.537604 38.214188 \r\nL 301.842272 43.853954 \r\nL 302.14694 44.44233 \r\nL 302.756277 44.192953 \r\nL 303.060945 47.72306 \r\nL 303.365613 47.750009 \r\nL 303.97495 50.322147 \r\nL 304.279618 48.859355 \r\nL 304.584287 46.553435 \r\nL 304.888955 42.911869 \r\nL 305.193623 41.198935 \r\nL 305.498292 41.809268 \r\nL 305.80296 38.858313 \r\nL 306.107628 38.941244 \r\nL 306.412297 37.707887 \r\nL 306.716965 37.218202 \r\nL 307.021633 33.533705 \r\nL 307.326301 33.821431 \r\nL 307.63097 33.782098 \r\nL 308.240306 30.646672 \r\nL 308.849643 31.500116 \r\nL 309.154311 33.012347 \r\nL 309.45898 35.954952 \r\nL 309.763648 32.997977 \r\nL 310.068316 33.745023 \r\nL 310.372984 33.058242 \r\nL 310.677653 31.835674 \r\nL 310.982321 29.791876 \r\nL 311.286989 28.671088 \r\nL 311.591658 26.901796 \r\nL 311.896326 27.02336 \r\nL 312.505663 25.928697 \r\nL 312.810331 25.931204 \r\nL 313.419668 29.093898 \r\nL 313.724336 26.527744 \r\nL 314.029004 27.666541 \r\nL 314.333672 31.961167 \r\nL 314.638341 32.318046 \r\nL 314.943009 34.075997 \r\nL 315.247677 36.655555 \r\nL 315.552346 35.238029 \r\nL 315.857014 36.398539 \r\nL 316.161682 35.387171 \r\nL 316.771019 31.857559 \r\nL 317.075687 30.854576 \r\nL 317.380355 30.538313 \r\nL 317.685024 32.470847 \r\nL 317.989692 30.844276 \r\nL 318.29436 32.926104 \r\nL 318.599029 32.685234 \r\nL 318.903697 31.290777 \r\nL 319.208365 33.341933 \r\nL 319.513034 33.858584 \r\nL 319.817702 35.467154 \r\nL 320.12237 36.251821 \r\nL 320.427039 34.074602 \r\nL 320.731707 30.190765 \r\nL 321.036375 32.811087 \r\nL 321.341043 33.867991 \r\nL 321.645712 33.526259 \r\nL 322.255048 35.69676 \r\nL 322.864385 32.812188 \r\nL 323.473722 38.914884 \r\nL 323.77839 40.521863 \r\nL 324.083058 41.308103 \r\nL 324.387727 42.635418 \r\nL 324.692395 43.437012 \r\nL 324.997063 45.264718 \r\nL 325.301731 43.904411 \r\nL 325.911068 46.079541 \r\nL 326.215736 41.934664 \r\nL 326.520405 43.011755 \r\nL 326.825073 43.145214 \r\nL 327.43441 39.384042 \r\nL 327.739078 38.924443 \r\nL 328.043746 39.933953 \r\nL 328.348414 39.335087 \r\nL 328.957751 40.485724 \r\nL 329.262419 43.114612 \r\nL 329.567088 43.460692 \r\nL 329.871756 39.905399 \r\nL 330.176424 41.426704 \r\nL 330.481093 40.470244 \r\nL 330.785761 41.345652 \r\nL 331.090429 41.182093 \r\nL 331.699766 36.350099 \r\nL 332.004434 34.573008 \r\nL 332.309102 37.655394 \r\nL 332.613771 38.494889 \r\nL 332.918439 34.375164 \r\nL 333.223107 34.313074 \r\nL 333.527776 32.808613 \r\nL 333.832444 34.352453 \r\nL 334.137112 32.407041 \r\nL 334.441781 32.715587 \r\nL 335.051117 32.454488 \r\nL 335.660454 38.790463 \r\nL 335.965122 37.900163 \r\nL 336.26979 41.255537 \r\nL 336.574459 42.739224 \r\nL 336.879127 42.111955 \r\nL 337.183795 44.391789 \r\nL 337.488464 42.380581 \r\nL 338.0978 44.66055 \r\nL 338.402469 44.554862 \r\nL 338.707137 43.397423 \r\nL 339.011805 43.039741 \r\nL 339.621142 38.630042 \r\nL 339.92581 39.395175 \r\nL 340.230478 38.675709 \r\nL 340.839815 43.431669 \r\nL 341.144483 43.650851 \r\nL 341.449152 48.140717 \r\nL 341.75382 44.392524 \r\nL 342.058488 42.157497 \r\nL 342.363156 41.989442 \r\nL 342.667825 44.3267 \r\nL 342.972493 45.694655 \r\nL 343.277161 46.114323 \r\nL 343.58183 44.327264 \r\nL 344.191166 43.070051 \r\nL 344.495835 42.784105 \r\nL 344.800503 43.422398 \r\nL 346.019176 33.646089 \r\nL 346.323844 35.695699 \r\nL 346.628513 38.70842 \r\nL 346.933181 40.074115 \r\nL 347.237849 36.640231 \r\nL 347.542518 36.393357 \r\nL 347.847186 37.2944 \r\nL 348.151854 39.909381 \r\nL 348.456523 38.501162 \r\nL 348.761191 41.607693 \r\nL 349.065859 41.6152 \r\nL 349.675196 38.517275 \r\nL 350.284532 40.786194 \r\nL 350.589201 38.445745 \r\nL 350.893869 40.414388 \r\nL 351.198537 40.037414 \r\nL 351.503206 39.858809 \r\nL 351.807874 36.865207 \r\nL 352.112542 37.352395 \r\nL 352.417211 39.037441 \r\nL 352.721879 37.68922 \r\nL 353.331215 44.399788 \r\nL 353.635884 41.675507 \r\nL 353.940552 44.775119 \r\nL 354.24522 46.090722 \r\nL 354.549889 44.639393 \r\nL 354.854557 47.038504 \r\nL 355.159225 47.091761 \r\nL 355.463894 41.782328 \r\nL 355.768562 38.720159 \r\nL 356.07323 37.506182 \r\nL 356.377898 37.973012 \r\nL 356.987235 40.654162 \r\nL 357.291903 40.355613 \r\nL 357.596572 40.711835 \r\nL 357.90124 43.650235 \r\nL 358.205908 41.47311 \r\nL 358.510577 40.426011 \r\nL 359.119913 44.029116 \r\nL 359.424582 44.123185 \r\nL 359.72925 44.016077 \r\nL 360.033918 48.985469 \r\nL 360.338586 48.459091 \r\nL 360.643255 51.448774 \r\nL 361.252591 53.000243 \r\nL 361.55726 53.096984 \r\nL 361.861928 53.632397 \r\nL 362.471265 51.027189 \r\nL 362.775933 50.478553 \r\nL 363.080601 49.47821 \r\nL 363.689938 43.199843 \r\nL 364.299274 47.203593 \r\nL 364.603943 47.259547 \r\nL 364.908611 48.742516 \r\nL 365.213279 49.015598 \r\nL 365.517948 48.79435 \r\nL 365.822616 46.204038 \r\nL 366.127284 46.698581 \r\nL 366.431953 47.510003 \r\nL 366.736621 47.923965 \r\nL 367.041289 48.771996 \r\nL 367.345957 50.323669 \r\nL 367.650626 52.923549 \r\nL 368.259962 54.354624 \r\nL 368.564631 55.576128 \r\nL 368.564631 55.576128 \r\n\" style=\"fill:none;stroke:#d62728;stroke-linecap:square;stroke-width:1.5;\"/>\r\n   </g>\r\n   <g id=\"patch_3\">\r\n    <path d=\"M 48.982813 224.64 \r\nL 48.982813 7.2 \r\n\" style=\"fill:none;stroke:#000000;stroke-linecap:square;stroke-linejoin:miter;stroke-width:0.8;\"/>\r\n   </g>\r\n   <g id=\"patch_4\">\r\n    <path d=\"M 383.782813 224.64 \r\nL 383.782813 7.2 \r\n\" style=\"fill:none;stroke:#000000;stroke-linecap:square;stroke-linejoin:miter;stroke-width:0.8;\"/>\r\n   </g>\r\n   <g id=\"patch_5\">\r\n    <path d=\"M 48.982812 224.64 \r\nL 383.782812 224.64 \r\n\" style=\"fill:none;stroke:#000000;stroke-linecap:square;stroke-linejoin:miter;stroke-width:0.8;\"/>\r\n   </g>\r\n   <g id=\"patch_6\">\r\n    <path d=\"M 48.982812 7.2 \r\nL 383.782812 7.2 \r\n\" style=\"fill:none;stroke:#000000;stroke-linecap:square;stroke-linejoin:miter;stroke-width:0.8;\"/>\r\n   </g>\r\n   <g id=\"legend_1\">\r\n    <g id=\"patch_7\">\r\n     <path d=\"M 55.982813 219.64 \r\nL 95.682813 219.64 \r\nQ 97.682813 219.64 97.682813 217.64 \r\nL 97.682813 159.9275 \r\nQ 97.682813 157.9275 95.682813 157.9275 \r\nL 55.982813 157.9275 \r\nQ 53.982813 157.9275 53.982813 159.9275 \r\nL 53.982813 217.64 \r\nQ 53.982813 219.64 55.982813 219.64 \r\nz\r\n\" style=\"fill:#ffffff;opacity:0.8;stroke:#cccccc;stroke-linejoin:miter;\"/>\r\n    </g>\r\n    <g id=\"line2d_17\">\r\n     <path d=\"M 57.982813 166.025937 \r\nL 77.982812 166.025937 \r\n\" style=\"fill:none;stroke:#1f77b4;stroke-linecap:square;stroke-width:1.5;\"/>\r\n    </g>\r\n    <g id=\"line2d_18\"/>\r\n    <g id=\"text_15\">\r\n     <!-- A -->\r\n     <g transform=\"translate(85.982812 169.525937)scale(0.1 -0.1)\">\r\n      <use xlink:href=\"#DejaVuSans-65\"/>\r\n     </g>\r\n    </g>\r\n    <g id=\"line2d_19\">\r\n     <path d=\"M 57.982813 180.704062 \r\nL 77.982812 180.704062 \r\n\" style=\"fill:none;stroke:#ff7f0e;stroke-linecap:square;stroke-width:1.5;\"/>\r\n    </g>\r\n    <g id=\"line2d_20\"/>\r\n    <g id=\"text_16\">\r\n     <!-- B -->\r\n     <g transform=\"translate(85.982812 184.204062)scale(0.1 -0.1)\">\r\n      <defs>\r\n       <path d=\"M 19.671875 34.8125 \r\nL 19.671875 8.109375 \r\nL 35.5 8.109375 \r\nQ 43.453125 8.109375 47.28125 11.40625 \r\nQ 51.125 14.703125 51.125 21.484375 \r\nQ 51.125 28.328125 47.28125 31.5625 \r\nQ 43.453125 34.8125 35.5 34.8125 \r\nz\r\nM 19.671875 64.796875 \r\nL 19.671875 42.828125 \r\nL 34.28125 42.828125 \r\nQ 41.5 42.828125 45.03125 45.53125 \r\nQ 48.578125 48.25 48.578125 53.8125 \r\nQ 48.578125 59.328125 45.03125 62.0625 \r\nQ 41.5 64.796875 34.28125 64.796875 \r\nz\r\nM 9.8125 72.90625 \r\nL 35.015625 72.90625 \r\nQ 46.296875 72.90625 52.390625 68.21875 \r\nQ 58.5 63.53125 58.5 54.890625 \r\nQ 58.5 48.1875 55.375 44.234375 \r\nQ 52.25 40.28125 46.1875 39.3125 \r\nQ 53.46875 37.75 57.5 32.78125 \r\nQ 61.53125 27.828125 61.53125 20.40625 \r\nQ 61.53125 10.640625 54.890625 5.3125 \r\nQ 48.25 0 35.984375 0 \r\nL 9.8125 0 \r\nz\r\n\" id=\"DejaVuSans-66\"/>\r\n      </defs>\r\n      <use xlink:href=\"#DejaVuSans-66\"/>\r\n     </g>\r\n    </g>\r\n    <g id=\"line2d_21\">\r\n     <path d=\"M 57.982813 195.382187 \r\nL 77.982812 195.382187 \r\n\" style=\"fill:none;stroke:#2ca02c;stroke-linecap:square;stroke-width:1.5;\"/>\r\n    </g>\r\n    <g id=\"line2d_22\"/>\r\n    <g id=\"text_17\">\r\n     <!-- C -->\r\n     <g transform=\"translate(85.982812 198.882187)scale(0.1 -0.1)\">\r\n      <defs>\r\n       <path d=\"M 64.40625 67.28125 \r\nL 64.40625 56.890625 \r\nQ 59.421875 61.53125 53.78125 63.8125 \r\nQ 48.140625 66.109375 41.796875 66.109375 \r\nQ 29.296875 66.109375 22.65625 58.46875 \r\nQ 16.015625 50.828125 16.015625 36.375 \r\nQ 16.015625 21.96875 22.65625 14.328125 \r\nQ 29.296875 6.6875 41.796875 6.6875 \r\nQ 48.140625 6.6875 53.78125 8.984375 \r\nQ 59.421875 11.28125 64.40625 15.921875 \r\nL 64.40625 5.609375 \r\nQ 59.234375 2.09375 53.4375 0.328125 \r\nQ 47.65625 -1.421875 41.21875 -1.421875 \r\nQ 24.65625 -1.421875 15.125 8.703125 \r\nQ 5.609375 18.84375 5.609375 36.375 \r\nQ 5.609375 53.953125 15.125 64.078125 \r\nQ 24.65625 74.21875 41.21875 74.21875 \r\nQ 47.75 74.21875 53.53125 72.484375 \r\nQ 59.328125 70.75 64.40625 67.28125 \r\nz\r\n\" id=\"DejaVuSans-67\"/>\r\n      </defs>\r\n      <use xlink:href=\"#DejaVuSans-67\"/>\r\n     </g>\r\n    </g>\r\n    <g id=\"line2d_23\">\r\n     <path d=\"M 57.982813 210.060312 \r\nL 77.982812 210.060312 \r\n\" style=\"fill:none;stroke:#d62728;stroke-linecap:square;stroke-width:1.5;\"/>\r\n    </g>\r\n    <g id=\"line2d_24\"/>\r\n    <g id=\"text_18\">\r\n     <!-- D -->\r\n     <g transform=\"translate(85.982812 213.560312)scale(0.1 -0.1)\">\r\n      <defs>\r\n       <path d=\"M 19.671875 64.796875 \r\nL 19.671875 8.109375 \r\nL 31.59375 8.109375 \r\nQ 46.6875 8.109375 53.6875 14.9375 \r\nQ 60.6875 21.78125 60.6875 36.53125 \r\nQ 60.6875 51.171875 53.6875 57.984375 \r\nQ 46.6875 64.796875 31.59375 64.796875 \r\nz\r\nM 9.8125 72.90625 \r\nL 30.078125 72.90625 \r\nQ 51.265625 72.90625 61.171875 64.09375 \r\nQ 71.09375 55.28125 71.09375 36.53125 \r\nQ 71.09375 17.671875 61.125 8.828125 \r\nQ 51.171875 0 30.078125 0 \r\nL 9.8125 0 \r\nz\r\n\" id=\"DejaVuSans-68\"/>\r\n      </defs>\r\n      <use xlink:href=\"#DejaVuSans-68\"/>\r\n     </g>\r\n    </g>\r\n   </g>\r\n  </g>\r\n </g>\r\n <defs>\r\n  <clipPath id=\"pd3e1d837e9\">\r\n   <rect height=\"217.44\" width=\"334.8\" x=\"48.982813\" y=\"7.2\"/>\r\n  </clipPath>\r\n </defs>\r\n</svg>\r\n",
      "image/png": "[encoded data removed]"
     },
     "metadata": {
      "needs_background": "light"
     }
    }
   ],
   "source": [
    "df.plot()\n",
    "plt.xlabel('Aantal dagen')\n",
    "plt.ylabel('-')\n",
    "#De legende verschijnt automatisch! "
   ]
  },
  {
   "source": [
    "# Een titel\n",
    "Wat extra tekst dus. Dit eens uploaden naar github! \n"
   ],
   "cell_type": "markdown",
   "metadata": {}
  }
 ],
 "metadata": {
  "kernelspec": {
   "name": "python385jvsc74a57bd0252e1b1944e410a989db8972fccf8a55f8fa67ce2db64bcf7b664db39463547f",
   "display_name": "Python 3.8.5 64-bit ('olivi': virtualenv)"
  },
  "language_info": {
   "codemirror_mode": {
    "name": "ipython",
    "version": 3
   },
   "file_extension": ".py",
   "mimetype": "text/x-python",
   "name": "python",
   "nbconvert_exporter": "python",
   "pygments_lexer": "ipython3",
   "version": "3.8.5"
  }
 },
 "nbformat": 4,
 "nbformat_minor": 4
}